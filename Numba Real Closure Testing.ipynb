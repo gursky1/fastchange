{
 "cells": [
  {
   "cell_type": "code",
   "execution_count": 1,
   "id": "02362733",
   "metadata": {},
   "outputs": [],
   "source": [
    "from time import time\n",
    "from math import log\n",
    "import numba as nb\n",
    "import numpy as np"
   ]
  },
  {
   "cell_type": "code",
   "execution_count": 2,
   "id": "9b43d79f",
   "metadata": {},
   "outputs": [],
   "source": [
    "size = 5000\n",
    "k = 30\n",
    "min_len = 10\n",
    "max_cp = 40\n",
    "pen = 100\n",
    "test_series = np.hstack([np.random.normal(0, 1, (size,)),\n",
    "                         np.random.normal(6, 1, (size,)),\n",
    "                         np.random.normal(0, 2, (size,)),\n",
    "                         np.random.normal(-4, 1, (size,)),\n",
    "                         np.random.normal(3, 1, (size,)),\n",
    "                         ] * 5)"
   ]
  },
  {
   "cell_type": "code",
   "execution_count": 3,
   "id": "dd6c1be0",
   "metadata": {},
   "outputs": [],
   "source": [
    "# No jitting\n",
    "class NoJitCost:\n",
    "    \n",
    "    def __init__(self, k):\n",
    "        self.k = k\n",
    "    \n",
    "    def fit(self, x):\n",
    "        self.n = x.shape[0]\n",
    "        partial_sums = np.zeros(shape=(self.n + 1, self.k), dtype=x.dtype)\n",
    "        sorted_data = np.sort(x)\n",
    "\n",
    "        for i in np.arange(self.k):\n",
    "\n",
    "            z = -1 + (2 * i + 1.0) / self.k\n",
    "            p = 1.0 / (1 + (2 * self.n - 1) ** (-z))\n",
    "            t = sorted_data[int((self.n - 1) * p)]\n",
    "\n",
    "            for j in np.arange(1, self.n + 1):\n",
    "\n",
    "                partial_sums[j, i] = partial_sums[j - 1, i]\n",
    "                if x[j - 1] < t:\n",
    "                    partial_sums[j, i] += 2\n",
    "                if x[j - 1] == t:\n",
    "                    partial_sums[j, i] += 1\n",
    "        self.c = 2.0 * (-np.log(2 * self.n - 1))\n",
    "        self.y = partial_sums\n",
    "        return self\n",
    "    \n",
    "    def predict(self, start, end):\n",
    "        n = len(end)\n",
    "        all_costs = np.zeros((n,))\n",
    "        ck = self.c / self.k\n",
    "        for i in range(n):\n",
    "            cost = 0\n",
    "            s = start[i]\n",
    "            e = end[i]\n",
    "            ys = self.y[s, :]\n",
    "            ye = self.y[e, :]\n",
    "            for j in range(self.k):\n",
    "                a_sum = ye[j] - ys[j]\n",
    "                if a_sum != 0.0:\n",
    "                    diff = e - s\n",
    "                    a_half = 0.5 * a_sum\n",
    "                    if a_half != diff:\n",
    "                        f = a_half / diff\n",
    "                        fi = 1.0 - f\n",
    "                        flog = log(f)\n",
    "                        filog = log(fi)\n",
    "                        t = f * flog\n",
    "                        ti = fi * filog\n",
    "                        l = t + ti\n",
    "                        ld = diff * l\n",
    "                        cost += ld\n",
    "            all_costs[i] = ck * cost\n",
    "        return all_costs"
   ]
  },
  {
   "cell_type": "code",
   "execution_count": 4,
   "id": "9d14a768",
   "metadata": {},
   "outputs": [],
   "source": [
    "def seg_fn(cost, n, min_len, max_cp, penalty):\n",
    "    \"\"\"Runs binary segmentation on time series\"\"\"\n",
    "\n",
    "    # Setting up summary statistics and objects\n",
    "    is_candidate = np.arange(min_len, n - min_len)\n",
    "    cps = np.zeros(shape=(n,))\n",
    "    costs = np.full(shape=n, fill_value=0.0)\n",
    "    cps[-1] = 1\n",
    "    cps[0] = 1\n",
    "    costs[-1] = cost.predict(np.array([0]), np.array([n]))[0]\n",
    "\n",
    "    # Iterating through changepoints until convergence\n",
    "    while True:\n",
    "\n",
    "        # Single Loop Iteration\n",
    "        _cps = np.flatnonzero(cps)\n",
    "        best_cand, best_cost, best_next_cost, best_next = 0, 0, 0, 0\n",
    "        best_total_cost = costs.sum()\n",
    "\n",
    "        # Looping over candidates\n",
    "        for c1, c2 in np.stack((_cps[:-1], _cps[1:]), axis=-1):\n",
    "            _cands = is_candidate[(is_candidate > c1) & (is_candidate < c2)]\n",
    "            if _cands.shape[0] == 0:\n",
    "                continue\n",
    "            _costs = np.empty(shape=(_cands.shape[0], 3), dtype=np.float64)\n",
    "            _other_costs = costs[: (c1 + 1)].sum() + costs[(c2 + 1):].sum()\n",
    "            _costs[:, 0] = cost.predict(np.repeat(c1, _cands.shape[0]), _cands)\n",
    "            _costs[:, 1] = cost.predict(_cands, np.repeat(c2, _cands.shape[0]))\n",
    "            _costs[:, 2] = _costs[:, 0] + _costs[:, 1] + _other_costs + penalty\n",
    "            _best_cand = np.argmin(_costs[:, 2])\n",
    "            if _costs[_best_cand, 2] < best_total_cost:\n",
    "                best_cand = _cands[_best_cand]\n",
    "                best_cost = _costs[_best_cand, 0]\n",
    "                best_next_cost = _costs[_best_cand, 1]\n",
    "                best_total_cost = _costs[_best_cand, 2]\n",
    "                best_next = c2\n",
    "\n",
    "        if best_cand == 0:\n",
    "            break\n",
    "        else:\n",
    "            cps[best_cand] = True\n",
    "            costs[best_cand] = best_cost\n",
    "            costs[best_next] = best_next_cost\n",
    "            is_candidate[(best_cand - min_len): (best_cand + min_len)] = False\n",
    "            if np.flatnonzero(cps).shape[0] > max_cp + 2:\n",
    "                break\n",
    "        \n",
    "    return np.flatnonzero(cps)[1:-1]"
   ]
  },
  {
   "cell_type": "code",
   "execution_count": 5,
   "id": "9d5981e1",
   "metadata": {},
   "outputs": [],
   "source": [
    "class NoJitCP:\n",
    "\n",
    "    def __init__(self, seg_fn, cost, min_len, max_cp):\n",
    "        self.seg_fn = seg_fn\n",
    "        self.cost = cost\n",
    "        self.min_len = min_len\n",
    "        self.max_cp = max_cp\n",
    "    \n",
    "    def fit(self, x):\n",
    "        self.cost.fit(x)\n",
    "        cost = self.cost\n",
    "        seg_fn = self.seg_fn\n",
    "        min_len = self.min_len\n",
    "        max_cp = self.max_cp\n",
    "        n = self.cost.n\n",
    "        self.cp_fn = lambda cost, pen: seg_fn(cost, n, min_len, max_cp, pen)\n",
    "        return self\n",
    "    \n",
    "    def predict(self, pen):\n",
    "        return self.cp_fn(self.cost, pen)"
   ]
  },
  {
   "cell_type": "code",
   "execution_count": 6,
   "id": "6e20a670",
   "metadata": {},
   "outputs": [
    {
     "data": {
      "text/plain": [
       "array([ 500, 1000, 1500, 2000, 2500, 3000, 3500, 4000, 4500], dtype=int64)"
      ]
     },
     "execution_count": 6,
     "metadata": {},
     "output_type": "execute_result"
    }
   ],
   "source": [
    "cp0 = NoJitCP(seg_fn, NoJitCost(k), min_len, max_cp).fit(test_series)\n",
    "cp0.predict(pen)"
   ]
  },
  {
   "cell_type": "code",
   "execution_count": 6,
   "id": "4715043f",
   "metadata": {},
   "outputs": [],
   "source": [
    "class Cost:\n",
    "    \n",
    "    def __init__(self, k):\n",
    "        self.k = k\n",
    "    \n",
    "    def fit(self, x, fastmath):\n",
    "        self.n = x.shape[0]\n",
    "        partial_sums = np.zeros(shape=(self.n + 1, self.k), dtype=x.dtype)\n",
    "        sorted_data = np.sort(x)\n",
    "\n",
    "        for i in np.arange(self.k):\n",
    "\n",
    "            z = -1 + (2 * i + 1.0) / self.k\n",
    "            p = 1.0 / (1 + (2 * self.n - 1) ** (-z))\n",
    "            t = sorted_data[int((self.n - 1) * p)]\n",
    "\n",
    "            for j in np.arange(1, self.n + 1):\n",
    "\n",
    "                partial_sums[j, i] = partial_sums[j - 1, i]\n",
    "                if x[j - 1] < t:\n",
    "                    partial_sums[j, i] += 2\n",
    "                if x[j - 1] == t:\n",
    "                    partial_sums[j, i] += 1\n",
    "        c = 2.0 * (-np.log(2 * self.n - 1))\n",
    "        self.partial_sums = partial_sums\n",
    "\n",
    "        return self.make_cost(partial_sums, c, self.k, fastmath)\n",
    "    \n",
    "    @staticmethod\n",
    "    def make_cost(x, c, k, fastmath):\n",
    "\n",
    "        @nb.njit(fastmath=fastmath)\n",
    "        def _cost_fn(start, end):\n",
    "            n = len(end)\n",
    "            all_costs = np.zeros((n,))\n",
    "            ck = c / k\n",
    "            for i in range(n):\n",
    "                cost = 0\n",
    "                s = start[i]\n",
    "                e = end[i]\n",
    "                ys = x[s, :]\n",
    "                ye = x[e, :]\n",
    "                for j in range(k):\n",
    "                    a_sum = ye[j] - ys[j]\n",
    "                    if a_sum != 0.0:\n",
    "                        diff = e - s\n",
    "                        a_half = 0.5 * a_sum\n",
    "                        if a_half != diff:\n",
    "                            f = a_half / diff\n",
    "                            fi = 1.0 - f\n",
    "                            flog = log(f)\n",
    "                            filog = log(fi)\n",
    "                            t = f * flog\n",
    "                            ti = fi * filog\n",
    "                            l = t + ti\n",
    "                            ld = diff * l\n",
    "                            cost += ld\n",
    "                all_costs[i] = ck * cost\n",
    "            return all_costs\n",
    "    \n",
    "\n",
    "        return _cost_fn"
   ]
  },
  {
   "cell_type": "code",
   "execution_count": 7,
   "id": "28985d20",
   "metadata": {},
   "outputs": [],
   "source": [
    "def seg_fn2(cost_fn, n, min_len, max_cp, penalty):\n",
    "    \"\"\"Runs binary segmentation on time series\"\"\"\n",
    "\n",
    "    # Setting up summary statistics and objects\n",
    "    is_candidate = np.arange(min_len, n - min_len)\n",
    "    cps = np.zeros(shape=(n,))\n",
    "    costs = np.full(shape=n, fill_value=0.0)\n",
    "    cps[-1] = 1\n",
    "    cps[0] = 1\n",
    "    costs[-1] = cost_fn(np.array([0]), np.array([n]))[0]\n",
    "\n",
    "    # Iterating through changepoints until convergence\n",
    "    while True:\n",
    "\n",
    "        # Single Loop Iteration\n",
    "        _cps = np.flatnonzero(cps)\n",
    "        best_cand, best_cost, best_next_cost, best_next = 0, 0, 0, 0\n",
    "        best_total_cost = costs.sum()\n",
    "\n",
    "        # Looping over candidates\n",
    "        for c1, c2 in np.stack((_cps[:-1], _cps[1:]), axis=-1):\n",
    "            _cands = is_candidate[(is_candidate > c1) & (is_candidate < c2)]\n",
    "            if _cands.shape[0] == 0:\n",
    "                continue\n",
    "            _costs = np.empty(shape=(_cands.shape[0], 3), dtype=np.float64)\n",
    "            _other_costs = costs[: (c1 + 1)].sum() + costs[(c2 + 1):].sum()\n",
    "            _costs[:, 0] = cost_fn(np.repeat(c1, _cands.shape[0]), _cands)\n",
    "            _costs[:, 1] = cost_fn(_cands, np.repeat(c2, _cands.shape[0]))\n",
    "            _costs[:, 2] = _costs[:, 0] + _costs[:, 1] + _other_costs + penalty\n",
    "            _best_cand = np.argmin(_costs[:, 2])\n",
    "            if _costs[_best_cand, 2] < best_total_cost:\n",
    "                best_cand = _cands[_best_cand]\n",
    "                best_cost = _costs[_best_cand, 0]\n",
    "                best_next_cost = _costs[_best_cand, 1]\n",
    "                best_total_cost = _costs[_best_cand, 2]\n",
    "                best_next = c2\n",
    "\n",
    "        if best_cand == 0:\n",
    "            break\n",
    "        else:\n",
    "            cps[best_cand] = True\n",
    "            costs[best_cand] = best_cost\n",
    "            costs[best_next] = best_next_cost\n",
    "            is_candidate[(best_cand - min_len): (best_cand + min_len)] = False\n",
    "            if np.flatnonzero(cps).shape[0] > max_cp + 2:\n",
    "                break\n",
    "        \n",
    "    return np.flatnonzero(cps)[1:-1]"
   ]
  },
  {
   "cell_type": "code",
   "execution_count": 34,
   "id": "47d619b4",
   "metadata": {},
   "outputs": [],
   "source": [
    "# class Cost:\n",
    "    \n",
    "#     def fit(self, x):\n",
    "#         self.n = x.shape[0]\n",
    "#         n = x.shape[0]\n",
    "#         sum_stats = np.stack((np.append(0, x.cumsum()),\n",
    "#                               np.append(0, (x ** 2).cumsum()),\n",
    "#                               np.append(0, ((x - x.mean()) ** 2).cumsum()),\n",
    "#                               np.arange(0, n + 1, dtype=x.dtype)\n",
    "#                              ),\n",
    "#                              axis=-1)\n",
    "\n",
    "#         return self.make_cost(sum_stats)\n",
    "    \n",
    "#     @staticmethod\n",
    "#     def make_cost(x):\n",
    "\n",
    "#         #@nb.njit([(nb.typeof(100), nb.typeof(100),)], fastmath=True, parallel=True, nogil=True)\n",
    "#         #@nb.njit(fastmath=True, parallel=True, nogil=True)\n",
    "#         def _cost_fn(start, end):\n",
    "#             _x = x[end, :] - x[start, :]\n",
    "#             return _x[:, 3] * (np.log(2 * np.pi) + np.log(np.fmax((_x[:, 1] - ((_x[:, 0] * _x[:, 0]) / _x[:, 3]))/ _x[:, 3], x.dtype.type(1e-8)) + 1))\n",
    "\n",
    "#         return _cost_fn"
   ]
  },
  {
   "cell_type": "code",
   "execution_count": 8,
   "id": "d8dc9c1f",
   "metadata": {},
   "outputs": [],
   "source": [
    "class CP:\n",
    "    \n",
    "    def __init__(self, seg_fn, cost, min_len, max_cp):\n",
    "        self.seg_fn = seg_fn\n",
    "        self.cost = cost\n",
    "        self.min_len = min_len\n",
    "        self.max_cp = max_cp\n",
    "    \n",
    "    def fit(self, x, fastmath):\n",
    "        cost_fn = self.cost.fit(x, fastmath)\n",
    "        seg_fn = self.seg_fn\n",
    "        min_len = self.min_len\n",
    "        max_cp = self.max_cp\n",
    "        n = self.cost.n\n",
    "        return_type = nb.typeof(np.argmin([100]))\n",
    "        nb_seg_fn = nb.njit(seg_fn, fastmath=fastmath)\n",
    "        #nb_seg_fn.compile((nb.typeof(cost_fn), nb.typeof(n), nb.typeof(min_len), nb.typeof(max_cp), nb.typeof(100)))\n",
    "        self.cp_fn = nb.njit(lambda pen: nb_seg_fn(cost_fn, n, min_len, max_cp, pen))\n",
    "        #self.cp_fn.compile((nb.typeof(100),))\n",
    "        #self.cp_fn = lambda pen: seg_fn(cost_fn, n, min_len, max_cp, pen)\n",
    "        return self\n",
    "    \n",
    "    def predict(self, pen):\n",
    "        return self.cp_fn(pen)"
   ]
  },
  {
   "cell_type": "code",
   "execution_count": 9,
   "id": "fc7508ec",
   "metadata": {},
   "outputs": [
    {
     "data": {
      "text/plain": [
       "array([  5000,  10000,  15000,  20000,  25000,  30000,  35000,  40000,\n",
       "        45000,  50000,  55000,  60000,  65000,  70000,  75000,  80000,\n",
       "        85000,  90000,  95000, 100000, 105000, 110002, 115000, 120000],\n",
       "      dtype=int64)"
      ]
     },
     "execution_count": 9,
     "metadata": {},
     "output_type": "execute_result"
    }
   ],
   "source": [
    "cp = CP(seg_fn2, Cost(k), min_len, max_cp).fit(test_series, True)\n",
    "cp.predict(pen)"
   ]
  },
  {
   "cell_type": "code",
   "execution_count": 10,
   "id": "668404cc",
   "metadata": {},
   "outputs": [],
   "source": [
    "# Replacing with jitclass\n",
    "spec = [\n",
    "    ('k', nb.typeof(10)),\n",
    "    ('n', nb.typeof(test_series.shape[0])),\n",
    "    ('y', nb.typeof(np.zeros(shape=(1, 1), dtype=test_series.dtype))),\n",
    "    ('c', nb.typeof(2.0 * (-np.log(2 * test_series.shape[0] - 1))))\n",
    "]\n",
    "\n",
    "@nb.experimental.jitclass(spec)\n",
    "class Cost2:\n",
    "    \n",
    "    def __init__(self, k):\n",
    "        self.k = k\n",
    "    \n",
    "    def fit(self, x):\n",
    "        self.n = x.shape[0]\n",
    "        partial_sums = np.zeros(shape=(self.n + 1, self.k), dtype=x.dtype)\n",
    "        sorted_data = np.sort(x)\n",
    "\n",
    "        for i in np.arange(self.k):\n",
    "\n",
    "            z = -1 + (2 * i + 1.0) / self.k\n",
    "            p = 1.0 / (1 + (2 * self.n - 1) ** (-z))\n",
    "            t = sorted_data[int((self.n - 1) * p)]\n",
    "\n",
    "            for j in np.arange(1, self.n + 1):\n",
    "\n",
    "                partial_sums[j, i] = partial_sums[j - 1, i]\n",
    "                if x[j - 1] < t:\n",
    "                    partial_sums[j, i] += 2\n",
    "                if x[j - 1] == t:\n",
    "                    partial_sums[j, i] += 1\n",
    "        self.c = 2.0 * (-np.log(2 * self.n - 1))\n",
    "        self.y = partial_sums\n",
    "    \n",
    "    def predict(self, start, end):\n",
    "        n = len(end)\n",
    "        all_costs = np.zeros((n,))\n",
    "        ck = self.c / self.k\n",
    "        for i in range(n):\n",
    "            cost = 0\n",
    "            s = start[i]\n",
    "            e = end[i]\n",
    "            ys = self.y[s, :]\n",
    "            ye = self.y[e, :]\n",
    "            for j in range(self.k):\n",
    "                a_sum = ye[j] - ys[j]\n",
    "                if a_sum != 0.0:\n",
    "                    diff = e - s\n",
    "                    a_half = 0.5 * a_sum\n",
    "                    if a_half != diff:\n",
    "                        f = a_half / diff\n",
    "                        fi = 1.0 - f\n",
    "                        flog = log(f)\n",
    "                        filog = log(fi)\n",
    "                        t = f * flog\n",
    "                        ti = fi * filog\n",
    "                        l = t + ti\n",
    "                        ld = diff * l\n",
    "                        cost += ld\n",
    "            all_costs[i] = ck * cost\n",
    "        return all_costs"
   ]
  },
  {
   "cell_type": "code",
   "execution_count": 11,
   "id": "3875bf1a",
   "metadata": {},
   "outputs": [],
   "source": [
    "class CP2:\n",
    "\n",
    "    def __init__(self, seg_fn, cost, min_len, max_cp):\n",
    "        self.seg_fn = seg_fn\n",
    "        self.cost = cost\n",
    "        self.min_len = min_len\n",
    "        self.max_cp = max_cp\n",
    "    \n",
    "    def fit(self, x):\n",
    "        self.cost.fit(x)\n",
    "        cost = self.cost\n",
    "        seg_fn = self.seg_fn\n",
    "        min_len = self.min_len\n",
    "        max_cp = self.max_cp\n",
    "        n = self.cost.n\n",
    "        \n",
    "        nb_seg_fn = nb.njit(seg_fn)#, fastmath=True)\n",
    "        #nb_seg_fn.compile((nb.typeof(cost), nb.typeof(n), nb.typeof(min_len), nb.typeof(max_cp), nb.typeof(100)))\n",
    "        self.cp_fn = nb.njit(lambda cost, pen: nb_seg_fn(cost, n, min_len, max_cp, pen))\n",
    "        #self.cp_fn.compile((nb.typeof(cost), nb.typeof(100)))\n",
    "        \n",
    "        return self\n",
    "    \n",
    "    def predict(self, pen):\n",
    "        return self.cp_fn(self.cost, pen)"
   ]
  },
  {
   "cell_type": "code",
   "execution_count": 12,
   "id": "692e3d8a",
   "metadata": {},
   "outputs": [
    {
     "data": {
      "text/plain": [
       "array([  5000,  10000,  15000,  20000,  25000,  30000,  35000,  40000,\n",
       "        45000,  50000,  55000,  60000,  65000,  70000,  75000,  80000,\n",
       "        85000,  90000,  95000, 100000, 105000, 110002, 115000, 120000],\n",
       "      dtype=int64)"
      ]
     },
     "execution_count": 12,
     "metadata": {},
     "output_type": "execute_result"
    }
   ],
   "source": [
    "cp2 = CP2(seg_fn, Cost2(k), min_len, max_cp).fit(test_series)\n",
    "cp2.predict(pen)"
   ]
  },
  {
   "cell_type": "code",
   "execution_count": 16,
   "id": "b57492d8",
   "metadata": {},
   "outputs": [],
   "source": [
    "Cost3Type = nb.deferred_type()\n",
    "\n",
    "spec = [\n",
    "    ('k', nb.typeof(10)),\n",
    "    ('n', nb.typeof(test_series.shape[0])),\n",
    "    ('y', nb.typeof(np.zeros(shape=(1, 1), dtype=test_series.dtype))),\n",
    "    ('c', nb.typeof(2.0 * (-np.log(2 * test_series.shape[0] - 1))))\n",
    "]\n",
    "\n",
    "@nb.experimental.jitclass(spec)\n",
    "class Cost3:\n",
    "    \n",
    "    def __init__(self, k):\n",
    "        self.k = k\n",
    "    \n",
    "    def fit(self, x):\n",
    "        self.n = x.shape[0]\n",
    "        partial_sums = np.zeros(shape=(self.n + 1, self.k), dtype=x.dtype)\n",
    "        sorted_data = np.sort(x)\n",
    "\n",
    "        for i in np.arange(self.k):\n",
    "\n",
    "            z = -1 + (2 * i + 1.0) / self.k\n",
    "            p = 1.0 / (1 + (2 * self.n - 1) ** (-z))\n",
    "            t = sorted_data[int((self.n - 1) * p)]\n",
    "\n",
    "            for j in np.arange(1, self.n + 1):\n",
    "\n",
    "                partial_sums[j, i] = partial_sums[j - 1, i]\n",
    "                if x[j - 1] < t:\n",
    "                    partial_sums[j, i] += 2\n",
    "                if x[j - 1] == t:\n",
    "                    partial_sums[j, i] += 1\n",
    "        self.c = 2.0 * (-np.log(2 * self.n - 1))\n",
    "        self.y = partial_sums\n",
    "        return self\n",
    "\n",
    "Cost3Type.define(Cost3.class_type.instance_type)\n",
    "\n",
    "@nb.extending.overload_method(nb.types.misc.ClassInstanceType, 'predict', jit_options={'cache': False, 'fastmath': True, 'parallel': False, 'nogil': False, 'boundscheck': False, 'inline': 'always'})\n",
    "def cost_fast(inst, start, end):\n",
    "    if inst is Cost3.class_type.instance_type:\n",
    "\n",
    "        def impl(inst, start, end):\n",
    "            n = len(end)\n",
    "            all_costs = np.zeros((n,))\n",
    "            ck = inst.c / inst.k\n",
    "            for i in range(n):\n",
    "                cost = 0\n",
    "                s = start[i]\n",
    "                e = end[i]\n",
    "                ys = inst.y[s, :]\n",
    "                ye = inst.y[e, :]\n",
    "                for j in range(inst.k):\n",
    "                    a_sum = ye[j] - ys[j]\n",
    "                    if a_sum != 0.0:\n",
    "                        diff = e - s\n",
    "                        a_half = 0.5 * a_sum\n",
    "                        if a_half != diff:\n",
    "                            f = a_half / diff\n",
    "                            fi = 1.0 - f\n",
    "                            flog = log(f)\n",
    "                            filog = log(fi)\n",
    "                            t = f * flog\n",
    "                            ti = fi * filog\n",
    "                            l = t + ti\n",
    "                            ld = diff * l\n",
    "                            cost += ld\n",
    "                all_costs[i] = ck * cost\n",
    "            return all_costs\n",
    "\n",
    "        return impl"
   ]
  },
  {
   "cell_type": "code",
   "execution_count": 18,
   "id": "5895db11",
   "metadata": {},
   "outputs": [
    {
     "data": {
      "text/plain": [
       "array([  5000,  10000,  15000,  20000,  25000,  30000,  35000,  40000,\n",
       "        45000,  50000,  55000,  60000,  65000,  70000,  75000,  80000,\n",
       "        85000,  90000,  95000, 100000, 105000, 110002, 115000, 120000],\n",
       "      dtype=int64)"
      ]
     },
     "execution_count": 18,
     "metadata": {},
     "output_type": "execute_result"
    }
   ],
   "source": [
    "cp3 = CP2(seg_fn, Cost3(k), min_len, max_cp).fit(test_series)\n",
    "cp3.predict(pen)"
   ]
  },
  {
   "cell_type": "code",
   "execution_count": 15,
   "id": "bf6038c0",
   "metadata": {},
   "outputs": [
    {
     "name": "stdout",
     "output_type": "stream",
     "text": [
      "7.76 s ± 374 ms per loop (mean ± std. dev. of 7 runs, 1 loop each)\n"
     ]
    }
   ],
   "source": [
    "# No jitting\n",
    "%timeit cp0.predict(pen)"
   ]
  },
  {
   "cell_type": "code",
   "execution_count": 14,
   "id": "9a96bb23",
   "metadata": {},
   "outputs": [
    {
     "name": "stdout",
     "output_type": "stream",
     "text": [
      "1.56 s ± 54.6 ms per loop (mean ± std. dev. of 7 runs, 1 loop each)\n"
     ]
    }
   ],
   "source": [
    "# Function factory\n",
    "# With flags\n",
    "%timeit cp.predict(pen)"
   ]
  },
  {
   "cell_type": "code",
   "execution_count": 15,
   "id": "5a690d3b",
   "metadata": {},
   "outputs": [
    {
     "name": "stdout",
     "output_type": "stream",
     "text": [
      "1.85 s ± 135 ms per loop (mean ± std. dev. of 7 runs, 1 loop each)\n"
     ]
    }
   ],
   "source": [
    "# Jitclass\n",
    "%timeit cp2.predict(pen)"
   ]
  },
  {
   "cell_type": "code",
   "execution_count": 19,
   "id": "df597b6a",
   "metadata": {},
   "outputs": [
    {
     "name": "stdout",
     "output_type": "stream",
     "text": [
      "1.61 s ± 85.4 ms per loop (mean ± std. dev. of 7 runs, 1 loop each)\n"
     ]
    }
   ],
   "source": [
    "# Jitclass with overloading\n",
    "# With flags\n",
    "%timeit cp3.predict(pen)\n",
    "# Overloading seems to win!"
   ]
  },
  {
   "cell_type": "code",
   "execution_count": null,
   "id": "e9484d0c",
   "metadata": {},
   "outputs": [],
   "source": [
    "# Testing against changepoint.np\n",
    "from pychange.r import RChangepoint\n",
    "R = RChangepoint('np', penalty='Manual', pen_value=pen, nquantiles=k).fit(test_series)\n",
    "R.predict()"
   ]
  },
  {
   "cell_type": "code",
   "execution_count": 27,
   "id": "31355492",
   "metadata": {},
   "outputs": [],
   "source": [
    "%load_ext line_profiler"
   ]
  },
  {
   "cell_type": "code",
   "execution_count": 22,
   "id": "7fe99ecc",
   "metadata": {},
   "outputs": [],
   "source": [
    "c0 = NoJitCost(k).fit(test_series)\n",
    "#c1 = Cost(k).fit(test_series)\n",
    "#c2 = Cost2(k).fit(test_series)\n",
    "#c3 = cost3(k).fit(test_series)"
   ]
  },
  {
   "cell_type": "code",
   "execution_count": 220,
   "id": "dbb23bcd",
   "metadata": {},
   "outputs": [],
   "source": [
    "from math import log\n",
    "def predict(y, start, end, k, c):\n",
    "    n = len(end)\n",
    "    all_costs = np.zeros((n,))\n",
    "    ck = c / k\n",
    "    for i in range(n):\n",
    "        cost = 0\n",
    "        s = start[i]\n",
    "        e = end[i]\n",
    "        ys = y[s, :]\n",
    "        ye = y[e, :]\n",
    "        for j in range(k):\n",
    "            a_sum = ye[j] - ys[j]\n",
    "            if a_sum != 0.0:\n",
    "                diff = e - s\n",
    "                a_half = 0.5 * a_sum\n",
    "                if a_half != diff:\n",
    "                    f = a_half / diff\n",
    "                    fi = 1.0 - f\n",
    "                    flog = log(f)\n",
    "                    filog = log(fi)\n",
    "                    t = f * flog\n",
    "                    ti = fi * filog\n",
    "                    l = t + ti\n",
    "                    ld = diff * l\n",
    "                    cost += ld\n",
    "        all_costs[i] = ck * cost\n",
    "    return all_costs\n",
    "\n",
    "predict_nb = nb.njit(predict)\n",
    "predict_nb_fast = nb.njit(predict, fastmath=True, nogil=True)\n",
    "_ = predict_nb(c0.y, np.arange(50), np.arange(c0.n - 50, c0.n), k, c0.c)\n",
    "_ = predict_nb_fast(c0.y, np.arange(50), np.arange(c0.n - 50, c0.n), k, c0.c)"
   ]
  },
  {
   "cell_type": "code",
   "execution_count": 210,
   "id": "e8ae60d1",
   "metadata": {},
   "outputs": [],
   "source": [
    "x = test_series\n",
    "n = test_series.shape[0]\n",
    "sum_stats = np.stack((np.append(0, x.cumsum()),\n",
    "                              np.append(0, (x ** 2).cumsum()),\n",
    "                              np.append(0, ((x - x.mean()) ** 2).cumsum()),\n",
    "                              np.arange(0, n + 1, dtype=x.dtype)\n",
    "                             ),\n",
    "                             axis=-1)"
   ]
  },
  {
   "cell_type": "code",
   "execution_count": 211,
   "id": "429ebbdb",
   "metadata": {},
   "outputs": [
    {
     "data": {
      "text/plain": [
       "1.8378770664093453"
      ]
     },
     "execution_count": 211,
     "metadata": {},
     "output_type": "execute_result"
    }
   ],
   "source": [
    "log(2.0 * np.pi)"
   ]
  },
  {
   "cell_type": "code",
   "execution_count": 291,
   "id": "cfe8521a",
   "metadata": {},
   "outputs": [],
   "source": [
    "from math import log\n",
    "def predict(y, start, end):\n",
    "    n = len(start)\n",
    "    costs = np.zeros((n,))\n",
    "    for i in range(n):\n",
    "        d = y[end[i]] - y[start[i]]\n",
    "        a1 = d[0] ** 2 / d[3]\n",
    "        a2 = d[0] - a1\n",
    "        a3 = a2 / d[3]\n",
    "        if a3 <= 0.0:\n",
    "            a3 = 1e-6\n",
    "        a4 = d[3] * 1.8378771 + log(a3 + 1.0)\n",
    "        costs[i] = a4\n",
    "    return costs\n",
    "\n",
    "#predict_nb = nb.njit(predict)\n",
    "predict_nb_fast = nb.njit(predict, fastmath=True)\n",
    "#_ = predict_nb(sum_stats, np.arange(50), np.arange(n - 50, n))\n",
    "_ = predict_nb_fast(sum_stats, np.arange(50), np.arange(n - 50, n))"
   ]
  },
  {
   "cell_type": "code",
   "execution_count": 292,
   "id": "237b515c",
   "metadata": {},
   "outputs": [
    {
     "name": "stdout",
     "output_type": "stream",
     "text": [
      "6.88 µs ± 136 ns per loop (mean ± std. dev. of 7 runs, 100000 loops each)\n"
     ]
    }
   ],
   "source": [
    "%timeit predict_nb_fast(sum_stats, np.arange(50), np.arange(n - 50, n))"
   ]
  },
  {
   "cell_type": "code",
   "execution_count": 288,
   "id": "6b204836",
   "metadata": {},
   "outputs": [
    {
     "name": "stdout",
     "output_type": "stream",
     "text": [
      "7.05 µs ± 212 ns per loop (mean ± std. dev. of 7 runs, 100000 loops each)\n"
     ]
    }
   ],
   "source": [
    "%timeit predict_nb_fast(sum_stats, np.arange(50), np.arange(n - 50, n))"
   ]
  },
  {
   "cell_type": "code",
   "execution_count": 226,
   "id": "144dd501",
   "metadata": {},
   "outputs": [
    {
     "name": "stdout",
     "output_type": "stream",
     "text": [
      "113 µs ± 1.35 µs per loop (mean ± std. dev. of 7 runs, 10000 loops each)\n"
     ]
    }
   ],
   "source": [
    "%timeit predict(sum_stats, np.arange(50), np.arange(n - 50, n))"
   ]
  },
  {
   "cell_type": "code",
   "execution_count": 227,
   "id": "b46153ee",
   "metadata": {},
   "outputs": [
    {
     "name": "stdout",
     "output_type": "stream",
     "text": [
      "7.43 µs ± 148 ns per loop (mean ± std. dev. of 7 runs, 100000 loops each)\n"
     ]
    }
   ],
   "source": [
    "%timeit predict_nb(sum_stats, np.arange(50), np.arange(n - 50, n))"
   ]
  },
  {
   "cell_type": "code",
   "execution_count": 238,
   "id": "23694711",
   "metadata": {},
   "outputs": [
    {
     "name": "stdout",
     "output_type": "stream",
     "text": [
      "7.27 µs ± 111 ns per loop (mean ± std. dev. of 7 runs, 100000 loops each)\n"
     ]
    }
   ],
   "source": [
    "%timeit predict_nb_fast(sum_stats, np.arange(50), np.arange(n - 50, n))"
   ]
  },
  {
   "cell_type": "code",
   "execution_count": 222,
   "id": "8ae400d5",
   "metadata": {},
   "outputs": [
    {
     "name": "stdout",
     "output_type": "stream",
     "text": [
      "4.72 ms ± 61.7 µs per loop (mean ± std. dev. of 7 runs, 100 loops each)\n"
     ]
    }
   ],
   "source": [
    "%timeit predict(c0.y, np.arange(50), np.arange(c0.n - 50, c0.n), k, c0.c)"
   ]
  },
  {
   "cell_type": "code",
   "execution_count": 223,
   "id": "a4482916",
   "metadata": {
    "scrolled": true
   },
   "outputs": [
    {
     "name": "stdout",
     "output_type": "stream",
     "text": [
      "25.8 µs ± 544 ns per loop (mean ± std. dev. of 7 runs, 10000 loops each)\n"
     ]
    }
   ],
   "source": [
    "%timeit predict_nb(c0.y, np.arange(50), np.arange(c0.n - 50, c0.n), k, c0.c)"
   ]
  },
  {
   "cell_type": "code",
   "execution_count": 224,
   "id": "d686108a",
   "metadata": {},
   "outputs": [
    {
     "name": "stdout",
     "output_type": "stream",
     "text": [
      "11.3 µs ± 193 ns per loop (mean ± std. dev. of 7 runs, 100000 loops each)\n"
     ]
    }
   ],
   "source": [
    "%timeit predict_nb_fast(c0.y, np.arange(50), np.arange(c0.n - 50, c0.n), k, c0.c)"
   ]
  },
  {
   "cell_type": "code",
   "execution_count": 218,
   "id": "a752a498",
   "metadata": {},
   "outputs": [
    {
     "name": "stdout",
     "output_type": "stream",
     "text": [
      "70.3 µs ± 481 ns per loop (mean ± std. dev. of 7 runs, 10000 loops each)\n"
     ]
    }
   ],
   "source": [
    "%timeit predict_nb_fast(c0.y, np.arange(50), np.arange(c0.n - 50, c0.n), k, c0.c)"
   ]
  },
  {
   "cell_type": "code",
   "execution_count": 219,
   "id": "7fca7d26",
   "metadata": {
    "scrolled": true
   },
   "outputs": [
    {
     "name": "stdout",
     "output_type": "stream",
     "text": [
      " \n",
      "================================================================================\n",
      " Parallel Accelerator Optimizing:  Function predict, <ipython-\n",
      "input-217-bacf83a4ae56> (2)  \n",
      "================================================================================\n",
      "\n",
      "\n",
      "Parallel loop listing for  Function predict, <ipython-input-217-bacf83a4ae56> (2) \n",
      "----------------------------------------------------|loop #ID\n",
      "def predict(y, start, end, k, c):                   | \n",
      "    n = len(end)                                    | \n",
      "    all_costs = np.zeros((n,))----------------------| #15\n",
      "    ck = c / k                                      | \n",
      "    for i, (s, e) in enumerate(zip(start, end)):    | \n",
      "        cost = 0                                    | \n",
      "        ys = y[s, :]                                | \n",
      "        ye = y[e, :]                                | \n",
      "        for j in range(k):                          | \n",
      "            a_sum = ye[j] - ys[j]                   | \n",
      "            if a_sum != 0.0:                        | \n",
      "                diff = e - s                        | \n",
      "                a_half = 0.5 * a_sum                | \n",
      "                if a_half != diff:                  | \n",
      "                    f = a_half / diff               | \n",
      "                    fi = 1.0 - f                    | \n",
      "                    flog = log(f)                   | \n",
      "                    filog = log(fi)                 | \n",
      "                    t = f * flog                    | \n",
      "                    ti = fi * filog                 | \n",
      "                    l = t + ti                      | \n",
      "                    ld = diff * l                   | \n",
      "                    cost += ld                      | \n",
      "        all_costs[i] = ck * cost                    | \n",
      "    return all_costs                                | \n",
      "--------------------------------- Fusing loops ---------------------------------\n",
      "Attempting fusion of parallel loops (combines loops with similar properties)...\n",
      "----------------------------- Before Optimisation ------------------------------\n",
      "--------------------------------------------------------------------------------\n",
      "------------------------------ After Optimisation ------------------------------\n",
      "Parallel structure is already optimal.\n",
      "--------------------------------------------------------------------------------\n",
      "--------------------------------------------------------------------------------\n",
      " \n",
      "---------------------------Loop invariant code motion---------------------------\n",
      "Allocation hoisting:\n",
      "No allocation hoisting found\n",
      "\n",
      "Instruction hoisting:\n",
      "loop #15:\n",
      "  Has the following hoisted:\n",
      "    $expr_out_var.1125 = const(float64, 0.0)\n",
      "--------------------------------------------------------------------------------\n"
     ]
    }
   ],
   "source": [
    "predict_nb_fast.parallel_diagnostics(level=4)"
   ]
  },
  {
   "cell_type": "code",
   "execution_count": 221,
   "id": "ab6090f2",
   "metadata": {},
   "outputs": [],
   "source": [
    "%lprun -f predict predict(c0.y, np.array([0]), np.array([c0.n]), k, c0.c)"
   ]
  },
  {
   "cell_type": "code",
   "execution_count": 280,
   "id": "bee3efde",
   "metadata": {},
   "outputs": [],
   "source": [
    "%lprun -f predict predict(sum_stats, np.arange(50), np.arange(n - 50, n))"
   ]
  },
  {
   "cell_type": "code",
   "execution_count": 22,
   "id": "e97562b9",
   "metadata": {},
   "outputs": [
    {
     "ename": "AttributeError",
     "evalue": "'function' object has no attribute 'predict'",
     "output_type": "error",
     "traceback": [
      "\u001b[1;31m---------------------------------------------------------------------------\u001b[0m",
      "\u001b[1;31mAttributeError\u001b[0m                            Traceback (most recent call last)",
      "\u001b[1;32m<ipython-input-22-5c07efda6ac4>\u001b[0m in \u001b[0;36m<module>\u001b[1;34m\u001b[0m\n\u001b[1;32m----> 1\u001b[1;33m \u001b[0mget_ipython\u001b[0m\u001b[1;33m(\u001b[0m\u001b[1;33m)\u001b[0m\u001b[1;33m.\u001b[0m\u001b[0mrun_line_magic\u001b[0m\u001b[1;33m(\u001b[0m\u001b[1;34m'lprun'\u001b[0m\u001b[1;33m,\u001b[0m \u001b[1;34m'c0.predict([0], [test_series.shape[0]])'\u001b[0m\u001b[1;33m)\u001b[0m\u001b[1;33m\u001b[0m\u001b[1;33m\u001b[0m\u001b[0m\n\u001b[0m",
      "\u001b[1;32m~\\Anaconda3\\envs\\pychange\\lib\\site-packages\\IPython\\core\\interactiveshell.py\u001b[0m in \u001b[0;36mrun_line_magic\u001b[1;34m(self, magic_name, line, _stack_depth)\u001b[0m\n\u001b[0;32m   2346\u001b[0m                 \u001b[0mkwargs\u001b[0m\u001b[1;33m[\u001b[0m\u001b[1;34m'local_ns'\u001b[0m\u001b[1;33m]\u001b[0m \u001b[1;33m=\u001b[0m \u001b[0mself\u001b[0m\u001b[1;33m.\u001b[0m\u001b[0mget_local_scope\u001b[0m\u001b[1;33m(\u001b[0m\u001b[0mstack_depth\u001b[0m\u001b[1;33m)\u001b[0m\u001b[1;33m\u001b[0m\u001b[1;33m\u001b[0m\u001b[0m\n\u001b[0;32m   2347\u001b[0m             \u001b[1;32mwith\u001b[0m \u001b[0mself\u001b[0m\u001b[1;33m.\u001b[0m\u001b[0mbuiltin_trap\u001b[0m\u001b[1;33m:\u001b[0m\u001b[1;33m\u001b[0m\u001b[1;33m\u001b[0m\u001b[0m\n\u001b[1;32m-> 2348\u001b[1;33m                 \u001b[0mresult\u001b[0m \u001b[1;33m=\u001b[0m \u001b[0mfn\u001b[0m\u001b[1;33m(\u001b[0m\u001b[1;33m*\u001b[0m\u001b[0margs\u001b[0m\u001b[1;33m,\u001b[0m \u001b[1;33m**\u001b[0m\u001b[0mkwargs\u001b[0m\u001b[1;33m)\u001b[0m\u001b[1;33m\u001b[0m\u001b[1;33m\u001b[0m\u001b[0m\n\u001b[0m\u001b[0;32m   2349\u001b[0m             \u001b[1;32mreturn\u001b[0m \u001b[0mresult\u001b[0m\u001b[1;33m\u001b[0m\u001b[1;33m\u001b[0m\u001b[0m\n\u001b[0;32m   2350\u001b[0m \u001b[1;33m\u001b[0m\u001b[0m\n",
      "\u001b[1;32m~\\Anaconda3\\envs\\pychange\\lib\\site-packages\\decorator.py\u001b[0m in \u001b[0;36mfun\u001b[1;34m(*args, **kw)\u001b[0m\n\u001b[0;32m    230\u001b[0m             \u001b[1;32mif\u001b[0m \u001b[1;32mnot\u001b[0m \u001b[0mkwsyntax\u001b[0m\u001b[1;33m:\u001b[0m\u001b[1;33m\u001b[0m\u001b[1;33m\u001b[0m\u001b[0m\n\u001b[0;32m    231\u001b[0m                 \u001b[0margs\u001b[0m\u001b[1;33m,\u001b[0m \u001b[0mkw\u001b[0m \u001b[1;33m=\u001b[0m \u001b[0mfix\u001b[0m\u001b[1;33m(\u001b[0m\u001b[0margs\u001b[0m\u001b[1;33m,\u001b[0m \u001b[0mkw\u001b[0m\u001b[1;33m,\u001b[0m \u001b[0msig\u001b[0m\u001b[1;33m)\u001b[0m\u001b[1;33m\u001b[0m\u001b[1;33m\u001b[0m\u001b[0m\n\u001b[1;32m--> 232\u001b[1;33m             \u001b[1;32mreturn\u001b[0m \u001b[0mcaller\u001b[0m\u001b[1;33m(\u001b[0m\u001b[0mfunc\u001b[0m\u001b[1;33m,\u001b[0m \u001b[1;33m*\u001b[0m\u001b[1;33m(\u001b[0m\u001b[0mextras\u001b[0m \u001b[1;33m+\u001b[0m \u001b[0margs\u001b[0m\u001b[1;33m)\u001b[0m\u001b[1;33m,\u001b[0m \u001b[1;33m**\u001b[0m\u001b[0mkw\u001b[0m\u001b[1;33m)\u001b[0m\u001b[1;33m\u001b[0m\u001b[1;33m\u001b[0m\u001b[0m\n\u001b[0m\u001b[0;32m    233\u001b[0m     \u001b[0mfun\u001b[0m\u001b[1;33m.\u001b[0m\u001b[0m__name__\u001b[0m \u001b[1;33m=\u001b[0m \u001b[0mfunc\u001b[0m\u001b[1;33m.\u001b[0m\u001b[0m__name__\u001b[0m\u001b[1;33m\u001b[0m\u001b[1;33m\u001b[0m\u001b[0m\n\u001b[0;32m    234\u001b[0m     \u001b[0mfun\u001b[0m\u001b[1;33m.\u001b[0m\u001b[0m__doc__\u001b[0m \u001b[1;33m=\u001b[0m \u001b[0mfunc\u001b[0m\u001b[1;33m.\u001b[0m\u001b[0m__doc__\u001b[0m\u001b[1;33m\u001b[0m\u001b[1;33m\u001b[0m\u001b[0m\n",
      "\u001b[1;32m~\\Anaconda3\\envs\\pychange\\lib\\site-packages\\IPython\\core\\magic.py\u001b[0m in \u001b[0;36m<lambda>\u001b[1;34m(f, *a, **k)\u001b[0m\n\u001b[0;32m    185\u001b[0m     \u001b[1;31m# but it's overkill for just that one bit of state.\u001b[0m\u001b[1;33m\u001b[0m\u001b[1;33m\u001b[0m\u001b[1;33m\u001b[0m\u001b[0m\n\u001b[0;32m    186\u001b[0m     \u001b[1;32mdef\u001b[0m \u001b[0mmagic_deco\u001b[0m\u001b[1;33m(\u001b[0m\u001b[0marg\u001b[0m\u001b[1;33m)\u001b[0m\u001b[1;33m:\u001b[0m\u001b[1;33m\u001b[0m\u001b[1;33m\u001b[0m\u001b[0m\n\u001b[1;32m--> 187\u001b[1;33m         \u001b[0mcall\u001b[0m \u001b[1;33m=\u001b[0m \u001b[1;32mlambda\u001b[0m \u001b[0mf\u001b[0m\u001b[1;33m,\u001b[0m \u001b[1;33m*\u001b[0m\u001b[0ma\u001b[0m\u001b[1;33m,\u001b[0m \u001b[1;33m**\u001b[0m\u001b[0mk\u001b[0m\u001b[1;33m:\u001b[0m \u001b[0mf\u001b[0m\u001b[1;33m(\u001b[0m\u001b[1;33m*\u001b[0m\u001b[0ma\u001b[0m\u001b[1;33m,\u001b[0m \u001b[1;33m**\u001b[0m\u001b[0mk\u001b[0m\u001b[1;33m)\u001b[0m\u001b[1;33m\u001b[0m\u001b[1;33m\u001b[0m\u001b[0m\n\u001b[0m\u001b[0;32m    188\u001b[0m \u001b[1;33m\u001b[0m\u001b[0m\n\u001b[0;32m    189\u001b[0m         \u001b[1;32mif\u001b[0m \u001b[0mcallable\u001b[0m\u001b[1;33m(\u001b[0m\u001b[0marg\u001b[0m\u001b[1;33m)\u001b[0m\u001b[1;33m:\u001b[0m\u001b[1;33m\u001b[0m\u001b[1;33m\u001b[0m\u001b[0m\n",
      "\u001b[1;32m~\\Anaconda3\\envs\\pychange\\lib\\site-packages\\line_profiler\\line_profiler.py\u001b[0m in \u001b[0;36mlprun\u001b[1;34m(self, parameter_s)\u001b[0m\n\u001b[0;32m    367\u001b[0m         \u001b[1;32mtry\u001b[0m\u001b[1;33m:\u001b[0m\u001b[1;33m\u001b[0m\u001b[1;33m\u001b[0m\u001b[0m\n\u001b[0;32m    368\u001b[0m             \u001b[1;32mtry\u001b[0m\u001b[1;33m:\u001b[0m\u001b[1;33m\u001b[0m\u001b[1;33m\u001b[0m\u001b[0m\n\u001b[1;32m--> 369\u001b[1;33m                 \u001b[0mprofile\u001b[0m\u001b[1;33m.\u001b[0m\u001b[0mrunctx\u001b[0m\u001b[1;33m(\u001b[0m\u001b[0marg_str\u001b[0m\u001b[1;33m,\u001b[0m \u001b[0mglobal_ns\u001b[0m\u001b[1;33m,\u001b[0m \u001b[0mlocal_ns\u001b[0m\u001b[1;33m)\u001b[0m\u001b[1;33m\u001b[0m\u001b[1;33m\u001b[0m\u001b[0m\n\u001b[0m\u001b[0;32m    370\u001b[0m                 \u001b[0mmessage\u001b[0m \u001b[1;33m=\u001b[0m \u001b[1;34m''\u001b[0m\u001b[1;33m\u001b[0m\u001b[1;33m\u001b[0m\u001b[0m\n\u001b[0;32m    371\u001b[0m             \u001b[1;32mexcept\u001b[0m \u001b[0mSystemExit\u001b[0m\u001b[1;33m:\u001b[0m\u001b[1;33m\u001b[0m\u001b[1;33m\u001b[0m\u001b[0m\n",
      "\u001b[1;32m~\\Anaconda3\\envs\\pychange\\lib\\site-packages\\line_profiler\\line_profiler.py\u001b[0m in \u001b[0;36mrunctx\u001b[1;34m(self, cmd, globals, locals)\u001b[0m\n\u001b[0;32m    162\u001b[0m         \u001b[0mself\u001b[0m\u001b[1;33m.\u001b[0m\u001b[0menable_by_count\u001b[0m\u001b[1;33m(\u001b[0m\u001b[1;33m)\u001b[0m\u001b[1;33m\u001b[0m\u001b[1;33m\u001b[0m\u001b[0m\n\u001b[0;32m    163\u001b[0m         \u001b[1;32mtry\u001b[0m\u001b[1;33m:\u001b[0m\u001b[1;33m\u001b[0m\u001b[1;33m\u001b[0m\u001b[0m\n\u001b[1;32m--> 164\u001b[1;33m             \u001b[0mexec_\u001b[0m\u001b[1;33m(\u001b[0m\u001b[0mcmd\u001b[0m\u001b[1;33m,\u001b[0m \u001b[0mglobals\u001b[0m\u001b[1;33m,\u001b[0m \u001b[0mlocals\u001b[0m\u001b[1;33m)\u001b[0m\u001b[1;33m\u001b[0m\u001b[1;33m\u001b[0m\u001b[0m\n\u001b[0m\u001b[0;32m    165\u001b[0m         \u001b[1;32mfinally\u001b[0m\u001b[1;33m:\u001b[0m\u001b[1;33m\u001b[0m\u001b[1;33m\u001b[0m\u001b[0m\n\u001b[0;32m    166\u001b[0m             \u001b[0mself\u001b[0m\u001b[1;33m.\u001b[0m\u001b[0mdisable_by_count\u001b[0m\u001b[1;33m(\u001b[0m\u001b[1;33m)\u001b[0m\u001b[1;33m\u001b[0m\u001b[1;33m\u001b[0m\u001b[0m\n",
      "\u001b[1;32m<string>\u001b[0m in \u001b[0;36m<module>\u001b[1;34m\u001b[0m\n",
      "\u001b[1;31mAttributeError\u001b[0m: 'function' object has no attribute 'predict'"
     ]
    }
   ],
   "source": [
    "%lprun c0.predict([0], [test_series.shape[0]])"
   ]
  }
 ],
 "metadata": {
  "kernelspec": {
   "display_name": "Python 3",
   "language": "python",
   "name": "python3"
  },
  "language_info": {
   "codemirror_mode": {
    "name": "ipython",
    "version": 3
   },
   "file_extension": ".py",
   "mimetype": "text/x-python",
   "name": "python",
   "nbconvert_exporter": "python",
   "pygments_lexer": "ipython3",
   "version": "3.9.6"
  }
 },
 "nbformat": 4,
 "nbformat_minor": 5
}
