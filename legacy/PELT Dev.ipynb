{
 "cells": [
  {
   "cell_type": "code",
   "execution_count": 64,
   "id": "0aadd947",
   "metadata": {},
   "outputs": [],
   "source": [
    "# Importing packages\n",
    "import numpy as np\n",
    "from numba import jit, njit\n",
    "from pychange.segment import create_summary_stats\n",
    "from pychange.numba_costs import normal_mean_var_cost"
   ]
  },
  {
   "cell_type": "code",
   "execution_count": 65,
   "id": "78112c15",
   "metadata": {},
   "outputs": [],
   "source": [
    "# Creating synthetic data\n",
    "x = np.concatenate([np.random.normal(0, 1, (100,)),\n",
    "                    np.random.normal(20, 2, (100,)),\n",
    "                    np.random.normal(-10, 1, (100,)),\n",
    "                   np.random.normal(10, 1, (100,))])"
   ]
  },
  {
   "cell_type": "code",
   "execution_count": 71,
   "id": "dfa997c6",
   "metadata": {},
   "outputs": [],
   "source": [
    "def pelt(x, min_len, penalty, cost_fn):\n",
    "    \"\"\"Pruned exact linear time changepoint segmentation\"\"\"\n",
    "    \n",
    "    # Setting up summary statistics and objects\n",
    "    n = int(x.shape[0])\n",
    "    sum_stats = np.stack((np.append(0, x.cumsum()),\n",
    "                          np.append(0, (x ** 2).cumsum()),\n",
    "                          np.append(0, ((x - x.mean()) ** 2).cumsum()),\n",
    "                          np.arange(0, n + 1)),\n",
    "                         axis=-1)\n",
    "    \n",
    "    # Initializing pelt parameters\n",
    "    f = np.empty(shape=(n,), dtype=np.float64)\n",
    "    f[0] = -penalty\n",
    "    costs = np.empty(shape=(n,), dtype=np.float64)\n",
    "    cp = [[]]\n",
    "    r = np.array([0])\n",
    "    \n",
    "    \n",
    "    # Entering main loop\n",
    "    for tau_star in np.arange(1, n):\n",
    "        \n",
    "        # Calculating minimum segment cost\n",
    "        costs[r] = cost_fn(sum_stats[tau_star] - sum_stats[r])\n",
    "        _costs = costs[r] + f[r] + penalty\n",
    "        \n",
    "        f[tau_star] = _costs.min()\n",
    "        tau_l = r[np.argmin(_costs)]\n",
    "        \n",
    "        # Setting new changepoints\n",
    "        cp.append(cp[tau_l] + [tau_l])\n",
    "        \n",
    "        # Setting new candidate points\n",
    "        r = np.append(r[(f[r] + costs[r] + penalty) <= f[tau_star]], tau_star)\n",
    "        \n",
    "    return cp[-1]"
   ]
  },
  {
   "cell_type": "code",
   "execution_count": 69,
   "id": "dbe8e9cb",
   "metadata": {
    "scrolled": true
   },
   "outputs": [
    {
     "name": "stderr",
     "output_type": "stream",
     "text": [
      "<ipython-input-68-9d5efe2fa6be>:1: NumbaWarning: \u001b[1m\n",
      "Compilation is falling back to object mode WITH looplifting enabled because Function \"pelt\" failed type inference due to: \u001b[1m\u001b[1mnon-precise type pyobject\u001b[0m\n",
      "\u001b[0m\u001b[1mDuring: typing of argument at <ipython-input-68-9d5efe2fa6be> (6)\u001b[0m\n",
      "\u001b[1m\n",
      "File \"<ipython-input-68-9d5efe2fa6be>\", line 6:\u001b[0m\n",
      "\u001b[1mdef pelt(x, min_len, penalty, cost_fn):\n",
      "    <source elided>\n",
      "    # Setting up summary statistics and objects\n",
      "\u001b[1m    n = int(x.shape[0])\n",
      "\u001b[0m    \u001b[1m^\u001b[0m\u001b[0m\n",
      "\u001b[0m\n",
      "  @jit(fastmath=True)\n",
      "<ipython-input-68-9d5efe2fa6be>:1: NumbaWarning: \u001b[1m\n",
      "Compilation is falling back to object mode WITHOUT looplifting enabled because Function \"pelt\" failed type inference due to: \u001b[1m\u001b[1mCannot determine Numba type of <class 'numba.core.dispatcher.LiftedLoop'>\u001b[0m\n",
      "\u001b[1m\n",
      "File \"<ipython-input-68-9d5efe2fa6be>\", line 22:\u001b[0m\n",
      "\u001b[1mdef pelt(x, min_len, penalty, cost_fn):\n",
      "    <source elided>\n",
      "    # Entering main loop\n",
      "\u001b[1m    for tau_star in np.arange(1, n):\n",
      "\u001b[0m    \u001b[1m^\u001b[0m\u001b[0m\n",
      "\u001b[0m\u001b[0m\n",
      "  @jit(fastmath=True)\n",
      "C:\\Users\\gursk\\anaconda3\\envs\\pychange\\lib\\site-packages\\numba\\core\\object_mode_passes.py:151: NumbaWarning: \u001b[1mFunction \"pelt\" was compiled in object mode without forceobj=True, but has lifted loops.\n",
      "\u001b[1m\n",
      "File \"<ipython-input-68-9d5efe2fa6be>\", line 6:\u001b[0m\n",
      "\u001b[1mdef pelt(x, min_len, penalty, cost_fn):\n",
      "    <source elided>\n",
      "    # Setting up summary statistics and objects\n",
      "\u001b[1m    n = int(x.shape[0])\n",
      "\u001b[0m    \u001b[1m^\u001b[0m\u001b[0m\n",
      "\u001b[0m\n",
      "  warnings.warn(errors.NumbaWarning(warn_msg,\n",
      "C:\\Users\\gursk\\anaconda3\\envs\\pychange\\lib\\site-packages\\numba\\core\\object_mode_passes.py:161: NumbaDeprecationWarning: \u001b[1m\n",
      "Fall-back from the nopython compilation path to the object mode compilation path has been detected, this is deprecated behaviour.\n",
      "\n",
      "For more information visit https://numba.pydata.org/numba-doc/latest/reference/deprecation.html#deprecation-of-object-mode-fall-back-behaviour-when-using-jit\n",
      "\u001b[1m\n",
      "File \"<ipython-input-68-9d5efe2fa6be>\", line 6:\u001b[0m\n",
      "\u001b[1mdef pelt(x, min_len, penalty, cost_fn):\n",
      "    <source elided>\n",
      "    # Setting up summary statistics and objects\n",
      "\u001b[1m    n = int(x.shape[0])\n",
      "\u001b[0m    \u001b[1m^\u001b[0m\u001b[0m\n",
      "\u001b[0m\n",
      "  warnings.warn(errors.NumbaDeprecationWarning(msg,\n",
      "<ipython-input-68-9d5efe2fa6be>:1: NumbaWarning: \u001b[1m\n",
      "Compilation is falling back to object mode WITHOUT looplifting enabled because Function \"pelt\" failed type inference due to: \u001b[1m\u001b[1mnon-precise type pyobject\u001b[0m\n",
      "\u001b[0m\u001b[1mDuring: typing of argument at <ipython-input-68-9d5efe2fa6be> (22)\u001b[0m\n",
      "\u001b[1m\n",
      "File \"<ipython-input-68-9d5efe2fa6be>\", line 22:\u001b[0m\n",
      "\u001b[1mdef pelt(x, min_len, penalty, cost_fn):\n",
      "    <source elided>\n",
      "    # Entering main loop\n",
      "\u001b[1m    for tau_star in np.arange(1, n):\n",
      "\u001b[0m    \u001b[1m^\u001b[0m\u001b[0m\n",
      "\u001b[0m\n",
      "  @jit(fastmath=True)\n",
      "C:\\Users\\gursk\\anaconda3\\envs\\pychange\\lib\\site-packages\\numba\\core\\object_mode_passes.py:151: NumbaWarning: \u001b[1mFunction \"pelt\" was compiled in object mode without forceobj=True.\n",
      "\u001b[1m\n",
      "File \"<ipython-input-68-9d5efe2fa6be>\", line 22:\u001b[0m\n",
      "\u001b[1mdef pelt(x, min_len, penalty, cost_fn):\n",
      "    <source elided>\n",
      "    # Entering main loop\n",
      "\u001b[1m    for tau_star in np.arange(1, n):\n",
      "\u001b[0m    \u001b[1m^\u001b[0m\u001b[0m\n",
      "\u001b[0m\n",
      "  warnings.warn(errors.NumbaWarning(warn_msg,\n",
      "C:\\Users\\gursk\\anaconda3\\envs\\pychange\\lib\\site-packages\\numba\\core\\object_mode_passes.py:161: NumbaDeprecationWarning: \u001b[1m\n",
      "Fall-back from the nopython compilation path to the object mode compilation path has been detected, this is deprecated behaviour.\n",
      "\n",
      "For more information visit https://numba.pydata.org/numba-doc/latest/reference/deprecation.html#deprecation-of-object-mode-fall-back-behaviour-when-using-jit\n",
      "\u001b[1m\n",
      "File \"<ipython-input-68-9d5efe2fa6be>\", line 22:\u001b[0m\n",
      "\u001b[1mdef pelt(x, min_len, penalty, cost_fn):\n",
      "    <source elided>\n",
      "    # Entering main loop\n",
      "\u001b[1m    for tau_star in np.arange(1, n):\n",
      "\u001b[0m    \u001b[1m^\u001b[0m\u001b[0m\n",
      "\u001b[0m\n",
      "  warnings.warn(errors.NumbaDeprecationWarning(msg,\n"
     ]
    },
    {
     "name": "stdout",
     "output_type": "stream",
     "text": [
      "15.8 ms ± 127 µs per loop (mean ± std. dev. of 7 runs, 1 loop each)\n"
     ]
    }
   ],
   "source": [
    "%timeit pelt(x, 10, 100, normal_mean_var_cost)"
   ]
  },
  {
   "cell_type": "code",
   "execution_count": 70,
   "id": "6335e72b",
   "metadata": {},
   "outputs": [
    {
     "name": "stdout",
     "output_type": "stream",
     "text": [
      "16.1 ms ± 431 µs per loop (mean ± std. dev. of 7 runs, 100 loops each)\n"
     ]
    }
   ],
   "source": [
    "%timeit pelt(x, 10, 100, normal_mean_var_cost)"
   ]
  },
  {
   "cell_type": "code",
   "execution_count": 72,
   "id": "06e963cb",
   "metadata": {},
   "outputs": [
    {
     "name": "stdout",
     "output_type": "stream",
     "text": [
      "15.8 ms ± 689 µs per loop (mean ± std. dev. of 7 runs, 100 loops each)\n"
     ]
    }
   ],
   "source": [
    "%timeit pelt(x, 10, 100, normal_mean_var_cost)"
   ]
  }
 ],
 "metadata": {
  "kernelspec": {
   "display_name": "Python 3",
   "language": "python",
   "name": "python3"
  },
  "language_info": {
   "codemirror_mode": {
    "name": "ipython",
    "version": 3
   },
   "file_extension": ".py",
   "mimetype": "text/x-python",
   "name": "python",
   "nbconvert_exporter": "python",
   "pygments_lexer": "ipython3",
   "version": "3.9.5"
  }
 },
 "nbformat": 4,
 "nbformat_minor": 5
}
