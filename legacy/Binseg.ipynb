{
 "cells": [
  {
   "cell_type": "code",
   "execution_count": 84,
   "id": "a87584d6",
   "metadata": {},
   "outputs": [],
   "source": [
    "# Importing packages\n",
    "import numpy as np\n",
    "from numba import njit\n",
    "from pychange.numba_costs import normal_mean_var_cost"
   ]
  },
  {
   "cell_type": "code",
   "execution_count": 73,
   "id": "ee2e7101",
   "metadata": {},
   "outputs": [],
   "source": [
    "# Creating test series\n",
    "x = np.concatenate([np.random.normal(-1, 1, (2000,)),\n",
    "                    np.random.normal(1, 2, (2000,)),\n",
    "                    np.random.normal(3, 1, (2000,)),\n",
    "                   np.random.normal(-1, 1, (2000,)),\n",
    "                   np.random.normal(-3, 2, (2000,)),\n",
    "                   np.random.normal(4, 1, (2000,))])"
   ]
  },
  {
   "cell_type": "code",
   "execution_count": 94,
   "id": "26003f65",
   "metadata": {},
   "outputs": [],
   "source": [
    "@njit(fastmath=True)\n",
    "def create_summary_stats(x):\n",
    "    x = np.stack((np.append(0.0, x.cumsum()),\n",
    "                  np.append(0.0, (x ** 2).cumsum()),\n",
    "                  np.append(0.0, ((x - x.mean()) ** 2).cumsum())),\n",
    "                  axis=-1)\n",
    "    return x\n",
    "\n",
    "def binary_segmentation(x, min_len, max_cp, penalty, cost_fn):\n",
    "    \"\"\"Runs binary segmentation on time series\"\"\"\n",
    "\n",
    "    # Setting up summary statistics and objects\n",
    "    n = x.shape[0]\n",
    "    sum_stats = create_summary_stats(x)\n",
    "    is_candidate = np.ones((n, ), dtype=bool)\n",
    "    is_candidate = np.arange(min_len, n - min_len)\n",
    "    cps = np.zeros((n, ), dtype=bool)\n",
    "    costs = np.zeros((n, ), dtype=np.float64)\n",
    "    cps[-1] = True\n",
    "    cps[0] = True\n",
    "    costs[-1] = cost_fn(sum_stats[n, :], n)\n",
    "    n_cps = 0\n",
    "\n",
    "    # Iterating through changepoints until convergence\n",
    "    while True:\n",
    "\n",
    "        _cps = np.flatnonzero(cps)\n",
    "        best_cand, best_cost, best_next_cost, best_next = 0, 0, 0, 0\n",
    "        best_total_cost = costs.sum() + n_cps * penalty\n",
    "        \n",
    "        #print(best_total_cost)\n",
    "\n",
    "        for c1, c2 in zip(_cps[:-1], _cps[1:]):\n",
    "            _cands = np.flatnonzero(is_candidate)\n",
    "            _cands = _cands[(_cands > c1 + min_len) & (_cands < c2 - min_len)]\n",
    "            if _cands.shape[0] == 0:\n",
    "                continue\n",
    "            _costs = np.empty((_cands.shape[0], 3), dtype=np.float64)\n",
    "            _other_costs = costs[:c1].sum() + costs[(c2 + 1):].sum()\n",
    "            _costs[:, 0] = np.array([cost_fn(sum_stats[i, :] - sum_stats[c1, :], i - c1) for i in _cands])\n",
    "            _costs[:, 1] = np.array([cost_fn(sum_stats[c2, :] - sum_stats[i, :], c2 - i) for i in _cands])\n",
    "            _costs[:, 2] = _costs[:, 0] + _costs[:, 1] + _other_costs + (n_cps + 1) * penalty\n",
    "            _best_cand = np.argmin(_costs[:, 2])\n",
    "            if _costs[_best_cand, 2] < best_total_cost:\n",
    "                best_cand = _cands[_best_cand]\n",
    "                best_cost = _costs[_best_cand, 0]\n",
    "                best_next_cost = _costs[_best_cand, 1]\n",
    "                best_total_cost = _costs[_best_cand, 2]\n",
    "                best_next = c2\n",
    "\n",
    "        if best_cand == 0:\n",
    "            break\n",
    "        else:\n",
    "            cps[best_cand] = True\n",
    "            costs[best_cand] = best_cost\n",
    "            costs[best_next] = best_next_cost\n",
    "            is_candidate[(best_cand - min_len): (best_cand + min_len)] = False\n",
    "            n_cps += 1\n",
    "\n",
    "            #print(best_cand, best_total_cost, costs.sum() + n_cps * penalty)\n",
    "            #print(np.flatnonzero(cps))\n",
    "            #print(costs[costs > 0.0])\n",
    "            #print('\\n')\n",
    "        \n",
    "    return np.flatnonzero(cps)"
   ]
  },
  {
   "cell_type": "code",
   "execution_count": 95,
   "id": "f63da681",
   "metadata": {
    "scrolled": false
   },
   "outputs": [
    {
     "name": "stdout",
     "output_type": "stream",
     "text": [
      "640 ms ± 17.3 ms per loop (mean ± std. dev. of 7 runs, 1 loop each)\n"
     ]
    }
   ],
   "source": [
    "%timeit binary_segmentation(x, min_len=30, max_cp=3, penalty=500, cost_fn=normal_mean_var_cost)"
   ]
  },
  {
   "cell_type": "code",
   "execution_count": 96,
   "id": "6187fc2b",
   "metadata": {},
   "outputs": [],
   "source": [
    "numba_bin_seg = njit(fastmath=True, parallel=True)(binary_segmentation)"
   ]
  },
  {
   "cell_type": "code",
   "execution_count": 97,
   "id": "6cc95e8c",
   "metadata": {},
   "outputs": [
    {
     "ename": "TypingError",
     "evalue": "Failed in nopython mode pipeline (step: nopython frontend)\n\u001b[1m\u001b[1mnon-precise type pyobject\u001b[0m\n\u001b[0m\u001b[1mDuring: typing of argument at <ipython-input-94-ebce61226814> (13)\u001b[0m\n\u001b[1m\nFile \"<ipython-input-94-ebce61226814>\", line 13:\u001b[0m\n\u001b[1mdef binary_segmentation(x, min_len, max_cp, penalty, cost_fn):\n    <source elided>\n    # Setting up summary statistics and objects\n\u001b[1m    n = x.shape[0]\n\u001b[0m    \u001b[1m^\u001b[0m\u001b[0m\n\nThis error may have been caused by the following argument(s):\n- argument 4: \u001b[1mCannot determine Numba type of <class 'builtin_function_or_method'>\u001b[0m\n",
     "output_type": "error",
     "traceback": [
      "\u001b[1;31m---------------------------------------------------------------------------\u001b[0m",
      "\u001b[1;31mTypingError\u001b[0m                               Traceback (most recent call last)",
      "\u001b[1;32m<ipython-input-97-43f5ba4a370e>\u001b[0m in \u001b[0;36m<module>\u001b[1;34m\u001b[0m\n\u001b[1;32m----> 1\u001b[1;33m \u001b[0mnumba_bin_seg\u001b[0m\u001b[1;33m(\u001b[0m\u001b[0mx\u001b[0m\u001b[1;33m,\u001b[0m \u001b[0mmin_len\u001b[0m\u001b[1;33m=\u001b[0m\u001b[1;36m30\u001b[0m\u001b[1;33m,\u001b[0m \u001b[0mmax_cp\u001b[0m\u001b[1;33m=\u001b[0m\u001b[1;36m3\u001b[0m\u001b[1;33m,\u001b[0m \u001b[0mpenalty\u001b[0m\u001b[1;33m=\u001b[0m\u001b[1;36m500\u001b[0m\u001b[1;33m,\u001b[0m \u001b[0mcost_fn\u001b[0m\u001b[1;33m=\u001b[0m\u001b[0mnormal_mean_var_cost\u001b[0m\u001b[1;33m)\u001b[0m\u001b[1;33m\u001b[0m\u001b[1;33m\u001b[0m\u001b[0m\n\u001b[0m",
      "\u001b[1;32m~\\anaconda3\\envs\\pychange\\lib\\site-packages\\numba\\core\\dispatcher.py\u001b[0m in \u001b[0;36m_compile_for_args\u001b[1;34m(self, *args, **kws)\u001b[0m\n\u001b[0;32m    418\u001b[0m                 \u001b[0me\u001b[0m\u001b[1;33m.\u001b[0m\u001b[0mpatch_message\u001b[0m\u001b[1;33m(\u001b[0m\u001b[0mmsg\u001b[0m\u001b[1;33m)\u001b[0m\u001b[1;33m\u001b[0m\u001b[1;33m\u001b[0m\u001b[0m\n\u001b[0;32m    419\u001b[0m \u001b[1;33m\u001b[0m\u001b[0m\n\u001b[1;32m--> 420\u001b[1;33m             \u001b[0merror_rewrite\u001b[0m\u001b[1;33m(\u001b[0m\u001b[0me\u001b[0m\u001b[1;33m,\u001b[0m \u001b[1;34m'typing'\u001b[0m\u001b[1;33m)\u001b[0m\u001b[1;33m\u001b[0m\u001b[1;33m\u001b[0m\u001b[0m\n\u001b[0m\u001b[0;32m    421\u001b[0m         \u001b[1;32mexcept\u001b[0m \u001b[0merrors\u001b[0m\u001b[1;33m.\u001b[0m\u001b[0mUnsupportedError\u001b[0m \u001b[1;32mas\u001b[0m \u001b[0me\u001b[0m\u001b[1;33m:\u001b[0m\u001b[1;33m\u001b[0m\u001b[1;33m\u001b[0m\u001b[0m\n\u001b[0;32m    422\u001b[0m             \u001b[1;31m# Something unsupported is present in the user code, add help info\u001b[0m\u001b[1;33m\u001b[0m\u001b[1;33m\u001b[0m\u001b[1;33m\u001b[0m\u001b[0m\n",
      "\u001b[1;32m~\\anaconda3\\envs\\pychange\\lib\\site-packages\\numba\\core\\dispatcher.py\u001b[0m in \u001b[0;36merror_rewrite\u001b[1;34m(e, issue_type)\u001b[0m\n\u001b[0;32m    359\u001b[0m                 \u001b[1;32mraise\u001b[0m \u001b[0me\u001b[0m\u001b[1;33m\u001b[0m\u001b[1;33m\u001b[0m\u001b[0m\n\u001b[0;32m    360\u001b[0m             \u001b[1;32melse\u001b[0m\u001b[1;33m:\u001b[0m\u001b[1;33m\u001b[0m\u001b[1;33m\u001b[0m\u001b[0m\n\u001b[1;32m--> 361\u001b[1;33m                 \u001b[1;32mraise\u001b[0m \u001b[0me\u001b[0m\u001b[1;33m.\u001b[0m\u001b[0mwith_traceback\u001b[0m\u001b[1;33m(\u001b[0m\u001b[1;32mNone\u001b[0m\u001b[1;33m)\u001b[0m\u001b[1;33m\u001b[0m\u001b[1;33m\u001b[0m\u001b[0m\n\u001b[0m\u001b[0;32m    362\u001b[0m \u001b[1;33m\u001b[0m\u001b[0m\n\u001b[0;32m    363\u001b[0m         \u001b[0margtypes\u001b[0m \u001b[1;33m=\u001b[0m \u001b[1;33m[\u001b[0m\u001b[1;33m]\u001b[0m\u001b[1;33m\u001b[0m\u001b[1;33m\u001b[0m\u001b[0m\n",
      "\u001b[1;31mTypingError\u001b[0m: Failed in nopython mode pipeline (step: nopython frontend)\n\u001b[1m\u001b[1mnon-precise type pyobject\u001b[0m\n\u001b[0m\u001b[1mDuring: typing of argument at <ipython-input-94-ebce61226814> (13)\u001b[0m\n\u001b[1m\nFile \"<ipython-input-94-ebce61226814>\", line 13:\u001b[0m\n\u001b[1mdef binary_segmentation(x, min_len, max_cp, penalty, cost_fn):\n    <source elided>\n    # Setting up summary statistics and objects\n\u001b[1m    n = x.shape[0]\n\u001b[0m    \u001b[1m^\u001b[0m\u001b[0m\n\nThis error may have been caused by the following argument(s):\n- argument 4: \u001b[1mCannot determine Numba type of <class 'builtin_function_or_method'>\u001b[0m\n"
     ]
    }
   ],
   "source": [
    "numba_bin_seg(x, min_len=30, max_cp=3, penalty=500, cost_fn=normal_mean_var_cost)"
   ]
  }
 ],
 "metadata": {
  "kernelspec": {
   "display_name": "Python 3",
   "language": "python",
   "name": "python3"
  },
  "language_info": {
   "codemirror_mode": {
    "name": "ipython",
    "version": 3
   },
   "file_extension": ".py",
   "mimetype": "text/x-python",
   "name": "python",
   "nbconvert_exporter": "python",
   "pygments_lexer": "ipython3",
   "version": "3.9.5"
  }
 },
 "nbformat": 4,
 "nbformat_minor": 5
}
