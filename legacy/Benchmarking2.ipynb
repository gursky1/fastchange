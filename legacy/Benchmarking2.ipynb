{
 "cells": [
  {
   "cell_type": "code",
   "execution_count": 5,
   "id": "956cf299",
   "metadata": {},
   "outputs": [],
   "source": [
    "# Importing packages\n",
    "import numpy as np\n",
    "from pychange.costs import L1Cost, L2Cost, NormalMeanCost, NormalVarCost, NormalMeanVarCost, PoissonMeanVarCost, ExponentialMeanVarCost, GammaMeanVarCost, EmpiricalCost\n",
    "from pychange.segment import amoc_segment, pelt_segment, binary_segment\n",
    "from pychange.online import ConstantHazard, StudentTProb, OnlineCP\n",
    "from pychange.r import ROfflineChangepoint, ROCP\n",
    "from pychange.penalties import mbic_penalty\n",
    "import ruptures as rpt\n",
    "\n",
    "import matplotlib.pyplot as plt\n",
    "%load_ext line_profiler\n",
    "# TODO add tweedie\n",
    "# TODO check on study form, Ask Taryn about plan b form, set up committee (find professors + outside member), do write up and submit to commitee, 30 mins defense, may ask about any coursework questions\n",
    "# TODO write up of PLan B"
   ]
  },
  {
   "cell_type": "code",
   "execution_count": 4,
   "id": "a7fd381e",
   "metadata": {},
   "outputs": [],
   "source": [
    "def normal_random(seg_len, n_cps, loc_limit, scale_var):\n",
    "    loc = np.random.uniform(-1 * loc_limit, loc_limit, size=(n_cps,))\n",
    "    scale = np.random.exponential(scale_var, size=(n_cps,))\n",
    "    return np.random.normal(loc, scale, size=(seg_len, n_cps)).flatten('F')"
   ]
  },
  {
   "cell_type": "code",
   "execution_count": 28,
   "id": "ca92c72e",
   "metadata": {},
   "outputs": [
    {
     "data": {
      "image/png": "[encoded data removed]",
      "text/plain": [
       "<Figure size 432x288 with 1 Axes>"
      ]
     },
     "metadata": {
      "needs_background": "light"
     },
     "output_type": "display_data"
    }
   ],
   "source": [
    "x = normal_random(50, 3, 100, 5)\n",
    "plt.figure()\n",
    "plt.plot(x)\n",
    "plt.show()"
   ]
  },
  {
   "cell_type": "code",
   "execution_count": 71,
   "id": "519133c3",
   "metadata": {},
   "outputs": [],
   "source": [
    "@nb.njit(fastmath=True, nogil=True)\n",
    "def pelt_segment(cost, max_cps, penalty, mbic):\n",
    "    \"\"\"Pruned exact linear time changepoint segmentation\"\"\"\n",
    "    \n",
    "    # Initializing parameters for segmentation\n",
    "    n = cost.n\n",
    "    \n",
    "    # Initializing storage for costs and changepoints\n",
    "    f = np.empty(n, dtype=np.float64)\n",
    "    f[0] = -1 * penalty\n",
    "    _costs = np.empty(n, dtype=np.float64)\n",
    "    cps = np.zeros((n, max_cps), dtype=np.int64)\n",
    "    r = np.empty(n, dtype=np.int64)\n",
    "    r[0] = 0\n",
    "    r_len = 1\n",
    "\n",
    "    # Starting loop for search\n",
    "    for tau_star in range(1, n):\n",
    "\n",
    "        # Calculating each candidate cost\n",
    "        for j in nb.prange(r_len):\n",
    "            tau = r[j]\n",
    "            _costs[j] = cost.cost(tau, tau_star) + f[tau] + penalty\n",
    "            if mbic:\n",
    "                _costs[j] += math.log(tau_star - tau)\n",
    "\n",
    "        # Finding best candidate\n",
    "        best_tau = np.argmin(_costs[: r_len])\n",
    "        f[tau_star] = _costs[best_tau]\n",
    "        best_r = r[best_tau]\n",
    "        \n",
    "        # Updating our changepoint array\n",
    "        cps[tau_star, :] = cps[best_r, :]\n",
    "        first_zero = np.argmin(cps[tau_star])\n",
    "        cps[tau_star, first_zero] = best_r\n",
    "        if tau_star == n - 1:\n",
    "            break\n",
    "        \n",
    "        # Updating costs and prepping for next loop\n",
    "        new_r_len = 0\n",
    "        prune_cost = f[tau_star] + penalty\n",
    "        for j in range(r_len):\n",
    "            if _costs[j] <= prune_cost:\n",
    "                r[new_r_len] = r[j]\n",
    "                new_r_len += 1\n",
    "\n",
    "        r[new_r_len] = tau_star\n",
    "        r_len = new_r_len + 1\n",
    "    \n",
    "    # Getting final changepoints\n",
    "    return np.append(cps[tau_star, : first_zero + 1], tau_star + 1)"
   ]
  },
  {
   "cell_type": "code",
   "execution_count": 72,
   "id": "272a9c02",
   "metadata": {},
   "outputs": [
    {
     "data": {
      "text/plain": [
       "array([ 50, 100, 150], dtype=int64)"
      ]
     },
     "execution_count": 72,
     "metadata": {},
     "output_type": "execute_result"
    }
   ],
   "source": [
    "pelt_segment(L2Cost().fit(x), 30, 250.0, True)"
   ]
  },
  {
   "cell_type": "code",
   "execution_count": 5,
   "id": "c76c97d4",
   "metadata": {},
   "outputs": [],
   "source": [
    "from pychange.costs import (_l1_cost)"
   ]
  },
  {
   "cell_type": "code",
   "execution_count": 31,
   "id": "5470743e",
   "metadata": {},
   "outputs": [
    {
     "data": {
      "text/plain": [
       "FunctionType[float64(array(float64, 1d, A))]"
      ]
     },
     "execution_count": 31,
     "metadata": {},
     "output_type": "execute_result"
    }
   ],
   "source": [
    "_l1_cost.nopython_signatures[0].as_type()"
   ]
  },
  {
   "cell_type": "code",
   "execution_count": 6,
   "id": "c96e5936",
   "metadata": {},
   "outputs": [
    {
     "data": {
      "text/plain": [
       "FunctionType[float64(array(float64, 1d, A))]"
      ]
     },
     "execution_count": 6,
     "metadata": {},
     "output_type": "execute_result"
    }
   ],
   "source": [
    "_l1_cost.nopython_signatures[0].as_type()"
   ]
  },
  {
   "cell_type": "code",
   "execution_count": 12,
   "id": "2332d5df",
   "metadata": {},
   "outputs": [],
   "source": [
    "import math\n",
    "import numpy as np\n",
    "import numba as nb\n",
    "from pychange.costs import L1Cost\n",
    "from pychange.penalties import mbic_penalty\n",
    "\n",
    "@nb.njit(fastmath=True, nogil=True, parallel=True)\n",
    "def binary_segment(data, cost, min_len, penalty_fn):\n",
    "    \"\"\"Runs binary segmentation on time series\"\"\"\n",
    "    # TODO implement mbic\n",
    "\n",
    "    # Setting up summary statistics and objects\n",
    "    cost.fit(data)\n",
    "    n = cost.n\n",
    "    penalty = penalty_fn(n, cost.n_params)\n",
    "    cps = np.empty(n, dtype=np.int64)\n",
    "    cps[0] = n - 1\n",
    "    n_cps = 1\n",
    "    best_total_cost = cost.cost(0, n - 1)\n",
    "    part_costs = np.empty(n, dtype=np.float64)\n",
    "    part_costs[0] = best_total_cost\n",
    "\n",
    "    # Initializing for out first run\n",
    "    pre_part_cands = np.arange(max(min_len - 1, 1), n - min_len - 1)\n",
    "    post_part_cands = np.empty(0, dtype=np.int64)\n",
    "    cand_len = n - 2 * min_len\n",
    "    pre_cps_start = 0\n",
    "    pre_cps_end = n - 1\n",
    "    post_cps_start = 0\n",
    "    post_cps_end = n - 1\n",
    "    pre_costs = 0.0\n",
    "    post_costs = 0.0\n",
    "    _pre_costs = np.empty(n, dtype=np.float64)\n",
    "    _post_costs = np.empty(n, dtype=np.float64)\n",
    "    _total_costs = np.full(n, fill_value=np.inf, dtype=np.float64)\n",
    "\n",
    "    # Iterating through changepoints until convergence\n",
    "    while True:\n",
    "\n",
    "        # Checking if there are candidates within the last created partitions\n",
    "        for i in nb.prange(pre_part_cands.size):\n",
    "\n",
    "            # Calculating new partition costs\n",
    "            _pre_cand = pre_part_cands[i]\n",
    "            _pre_costs[_pre_cand] = cost.cost(pre_cps_start, _pre_cand)\n",
    "            _post_costs[_pre_cand] = cost.cost(_pre_cand, pre_cps_end)\n",
    "            _total_costs[_pre_cand] = _pre_costs[_pre_cand] + _post_costs[_pre_cand] + pre_costs\n",
    "\n",
    "        # Checking if there are candidates within the last created partitions\n",
    "        for i in nb.prange(post_part_cands.size):\n",
    "\n",
    "            # Calculating new partition costs\n",
    "            _post_cand = post_part_cands[i]\n",
    "            _pre_costs[_post_cand] = cost.cost(post_cps_start, _post_cand)\n",
    "            _post_costs[_post_cand] = cost.cost(_post_cand, post_cps_end)\n",
    "            _total_costs[_post_cand] = _pre_costs[_post_cand] + _post_costs[_post_cand] + post_costs\n",
    "        \n",
    "        # Checking all candidates to compare against\n",
    "        best_ind = np.argmin(_total_costs)\n",
    "        best_cost = _total_costs[best_ind]\n",
    "\n",
    "        # Checking if the new changepoint is worth it\n",
    "        if best_cost >= best_total_cost - penalty:\n",
    "            break\n",
    "\n",
    "        # New changepoint detected\n",
    "        cps[n_cps] = best_ind\n",
    "        old_cost_sum = part_costs[: n_cps].sum()\n",
    "        n_cps += 1\n",
    "        sorted_inds = np.argsort(cps[: n_cps])\n",
    "        new_cp_ind = np.argsort(sorted_inds)[n_cps - 1]\n",
    "        cps[: n_cps] = cps[sorted_inds]\n",
    "        part_costs[: n_cps] = part_costs[sorted_inds]\n",
    "        pre_cp_ind = new_cp_ind - 1\n",
    "        post_cp_ind = new_cp_ind + 1\n",
    "        part_costs[new_cp_ind] = _pre_costs[best_ind]\n",
    "        part_costs[post_cp_ind] = _post_costs[best_ind]\n",
    "\n",
    "        # Setting values for next run\n",
    "        if pre_cp_ind == -1:\n",
    "            pre_cps_start = 0\n",
    "        else:\n",
    "            pre_cps_start = cps[pre_cp_ind]\n",
    "        pre_cps_end = best_ind\n",
    "        post_cps_start = best_ind\n",
    "        post_cps_end = cps[post_cp_ind]\n",
    "        cost_sum = part_costs[: n_cps].sum()\n",
    "        cost_change = cost_sum - old_cost_sum\n",
    "        pre_costs = cost_sum - part_costs[new_cp_ind]\n",
    "        post_costs = cost_sum - part_costs[post_cp_ind]\n",
    "\n",
    "        # Setting up new candidate arrays\n",
    "        pre_part_cands = np.arange(pre_cps_start + min_len, pre_cps_end - min_len)\n",
    "        post_part_cands = np.arange(post_cps_start + min_len, post_cps_end - min_len)\n",
    "\n",
    "        # Updating total cost change with outer partitions\n",
    "        _total_costs[: pre_cps_start] += cost_change\n",
    "        _total_costs[post_cps_end: ] += cost_change\n",
    "        _total_costs[best_ind - min_len: best_ind + min_len] = np.inf\n",
    "        best_total_cost = best_cost\n",
    "\n",
    "    return cps[: n_cps]"
   ]
  },
  {
   "cell_type": "code",
   "execution_count": 13,
   "id": "958dbc63",
   "metadata": {},
   "outputs": [],
   "source": [
    "# Setting hyperparams\n",
    "min_len = 1\n",
    "k = 20\n",
    "pen = 100.0\n",
    "mbic = False\n",
    "max_cps = 50\n",
    "n_runs = 5\n",
    "seg_len = 1000\n",
    "n_cps = 3\n",
    "\n",
    "def normal_random(seg_len, n_cps, loc_limit=10, scale_var=5):\n",
    "    loc = np.random.uniform(-1 * loc_limit, loc_limit, size=(n_cps + 1,))\n",
    "    scale = np.random.uniform(0, scale_var, size=(n_cps + 1,))\n",
    "    return np.random.normal(loc, scale, size=(seg_len, n_cps + 1)).flatten('F')\n",
    "\n",
    "data = normal_random(seg_len, n_cps)"
   ]
  },
  {
   "cell_type": "code",
   "execution_count": 14,
   "id": "6100b532",
   "metadata": {},
   "outputs": [
    {
     "data": {
      "text/plain": [
       "array([1000, 2002, 3001, 3999], dtype=int64)"
      ]
     },
     "execution_count": 14,
     "metadata": {},
     "output_type": "execute_result"
    }
   ],
   "source": [
    "binary_segment.py_func(data, L1Cost(), min_len, mbic_penalty)"
   ]
  },
  {
   "cell_type": "code",
   "execution_count": 23,
   "id": "ee58e079",
   "metadata": {},
   "outputs": [
    {
     "data": {
      "text/plain": [
       "['__module__',\n",
       " '__doc__',\n",
       " '__slots__',\n",
       " '__init__',\n",
       " 'return_type',\n",
       " 'args',\n",
       " 'recvr',\n",
       " 'pysig',\n",
       " 'replace',\n",
       " '__getstate__',\n",
       " '__setstate__',\n",
       " '__hash__',\n",
       " '__eq__',\n",
       " '__ne__',\n",
       " '__repr__',\n",
       " 'is_method',\n",
       " 'as_method',\n",
       " 'as_function',\n",
       " 'as_type',\n",
       " '__unliteral__',\n",
       " 'dump',\n",
       " 'is_precise',\n",
       " '_args',\n",
       " '_pysig',\n",
       " '_recvr',\n",
       " '_return_type',\n",
       " '__str__',\n",
       " '__getattribute__',\n",
       " '__setattr__',\n",
       " '__delattr__',\n",
       " '__lt__',\n",
       " '__le__',\n",
       " '__gt__',\n",
       " '__ge__',\n",
       " '__new__',\n",
       " '__reduce_ex__',\n",
       " '__reduce__',\n",
       " '__subclasshook__',\n",
       " '__init_subclass__',\n",
       " '__format__',\n",
       " '__sizeof__',\n",
       " '__dir__',\n",
       " '__class__']"
      ]
     },
     "execution_count": 23,
     "metadata": {},
     "output_type": "execute_result"
    }
   ],
   "source": [
    "_l1_cost.nopython_signatures[0].__dir__()"
   ]
  },
  {
   "cell_type": "code",
   "execution_count": 79,
   "id": "be545ace",
   "metadata": {},
   "outputs": [],
   "source": [
    "def poisson_random(seg_len, n_cps, lam_var):\n",
    "    lam = np.random.uniform(0, lam_var, size=(n_cps,))\n",
    "    return np.random.poisson(lam, size=(seg_len, n_cps)).flatten('F')"
   ]
  },
  {
   "cell_type": "code",
   "execution_count": 80,
   "id": "b12a3978",
   "metadata": {},
   "outputs": [
    {
     "data": {
      "image/png": "[encoded data removed]",
      "text/plain": [
       "<Figure size 432x288 with 1 Axes>"
      ]
     },
     "metadata": {
      "needs_background": "light"
     },
     "output_type": "display_data"
    }
   ],
   "source": [
    "x = poisson_random(50, 10, 15)\n",
    "plt.figure()\n",
    "plt.plot(x)\n",
    "plt.show()"
   ]
  },
  {
   "cell_type": "code",
   "execution_count": 81,
   "id": "eba49283",
   "metadata": {},
   "outputs": [],
   "source": [
    "def exp_random(seg_len, n_cps, scale_var):\n",
    "    scale = np.random.uniform(0, scale_var, size=(n_cps,))\n",
    "    return np.random.exponential(scale, size=(seg_len, n_cps)).flatten('F')"
   ]
  },
  {
   "cell_type": "code",
   "execution_count": 84,
   "id": "bf2ffe2c",
   "metadata": {},
   "outputs": [
    {
     "data": {
      "image/png": "[encoded data removed]",
      "text/plain": [
       "<Figure size 432x288 with 1 Axes>"
      ]
     },
     "metadata": {
      "needs_background": "light"
     },
     "output_type": "display_data"
    }
   ],
   "source": [
    "x = exp_random(50, 10, 10)\n",
    "plt.figure()\n",
    "plt.plot(x)\n",
    "plt.show()"
   ]
  },
  {
   "cell_type": "code",
   "execution_count": 89,
   "id": "ae3ca158",
   "metadata": {},
   "outputs": [],
   "source": [
    "def gamma_random(seg_len, n_cps, shape_var):\n",
    "    shape = np.random.uniform(0, shape_var, size=(n_cps,))\n",
    "    return np.random.gamma(shape, size=(seg_len, n_cps)).flatten('F')"
   ]
  },
  {
   "cell_type": "code",
   "execution_count": 91,
   "id": "83500ff0",
   "metadata": {},
   "outputs": [
    {
     "data": {
      "image/png": "[encoded data removed]",
      "text/plain": [
       "<Figure size 432x288 with 1 Axes>"
      ]
     },
     "metadata": {
      "needs_background": "light"
     },
     "output_type": "display_data"
    }
   ],
   "source": [
    "x = gamma_random(50, 10, 10)\n",
    "plt.figure()\n",
    "plt.plot(x)\n",
    "plt.show()"
   ]
  },
  {
   "cell_type": "code",
   "execution_count": null,
   "id": "a1b0ec75",
   "metadata": {},
   "outputs": [],
   "source": [
    "import math\n",
    "import numba as nb"
   ]
  },
  {
   "cell_type": "code",
   "execution_count": null,
   "id": "10417159",
   "metadata": {},
   "outputs": [],
   "source": [
    "cost = L1Cost().fit(x)"
   ]
  },
  {
   "cell_type": "code",
   "execution_count": 95,
   "id": "5f9b6095",
   "metadata": {},
   "outputs": [],
   "source": [
    "@nb.njit(['f8(i8, i8)'], fastmath=True)\n",
    "def mbic_penalty(n, n_params):\n",
    "    return (n_params + 2) * math.log(n)"
   ]
  },
  {
   "cell_type": "code",
   "execution_count": 96,
   "id": "e77e542d",
   "metadata": {},
   "outputs": [
    {
     "data": {
      "text/plain": [
       "13.815510557964275"
      ]
     },
     "execution_count": 96,
     "metadata": {},
     "output_type": "execute_result"
    }
   ],
   "source": [
    "mbic_penalty(100, 1)"
   ]
  },
  {
   "cell_type": "code",
   "execution_count": 2,
   "id": "45a2f155",
   "metadata": {},
   "outputs": [],
   "source": [
    "# Creating Normal synthetic data\n",
    "size = 10000\n",
    "sm_size = 100\n",
    "k = 20\n",
    "min_len = 10\n",
    "max_cp = 40\n",
    "pen = 100.0\n",
    "test_series = np.hstack([np.random.normal(0, 1, (size,)),\n",
    "                         np.random.normal(6, 1, (size,)),\n",
    "                         np.random.normal(0, 2, (size,)),\n",
    "                         np.random.normal(-4, 1, (size,)),\n",
    "                         np.random.normal(3, 1, (size,)),\n",
    "                         ])\n",
    "\n",
    "sm_test_series = np.hstack([np.random.normal(0, 1, (sm_size,)),\n",
    "                         np.random.normal(6, 1, (sm_size,)),\n",
    "                         np.random.normal(0, 2, (sm_size,)),\n",
    "                         #np.random.normal(-4, 1, (sm_size,)),\n",
    "                         #np.random.normal(3, 1, (sm_size,)),\n",
    "                         ])\n",
    "\n",
    "p_test_series = np.hstack([np.random.poisson(2, (size,)),\n",
    "                         np.random.poisson(6, (size,)),\n",
    "                         np.random.poisson(10, (size,)),\n",
    "                         np.random.poisson(4, (size,)),\n",
    "                         np.random.poisson(3, (size,)),\n",
    "                         ] * 8)\n",
    "\n",
    "g_test_series = p_test_series + 1"
   ]
  },
  {
   "cell_type": "code",
   "execution_count": 7,
   "id": "4bc7e8de",
   "metadata": {},
   "outputs": [
    {
     "data": {
      "text/plain": [
       "array([ 7.12219515e+00,  6.09201119e+00,  1.63738703e+00,  5.38984560e+00,\n",
       "        7.22748963e+00,  9.48169187e+00,  2.05098534e+01,  4.19961881e+00,\n",
       "        1.17356297e+00, -1.14340939e+00,  2.61465373e+00,  6.09640023e+00,\n",
       "        5.10883106e+00,  7.60876175e+00,  2.13519203e+00,  2.10872135e+00,\n",
       "        7.75136365e+00,  8.54875591e+00,  6.49592124e+00,  7.71949140e+00,\n",
       "        3.59249447e+00,  1.03430539e+01, -3.89346511e+00, -1.39921471e+00,\n",
       "        6.71308927e+00,  3.86507755e+00,  2.07276121e+00,  2.91815098e+00,\n",
       "        7.72756115e+00,  4.33937405e+00, -4.53194369e+00,  2.90157441e+00,\n",
       "        5.22776353e+00, -4.48852401e+00, -4.11593850e+00,  5.71070924e+00,\n",
       "        9.06463091e-01,  6.49710786e+00,  1.48682529e+01,  6.17934055e+00,\n",
       "        7.67042725e+00,  3.97727402e+00,  9.80302046e+00,  1.82717039e+00,\n",
       "       -5.55466540e+00,  7.03202759e+00,  6.38962011e+00,  3.83172148e+00,\n",
       "        3.66983254e+00,  5.94627936e+00,  1.52976331e+01,  8.55626407e+00,\n",
       "        1.12569328e+01, -5.49877118e+00, -2.19282316e+00,  1.54474781e+00,\n",
       "        7.37866401e-01, -2.14613553e+00,  9.50983678e+00,  2.83249676e+00,\n",
       "        3.66471830e+00,  1.33199663e+00,  2.94487510e+00,  7.88837964e+00,\n",
       "        4.87863062e+00, -5.96163001e+00, -1.11471276e+00,  1.78058718e+00,\n",
       "       -1.33147943e-01,  1.14209036e+01, -2.40791407e+00,  3.24959047e+00,\n",
       "        8.13443643e+00,  1.55449961e+00, -1.71193331e+00,  1.00921267e+01,\n",
       "        1.09840778e+01, -1.18717504e-01,  5.75189714e+00,  7.48619215e+00,\n",
       "        5.95266431e+00, -1.09967391e+01, -1.95607862e+00, -2.63453680e+00,\n",
       "        4.57097613e-01, -2.61996049e+00,  4.53977938e+00,  3.02485937e+00,\n",
       "        6.89317897e+00,  1.11768630e+01, -4.72443463e+00,  8.42687920e-01,\n",
       "       -3.63548252e-01,  8.59930817e-01,  3.97919513e+00, -1.14259768e+00,\n",
       "        1.02404264e+00,  3.19203501e-01,  5.35642098e+00,  8.05737597e+00,\n",
       "       -5.27874413e+00, -5.20585993e+00, -1.37117408e+00,  3.36780984e+00,\n",
       "        1.11941739e+00,  1.08544769e+01,  8.46731147e+00, -1.04078520e+00,\n",
       "        4.17550132e+00,  6.53537898e+00, -3.03003113e+00, -3.11973929e+00,\n",
       "        8.10955035e+00,  4.93828775e+00,  1.19843477e+01,  9.58297765e+00,\n",
       "        6.45082080e+00,  1.27208158e-01,  8.49845223e+00,  1.12698734e+01,\n",
       "       -3.45444482e+00,  9.65210861e+00,  3.35805549e+00,  8.46489583e-01,\n",
       "        2.34206551e+00,  8.27758625e+00, -2.95007703e+00, -4.88521409e+00,\n",
       "        4.53593487e+00, -7.38840235e+00,  3.24865767e+00,  2.93810937e+00,\n",
       "        4.80903688e+00, -3.61372527e-01,  2.26070672e+00,  7.35818457e+00,\n",
       "        2.50375688e+00, -9.96952663e-01, -1.30766896e+00, -3.67906784e+00,\n",
       "       -5.96105067e+00,  4.11499907e+00,  1.53110730e+00, -4.06661136e-02,\n",
       "        4.67308413e+00,  7.48916595e+00,  5.34206558e+00, -6.34815367e-02,\n",
       "       -4.62105476e+00, -4.59154399e+00,  3.75280583e+00, -1.04531906e+01,\n",
       "        1.50457408e+00,  3.64328064e-01,  8.64709491e-01,  2.53590220e+00,\n",
       "       -7.02106622e-01,  3.74611744e+00, -1.17442282e+00,  9.39985971e+00,\n",
       "        3.22313429e+00,  5.43042000e+00, -8.91144252e-01, -4.74572568e+00,\n",
       "        5.58549817e-01, -2.30203415e+00, -9.75850833e+00,  9.41371123e+00,\n",
       "        3.92916212e-01, -3.65979059e+00,  4.23119470e-01, -1.97851854e-01,\n",
       "        6.22690215e+00, -5.83668612e+00, -5.39599758e+00,  2.24523014e+00,\n",
       "       -5.45260204e+00,  1.57232736e+00,  5.05874397e+00, -5.43892831e+00,\n",
       "        4.98413501e+00,  2.63402888e+00, -4.07065653e+00, -1.53868148e+00,\n",
       "        2.68760594e+00, -8.34150272e+00, -4.36148311e+00, -8.05375679e+00,\n",
       "       -1.18412411e+01, -9.53970675e-01,  1.47427577e+00, -8.07649936e+00,\n",
       "        3.46582834e+00, -1.00265908e+00, -2.17146089e+00,  6.58346332e+00,\n",
       "       -1.22050536e+00, -1.71394173e+00,  5.85821122e+00,  6.75069703e-01,\n",
       "       -1.73020622e+01, -1.35850618e+00, -6.35243914e+00, -1.72980499e+00,\n",
       "        1.01685418e+00,  2.15944504e+00,  1.70560711e+00,  3.20768664e+00,\n",
       "       -4.21096007e+00, -2.04735517e+00, -2.62499863e+00, -2.16229714e+00,\n",
       "        6.14570813e+00,  4.61611239e+00, -4.08097217e+00, -1.00505111e+01,\n",
       "       -1.39817769e+00, -5.98076821e-01, -1.41154109e+01,  1.42174532e+00,\n",
       "        3.61251821e+00, -2.56798453e-01,  1.21100835e+00,  8.09522380e+00,\n",
       "       -9.97645879e+00, -4.97528320e+00,  8.91085230e-01, -4.46845349e+00,\n",
       "        6.77268834e+00,  1.56051960e+00,  3.82970138e+00, -2.13136996e+00,\n",
       "       -2.79657536e+00,  4.99449406e-01, -4.99879043e+00, -2.17379054e-01,\n",
       "       -6.51274787e-01,  9.59933956e+00, -1.27339906e+01, -3.18481926e+00,\n",
       "       -7.83474531e+00,  7.44246552e+00,  6.58172485e+00, -9.98191966e+00,\n",
       "        4.89299867e-01, -6.29926560e-01, -2.10335515e+00, -4.50924344e-01,\n",
       "       -3.86541815e+00, -4.82964085e+00, -2.14296453e+00, -2.11422616e+01,\n",
       "       -9.18899354e+00, -9.74430787e+00, -1.32487161e+01, -1.06766067e+01,\n",
       "       -8.54095127e+00, -6.56545209e+00, -8.38349550e-01, -8.92199932e+00,\n",
       "       -4.94859202e+00, -1.23106613e+01, -2.93597672e+00, -1.28040402e+01,\n",
       "        2.14577442e-01, -7.06373655e+00, -6.43260807e+00,  1.49098803e+00,\n",
       "       -4.05877926e+00, -6.73603216e+00, -4.84898300e+00, -7.44696046e-01,\n",
       "       -5.49958435e-01, -6.61627286e+00, -7.52215997e+00,  2.62237329e+00,\n",
       "       -1.18639671e+01, -6.16608160e+00, -1.41746118e+01, -2.07805220e+01,\n",
       "        3.08569586e+00, -1.55358857e+00, -9.50714145e+00, -6.20774873e+00,\n",
       "       -5.34511500e+00, -1.07680686e+01, -1.08250279e+01, -4.06868321e+00,\n",
       "       -7.44283431e+00, -4.70119089e+00, -4.78273666e+00, -5.24160017e+00,\n",
       "       -5.25892544e+00, -1.14421158e+01,  1.56267762e+00, -8.20482596e+00,\n",
       "       -4.23611140e+00, -9.41335922e-01, -3.80445735e+00, -8.25580750e+00,\n",
       "       -1.34027750e+01, -4.31911287e+00, -1.73533439e+00, -4.28039555e+00,\n",
       "       -7.24484274e+00, -3.00776019e+00, -6.45063894e+00, -2.11334415e+00,\n",
       "       -2.67534873e+00, -4.73021683e+00, -6.50199009e+00, -4.39341294e+00,\n",
       "       -8.65323114e+00, -1.34620977e+00,  2.50790114e+00, -3.61736932e+00,\n",
       "       -1.58355793e+01, -1.31249126e+01, -2.29883900e+00, -4.02159861e+00,\n",
       "       -1.14151503e+01, -7.82265787e+00, -4.38155823e+00,  2.40105540e-01,\n",
       "       -8.42520322e+00, -8.17731980e+00,  2.71160863e+00, -1.24515575e+01,\n",
       "       -7.50800494e+00, -9.03874342e+00,  4.92904854e+00,  1.18240939e+00,\n",
       "       -5.15461989e+00, -1.54052474e+01, -8.55113070e+00, -5.77196915e+00,\n",
       "       -4.31453150e+00, -8.71358231e+00, -1.10310159e+01, -6.52936695e+00,\n",
       "       -4.84198557e+00, -6.88873237e+00, -5.78017272e+00, -1.62965616e+01,\n",
       "       -9.18699953e+00, -7.58371901e+00,  1.57194947e+00, -1.15403792e+01,\n",
       "       -6.32228167e+00, -1.83049844e+00,  2.05792412e+00,  8.35531899e-01,\n",
       "       -4.89148238e+00, -5.06771106e+00, -7.54434820e+00, -4.63588927e+00,\n",
       "       -1.13086836e+01, -5.58574707e+00,  6.00736101e-02, -5.94389216e+00,\n",
       "       -7.62502664e+00, -1.42366992e+01, -1.00959539e+01, -1.37813128e+00,\n",
       "       -4.66495861e+00, -1.00317336e+01, -4.55420439e+00,  1.00192083e+01,\n",
       "        1.19975644e+01, -7.71903417e+00,  9.97797065e+00, -1.30641114e+01,\n",
       "       -2.11853444e+00, -8.78368259e+00,  2.65656001e+00, -4.97361306e+00,\n",
       "       -9.90930916e+00,  9.33761178e+00,  5.92234624e+00, -4.50916181e-01,\n",
       "        1.22407038e+00,  5.69291977e+00,  3.51649673e+00,  1.97147808e+00,\n",
       "        5.92042249e+00, -4.90405136e+00,  7.12515593e+00,  3.55936659e+00,\n",
       "        8.94211562e+00,  1.37858616e+00,  1.46598477e+00,  5.31895406e+00,\n",
       "        1.62294642e+00,  3.07100866e+00,  1.05870755e+00,  6.64606057e-01,\n",
       "        1.73107333e+00,  3.35875572e+00,  7.68947647e+00, -1.69754444e-03,\n",
       "        4.49051951e+00, -9.10226221e+00,  2.23944420e+00,  4.40255480e+00,\n",
       "        1.40007265e+00,  3.44301008e+00, -7.00470051e+00,  3.08620155e+00,\n",
       "        7.35180529e-01, -1.88227832e+00,  1.55572868e+00, -1.08275226e+00,\n",
       "       -8.84361862e-02,  7.01800043e+00,  1.54890205e+00,  1.53841499e+00,\n",
       "        1.53583684e+00, -1.88872064e+00,  2.58617969e+00, -6.87857481e-01,\n",
       "       -2.29625487e+00, -2.65334352e+00, -1.24334740e+00, -6.86303902e-01,\n",
       "        5.48946929e+00, -4.09049098e+00,  6.66674121e+00, -2.75336968e-01,\n",
       "       -1.06831772e+00,  1.30994773e+00,  6.12897417e+00,  6.59078605e-01,\n",
       "        5.27181190e-01, -5.76079906e+00,  4.11560816e+00, -2.85281910e+00,\n",
       "        3.43651875e+00, -6.53827377e+00, -7.07203141e+00,  5.67110553e+00,\n",
       "        3.05995596e+00, -3.61072820e+00, -1.19476661e+01, -3.43586175e+00,\n",
       "       -4.04676015e+00,  1.76042457e+00, -2.38795419e-01,  4.62612372e+00,\n",
       "       -1.47467725e+00,  3.47073499e+00,  1.36983435e+00, -2.60719145e+00,\n",
       "       -7.51527521e+00, -5.43616021e+00, -4.78926893e+00, -5.90984090e+00,\n",
       "        3.82338394e+00,  3.70830793e+00,  2.59576211e+00,  5.66919501e+00,\n",
       "       -2.08023118e+00, -2.28388739e+00, -7.03096525e+00, -3.98519346e+00,\n",
       "        3.29978829e+00,  5.16391332e+00,  2.38363370e+00,  2.02379495e+00,\n",
       "        4.85097074e+00,  7.12999929e-01,  8.29022311e+00, -5.96050762e+00,\n",
       "        3.58464397e+00,  2.12019171e+00, -2.22014988e+00, -2.50241623e+00,\n",
       "       -3.11073579e+00,  4.38945942e+00, -2.77768456e+00,  6.40628561e+00,\n",
       "       -6.09441334e+00, -7.90661966e-01,  5.48324616e+00, -4.82001501e+00,\n",
       "       -1.03456740e+00,  6.94568789e+00,  3.59340324e-01, -6.93542728e+00,\n",
       "        4.39274155e+00,  2.40449949e+00,  1.06019292e+00, -4.57445310e+00,\n",
       "       -5.28165327e+00, -3.06100657e-01, -1.27709348e+00,  5.20952918e+00,\n",
       "        5.06002002e+00, -5.85726869e-01, -5.57744586e+00,  5.07554365e+00])"
      ]
     },
     "execution_count": 7,
     "metadata": {},
     "output_type": "execute_result"
    }
   ],
   "source": [
    "n, dim = 500, 1  # number of samples, dimension\n",
    "n_bkps, sigma = 3, 5  # number of change points, noise standard deviation\n",
    "rpt.pw_constant(n, dim, n_bkps, noise_std=sigma)[0].flatten()"
   ]
  },
  {
   "cell_type": "code",
   "execution_count": 4,
   "id": "11e8ec03",
   "metadata": {},
   "outputs": [
    {
     "data": {
      "text/plain": [
       "array([[ 5.97104038],\n",
       "       [11.06564127],\n",
       "       [10.96544683],\n",
       "       [ 4.04531675],\n",
       "       [ 0.74845227],\n",
       "       [11.40047447],\n",
       "       [ 5.79008208],\n",
       "       [-3.33085796],\n",
       "       [ 0.24907088],\n",
       "       [12.37250433],\n",
       "       [ 2.81406155],\n",
       "       [ 2.14767701],\n",
       "       [10.4688779 ],\n",
       "       [ 8.82297347],\n",
       "       [ 7.37284854],\n",
       "       [ 3.49691213],\n",
       "       [ 3.21430637],\n",
       "       [ 4.51280863],\n",
       "       [ 0.49077039],\n",
       "       [ 5.92243911],\n",
       "       [ 6.48017219],\n",
       "       [ 8.75645762],\n",
       "       [ 5.44279274],\n",
       "       [11.76180014],\n",
       "       [ 0.96014415],\n",
       "       [16.4606271 ],\n",
       "       [-0.08395265],\n",
       "       [12.69441133],\n",
       "       [ 4.06485283],\n",
       "       [12.69725566],\n",
       "       [ 9.64909483],\n",
       "       [ 1.39765268],\n",
       "       [ 9.18338509],\n",
       "       [ 8.1611064 ],\n",
       "       [ 5.80190088],\n",
       "       [ 4.85432779],\n",
       "       [ 5.29900827],\n",
       "       [ 8.51673562],\n",
       "       [ 5.33020661],\n",
       "       [ 7.72391365],\n",
       "       [ 5.58560989],\n",
       "       [-1.05822134],\n",
       "       [ 2.31116445],\n",
       "       [ 0.21664374],\n",
       "       [-1.33282095],\n",
       "       [10.16519986],\n",
       "       [ 5.25173526],\n",
       "       [17.21726036],\n",
       "       [ 6.84778726],\n",
       "       [ 4.73257011],\n",
       "       [ 4.19161207],\n",
       "       [ 7.98504682],\n",
       "       [11.90578369],\n",
       "       [ 4.29545791],\n",
       "       [ 5.11336599],\n",
       "       [ 1.72424834],\n",
       "       [15.12419348],\n",
       "       [-0.41358363],\n",
       "       [ 5.96905759],\n",
       "       [ 6.63568734],\n",
       "       [ 6.3066176 ],\n",
       "       [12.76194593],\n",
       "       [-1.58126249],\n",
       "       [12.03238467],\n",
       "       [13.59898529],\n",
       "       [ 5.56284562],\n",
       "       [ 5.28270894],\n",
       "       [-2.9190696 ],\n",
       "       [ 9.78542812],\n",
       "       [12.94870268],\n",
       "       [ 2.55712763],\n",
       "       [ 1.4051754 ],\n",
       "       [ 3.88977581],\n",
       "       [ 8.8036561 ],\n",
       "       [ 6.75766289],\n",
       "       [12.41244372],\n",
       "       [ 1.24285843],\n",
       "       [ 3.95545819],\n",
       "       [ 8.08437803],\n",
       "       [ 8.94158411],\n",
       "       [ 9.03223011],\n",
       "       [ 4.54032898],\n",
       "       [10.37497615],\n",
       "       [-1.18776836],\n",
       "       [-0.80554091],\n",
       "       [ 9.01348657],\n",
       "       [ 8.57173391],\n",
       "       [ 4.64492635],\n",
       "       [-1.87281743],\n",
       "       [ 7.31676678],\n",
       "       [ 8.35251436],\n",
       "       [ 7.98948431],\n",
       "       [-8.14105376],\n",
       "       [ 9.41874421],\n",
       "       [ 7.13666036],\n",
       "       [-0.96466325],\n",
       "       [ 2.85833316],\n",
       "       [ 2.50588182],\n",
       "       [10.22993416],\n",
       "       [ 5.54116649],\n",
       "       [10.80345613],\n",
       "       [ 5.20428221],\n",
       "       [ 1.27933865],\n",
       "       [ 3.06343155],\n",
       "       [12.50995326],\n",
       "       [ 1.26576117],\n",
       "       [ 7.16618382],\n",
       "       [14.34086716],\n",
       "       [10.32537325],\n",
       "       [ 9.57539415],\n",
       "       [ 5.75068773],\n",
       "       [ 1.4252019 ],\n",
       "       [ 9.32756367],\n",
       "       [-1.89613461],\n",
       "       [10.21601673],\n",
       "       [ 5.89811759],\n",
       "       [ 5.94359922],\n",
       "       [-2.40160939],\n",
       "       [13.97785444],\n",
       "       [ 2.20153548],\n",
       "       [10.64152077],\n",
       "       [ 8.199144  ],\n",
       "       [ 3.74076026],\n",
       "       [ 4.93721824],\n",
       "       [ 7.72063753],\n",
       "       [ 1.04215006],\n",
       "       [ 0.95665848],\n",
       "       [ 4.90405841],\n",
       "       [ 3.87818355],\n",
       "       [ 2.01228029],\n",
       "       [ 4.29762859],\n",
       "       [ 4.04531606],\n",
       "       [ 9.84547101],\n",
       "       [ 4.23756628],\n",
       "       [ 2.87640616],\n",
       "       [ 5.92017443],\n",
       "       [19.45624148],\n",
       "       [ 6.76462608],\n",
       "       [ 7.67654171],\n",
       "       [12.99306337],\n",
       "       [14.04772304],\n",
       "       [13.76672015],\n",
       "       [ 8.56774103],\n",
       "       [12.33662651],\n",
       "       [13.56767318],\n",
       "       [ 9.27532828],\n",
       "       [ 4.93323702],\n",
       "       [11.10912649],\n",
       "       [ 4.66858366],\n",
       "       [ 1.21355314],\n",
       "       [ 7.42799568],\n",
       "       [ 4.39765225],\n",
       "       [15.55022708],\n",
       "       [16.59569079],\n",
       "       [ 9.60697446],\n",
       "       [ 7.99609392],\n",
       "       [14.77173496],\n",
       "       [17.71751897],\n",
       "       [ 9.33563252],\n",
       "       [ 5.80605198],\n",
       "       [13.21153652],\n",
       "       [13.08574705],\n",
       "       [10.6398114 ],\n",
       "       [17.63683453],\n",
       "       [ 7.72812164],\n",
       "       [ 6.25264621],\n",
       "       [ 7.51409836],\n",
       "       [14.38595706],\n",
       "       [ 5.59525774],\n",
       "       [10.21873917],\n",
       "       [ 6.23288202],\n",
       "       [ 5.24583154],\n",
       "       [12.49938734],\n",
       "       [17.64603866],\n",
       "       [13.90060359],\n",
       "       [14.4901068 ],\n",
       "       [ 5.6236006 ],\n",
       "       [ 8.04695144],\n",
       "       [ 7.288742  ],\n",
       "       [11.17161175],\n",
       "       [ 8.67463803],\n",
       "       [ 7.96477918],\n",
       "       [13.70650997],\n",
       "       [18.35320091],\n",
       "       [ 6.62912643],\n",
       "       [10.35005337],\n",
       "       [13.26781329],\n",
       "       [ 6.76711944],\n",
       "       [ 3.69158578],\n",
       "       [ 6.95550172],\n",
       "       [11.5833074 ],\n",
       "       [15.13733272],\n",
       "       [ 7.05829363],\n",
       "       [13.21532333],\n",
       "       [ 3.67558783],\n",
       "       [13.69253158],\n",
       "       [ 6.98355999],\n",
       "       [ 9.7880208 ],\n",
       "       [ 3.68145321],\n",
       "       [ 3.79704801],\n",
       "       [ 5.86339078],\n",
       "       [ 1.19847186],\n",
       "       [11.10703712],\n",
       "       [ 0.31710238],\n",
       "       [ 6.23295348],\n",
       "       [ 8.58770315],\n",
       "       [14.8358881 ],\n",
       "       [13.73802654],\n",
       "       [12.46605253],\n",
       "       [ 1.1634193 ],\n",
       "       [ 6.49448772],\n",
       "       [ 6.50227315],\n",
       "       [ 7.38377778],\n",
       "       [11.48723007],\n",
       "       [12.09760113],\n",
       "       [ 6.96802897],\n",
       "       [-3.2276123 ],\n",
       "       [ 9.46168962],\n",
       "       [ 0.73486595],\n",
       "       [10.98619737],\n",
       "       [ 3.5954187 ],\n",
       "       [20.2382738 ],\n",
       "       [ 9.63632959],\n",
       "       [ 6.10458133],\n",
       "       [ 7.64107398],\n",
       "       [ 4.57888178],\n",
       "       [10.40891213],\n",
       "       [19.27957173],\n",
       "       [12.40229571],\n",
       "       [ 5.22784066],\n",
       "       [14.0679489 ],\n",
       "       [ 9.00886195],\n",
       "       [13.83590464],\n",
       "       [19.3264415 ],\n",
       "       [15.65425274],\n",
       "       [ 6.33120224],\n",
       "       [ 9.84690377],\n",
       "       [ 3.35082181],\n",
       "       [17.31816951],\n",
       "       [15.38421134],\n",
       "       [10.47832766],\n",
       "       [ 9.61908369],\n",
       "       [10.21423943],\n",
       "       [ 0.56066671],\n",
       "       [14.25270247],\n",
       "       [11.97304117],\n",
       "       [11.86588735],\n",
       "       [ 8.28019777],\n",
       "       [ 7.726958  ],\n",
       "       [ 8.76286371],\n",
       "       [ 4.76988844],\n",
       "       [16.88661901],\n",
       "       [19.744822  ],\n",
       "       [15.16909453],\n",
       "       [12.63004838],\n",
       "       [22.69963989],\n",
       "       [13.04778819],\n",
       "       [10.19708302],\n",
       "       [19.42807506],\n",
       "       [12.58225505],\n",
       "       [24.88248017],\n",
       "       [17.08571515],\n",
       "       [11.60301286],\n",
       "       [15.17474816],\n",
       "       [14.1738781 ],\n",
       "       [20.83366321],\n",
       "       [14.37393514],\n",
       "       [21.41370014],\n",
       "       [15.96483988],\n",
       "       [21.58730084],\n",
       "       [21.78981582],\n",
       "       [15.58438602],\n",
       "       [14.78435236],\n",
       "       [23.79064641],\n",
       "       [23.19706461],\n",
       "       [12.46865799],\n",
       "       [18.09489092],\n",
       "       [15.01866093],\n",
       "       [11.47068978],\n",
       "       [ 8.38259943],\n",
       "       [21.11951837],\n",
       "       [21.00370691],\n",
       "       [13.59190406],\n",
       "       [12.07569727],\n",
       "       [23.96368649],\n",
       "       [18.5194778 ],\n",
       "       [14.0113147 ],\n",
       "       [18.60835328],\n",
       "       [13.90434211],\n",
       "       [15.69155975],\n",
       "       [17.35857389],\n",
       "       [15.01804556],\n",
       "       [ 9.02212941],\n",
       "       [26.47012258],\n",
       "       [20.13867458],\n",
       "       [ 8.90973542],\n",
       "       [19.73877732],\n",
       "       [28.0627031 ],\n",
       "       [14.31928195],\n",
       "       [ 9.40248896],\n",
       "       [11.41480493],\n",
       "       [ 7.5082671 ],\n",
       "       [15.90887343],\n",
       "       [18.66146198],\n",
       "       [15.05259966],\n",
       "       [22.54448072],\n",
       "       [14.71438001],\n",
       "       [ 7.17062902],\n",
       "       [13.9658182 ],\n",
       "       [25.55678106],\n",
       "       [16.74090938],\n",
       "       [17.75608183],\n",
       "       [17.08933544],\n",
       "       [12.90547944],\n",
       "       [14.42346773],\n",
       "       [19.80010709],\n",
       "       [22.81284972],\n",
       "       [18.9674839 ],\n",
       "       [12.55689224],\n",
       "       [26.2400481 ],\n",
       "       [19.18088504],\n",
       "       [14.98610895],\n",
       "       [14.97689542],\n",
       "       [15.22930374],\n",
       "       [12.21841773],\n",
       "       [14.3887893 ],\n",
       "       [11.55937436],\n",
       "       [14.88790639],\n",
       "       [ 9.75989944],\n",
       "       [20.09369032],\n",
       "       [16.92059122],\n",
       "       [18.32822322],\n",
       "       [ 8.61669206],\n",
       "       [14.88780635],\n",
       "       [19.69756439],\n",
       "       [13.66352135],\n",
       "       [12.43721343],\n",
       "       [19.19312902],\n",
       "       [10.69675732],\n",
       "       [20.9428685 ],\n",
       "       [10.63244948],\n",
       "       [17.9181543 ],\n",
       "       [11.90109571],\n",
       "       [16.10294448],\n",
       "       [13.19079498],\n",
       "       [21.30781765],\n",
       "       [18.34205347],\n",
       "       [11.27042824],\n",
       "       [14.83510925],\n",
       "       [17.96759151],\n",
       "       [16.08667009],\n",
       "       [17.55559787],\n",
       "       [25.10002505],\n",
       "       [14.46876097],\n",
       "       [13.15034822],\n",
       "       [14.52758466],\n",
       "       [23.51696945],\n",
       "       [22.55813774],\n",
       "       [12.67106406],\n",
       "       [16.03728841],\n",
       "       [14.78974622],\n",
       "       [ 8.82518051],\n",
       "       [18.16849522],\n",
       "       [20.24958483],\n",
       "       [12.76242682],\n",
       "       [13.83035841],\n",
       "       [16.92679344],\n",
       "       [19.95826341],\n",
       "       [11.47213833],\n",
       "       [21.41511093],\n",
       "       [15.98466004],\n",
       "       [13.63981321],\n",
       "       [18.90804316],\n",
       "       [27.56790601],\n",
       "       [11.07919024],\n",
       "       [26.1090326 ],\n",
       "       [20.21749001],\n",
       "       [ 3.61291294],\n",
       "       [ 6.65760242],\n",
       "       [ 7.73201728],\n",
       "       [11.11983319],\n",
       "       [16.12405485],\n",
       "       [ 3.69673569],\n",
       "       [10.1008264 ],\n",
       "       [ 1.789726  ],\n",
       "       [ 5.13432636],\n",
       "       [ 9.1960197 ],\n",
       "       [ 8.89213334],\n",
       "       [ 7.70788364],\n",
       "       [ 6.06766104],\n",
       "       [ 2.87307497],\n",
       "       [ 7.92640452],\n",
       "       [ 9.94265445],\n",
       "       [ 8.73602913],\n",
       "       [ 9.65360394],\n",
       "       [11.29116568],\n",
       "       [ 2.26640091],\n",
       "       [ 5.8012058 ],\n",
       "       [ 7.64354695],\n",
       "       [ 6.52009835],\n",
       "       [ 9.5400361 ],\n",
       "       [ 8.39721824],\n",
       "       [18.10104842],\n",
       "       [ 7.55892577],\n",
       "       [ 7.89936973],\n",
       "       [ 7.5362866 ],\n",
       "       [ 7.96953382],\n",
       "       [20.08363451],\n",
       "       [12.47705307],\n",
       "       [ 2.88178265],\n",
       "       [11.58552359],\n",
       "       [ 5.47761155],\n",
       "       [10.42431759],\n",
       "       [ 2.95257291],\n",
       "       [ 0.28808934],\n",
       "       [12.01562619],\n",
       "       [ 7.18848226],\n",
       "       [-3.10473314],\n",
       "       [ 2.65205197],\n",
       "       [12.40925314],\n",
       "       [ 7.0477588 ],\n",
       "       [ 7.78585369],\n",
       "       [ 6.07598399],\n",
       "       [15.63897141],\n",
       "       [14.56554495],\n",
       "       [-0.82349545],\n",
       "       [ 4.71208063],\n",
       "       [ 3.75934109],\n",
       "       [-1.29129955],\n",
       "       [10.1019999 ],\n",
       "       [ 8.34898843],\n",
       "       [15.74685426],\n",
       "       [ 4.22306497],\n",
       "       [14.01745888],\n",
       "       [ 7.88019071],\n",
       "       [10.29879359],\n",
       "       [13.07103168],\n",
       "       [ 9.68696055],\n",
       "       [ 6.38833978],\n",
       "       [-0.75173681],\n",
       "       [10.84685781],\n",
       "       [12.47196222],\n",
       "       [12.87933053],\n",
       "       [ 5.63924214],\n",
       "       [ 1.92068415],\n",
       "       [ 8.34993306],\n",
       "       [12.12550152],\n",
       "       [ 6.39314478],\n",
       "       [11.85835534],\n",
       "       [-1.47782681],\n",
       "       [12.44993464],\n",
       "       [ 6.16117386],\n",
       "       [14.17352444],\n",
       "       [15.04484306],\n",
       "       [ 4.17342678],\n",
       "       [11.16390557],\n",
       "       [ 9.77992491],\n",
       "       [ 8.46966037],\n",
       "       [15.07149504],\n",
       "       [12.39666983],\n",
       "       [ 8.06931939],\n",
       "       [ 7.56703656],\n",
       "       [15.29471347],\n",
       "       [ 9.56243999],\n",
       "       [12.99057566],\n",
       "       [17.66713105],\n",
       "       [14.1165775 ],\n",
       "       [ 5.80824467],\n",
       "       [ 8.72081182],\n",
       "       [ 3.88059162],\n",
       "       [ 4.92826546],\n",
       "       [ 5.22280413],\n",
       "       [ 6.93878841],\n",
       "       [24.70287962],\n",
       "       [ 6.37593227],\n",
       "       [12.0908011 ],\n",
       "       [ 9.43236078],\n",
       "       [ 5.7039854 ],\n",
       "       [15.17364183],\n",
       "       [ 9.01874901],\n",
       "       [ 5.26334799],\n",
       "       [ 9.84150574],\n",
       "       [10.43559504],\n",
       "       [ 2.33272474],\n",
       "       [ 4.24728387],\n",
       "       [11.02527209],\n",
       "       [ 4.82537648],\n",
       "       [10.54818844],\n",
       "       [15.20348384],\n",
       "       [15.48717996],\n",
       "       [ 4.56426459],\n",
       "       [ 8.99086285],\n",
       "       [ 6.89398908],\n",
       "       [ 6.00046283],\n",
       "       [17.11507737],\n",
       "       [ 8.92647244],\n",
       "       [ 8.64188885],\n",
       "       [ 4.89104182],\n",
       "       [ 4.36523342],\n",
       "       [11.53824801]])"
      ]
     },
     "execution_count": 4,
     "metadata": {},
     "output_type": "execute_result"
    }
   ],
   "source": [
    "signal"
   ]
  },
  {
   "cell_type": "code",
   "execution_count": 9,
   "id": "423a338e",
   "metadata": {},
   "outputs": [
    {
     "name": "stdout",
     "output_type": "stream",
     "text": [
      "<class 'numba.experimental.jitclass.base.L1Cost'>\n"
     ]
    },
    {
     "ename": "TypingError",
     "evalue": "Failed in nopython mode pipeline (step: nopython frontend)\n\u001b[1m\u001b[1m\u001b[1m\u001b[1m- Resolution failure for literal arguments:\n\u001b[1mFailed in nopython mode pipeline (step: nopython frontend)\nInternal error at <numba.core.typeinfer.CallConstraint object at 0x000001BEB3F5B880>.\n\u001b[1m\u001b[1m\u001b[1mtoo many positional arguments\u001b[0m\n\u001b[0m\u001b[1mDuring: resolving callee type: type(CPUDispatcher(<function _l1_cost at 0x000001BEA588F940>))\u001b[0m\n\u001b[0m\u001b[1mDuring: typing of call at C:\\Users\\jgursky\\Documents\\GitHub\\pychange\\pychange\\costs.py (22)\n\u001b[0m\nEnable logging at debug level for details.\n\u001b[1m\nFile \"pychange\\costs.py\", line 22:\u001b[0m\n\u001b[1m    def cost(self, start, end):\n\u001b[1m        return _l1_cost(self.y[start: end], start, end)\n\u001b[0m        \u001b[1m^\u001b[0m\u001b[0m\n\u001b[0m\n\u001b[0m\u001b[1m- Resolution failure for non-literal arguments:\n\u001b[1mFailed in nopython mode pipeline (step: nopython frontend)\nInternal error at <numba.core.typeinfer.CallConstraint object at 0x000001BEB4095160>.\n\u001b[1m\u001b[1m\u001b[1mtoo many positional arguments\u001b[0m\n\u001b[0m\u001b[1mDuring: resolving callee type: type(CPUDispatcher(<function _l1_cost at 0x000001BEA588F940>))\u001b[0m\n\u001b[0m\u001b[1mDuring: typing of call at C:\\Users\\jgursky\\Documents\\GitHub\\pychange\\pychange\\costs.py (22)\n\u001b[0m\nEnable logging at debug level for details.\n\u001b[1m\nFile \"pychange\\costs.py\", line 22:\u001b[0m\n\u001b[1m    def cost(self, start, end):\n\u001b[1m        return _l1_cost(self.y[start: end], start, end)\n\u001b[0m        \u001b[1m^\u001b[0m\u001b[0m\n\u001b[0m\n\u001b[0m\u001b[0m\n\u001b[0m\u001b[1mDuring: resolving callee type: BoundFunction((<class 'numba.core.types.misc.ClassInstanceType'>, 'cost') for instance.jitclass.L1Cost#1bea570fdc0<n:int64,mbic:bool,y:array(float64, 1d, A)>)\u001b[0m\n\u001b[0m\u001b[1mDuring: typing of call at C:\\Users\\jgursky\\Documents\\GitHub\\pychange\\pychange\\segment.py (13)\n\u001b[0m\n\u001b[1m\nFile \"pychange\\segment.py\", line 13:\u001b[0m\n\u001b[1mdef amoc_segment(cost, min_len, penalty, mbic):\n    <source elided>\n    for i in nb.prange(min_len, n - min_len):\n\u001b[1m        pre_cost = cost.cost(0, i) + penalty\n\u001b[0m        \u001b[1m^\u001b[0m\u001b[0m\n",
     "output_type": "error",
     "traceback": [
      "\u001b[1;31m---------------------------------------------------------------------------\u001b[0m",
      "\u001b[1;31mTypingError\u001b[0m                               Traceback (most recent call last)",
      "\u001b[1;32m~\\AppData\\Local\\Temp/ipykernel_11352/1468658131.py\u001b[0m in \u001b[0;36m<module>\u001b[1;34m\u001b[0m\n\u001b[0;32m     18\u001b[0m \u001b[1;32mfor\u001b[0m \u001b[0mi\u001b[0m \u001b[1;32min\u001b[0m \u001b[0mtest_classes\u001b[0m\u001b[1;33m:\u001b[0m\u001b[1;33m\u001b[0m\u001b[1;33m\u001b[0m\u001b[0m\n\u001b[0;32m     19\u001b[0m     \u001b[0mprint\u001b[0m\u001b[1;33m(\u001b[0m\u001b[0mi\u001b[0m\u001b[1;33m)\u001b[0m\u001b[1;33m\u001b[0m\u001b[1;33m\u001b[0m\u001b[0m\n\u001b[1;32m---> 20\u001b[1;33m     \u001b[0mprint\u001b[0m\u001b[1;33m(\u001b[0m\u001b[0mamoc_segment\u001b[0m\u001b[1;33m(\u001b[0m\u001b[0mi\u001b[0m\u001b[1;33m(\u001b[0m\u001b[1;33m)\u001b[0m\u001b[1;33m.\u001b[0m\u001b[0mfit\u001b[0m\u001b[1;33m(\u001b[0m\u001b[0mx\u001b[0m\u001b[1;33m)\u001b[0m\u001b[1;33m,\u001b[0m \u001b[0mmin_len\u001b[0m\u001b[1;33m,\u001b[0m \u001b[0mpen\u001b[0m\u001b[1;33m,\u001b[0m \u001b[1;32mTrue\u001b[0m\u001b[1;33m)\u001b[0m\u001b[1;33m)\u001b[0m\u001b[1;33m\u001b[0m\u001b[1;33m\u001b[0m\u001b[0m\n\u001b[0m\u001b[0;32m     21\u001b[0m     \u001b[0mprint\u001b[0m\u001b[1;33m(\u001b[0m\u001b[0mamoc_segment\u001b[0m\u001b[1;33m(\u001b[0m\u001b[0mi\u001b[0m\u001b[1;33m(\u001b[0m\u001b[1;33m)\u001b[0m\u001b[1;33m.\u001b[0m\u001b[0mfit\u001b[0m\u001b[1;33m(\u001b[0m\u001b[0mx\u001b[0m\u001b[1;33m)\u001b[0m\u001b[1;33m,\u001b[0m \u001b[0mmin_len\u001b[0m\u001b[1;33m,\u001b[0m \u001b[0mpen\u001b[0m\u001b[1;33m,\u001b[0m \u001b[1;32mTrue\u001b[0m\u001b[1;33m)\u001b[0m\u001b[1;33m)\u001b[0m\u001b[1;33m\u001b[0m\u001b[1;33m\u001b[0m\u001b[0m\n",
      "\u001b[1;32m~\\Anaconda3\\envs\\pychange\\lib\\site-packages\\numba\\core\\dispatcher.py\u001b[0m in \u001b[0;36m_compile_for_args\u001b[1;34m(self, *args, **kws)\u001b[0m\n\u001b[0;32m    418\u001b[0m                 \u001b[0me\u001b[0m\u001b[1;33m.\u001b[0m\u001b[0mpatch_message\u001b[0m\u001b[1;33m(\u001b[0m\u001b[0mmsg\u001b[0m\u001b[1;33m)\u001b[0m\u001b[1;33m\u001b[0m\u001b[1;33m\u001b[0m\u001b[0m\n\u001b[0;32m    419\u001b[0m \u001b[1;33m\u001b[0m\u001b[0m\n\u001b[1;32m--> 420\u001b[1;33m             \u001b[0merror_rewrite\u001b[0m\u001b[1;33m(\u001b[0m\u001b[0me\u001b[0m\u001b[1;33m,\u001b[0m \u001b[1;34m'typing'\u001b[0m\u001b[1;33m)\u001b[0m\u001b[1;33m\u001b[0m\u001b[1;33m\u001b[0m\u001b[0m\n\u001b[0m\u001b[0;32m    421\u001b[0m         \u001b[1;32mexcept\u001b[0m \u001b[0merrors\u001b[0m\u001b[1;33m.\u001b[0m\u001b[0mUnsupportedError\u001b[0m \u001b[1;32mas\u001b[0m \u001b[0me\u001b[0m\u001b[1;33m:\u001b[0m\u001b[1;33m\u001b[0m\u001b[1;33m\u001b[0m\u001b[0m\n\u001b[0;32m    422\u001b[0m             \u001b[1;31m# Something unsupported is present in the user code, add help info\u001b[0m\u001b[1;33m\u001b[0m\u001b[1;33m\u001b[0m\u001b[1;33m\u001b[0m\u001b[0m\n",
      "\u001b[1;32m~\\Anaconda3\\envs\\pychange\\lib\\site-packages\\numba\\core\\dispatcher.py\u001b[0m in \u001b[0;36merror_rewrite\u001b[1;34m(e, issue_type)\u001b[0m\n\u001b[0;32m    359\u001b[0m                 \u001b[1;32mraise\u001b[0m \u001b[0me\u001b[0m\u001b[1;33m\u001b[0m\u001b[1;33m\u001b[0m\u001b[0m\n\u001b[0;32m    360\u001b[0m             \u001b[1;32melse\u001b[0m\u001b[1;33m:\u001b[0m\u001b[1;33m\u001b[0m\u001b[1;33m\u001b[0m\u001b[0m\n\u001b[1;32m--> 361\u001b[1;33m                 \u001b[1;32mraise\u001b[0m \u001b[0me\u001b[0m\u001b[1;33m.\u001b[0m\u001b[0mwith_traceback\u001b[0m\u001b[1;33m(\u001b[0m\u001b[1;32mNone\u001b[0m\u001b[1;33m)\u001b[0m\u001b[1;33m\u001b[0m\u001b[1;33m\u001b[0m\u001b[0m\n\u001b[0m\u001b[0;32m    362\u001b[0m \u001b[1;33m\u001b[0m\u001b[0m\n\u001b[0;32m    363\u001b[0m         \u001b[0margtypes\u001b[0m \u001b[1;33m=\u001b[0m \u001b[1;33m[\u001b[0m\u001b[1;33m]\u001b[0m\u001b[1;33m\u001b[0m\u001b[1;33m\u001b[0m\u001b[0m\n",
      "\u001b[1;31mTypingError\u001b[0m: Failed in nopython mode pipeline (step: nopython frontend)\n\u001b[1m\u001b[1m\u001b[1m\u001b[1m- Resolution failure for literal arguments:\n\u001b[1mFailed in nopython mode pipeline (step: nopython frontend)\nInternal error at <numba.core.typeinfer.CallConstraint object at 0x000001BEB3F5B880>.\n\u001b[1m\u001b[1m\u001b[1mtoo many positional arguments\u001b[0m\n\u001b[0m\u001b[1mDuring: resolving callee type: type(CPUDispatcher(<function _l1_cost at 0x000001BEA588F940>))\u001b[0m\n\u001b[0m\u001b[1mDuring: typing of call at C:\\Users\\jgursky\\Documents\\GitHub\\pychange\\pychange\\costs.py (22)\n\u001b[0m\nEnable logging at debug level for details.\n\u001b[1m\nFile \"pychange\\costs.py\", line 22:\u001b[0m\n\u001b[1m    def cost(self, start, end):\n\u001b[1m        return _l1_cost(self.y[start: end], start, end)\n\u001b[0m        \u001b[1m^\u001b[0m\u001b[0m\n\u001b[0m\n\u001b[0m\u001b[1m- Resolution failure for non-literal arguments:\n\u001b[1mFailed in nopython mode pipeline (step: nopython frontend)\nInternal error at <numba.core.typeinfer.CallConstraint object at 0x000001BEB4095160>.\n\u001b[1m\u001b[1m\u001b[1mtoo many positional arguments\u001b[0m\n\u001b[0m\u001b[1mDuring: resolving callee type: type(CPUDispatcher(<function _l1_cost at 0x000001BEA588F940>))\u001b[0m\n\u001b[0m\u001b[1mDuring: typing of call at C:\\Users\\jgursky\\Documents\\GitHub\\pychange\\pychange\\costs.py (22)\n\u001b[0m\nEnable logging at debug level for details.\n\u001b[1m\nFile \"pychange\\costs.py\", line 22:\u001b[0m\n\u001b[1m    def cost(self, start, end):\n\u001b[1m        return _l1_cost(self.y[start: end], start, end)\n\u001b[0m        \u001b[1m^\u001b[0m\u001b[0m\n\u001b[0m\n\u001b[0m\u001b[0m\n\u001b[0m\u001b[1mDuring: resolving callee type: BoundFunction((<class 'numba.core.types.misc.ClassInstanceType'>, 'cost') for instance.jitclass.L1Cost#1bea570fdc0<n:int64,mbic:bool,y:array(float64, 1d, A)>)\u001b[0m\n\u001b[0m\u001b[1mDuring: typing of call at C:\\Users\\jgursky\\Documents\\GitHub\\pychange\\pychange\\segment.py (13)\n\u001b[0m\n\u001b[1m\nFile \"pychange\\segment.py\", line 13:\u001b[0m\n\u001b[1mdef amoc_segment(cost, min_len, penalty, mbic):\n    <source elided>\n    for i in nb.prange(min_len, n - min_len):\n\u001b[1m        pre_cost = cost.cost(0, i) + penalty\n\u001b[0m        \u001b[1m^\u001b[0m\u001b[0m\n"
     ]
    }
   ],
   "source": [
    "# MBIC testing\n",
    "x = np.hstack([np.random.poisson(2, (sm_size,)),\n",
    "                         np.random.poisson(6, (sm_size,)),\n",
    "                         np.random.poisson(10, (sm_size,)),\n",
    "                         np.random.poisson(4, (sm_size,)),\n",
    "                         np.random.poisson(3, (sm_size,)),\n",
    "                         ]) + 1\n",
    "x = x.astype(np.float64)\n",
    "test_classes = [L1Cost,\n",
    "                L2Cost,\n",
    "                NormalMeanCost,\n",
    "                NormalVarCost,\n",
    "                NormalMeanVarCost,\n",
    "                PoissonMeanVarCost,\n",
    "                ExponentialMeanVarCost,\n",
    "                GammaMeanVarCost,\n",
    "                EmpiricalCost]\n",
    "for i in test_classes:\n",
    "    print(i)\n",
    "    print(amoc_segment(i().fit(x), min_len, pen, True))\n",
    "    print(amoc_segment(i().fit(x), min_len, pen, True))"
   ]
  },
  {
   "cell_type": "markdown",
   "id": "1227debc",
   "metadata": {},
   "source": [
    "# AMOC"
   ]
  },
  {
   "cell_type": "markdown",
   "id": "f5e7c15d",
   "metadata": {},
   "source": [
    "## Normal Mean"
   ]
  },
  {
   "cell_type": "code",
   "execution_count": 3,
   "id": "919a68b0",
   "metadata": {},
   "outputs": [
    {
     "data": {
      "text/plain": [
       "6000"
      ]
     },
     "execution_count": 3,
     "metadata": {},
     "output_type": "execute_result"
    }
   ],
   "source": [
    "# Normal mean\n",
    "amoc_segment(NormalMeanCost().fit(test_series), min_len, pen)"
   ]
  },
  {
   "cell_type": "code",
   "execution_count": 5,
   "id": "eb4de91f",
   "metadata": {},
   "outputs": [
    {
     "data": {
      "text/plain": [
       "6003"
      ]
     },
     "execution_count": 5,
     "metadata": {},
     "output_type": "execute_result"
    }
   ],
   "source": [
    "# Normal mean\n",
    "amoc_segment_parallel(NormalMeanCost().fit(test_series), min_len, pen)"
   ]
  },
  {
   "cell_type": "code",
   "execution_count": 6,
   "id": "ddd985ad",
   "metadata": {},
   "outputs": [
    {
     "data": {
      "text/plain": [
       "array([6003.])"
      ]
     },
     "execution_count": 6,
     "metadata": {},
     "output_type": "execute_result"
    }
   ],
   "source": [
    "ROfflineChangepoint('mean', penalty='Manual', pen_value=pen, method='AMOC', minseglen=min_len).fit(test_series).predict()"
   ]
  },
  {
   "cell_type": "code",
   "execution_count": 7,
   "id": "36cf5e16",
   "metadata": {},
   "outputs": [
    {
     "name": "stdout",
     "output_type": "stream",
     "text": [
      "2.22 ms ± 146 µs per loop (mean ± std. dev. of 7 runs, 100 loops each)\n"
     ]
    }
   ],
   "source": [
    "# Pychange Timing\n",
    "%timeit amoc_segment(NormalMeanCost().fit(test_series), min_len, pen)"
   ]
  },
  {
   "cell_type": "code",
   "execution_count": 8,
   "id": "fb926dfd",
   "metadata": {},
   "outputs": [
    {
     "name": "stdout",
     "output_type": "stream",
     "text": [
      "12.6 ms ± 445 µs per loop (mean ± std. dev. of 7 runs, 100 loops each)\n"
     ]
    }
   ],
   "source": [
    "# R timing\n",
    "%timeit ROfflineChangepoint('mean', penalty='Manual', pen_value=pen, method='AMOC', test_stat=\"Normal\", minseglen=min_len).fit(test_series).predict()"
   ]
  },
  {
   "cell_type": "code",
   "execution_count": 9,
   "id": "cbc07194",
   "metadata": {},
   "outputs": [
    {
     "name": "stdout",
     "output_type": "stream",
     "text": [
      "658 µs ± 45.1 µs per loop (mean ± std. dev. of 7 runs, 1000 loops each)\n"
     ]
    }
   ],
   "source": [
    "# Pychange Timing\n",
    "%timeit amoc_segment_parallel(NormalMeanCost().fit(test_series), min_len, pen)"
   ]
  },
  {
   "cell_type": "markdown",
   "id": "db6e1e24",
   "metadata": {},
   "source": [
    "## Normal Var"
   ]
  },
  {
   "cell_type": "code",
   "execution_count": 27,
   "id": "f172c294",
   "metadata": {},
   "outputs": [
    {
     "data": {
      "text/plain": [
       "10000"
      ]
     },
     "execution_count": 27,
     "metadata": {},
     "output_type": "execute_result"
    }
   ],
   "source": [
    "# Normal mean\n",
    "amoc_segment(NormalVarCost().fit(test_series), min_len, pen)"
   ]
  },
  {
   "cell_type": "code",
   "execution_count": 28,
   "id": "0920ae17",
   "metadata": {},
   "outputs": [
    {
     "data": {
      "text/plain": [
       "array([10000.])"
      ]
     },
     "execution_count": 28,
     "metadata": {},
     "output_type": "execute_result"
    }
   ],
   "source": [
    "ROfflineChangepoint('var', penalty='Manual', pen_value=pen, method='AMOC', minseglen=min_len).fit(test_series).predict()"
   ]
  },
  {
   "cell_type": "code",
   "execution_count": 29,
   "id": "3fca3c59",
   "metadata": {},
   "outputs": [
    {
     "name": "stdout",
     "output_type": "stream",
     "text": [
      "22.9 ms ± 132 µs per loop (mean ± std. dev. of 7 runs, 10 loops each)\n"
     ]
    }
   ],
   "source": [
    "# Pychange Timing\n",
    "%timeit amoc_segment(NormalVarCost().fit(test_series), min_len, pen)"
   ]
  },
  {
   "cell_type": "code",
   "execution_count": 30,
   "id": "94c8f679",
   "metadata": {},
   "outputs": [
    {
     "name": "stdout",
     "output_type": "stream",
     "text": [
      "48.4 ms ± 1.55 ms per loop (mean ± std. dev. of 7 runs, 10 loops each)\n"
     ]
    }
   ],
   "source": [
    "# R timing\n",
    "%timeit ROfflineChangepoint('var', penalty='Manual', pen_value=pen, method='AMOC', test_stat=\"Normal\", minseglen=min_len).fit(test_series).predict()"
   ]
  },
  {
   "cell_type": "markdown",
   "id": "509dcd87",
   "metadata": {},
   "source": [
    "## Normal Mean+Var"
   ]
  },
  {
   "cell_type": "code",
   "execution_count": 10,
   "id": "410efd38",
   "metadata": {},
   "outputs": [
    {
     "data": {
      "text/plain": [
       "117000"
      ]
     },
     "execution_count": 10,
     "metadata": {},
     "output_type": "execute_result"
    }
   ],
   "source": [
    "# Normal mean\n",
    "amoc_segment(NormalMeanVarCost().fit(test_series), min_len, pen)"
   ]
  },
  {
   "cell_type": "code",
   "execution_count": 11,
   "id": "d9a1c804",
   "metadata": {},
   "outputs": [
    {
     "data": {
      "text/plain": [
       "array([117000.])"
      ]
     },
     "execution_count": 11,
     "metadata": {},
     "output_type": "execute_result"
    }
   ],
   "source": [
    "ROfflineChangepoint('meanvar', penalty='Manual', pen_value=pen, method='AMOC', minseglen=min_len).fit(test_series).predict()"
   ]
  },
  {
   "cell_type": "code",
   "execution_count": 13,
   "id": "2c22c688",
   "metadata": {},
   "outputs": [
    {
     "data": {
      "text/plain": [
       "117000"
      ]
     },
     "execution_count": 13,
     "metadata": {},
     "output_type": "execute_result"
    }
   ],
   "source": [
    "# Normal mean\n",
    "amoc_segment_parallel(NormalMeanVarCostFast().fit(test_series), min_len, pen)"
   ]
  },
  {
   "cell_type": "code",
   "execution_count": 14,
   "id": "1cd3bcaf",
   "metadata": {},
   "outputs": [
    {
     "name": "stdout",
     "output_type": "stream",
     "text": [
      "3.88 ms ± 79.1 µs per loop (mean ± std. dev. of 7 runs, 100 loops each)\n"
     ]
    }
   ],
   "source": [
    "# Pychange Timing\n",
    "%timeit amoc_segment(NormalMeanVarCost().fit(test_series), min_len, pen)"
   ]
  },
  {
   "cell_type": "code",
   "execution_count": 15,
   "id": "d636ad28",
   "metadata": {},
   "outputs": [
    {
     "name": "stdout",
     "output_type": "stream",
     "text": [
      "23 ms ± 680 µs per loop (mean ± std. dev. of 7 runs, 10 loops each)\n"
     ]
    }
   ],
   "source": [
    "# R timing\n",
    "%timeit ROfflineChangepoint('meanvar', penalty='Manual', pen_value=pen, method='AMOC', test_stat=\"Normal\", minseglen=min_len).fit(test_series).predict()"
   ]
  },
  {
   "cell_type": "code",
   "execution_count": 16,
   "id": "2d8de128",
   "metadata": {},
   "outputs": [
    {
     "name": "stdout",
     "output_type": "stream",
     "text": [
      "1.21 ms ± 37.6 µs per loop (mean ± std. dev. of 7 runs, 1000 loops each)\n"
     ]
    }
   ],
   "source": [
    "%timeit amoc_segment_parallel(NormalMeanVarCostFast().fit(test_series), min_len, pen)"
   ]
  },
  {
   "cell_type": "markdown",
   "id": "eaeaf881",
   "metadata": {},
   "source": [
    "## Poisson Mean+Var"
   ]
  },
  {
   "cell_type": "code",
   "execution_count": 35,
   "id": "a45d9122",
   "metadata": {},
   "outputs": [
    {
     "data": {
      "text/plain": [
       "10000"
      ]
     },
     "execution_count": 35,
     "metadata": {},
     "output_type": "execute_result"
    }
   ],
   "source": [
    "# Normal mean\n",
    "amoc_segment(PoissonMeanVarCost().fit(p_test_series), min_len, pen)"
   ]
  },
  {
   "cell_type": "code",
   "execution_count": 36,
   "id": "140ff31b",
   "metadata": {},
   "outputs": [
    {
     "data": {
      "text/plain": [
       "array([10000.])"
      ]
     },
     "execution_count": 36,
     "metadata": {},
     "output_type": "execute_result"
    }
   ],
   "source": [
    "ROfflineChangepoint('meanvar', penalty='Manual', pen_value=pen, method='AMOC', test_stat=\"Poisson\", minseglen=min_len).fit(p_test_series).predict()"
   ]
  },
  {
   "cell_type": "code",
   "execution_count": 37,
   "id": "1b908ca0",
   "metadata": {},
   "outputs": [
    {
     "name": "stdout",
     "output_type": "stream",
     "text": [
      "12 ms ± 24.7 µs per loop (mean ± std. dev. of 7 runs, 100 loops each)\n"
     ]
    }
   ],
   "source": [
    "# Pychange Timing\n",
    "%timeit amoc_segment(PoissonMeanVarCost().fit(p_test_series), min_len, pen)"
   ]
  },
  {
   "cell_type": "code",
   "execution_count": 38,
   "id": "fcd9c7bf",
   "metadata": {},
   "outputs": [
    {
     "name": "stdout",
     "output_type": "stream",
     "text": [
      "262 ms ± 6.67 ms per loop (mean ± std. dev. of 7 runs, 1 loop each)\n"
     ]
    }
   ],
   "source": [
    "# R timing\n",
    "%timeit ROfflineChangepoint('meanvar', penalty='Manual', pen_value=pen, method='AMOC', test_stat=\"Poisson\", minseglen=min_len).fit(p_test_series).predict()"
   ]
  },
  {
   "cell_type": "markdown",
   "id": "e7dc631c",
   "metadata": {},
   "source": [
    "## Exponential"
   ]
  },
  {
   "cell_type": "code",
   "execution_count": 3,
   "id": "08978b25",
   "metadata": {},
   "outputs": [
    {
     "data": {
      "text/plain": [
       "10000"
      ]
     },
     "execution_count": 3,
     "metadata": {},
     "output_type": "execute_result"
    }
   ],
   "source": [
    "amoc_segment(ExponentialMeanVarCost().fit(p_test_series), min_len, pen)"
   ]
  },
  {
   "cell_type": "code",
   "execution_count": 4,
   "id": "e76b85ab",
   "metadata": {},
   "outputs": [
    {
     "data": {
      "text/plain": [
       "array([10000.])"
      ]
     },
     "execution_count": 4,
     "metadata": {},
     "output_type": "execute_result"
    }
   ],
   "source": [
    "ROfflineChangepoint('meanvar', penalty='Manual', pen_value=pen, method='AMOC', test_stat=\"Exponential\", minseglen=min_len).fit(p_test_series).predict()"
   ]
  },
  {
   "cell_type": "code",
   "execution_count": 5,
   "id": "cbe97125",
   "metadata": {},
   "outputs": [
    {
     "name": "stdout",
     "output_type": "stream",
     "text": [
      "11.5 ms ± 75.7 µs per loop (mean ± std. dev. of 7 runs, 100 loops each)\n"
     ]
    }
   ],
   "source": [
    "%timeit amoc_segment(ExponentialMeanVarCost().fit(p_test_series), min_len, pen)"
   ]
  },
  {
   "cell_type": "code",
   "execution_count": 6,
   "id": "20195a18",
   "metadata": {},
   "outputs": [
    {
     "name": "stdout",
     "output_type": "stream",
     "text": [
      "254 ms ± 6 ms per loop (mean ± std. dev. of 7 runs, 1 loop each)\n"
     ]
    }
   ],
   "source": [
    "%timeit ROfflineChangepoint('meanvar', penalty='Manual', pen_value=pen, method='AMOC', test_stat=\"Exponential\", minseglen=min_len).fit(p_test_series).predict()"
   ]
  },
  {
   "cell_type": "markdown",
   "id": "c6db48fc",
   "metadata": {},
   "source": [
    "## Gamma"
   ]
  },
  {
   "cell_type": "code",
   "execution_count": 3,
   "id": "d5db2e6e",
   "metadata": {},
   "outputs": [
    {
     "data": {
      "text/plain": [
       "10000"
      ]
     },
     "execution_count": 3,
     "metadata": {},
     "output_type": "execute_result"
    }
   ],
   "source": [
    "amoc_segment(GammaMeanVarCost().fit(g_test_series), min_len, pen)"
   ]
  },
  {
   "cell_type": "code",
   "execution_count": 4,
   "id": "3b3713cc",
   "metadata": {},
   "outputs": [
    {
     "data": {
      "text/plain": [
       "array([10000.])"
      ]
     },
     "execution_count": 4,
     "metadata": {},
     "output_type": "execute_result"
    }
   ],
   "source": [
    "ROfflineChangepoint('meanvar', penalty='Manual', pen_value=pen, method='AMOC', test_stat=\"Gamma\", minseglen=min_len).fit(g_test_series).predict()"
   ]
  },
  {
   "cell_type": "code",
   "execution_count": 5,
   "id": "2276a24c",
   "metadata": {},
   "outputs": [
    {
     "name": "stdout",
     "output_type": "stream",
     "text": [
      "11.4 ms ± 44.7 µs per loop (mean ± std. dev. of 7 runs, 100 loops each)\n"
     ]
    }
   ],
   "source": [
    "%timeit amoc_segment(GammaMeanVarCost().fit(g_test_series), min_len, pen)"
   ]
  },
  {
   "cell_type": "code",
   "execution_count": 6,
   "id": "48a5be30",
   "metadata": {},
   "outputs": [
    {
     "name": "stdout",
     "output_type": "stream",
     "text": [
      "246 ms ± 8.35 ms per loop (mean ± std. dev. of 7 runs, 1 loop each)\n"
     ]
    }
   ],
   "source": [
    "%timeit ROfflineChangepoint('meanvar', penalty='Manual', pen_value=pen, method='AMOC', test_stat=\"Gamma\", minseglen=min_len).fit(g_test_series).predict()"
   ]
  },
  {
   "cell_type": "markdown",
   "id": "538ed00c",
   "metadata": {},
   "source": [
    "## Nonparametric"
   ]
  },
  {
   "cell_type": "code",
   "execution_count": 17,
   "id": "a13b3604",
   "metadata": {},
   "outputs": [
    {
     "data": {
      "text/plain": [
       "6003"
      ]
     },
     "execution_count": 17,
     "metadata": {},
     "output_type": "execute_result"
    }
   ],
   "source": [
    "# Normal mean\n",
    "amoc_segment(NonParametricCost(k).fit(test_series), min_len, pen)"
   ]
  },
  {
   "cell_type": "code",
   "execution_count": 18,
   "id": "e7cf7c3c",
   "metadata": {},
   "outputs": [
    {
     "name": "stdout",
     "output_type": "stream",
     "text": [
      "117 ms ± 1.72 ms per loop (mean ± std. dev. of 7 runs, 10 loops each)\n"
     ]
    }
   ],
   "source": [
    "# Pychange Timing\n",
    "%timeit amoc_segment(NonParametricCost(k).fit(test_series), min_len, pen)"
   ]
  },
  {
   "cell_type": "code",
   "execution_count": 20,
   "id": "0f59d738",
   "metadata": {},
   "outputs": [
    {
     "data": {
      "text/plain": [
       "6003"
      ]
     },
     "execution_count": 20,
     "metadata": {},
     "output_type": "execute_result"
    }
   ],
   "source": [
    "# Normal mean\n",
    "amoc_segment_parallel(NonParametricCost(k).fit(test_series), min_len, pen)"
   ]
  },
  {
   "cell_type": "code",
   "execution_count": 21,
   "id": "465fe05c",
   "metadata": {},
   "outputs": [
    {
     "name": "stdout",
     "output_type": "stream",
     "text": [
      "54.2 ms ± 1.26 ms per loop (mean ± std. dev. of 7 runs, 10 loops each)\n"
     ]
    }
   ],
   "source": [
    "# Pychange Timing\n",
    "%timeit amoc_segment_parallel(NonParametricCost(k).fit(test_series), min_len, pen)"
   ]
  },
  {
   "cell_type": "code",
   "execution_count": 22,
   "id": "f90a2a1a",
   "metadata": {},
   "outputs": [
    {
     "data": {
      "text/plain": [
       "6003"
      ]
     },
     "execution_count": 22,
     "metadata": {},
     "output_type": "execute_result"
    }
   ],
   "source": [
    "# Normal mean\n",
    "amoc_segment(NonParametricCostParallel(k).fit(test_series), min_len, pen)"
   ]
  },
  {
   "cell_type": "code",
   "execution_count": 23,
   "id": "3b2c6d5e",
   "metadata": {},
   "outputs": [
    {
     "name": "stdout",
     "output_type": "stream",
     "text": [
      "62.6 ms ± 2.96 ms per loop (mean ± std. dev. of 7 runs, 10 loops each)\n"
     ]
    }
   ],
   "source": [
    "# Pychange Timing\n",
    "%timeit amoc_segment(NonParametricCostParallel(k).fit(test_series), min_len, pen)"
   ]
  },
  {
   "cell_type": "code",
   "execution_count": 24,
   "id": "28979474",
   "metadata": {},
   "outputs": [
    {
     "data": {
      "text/plain": [
       "6003"
      ]
     },
     "execution_count": 24,
     "metadata": {},
     "output_type": "execute_result"
    }
   ],
   "source": [
    "# Normal mean\n",
    "amoc_segment_parallel(NonParametricCostParallel(k).fit(test_series), min_len, pen)"
   ]
  },
  {
   "cell_type": "code",
   "execution_count": 25,
   "id": "5b489e06",
   "metadata": {},
   "outputs": [
    {
     "name": "stdout",
     "output_type": "stream",
     "text": [
      "30 ms ± 1.21 ms per loop (mean ± std. dev. of 7 runs, 10 loops each)\n"
     ]
    }
   ],
   "source": [
    "# Pychange Timing\n",
    "%timeit amoc_segment_parallel(NonParametricCostParallel(k).fit(test_series), min_len, pen)"
   ]
  },
  {
   "cell_type": "markdown",
   "id": "49b68ae1",
   "metadata": {},
   "source": [
    "# Pelt"
   ]
  },
  {
   "cell_type": "markdown",
   "id": "eea3eb09",
   "metadata": {},
   "source": [
    "## L1"
   ]
  },
  {
   "cell_type": "code",
   "execution_count": 41,
   "id": "47fb36ad",
   "metadata": {},
   "outputs": [
    {
     "data": {
      "text/plain": [
       "array([100, 200, 300, 400], dtype=int64)"
      ]
     },
     "execution_count": 41,
     "metadata": {},
     "output_type": "execute_result"
    }
   ],
   "source": [
    "# L1 cost\n",
    "pelt_segment(L1Cost().fit(sm_test_series), min_len, max_cp, pen, 1)"
   ]
  },
  {
   "cell_type": "code",
   "execution_count": 42,
   "id": "00bcca20",
   "metadata": {},
   "outputs": [
    {
     "data": {
      "text/plain": [
       "[100, 200, 300, 400, 500]"
      ]
     },
     "execution_count": 42,
     "metadata": {},
     "output_type": "execute_result"
    }
   ],
   "source": [
    "rpt.Pelt(model='l1', min_size=min_len, jump=1).fit(sm_test_series).predict(pen=pen)"
   ]
  },
  {
   "cell_type": "code",
   "execution_count": 43,
   "id": "d2038e3f",
   "metadata": {},
   "outputs": [
    {
     "name": "stdout",
     "output_type": "stream",
     "text": [
      "37.5 ms ± 36.6 µs per loop (mean ± std. dev. of 7 runs, 10 loops each)\n"
     ]
    }
   ],
   "source": [
    "%timeit pelt_segment(L1Cost().fit(sm_test_series), min_len, max_cp, pen, 1)"
   ]
  },
  {
   "cell_type": "code",
   "execution_count": 44,
   "id": "769786e4",
   "metadata": {},
   "outputs": [
    {
     "name": "stdout",
     "output_type": "stream",
     "text": [
      "2.22 s ± 2.18 ms per loop (mean ± std. dev. of 7 runs, 1 loop each)\n"
     ]
    }
   ],
   "source": [
    "%timeit rpt.Pelt(model='l1', min_size=min_len, jump=1).fit(sm_test_series).predict(pen=pen)"
   ]
  },
  {
   "cell_type": "markdown",
   "id": "76fea73b",
   "metadata": {},
   "source": [
    "## L2"
   ]
  },
  {
   "cell_type": "code",
   "execution_count": 45,
   "id": "192d1862",
   "metadata": {
    "scrolled": true
   },
   "outputs": [
    {
     "data": {
      "text/plain": [
       "array([100, 200, 300, 400], dtype=int64)"
      ]
     },
     "execution_count": 45,
     "metadata": {},
     "output_type": "execute_result"
    }
   ],
   "source": [
    "# L1 cost\n",
    "pelt_segment(L2Cost().fit(sm_test_series), min_len, max_cp, pen, 1)"
   ]
  },
  {
   "cell_type": "code",
   "execution_count": 46,
   "id": "259fb514",
   "metadata": {},
   "outputs": [
    {
     "data": {
      "text/plain": [
       "[100, 200, 300, 400, 500]"
      ]
     },
     "execution_count": 46,
     "metadata": {},
     "output_type": "execute_result"
    }
   ],
   "source": [
    "rpt.Pelt(model='l2', min_size=min_len, jump=1).fit(sm_test_series).predict(pen=pen)"
   ]
  },
  {
   "cell_type": "code",
   "execution_count": 47,
   "id": "2d71bba4",
   "metadata": {},
   "outputs": [
    {
     "name": "stdout",
     "output_type": "stream",
     "text": [
      "1.8 ms ± 579 ns per loop (mean ± std. dev. of 7 runs, 1000 loops each)\n"
     ]
    }
   ],
   "source": [
    "%timeit pelt_segment(L2Cost().fit(sm_test_series), min_len, max_cp, pen, 1)"
   ]
  },
  {
   "cell_type": "code",
   "execution_count": 48,
   "id": "df0b8178",
   "metadata": {},
   "outputs": [
    {
     "name": "stdout",
     "output_type": "stream",
     "text": [
      "700 ms ± 1.24 ms per loop (mean ± std. dev. of 7 runs, 1 loop each)\n"
     ]
    }
   ],
   "source": [
    "%timeit rpt.Pelt(model='l2', min_size=min_len, jump=1).fit(sm_test_series).predict(pen=pen)"
   ]
  },
  {
   "cell_type": "markdown",
   "id": "4160b674",
   "metadata": {},
   "source": [
    "## Normal Mean"
   ]
  },
  {
   "cell_type": "code",
   "execution_count": 9,
   "id": "5007a0c4",
   "metadata": {},
   "outputs": [
    {
     "data": {
      "text/plain": [
       "array([ 2500,  5001,  7500, 10000, 12500, 15000, 17501, 20000, 22500,\n",
       "       25000, 27500, 30001, 32500, 35000, 37500, 40000, 42501, 45000,\n",
       "       47500, 50000, 52500, 55001, 57500, 60000, 62500, 65000, 67501,\n",
       "       70000, 72500, 75000, 77500, 80001, 82500, 85000, 87500, 90000,\n",
       "       92501, 95000, 97500], dtype=int64)"
      ]
     },
     "execution_count": 9,
     "metadata": {},
     "output_type": "execute_result"
    }
   ],
   "source": [
    "# Normal mean\n",
    "pelt_segment(NormalMeanCost().fit(test_series), min_len, max_cp, pen, 1)"
   ]
  },
  {
   "cell_type": "code",
   "execution_count": 10,
   "id": "53e9588f",
   "metadata": {},
   "outputs": [
    {
     "data": {
      "text/plain": [
       "array([ 2500,  5001,  7500, 10000, 12500, 15000, 17501, 20000, 22500,\n",
       "       25000, 27500, 30001, 32500, 35000, 37500, 40000, 42501, 45000,\n",
       "       47500, 50000, 52500, 55001, 57500, 60000, 62500, 65000, 67501,\n",
       "       70000, 72500, 75000, 77500, 80001, 82500, 85000, 87500, 90000,\n",
       "       92501, 95000, 97500], dtype=int64)"
      ]
     },
     "execution_count": 10,
     "metadata": {},
     "output_type": "execute_result"
    }
   ],
   "source": [
    "# Normal mean\n",
    "pelt_segment_parallel(NormalMeanCost().fit(test_series), min_len, max_cp, pen, 1)"
   ]
  },
  {
   "cell_type": "code",
   "execution_count": 11,
   "id": "f2aecce3",
   "metadata": {},
   "outputs": [
    {
     "data": {
      "text/plain": [
       "array([ 2500,  5001,  7500, 10000, 12500, 15000, 17501, 20000, 22500,\n",
       "       25000, 27500, 30001, 32500, 35000, 37500, 40000, 42501, 45000,\n",
       "       47500, 50000, 52500, 55001, 57500, 60000, 62500, 65000, 67501,\n",
       "       70000, 72500, 75000, 77500, 80001, 82500, 85000, 87500, 90000,\n",
       "       92501, 95000, 97500], dtype=int32)"
      ]
     },
     "execution_count": 11,
     "metadata": {},
     "output_type": "execute_result"
    }
   ],
   "source": [
    "ROfflineChangepoint('mean', penalty='Manual', pen_value=pen, method='PELT', minseglen=min_len).fit(test_series).predict()"
   ]
  },
  {
   "cell_type": "code",
   "execution_count": 12,
   "id": "ae81989a",
   "metadata": {},
   "outputs": [
    {
     "name": "stdout",
     "output_type": "stream",
     "text": [
      "1.97 s ± 14.7 ms per loop (mean ± std. dev. of 7 runs, 1 loop each)\n"
     ]
    }
   ],
   "source": [
    "# Pychange Timing\n",
    "%timeit pelt_segment(NormalMeanCost().fit(test_series), min_len, max_cp, pen, 1)"
   ]
  },
  {
   "cell_type": "code",
   "execution_count": 13,
   "id": "e5735d17",
   "metadata": {},
   "outputs": [
    {
     "name": "stdout",
     "output_type": "stream",
     "text": [
      "555 ms ± 790 µs per loop (mean ± std. dev. of 7 runs, 1 loop each)\n"
     ]
    }
   ],
   "source": [
    "# R timing\n",
    "%timeit ROfflineChangepoint('mean', penalty='Manual', pen_value=pen, method='PELT', minseglen=min_len).fit(test_series).predict()"
   ]
  },
  {
   "cell_type": "code",
   "execution_count": 14,
   "id": "406d401d",
   "metadata": {},
   "outputs": [
    {
     "name": "stdout",
     "output_type": "stream",
     "text": [
      "1.93 s ± 26.4 ms per loop (mean ± std. dev. of 7 runs, 1 loop each)\n"
     ]
    }
   ],
   "source": [
    "# Normal mean\n",
    "%timeit pelt_segment_parallel(NormalMeanCost().fit(test_series), min_len, max_cp, pen, 1)"
   ]
  },
  {
   "cell_type": "markdown",
   "id": "0ded2f7f",
   "metadata": {},
   "source": [
    "## Normal Var"
   ]
  },
  {
   "cell_type": "code",
   "execution_count": 53,
   "id": "59932302",
   "metadata": {},
   "outputs": [
    {
     "data": {
      "text/plain": [
       "array([   671,    707,  10000,  20001,  29999,  40000,  50013,  50671,\n",
       "        50707,  60000,  70001,  79999,  90000, 100013, 100671, 100707,\n",
       "       110000, 120001, 129999, 140000, 150013, 150671, 150707, 160000,\n",
       "       170001, 179999, 190000, 200013, 200671, 200707, 210000, 220001,\n",
       "       229999, 240000, 250013, 250671, 250707, 260000, 270001, 279999,\n",
       "       290000, 300013, 300671, 300707, 310000, 320001, 329999, 340000,\n",
       "       350013, 350671, 350707, 360000, 370001, 379999, 390000],\n",
       "      dtype=int64)"
      ]
     },
     "execution_count": 53,
     "metadata": {},
     "output_type": "execute_result"
    }
   ],
   "source": [
    "pelt_segment(NormalVarCost().fit(test_series), min_len, max_cp, pen, 1)"
   ]
  },
  {
   "cell_type": "code",
   "execution_count": 54,
   "id": "c0b93cb7",
   "metadata": {},
   "outputs": [
    {
     "data": {
      "text/plain": [
       "array([ 10000,  20001,  29999,  40000,  50007,  60000,  70001,  79999,\n",
       "        90000, 100007, 110000, 120001, 129999, 140000, 150007, 160000,\n",
       "       170001, 179999, 190000, 200007, 210000, 220001, 229999, 240000,\n",
       "       250007, 260000, 270001, 279999, 290000, 300007, 310000, 320001,\n",
       "       329999, 340000, 350007, 360000, 370001, 379999, 390000],\n",
       "      dtype=int32)"
      ]
     },
     "execution_count": 54,
     "metadata": {},
     "output_type": "execute_result"
    }
   ],
   "source": [
    "ROfflineChangepoint('var', penalty='Manual', pen_value=pen, method='PELT', minseglen=min_len).fit(test_series).predict()"
   ]
  },
  {
   "cell_type": "code",
   "execution_count": 55,
   "id": "e450fdd0",
   "metadata": {},
   "outputs": [
    {
     "name": "stdout",
     "output_type": "stream",
     "text": [
      "49.5 s ± 427 ms per loop (mean ± std. dev. of 7 runs, 1 loop each)\n"
     ]
    }
   ],
   "source": [
    "# Pychange Timing\n",
    "%timeit pelt_segment(NormalVarCost().fit(test_series), min_len, max_cp, pen, 1)"
   ]
  },
  {
   "cell_type": "code",
   "execution_count": 56,
   "id": "7874aa27",
   "metadata": {},
   "outputs": [
    {
     "name": "stdout",
     "output_type": "stream",
     "text": [
      "1min 13s ± 166 ms per loop (mean ± std. dev. of 7 runs, 1 loop each)\n"
     ]
    }
   ],
   "source": [
    "# R timing\n",
    "%timeit ROfflineChangepoint('var', penalty='Manual', pen_value=pen, method='PELT', minseglen=min_len).fit(test_series).predict()"
   ]
  },
  {
   "cell_type": "markdown",
   "id": "5c066b0a",
   "metadata": {},
   "source": [
    "## Normal Mean+Var"
   ]
  },
  {
   "cell_type": "code",
   "execution_count": 26,
   "id": "73e99802",
   "metadata": {},
   "outputs": [
    {
     "data": {
      "text/plain": [
       "array([  3000,   6000,   9000,  12000,  15000,  18000,  21000,  24000,\n",
       "        27000,  30000,  33000,  36000,  39000,  42000,  45000,  48000,\n",
       "        51000,  54000,  57000,  60000,  63000,  66000,  69000,  72000,\n",
       "        75000,  78000,  81000,  84000,  87000,  90000,  93000,  96000,\n",
       "        99000, 102000, 105000, 108000, 111000, 114000, 117000],\n",
       "      dtype=int64)"
      ]
     },
     "execution_count": 26,
     "metadata": {},
     "output_type": "execute_result"
    }
   ],
   "source": [
    "pelt_segment(NormalMeanVarCost().fit(test_series), min_len, max_cp, pen, 1)"
   ]
  },
  {
   "cell_type": "code",
   "execution_count": 27,
   "id": "e15496f5",
   "metadata": {},
   "outputs": [
    {
     "data": {
      "text/plain": [
       "array([  3000,   6000,   9000,  12000,  15000,  18000,  21000,  24000,\n",
       "        27000,  30000,  33000,  36000,  39000,  42000,  45000,  48000,\n",
       "        51000,  54000,  57000,  60000,  63000,  66000,  69000,  72000,\n",
       "        75000,  78000,  81000,  84000,  87000,  90000,  93000,  96000,\n",
       "        99000, 102000, 105000, 108000, 111000, 114000, 117000],\n",
       "      dtype=int64)"
      ]
     },
     "execution_count": 27,
     "metadata": {},
     "output_type": "execute_result"
    }
   ],
   "source": [
    "pelt_segment_parallel(NormalMeanVarCostFast().fit(test_series), min_len, max_cp, pen, 1)"
   ]
  },
  {
   "cell_type": "code",
   "execution_count": 28,
   "id": "800cb645",
   "metadata": {},
   "outputs": [
    {
     "data": {
      "text/plain": [
       "array([  3000,   6000,   9000,  12000,  15000,  18000,  21000,  24000,\n",
       "        27000,  30000,  33000,  36000,  39000,  42000,  45000,  48000,\n",
       "        51000,  54000,  57000,  60000,  63000,  66000,  69000,  72000,\n",
       "        75000,  78000,  81000,  84000,  87000,  90000,  93000,  96000,\n",
       "        99000, 102000, 105000, 108000, 111000, 114000, 117000],\n",
       "      dtype=int32)"
      ]
     },
     "execution_count": 28,
     "metadata": {},
     "output_type": "execute_result"
    }
   ],
   "source": [
    "ROfflineChangepoint('meanvar', penalty='Manual', pen_value=pen, method='PELT', minseglen=min_len).fit(test_series).predict()"
   ]
  },
  {
   "cell_type": "code",
   "execution_count": 29,
   "id": "617e1e9d",
   "metadata": {},
   "outputs": [
    {
     "name": "stdout",
     "output_type": "stream",
     "text": [
      "4.53 s ± 155 ms per loop (mean ± std. dev. of 7 runs, 1 loop each)\n"
     ]
    }
   ],
   "source": [
    "# Pychange Timing\n",
    "%timeit pelt_segment(NormalMeanVarCost().fit(test_series), min_len, max_cp, pen, 1)"
   ]
  },
  {
   "cell_type": "code",
   "execution_count": 30,
   "id": "58444738",
   "metadata": {},
   "outputs": [
    {
     "name": "stdout",
     "output_type": "stream",
     "text": [
      "6.77 s ± 105 ms per loop (mean ± std. dev. of 7 runs, 1 loop each)\n"
     ]
    }
   ],
   "source": [
    "# R timing\n",
    "%timeit ROfflineChangepoint('meanvar', penalty='Manual', pen_value=pen, method='PELT', minseglen=min_len).fit(test_series).predict()"
   ]
  },
  {
   "cell_type": "code",
   "execution_count": 31,
   "id": "b517e2f5",
   "metadata": {},
   "outputs": [
    {
     "name": "stdout",
     "output_type": "stream",
     "text": [
      "4.03 s ± 52.7 ms per loop (mean ± std. dev. of 7 runs, 1 loop each)\n"
     ]
    }
   ],
   "source": [
    "# Pychange Timing\n",
    "%timeit pelt_segment_parallel(NormalMeanVarCostFast().fit(test_series), min_len, max_cp, pen, 1)"
   ]
  },
  {
   "cell_type": "markdown",
   "id": "c2a51258",
   "metadata": {},
   "source": [
    "## Poisson Mean+Var"
   ]
  },
  {
   "cell_type": "code",
   "execution_count": 61,
   "id": "ce1dfca6",
   "metadata": {},
   "outputs": [
    {
     "data": {
      "text/plain": [
       "array([ 10000,  19998,  30000,  39998,  50000,  60000,  69998,  80000,\n",
       "        89998, 100000, 110000, 119998, 130000, 139998, 150000, 160000,\n",
       "       169998, 180000, 189998, 200000, 210000, 219998, 230000, 239998,\n",
       "       250000, 260000, 269998, 280000, 289998, 300000, 310000, 319998,\n",
       "       330000, 339998, 350000, 360000, 369998, 380000, 389998],\n",
       "      dtype=int64)"
      ]
     },
     "execution_count": 61,
     "metadata": {},
     "output_type": "execute_result"
    }
   ],
   "source": [
    "pelt_segment(PoissonMeanVarCost().fit(p_test_series), min_len, max_cp, pen, 1)"
   ]
  },
  {
   "cell_type": "code",
   "execution_count": 62,
   "id": "a6a093b3",
   "metadata": {},
   "outputs": [
    {
     "data": {
      "text/plain": [
       "array([ 10000,  19998,  30000,  39998,  50000,  60000,  69998,  80000,\n",
       "        89998, 100000, 110000, 119998, 130000, 139998, 150000, 160000,\n",
       "       169998, 180000, 189998, 200000, 210000, 219998, 230000, 239998,\n",
       "       250000, 260000, 269998, 280000, 289998, 300000, 310000, 319998,\n",
       "       330000, 339998, 350000, 360000, 369998, 380000, 389998],\n",
       "      dtype=int32)"
      ]
     },
     "execution_count": 62,
     "metadata": {},
     "output_type": "execute_result"
    }
   ],
   "source": [
    "ROfflineChangepoint('meanvar', penalty='Manual', pen_value=pen, method='PELT', minseglen=min_len, test_stat=\"Poisson\").fit(p_test_series).predict()"
   ]
  },
  {
   "cell_type": "code",
   "execution_count": null,
   "id": "f5730008",
   "metadata": {},
   "outputs": [],
   "source": [
    "# Pychange Timing\n",
    "%timeit pelt_segment(PoissonMeanVarCost().fit(p_test_series), min_len, max_cp, pen, 1)"
   ]
  },
  {
   "cell_type": "code",
   "execution_count": null,
   "id": "d1817a57",
   "metadata": {},
   "outputs": [],
   "source": [
    "# R timing\n",
    "%timeit ROfflineChangepoint('meanvar', penalty='Manual', pen_value=pen, method='PELT', minseglen=min_len, test_stat=\"Poisson\").fit(p_test_series).predict()"
   ]
  },
  {
   "cell_type": "markdown",
   "id": "3731aeff",
   "metadata": {},
   "source": [
    "## Exponential Mean+Var"
   ]
  },
  {
   "cell_type": "code",
   "execution_count": 7,
   "id": "5be0d0ed",
   "metadata": {},
   "outputs": [
    {
     "data": {
      "text/plain": [
       "array([ 10000,  19998,  30000,  39997,  50013,  60000,  69998,  80000,\n",
       "        89997, 100013, 110000, 119998, 130000, 139997, 150013, 160000,\n",
       "       169998, 180000, 189997, 200013, 210000, 219998, 230000, 239997,\n",
       "       250013, 260000, 269998, 280000, 289997, 300013, 310000, 319998,\n",
       "       330000, 339997, 350013, 360000, 369998, 380000, 389997],\n",
       "      dtype=int64)"
      ]
     },
     "execution_count": 7,
     "metadata": {},
     "output_type": "execute_result"
    }
   ],
   "source": [
    "pelt_segment(ExponentialMeanVarCost().fit(p_test_series), min_len, max_cp, pen, 1)"
   ]
  },
  {
   "cell_type": "code",
   "execution_count": null,
   "id": "e3d2cdbe",
   "metadata": {},
   "outputs": [
    {
     "name": "stderr",
     "output_type": "stream",
     "text": [
      "Exception ignored from cffi callback <function _callback at 0x0000013DEEEF10D0>:\n",
      "Traceback (most recent call last):\n",
      "  File \"C:\\Users\\15072\\anaconda3\\envs\\pychange\\lib\\site-packages\\rpy2\\rinterface_lib\\callbacks.py\", line 313, in _callback\n",
      "    try:\n",
      "KeyboardInterrupt: \n"
     ]
    }
   ],
   "source": [
    "ROfflineChangepoint('meanvar', penalty='Manual', pen_value=pen, method='PELT', minseglen=min_len, test_stat=\"Exponential\").fit(p_test_series).predict()"
   ]
  },
  {
   "cell_type": "code",
   "execution_count": null,
   "id": "53aeacb6",
   "metadata": {},
   "outputs": [],
   "source": [
    "# Pychange Timing\n",
    "%timeit pelt_segment(ExponentialMeanVarCost().fit(p_test_series), min_len, max_cp, pen, 1)"
   ]
  },
  {
   "cell_type": "code",
   "execution_count": null,
   "id": "b3b00828",
   "metadata": {},
   "outputs": [],
   "source": [
    "# R timing\n",
    "%timeit ROfflineChangepoint('meanvar', penalty='Manual', pen_value=pen, method='PELT', minseglen=min_len, test_stat=\"Exponential\").fit(p_test_series).predict()"
   ]
  },
  {
   "cell_type": "markdown",
   "id": "4a293669",
   "metadata": {},
   "source": [
    "## Gamma Mean+Var"
   ]
  },
  {
   "cell_type": "code",
   "execution_count": null,
   "id": "1c27ea71",
   "metadata": {},
   "outputs": [],
   "source": [
    "pelt_segment(GammaMeanVarCost().fit(g_test_series), min_len, max_cp, pen, 1)"
   ]
  },
  {
   "cell_type": "code",
   "execution_count": null,
   "id": "0f696efa",
   "metadata": {},
   "outputs": [],
   "source": [
    "ROfflineChangepoint('meanvar', penalty='Manual', pen_value=pen, method='PELT', minseglen=min_len, test_stat=\"Gamma\").fit(g_test_series).predict()"
   ]
  },
  {
   "cell_type": "code",
   "execution_count": null,
   "id": "eb226b3f",
   "metadata": {},
   "outputs": [],
   "source": [
    "# Pychange Timing\n",
    "%timeit pelt_segment(GammaMeanVarCost().fit(g_test_series), min_len, max_cp, pen, 1)"
   ]
  },
  {
   "cell_type": "code",
   "execution_count": null,
   "id": "fb1d5b6d",
   "metadata": {},
   "outputs": [],
   "source": [
    "# R timing\n",
    "%timeit ROfflineChangepoint('meanvar', penalty='Manual', pen_value=pen, method='PELT', minseglen=min_len, test_stat=\"Gamma\").fit(g_test_series).predict().predict()"
   ]
  },
  {
   "cell_type": "markdown",
   "id": "dd1dffa0",
   "metadata": {},
   "source": [
    "## Nonparametric"
   ]
  },
  {
   "cell_type": "code",
   "execution_count": 3,
   "id": "f78d76e6",
   "metadata": {},
   "outputs": [
    {
     "data": {
      "text/plain": [
       "array([ 400,  800, 1200, 1600], dtype=int64)"
      ]
     },
     "execution_count": 3,
     "metadata": {},
     "output_type": "execute_result"
    }
   ],
   "source": [
    "pelt_segment(NonParametricCost(k).fit(sm_test_series), min_len, max_cp, pen, 1)"
   ]
  },
  {
   "cell_type": "code",
   "execution_count": 4,
   "id": "2322706f",
   "metadata": {},
   "outputs": [
    {
     "data": {
      "text/plain": [
       "array([ 400,  800, 1200, 1600], dtype=int32)"
      ]
     },
     "execution_count": 4,
     "metadata": {},
     "output_type": "execute_result"
    }
   ],
   "source": [
    "ROfflineChangepoint('np', penalty='Manual', pen_value=pen, method='PELT', minseglen=min_len, nquantiles=k).fit(sm_test_series).predict()"
   ]
  },
  {
   "cell_type": "code",
   "execution_count": 5,
   "id": "f3c4008d",
   "metadata": {},
   "outputs": [
    {
     "name": "stdout",
     "output_type": "stream",
     "text": [
      "66.3 ms ± 1.13 ms per loop (mean ± std. dev. of 7 runs, 10 loops each)\n"
     ]
    }
   ],
   "source": [
    "# Pychange Timing\n",
    "%timeit pelt_segment(NonParametricCost(k).fit(sm_test_series), min_len, max_cp, pen, 1)"
   ]
  },
  {
   "cell_type": "code",
   "execution_count": 6,
   "id": "8a41ff96",
   "metadata": {},
   "outputs": [
    {
     "name": "stdout",
     "output_type": "stream",
     "text": [
      "461 ms ± 8.16 ms per loop (mean ± std. dev. of 7 runs, 1 loop each)\n"
     ]
    }
   ],
   "source": [
    "# R timing\n",
    "%timeit ROfflineChangepoint('np', penalty='Manual', pen_value=pen, method='PELT', minseglen=min_len, nquantiles=k).fit(sm_test_series).predict()"
   ]
  },
  {
   "cell_type": "code",
   "execution_count": 7,
   "id": "506443e2",
   "metadata": {},
   "outputs": [
    {
     "data": {
      "text/plain": [
       "array([ 400,  800, 1200, 1600], dtype=int64)"
      ]
     },
     "execution_count": 7,
     "metadata": {},
     "output_type": "execute_result"
    }
   ],
   "source": [
    "pelt_segment_parallel(NonParametricCostParallel(k).fit(sm_test_series), min_len, max_cp, pen, 1)"
   ]
  },
  {
   "cell_type": "code",
   "execution_count": 8,
   "id": "0a97de9e",
   "metadata": {},
   "outputs": [
    {
     "name": "stdout",
     "output_type": "stream",
     "text": [
      "78.1 ms ± 1.31 ms per loop (mean ± std. dev. of 7 runs, 10 loops each)\n"
     ]
    }
   ],
   "source": [
    "# Pychange Timing\n",
    "%timeit pelt_segment_parallel(NonParametricCostParallel(k).fit(sm_test_series), min_len, max_cp, pen, 1)"
   ]
  },
  {
   "cell_type": "markdown",
   "id": "c6620421",
   "metadata": {},
   "source": [
    "# Binary Segmentation"
   ]
  },
  {
   "cell_type": "markdown",
   "id": "6ebea895",
   "metadata": {},
   "source": [
    "## L1"
   ]
  },
  {
   "cell_type": "code",
   "execution_count": null,
   "id": "dc83ab0c",
   "metadata": {},
   "outputs": [],
   "source": [
    "# L1 cost\n",
    "binary_segment(L1Cost().fit(sm_test_series), min_len, pen)"
   ]
  },
  {
   "cell_type": "code",
   "execution_count": null,
   "id": "1e6f098e",
   "metadata": {},
   "outputs": [],
   "source": [
    "rpt.Binseg(model='l1', min_size=min_len, jump=1).fit(sm_test_series).predict(pen=pen)"
   ]
  },
  {
   "cell_type": "code",
   "execution_count": null,
   "id": "3cbc85a2",
   "metadata": {},
   "outputs": [],
   "source": [
    "%timeit binary_segment(L1Cost().fit(sm_test_series), min_len, pen)"
   ]
  },
  {
   "cell_type": "code",
   "execution_count": null,
   "id": "f4712907",
   "metadata": {},
   "outputs": [],
   "source": [
    "%timeit rpt.Binseg(model='l1', min_size=min_len, jump=1).fit(sm_test_series).predict(pen=pen)"
   ]
  },
  {
   "cell_type": "markdown",
   "id": "3b5c6a7f",
   "metadata": {},
   "source": [
    "## L2"
   ]
  },
  {
   "cell_type": "code",
   "execution_count": null,
   "id": "35a5b479",
   "metadata": {},
   "outputs": [],
   "source": [
    "# L2 cost\n",
    "binary_segment(L2Cost().fit(sm_test_series), min_len, pen)"
   ]
  },
  {
   "cell_type": "code",
   "execution_count": null,
   "id": "ad7c7b3a",
   "metadata": {},
   "outputs": [],
   "source": [
    "rpt.Binseg(model='l2', min_size=min_len, jump=1).fit(sm_test_series).predict(pen=pen)"
   ]
  },
  {
   "cell_type": "code",
   "execution_count": null,
   "id": "b2afb1e2",
   "metadata": {},
   "outputs": [],
   "source": [
    "%timeit binary_segment(L2Cost().fit(sm_test_series), min_len, pen)"
   ]
  },
  {
   "cell_type": "code",
   "execution_count": null,
   "id": "401b4915",
   "metadata": {},
   "outputs": [],
   "source": [
    "%timeit rpt.Binseg(model='l2', min_size=min_len, jump=1).fit(sm_test_series).predict(pen=pen)"
   ]
  },
  {
   "cell_type": "markdown",
   "id": "b1fb53a8",
   "metadata": {},
   "source": [
    "## Normal Mean"
   ]
  },
  {
   "cell_type": "code",
   "execution_count": 3,
   "id": "62ddd009",
   "metadata": {},
   "outputs": [
    {
     "data": {
      "text/plain": [
       "array([ 2000,  4002,  5999,  8000, 10000, 12000, 14002, 15999, 18000,\n",
       "       20000, 22000, 24002, 25999, 28000, 30000, 32000, 34002, 35999,\n",
       "       38000, 40000, 42000, 44002, 45999, 48000, 50000, 52000, 54002,\n",
       "       55999, 58000, 60000, 62000, 64002, 65999, 68000, 70000, 72000,\n",
       "       74002, 75999, 78000, 79999], dtype=int64)"
      ]
     },
     "execution_count": 3,
     "metadata": {},
     "output_type": "execute_result"
    }
   ],
   "source": [
    "# Normal mean\n",
    "binary_segment(NormalMeanCost().fit(test_series), min_len, pen)"
   ]
  },
  {
   "cell_type": "code",
   "execution_count": 4,
   "id": "dcaaa9fe",
   "metadata": {},
   "outputs": [
    {
     "data": {
      "text/plain": [
       "array([ 2000,  4002,  5999,  8000, 10000, 12000, 14002, 15999, 18000,\n",
       "       20000, 22000, 24002, 25999, 28000, 30000, 32000, 34002, 35999,\n",
       "       38000, 40000, 42000, 44002, 45999, 48000, 50000, 52000, 54002,\n",
       "       55999, 58000, 60000, 62000, 64002, 65999, 68000, 70000, 72000,\n",
       "       74002, 75999, 78000, 79999], dtype=int64)"
      ]
     },
     "execution_count": 4,
     "metadata": {},
     "output_type": "execute_result"
    }
   ],
   "source": [
    "# Normal mean\n",
    "binary_segment_parallel(NormalMeanCost().fit(test_series), min_len, pen)"
   ]
  },
  {
   "cell_type": "code",
   "execution_count": 5,
   "id": "d33ff1e3",
   "metadata": {},
   "outputs": [
    {
     "data": {
      "text/plain": [
       "array([ 2000.,  4002.,  5999.,  8000., 10000., 12000., 14002., 15999.,\n",
       "       18000., 20000., 22000., 24002., 25999., 28000., 30000., 32000.,\n",
       "       34002., 35999., 38000., 40000., 42000., 44002., 45999., 48000.,\n",
       "       50000., 52000., 54002., 55999., 58000., 60000., 62000., 64002.,\n",
       "       65999., 68000., 70000., 72000., 74002., 75999., 78000.])"
      ]
     },
     "execution_count": 5,
     "metadata": {},
     "output_type": "execute_result"
    }
   ],
   "source": [
    "ROfflineChangepoint('mean', penalty='Manual', pen_value=pen, method='BinSeg', minseglen=min_len, Q=100).fit(test_series).predict()"
   ]
  },
  {
   "cell_type": "code",
   "execution_count": 6,
   "id": "b3561913",
   "metadata": {},
   "outputs": [
    {
     "name": "stdout",
     "output_type": "stream",
     "text": [
      "19.1 ms ± 172 µs per loop (mean ± std. dev. of 7 runs, 100 loops each)\n"
     ]
    }
   ],
   "source": [
    "# Pychange Timing\n",
    "%timeit binary_segment(NormalMeanCost().fit(test_series), min_len, pen)"
   ]
  },
  {
   "cell_type": "code",
   "execution_count": 7,
   "id": "4b7a8433",
   "metadata": {},
   "outputs": [
    {
     "name": "stdout",
     "output_type": "stream",
     "text": [
      "55.4 ms ± 319 µs per loop (mean ± std. dev. of 7 runs, 1 loop each)\n"
     ]
    }
   ],
   "source": [
    "# R timing\n",
    "%timeit ROfflineChangepoint('mean', penalty='Manual', pen_value=pen, method='BinSeg', minseglen=min_len, Q=100).fit(test_series).predict()"
   ]
  },
  {
   "cell_type": "code",
   "execution_count": 8,
   "id": "eefb747c",
   "metadata": {},
   "outputs": [
    {
     "name": "stdout",
     "output_type": "stream",
     "text": [
      "18.1 ms ± 71 µs per loop (mean ± std. dev. of 7 runs, 100 loops each)\n"
     ]
    }
   ],
   "source": [
    "%timeit binary_segment_parallel(NormalMeanCost().fit(test_series), min_len, pen)"
   ]
  },
  {
   "cell_type": "markdown",
   "id": "52ab7615",
   "metadata": {},
   "source": [
    "## Normal Var"
   ]
  },
  {
   "cell_type": "code",
   "execution_count": null,
   "id": "8a3b49ff",
   "metadata": {},
   "outputs": [],
   "source": [
    "# Normal mean\n",
    "binary_segment(NormalVarCost().fit(test_series), min_len, pen)"
   ]
  },
  {
   "cell_type": "code",
   "execution_count": null,
   "id": "f2dc88c6",
   "metadata": {},
   "outputs": [],
   "source": [
    "ROfflineChangepoint('var', penalty='Manual', pen_value=pen, method='BinSeg', minseglen=min_len, Q=100).fit(test_series).predict()"
   ]
  },
  {
   "cell_type": "code",
   "execution_count": null,
   "id": "3cab2328",
   "metadata": {},
   "outputs": [],
   "source": [
    "# Pychange Timing\n",
    "%timeit binary_segment(NormalVarCost().fit(test_series), min_len, pen)"
   ]
  },
  {
   "cell_type": "code",
   "execution_count": null,
   "id": "75a4e58a",
   "metadata": {},
   "outputs": [],
   "source": [
    "# R timing\n",
    "%timeit ROfflineChangepoint('var', penalty='Manual', pen_value=pen, method='BinSeg', minseglen=min_len, Q=100).fit(test_series).predict()"
   ]
  },
  {
   "cell_type": "markdown",
   "id": "5702fd49",
   "metadata": {},
   "source": [
    "## Normal Mean+Var"
   ]
  },
  {
   "cell_type": "code",
   "execution_count": 9,
   "id": "7c1a6bd3",
   "metadata": {},
   "outputs": [
    {
     "data": {
      "text/plain": [
       "array([ 400,  800, 1200, 1600, 1999], dtype=int64)"
      ]
     },
     "execution_count": 9,
     "metadata": {},
     "output_type": "execute_result"
    }
   ],
   "source": [
    "# Normal mean\n",
    "binary_segment(NormalMeanVarCost().fit(sm_test_series), min_len, pen)"
   ]
  },
  {
   "cell_type": "code",
   "execution_count": 10,
   "id": "ef13aebc",
   "metadata": {},
   "outputs": [
    {
     "data": {
      "text/plain": [
       "array([ 400,  800, 1200, 1600, 1999], dtype=int64)"
      ]
     },
     "execution_count": 10,
     "metadata": {},
     "output_type": "execute_result"
    }
   ],
   "source": [
    "binary_segment_parallel(NormalMeanVarCostFast().fit(sm_test_series), min_len, pen)"
   ]
  },
  {
   "cell_type": "code",
   "execution_count": 11,
   "id": "6f1d0d0e",
   "metadata": {},
   "outputs": [
    {
     "data": {
      "text/plain": [
       "array([ 400.,  800., 1200., 1600.])"
      ]
     },
     "execution_count": 11,
     "metadata": {},
     "output_type": "execute_result"
    }
   ],
   "source": [
    "ROfflineChangepoint('meanvar', penalty='Manual', pen_value=pen, method='BinSeg', minseglen=min_len, Q=100).fit(sm_test_series).predict()"
   ]
  },
  {
   "cell_type": "code",
   "execution_count": 12,
   "id": "a657fb42",
   "metadata": {},
   "outputs": [
    {
     "name": "stdout",
     "output_type": "stream",
     "text": [
      "309 µs ± 7.84 µs per loop (mean ± std. dev. of 7 runs, 1000 loops each)\n"
     ]
    }
   ],
   "source": [
    "# Pychange Timing\n",
    "%timeit binary_segment(NormalMeanVarCost().fit(sm_test_series), min_len, pen)"
   ]
  },
  {
   "cell_type": "code",
   "execution_count": 13,
   "id": "b15daa3b",
   "metadata": {},
   "outputs": [
    {
     "name": "stdout",
     "output_type": "stream",
     "text": [
      "9.96 ms ± 63.1 µs per loop (mean ± std. dev. of 7 runs, 100 loops each)\n"
     ]
    }
   ],
   "source": [
    "# R timing\n",
    "%timeit ROfflineChangepoint('meanvar', penalty='Manual', pen_value=pen, method='BinSeg', minseglen=min_len, Q=100).fit(sm_test_series).predict()"
   ]
  },
  {
   "cell_type": "code",
   "execution_count": 14,
   "id": "6069675c",
   "metadata": {},
   "outputs": [
    {
     "name": "stdout",
     "output_type": "stream",
     "text": [
      "3.26 ms ± 178 µs per loop (mean ± std. dev. of 7 runs, 100 loops each)\n"
     ]
    }
   ],
   "source": [
    "%timeit binary_segment_parallel(NormalMeanVarCostFast().fit(sm_test_series), min_len, pen)"
   ]
  },
  {
   "cell_type": "code",
   "execution_count": 15,
   "id": "eb2bedf8",
   "metadata": {},
   "outputs": [
    {
     "name": "stdout",
     "output_type": "stream",
     "text": [
      "485 ms ± 3.26 ms per loop (mean ± std. dev. of 7 runs, 1 loop each)\n"
     ]
    }
   ],
   "source": [
    "%timeit rpt.Binseg(model='normal', min_size=min_len, jump=1).fit(sm_test_series).predict(pen=pen)"
   ]
  },
  {
   "cell_type": "markdown",
   "id": "13cccbd2",
   "metadata": {},
   "source": [
    "## Poisson Mean+Var"
   ]
  },
  {
   "cell_type": "code",
   "execution_count": null,
   "id": "cce5c79a",
   "metadata": {},
   "outputs": [],
   "source": [
    "# Normal mean\n",
    "binary_segment(PoissonMeanVarCost().fit(p_test_series), min_len, pen)"
   ]
  },
  {
   "cell_type": "code",
   "execution_count": null,
   "id": "429c9863",
   "metadata": {},
   "outputs": [],
   "source": [
    "ROfflineChangepoint('meanvar', penalty='Manual', pen_value=pen, method='BinSeg', minseglen=min_len, test_stat='Poisson', Q=100).fit(p_test_series).predict()"
   ]
  },
  {
   "cell_type": "code",
   "execution_count": null,
   "id": "ad6996eb",
   "metadata": {},
   "outputs": [],
   "source": [
    "# Pychange Timing\n",
    "%timeit binary_segment(PoissonMeanVarCost().fit(p_test_series), min_len, pen)"
   ]
  },
  {
   "cell_type": "code",
   "execution_count": null,
   "id": "f8b22c86",
   "metadata": {},
   "outputs": [],
   "source": [
    "# R timing\n",
    "%timeit ROfflineChangepoint('meanvar', penalty='Manual', pen_value=pen, method='BinSeg', minseglen=min_len, test_stat='Poisson', Q=100).fit(p_test_series).predict()"
   ]
  },
  {
   "cell_type": "markdown",
   "id": "5c68740c",
   "metadata": {},
   "source": [
    "# Bayesian Online Changepoint"
   ]
  },
  {
   "cell_type": "code",
   "execution_count": null,
   "id": "8711dcd5",
   "metadata": {
    "scrolled": true
   },
   "outputs": [],
   "source": [
    "OnlineCP(ConstantHazard(), StudentTProb(), 10, 0.5).update(sm_test_series).get_cps()"
   ]
  },
  {
   "cell_type": "code",
   "execution_count": 7,
   "id": "78b32783",
   "metadata": {},
   "outputs": [
    {
     "data": {
      "text/plain": [
       "array([101, 201], dtype=int64)"
      ]
     },
     "execution_count": 7,
     "metadata": {},
     "output_type": "execute_result"
    }
   ],
   "source": [
    "ROCP().fit(sm_test_series).predict()"
   ]
  },
  {
   "cell_type": "code",
   "execution_count": 8,
   "id": "2217a92b",
   "metadata": {},
   "outputs": [
    {
     "name": "stdout",
     "output_type": "stream",
     "text": [
      "12.4 ms ± 3.58 µs per loop (mean ± std. dev. of 7 runs, 100 loops each)\n"
     ]
    }
   ],
   "source": [
    "%timeit OnlineCP(ConstantHazard(), StudentTProb(), 5, 0.5).update(sm_test_series).get_cps()"
   ]
  },
  {
   "cell_type": "code",
   "execution_count": 9,
   "id": "54935fa9",
   "metadata": {},
   "outputs": [
    {
     "name": "stdout",
     "output_type": "stream",
     "text": [
      "136 ms ± 2.76 ms per loop (mean ± std. dev. of 7 runs, 10 loops each)\n"
     ]
    }
   ],
   "source": [
    "%timeit ROCP().fit(sm_test_series).predict()"
   ]
  }
 ],
 "metadata": {
  "kernelspec": {
   "display_name": "Python 3",
   "language": "python",
   "name": "python3"
  },
  "language_info": {
   "codemirror_mode": {
    "name": "ipython",
    "version": 3
   },
   "file_extension": ".py",
   "mimetype": "text/x-python",
   "name": "python",
   "nbconvert_exporter": "python",
   "pygments_lexer": "ipython3",
   "version": "3.9.6"
  }
 },
 "nbformat": 4,
 "nbformat_minor": 5
}
