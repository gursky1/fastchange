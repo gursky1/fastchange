{
 "cells": [
  {
   "cell_type": "code",
   "execution_count": 1,
   "id": "af9ba971",
   "metadata": {},
   "outputs": [],
   "source": [
    "from time import time\n",
    "import numpy as np\n",
    "import numba as nb"
   ]
  },
  {
   "cell_type": "code",
   "execution_count": 2,
   "id": "5f2d7c24",
   "metadata": {},
   "outputs": [],
   "source": [
    "@nb.njit('f4[::1](f4[::1])')\n",
    "def eager_test(x):\n",
    "    return (np.cos(x) + 2) / np.sin(x)"
   ]
  },
  {
   "cell_type": "code",
   "execution_count": 3,
   "id": "b4945d9e",
   "metadata": {},
   "outputs": [],
   "source": [
    "@nb.njit\n",
    "def lazy_test(x):\n",
    "    return (np.cos(x) + 2) / np.sin(x)"
   ]
  },
  {
   "cell_type": "code",
   "execution_count": 4,
   "id": "6a5cff20",
   "metadata": {},
   "outputs": [],
   "source": [
    "y = np.random.normal(10, 2, (1000000,))\n",
    "y2 = y.astype(np.float32)"
   ]
  },
  {
   "cell_type": "code",
   "execution_count": 5,
   "id": "c3014cef",
   "metadata": {},
   "outputs": [
    {
     "name": "stdout",
     "output_type": "stream",
     "text": [
      "0.08684635162353516\n"
     ]
    }
   ],
   "source": [
    "start_time = time()\n",
    "lazy_test(y2)\n",
    "print(time() - start_time)"
   ]
  },
  {
   "cell_type": "code",
   "execution_count": 6,
   "id": "07312a65",
   "metadata": {},
   "outputs": [
    {
     "name": "stdout",
     "output_type": "stream",
     "text": [
      "0.005002021789550781\n"
     ]
    }
   ],
   "source": [
    "start_time = time()\n",
    "lazy_test(y2)\n",
    "print(time() - start_time)"
   ]
  },
  {
   "cell_type": "code",
   "execution_count": 7,
   "id": "fd24edb2",
   "metadata": {},
   "outputs": [
    {
     "name": "stdout",
     "output_type": "stream",
     "text": [
      "0.005011796951293945\n"
     ]
    }
   ],
   "source": [
    "start_time = time()\n",
    "eager_test(y2)\n",
    "print(time() - start_time)"
   ]
  },
  {
   "cell_type": "code",
   "execution_count": 8,
   "id": "78d60d3f",
   "metadata": {},
   "outputs": [
    {
     "name": "stdout",
     "output_type": "stream",
     "text": [
      "0.004999637603759766\n"
     ]
    }
   ],
   "source": [
    "start_time = time()\n",
    "eager_test(y2)\n",
    "print(time() - start_time)"
   ]
  },
  {
   "cell_type": "code",
   "execution_count": 9,
   "id": "7a95a7a5",
   "metadata": {},
   "outputs": [
    {
     "data": {
      "text/plain": [
       "[(array(float32, 1d, C),)]"
      ]
     },
     "execution_count": 9,
     "metadata": {},
     "output_type": "execute_result"
    }
   ],
   "source": [
    "lazy_test.signatures"
   ]
  },
  {
   "cell_type": "code",
   "execution_count": 10,
   "id": "674a71a2",
   "metadata": {},
   "outputs": [
    {
     "data": {
      "text/plain": [
       "[(array(float32, 1d, C),)]"
      ]
     },
     "execution_count": 10,
     "metadata": {},
     "output_type": "execute_result"
    }
   ],
   "source": [
    "eager_test.signatures"
   ]
  },
  {
   "cell_type": "code",
   "execution_count": 11,
   "id": "14ed4967",
   "metadata": {},
   "outputs": [],
   "source": [
    "@nb.experimental.jitclass({'a': nb.int32})\n",
    "class TestClass(object):\n",
    "    \n",
    "    def __init__(self, a):\n",
    "        self.a = 2.0\n",
    "        \n",
    "    def get(self):\n",
    "        return self.a * 5"
   ]
  },
  {
   "cell_type": "code",
   "execution_count": 103,
   "id": "3afbbbfd",
   "metadata": {},
   "outputs": [
    {
     "data": {
      "text/plain": [
       "instance.jitclass.TestClass#2258ffb6850<a:int32>"
      ]
     },
     "execution_count": 103,
     "metadata": {},
     "output_type": "execute_result"
    }
   ],
   "source": [
    "TestClass.class_type.instance_type"
   ]
  },
  {
   "cell_type": "code",
   "execution_count": 107,
   "id": "bf09eac0",
   "metadata": {},
   "outputs": [],
   "source": [
    "@nb.njit(nb.int64(TestClass.class_type.instance_type))\n",
    "def double_class(a):\n",
    "    return a.get() * 3"
   ]
  },
  {
   "cell_type": "code",
   "execution_count": 108,
   "id": "bdd046f9",
   "metadata": {},
   "outputs": [
    {
     "data": {
      "text/plain": [
       "30"
      ]
     },
     "execution_count": 108,
     "metadata": {},
     "output_type": "execute_result"
    }
   ],
   "source": [
    "double_class(TestClass(2))"
   ]
  },
  {
   "cell_type": "code",
   "execution_count": 106,
   "id": "a2dcea16",
   "metadata": {},
   "outputs": [
    {
     "data": {
      "text/plain": [
       "[(instance.jitclass.TestClass#2258ffb6850<a:int32>,) -> int64]"
      ]
     },
     "execution_count": 106,
     "metadata": {},
     "output_type": "execute_result"
    }
   ],
   "source": [
    "double_class.nopython_signatures"
   ]
  },
  {
   "cell_type": "code",
   "execution_count": 19,
   "id": "c07dcd88",
   "metadata": {},
   "outputs": [
    {
     "data": {
      "text/plain": [
       "[(instance.jitclass.TestClass#2258fcf16a0<a:int32>,)]"
      ]
     },
     "execution_count": 19,
     "metadata": {},
     "output_type": "execute_result"
    }
   ],
   "source": [
    "double_class.signatures"
   ]
  },
  {
   "cell_type": "code",
   "execution_count": 129,
   "id": "75aca81d",
   "metadata": {},
   "outputs": [],
   "source": [
    "nonparametric_sig = ['f8[::1](f8[:, ::1], i4[::1], i4, f8)', 'f4[::1](f4[:, ::1], i4[::1], i4, f4)']\n",
    "@nb.njit(nonparametric_sig, fastmath=True)\n",
    "def nonparametric_cost(x, start, end, c):\n",
    "    _d = (end - start).astype(x.dtype)\n",
    "    f = ((x[end, :] - x[start, :]).T * x.dtype.type(0.5)) / _d\n",
    "    _t = _d * (f * np.log(f) + (1 - f) * np.log(1 - f)).sum(axis=0)\n",
    "    return c * _t\n",
    "\n",
    "@nb.njit(['f8[:, ::1](f8[::1], i4)', 'f4[:, ::1](f4[::1], i4)'], fastmath=True)\n",
    "def create_partial_sums(x, k):\n",
    "\n",
    "    n = x.shape[0]\n",
    "    partial_sums = np.zeros(shape=(n + 1, k), dtype=x.dtype)\n",
    "    sorted_data = np.sort(x)\n",
    "\n",
    "    for i in np.arange(k):\n",
    "\n",
    "        z = -1 + (2 * i + 1.0) / k\n",
    "        p = 1.0 / (1 + (2 * n - 1) ** (-z))\n",
    "        t = sorted_data[int((n - 1) * p)]\n",
    "\n",
    "        for j in np.arange(1, n + 1):\n",
    "\n",
    "            partial_sums[j, i] = partial_sums[j - 1, i]\n",
    "            if x[j - 1] < t:\n",
    "                partial_sums[j, i] += 2\n",
    "            if x[j - 1] == t:\n",
    "                partial_sums[j, i] += 1\n",
    "    return partial_sums"
   ]
  },
  {
   "cell_type": "code",
   "execution_count": 147,
   "id": "f80f1f78",
   "metadata": {},
   "outputs": [
    {
     "data": {
      "text/plain": [
       "type(CPUDispatcher(<function create_partial_sums at 0x00000225903299D0>))"
      ]
     },
     "execution_count": 147,
     "metadata": {},
     "output_type": "execute_result"
    }
   ],
   "source": [
    "nb.typeof(create_partial_sums)"
   ]
  },
  {
   "cell_type": "code",
   "execution_count": 166,
   "id": "219a3c87",
   "metadata": {},
   "outputs": [],
   "source": [
    "@nb.experimental.jitclass({'k': nb.int32,\n",
    "                           'c': nb.float32,\n",
    "                           'stats': nb.float32[:, :],\n",
    "                           'preprocess_fn': nb.typeof(create_partial_sums),\n",
    "                           'cost_fn': nb.typeof(nonparametric_cost)})\n",
    "class JitNonParametricCost:\n",
    "\n",
    "    def __init__(self, k):\n",
    "        self.k = k\n",
    "        self.c = 0.0\n",
    "        self.preprocess_fn = create_partial_sums\n",
    "        self.cost_fn = nonparametric_cost\n",
    "\n",
    "    def fit(self, signal):\n",
    "        self.stats = self.preprocess_fn(signal, self.k)\n",
    "        self.c = np.float32(2.0 * (-np.log(2 * signal.shape[0] - 1) / self.k))\n",
    "\n",
    "    def error(self, start, end):\n",
    "        return self.cost_fn(self.stats, start, end, self.c)"
   ]
  },
  {
   "cell_type": "code",
   "execution_count": 239,
   "id": "4f6d6e57",
   "metadata": {},
   "outputs": [],
   "source": [
    "nonparametric_sig = ['f8[::1](f8[:, ::1], i4[::1], i4)', 'f4[::1](f4[:, ::1], i4[::1], i4)']\n",
    "@nb.njit(nonparametric_sig, fastmath=True, nogil=True)\n",
    "def nonparametric_cost(x, start, end):\n",
    "    _d = (end - start).astype(x.dtype)\n",
    "    f = ((x[end, :] - x[start, :]).T * x.dtype.type(0.5)) / _d\n",
    "    _t = _d * (f * np.log(f) + (1 - f) * np.log(1 - f)).sum(axis=0)\n",
    "    return _t\n",
    "\n",
    "c = 2.0\n",
    "\n",
    "@nb.njit(nonparametric_sig, fastmath=True, nogil=True)\n",
    "def factory_fn(x, start, stop):\n",
    "    return nonparametric_cost(x, start, stop) * np.float32(c)"
   ]
  },
  {
   "cell_type": "code",
   "execution_count": null,
   "id": "20d0e36b",
   "metadata": {},
   "outputs": [],
   "source": [
    "types.float64(types.float64, types.float64)"
   ]
  },
  {
   "cell_type": "code",
   "execution_count": 407,
   "id": "7f00d359",
   "metadata": {},
   "outputs": [
    {
     "data": {
      "text/plain": [
       "(FunctionType[array(float32, 1d, C)(array(float32, 2d, C), array(int32, 1d, C), int32)],) -> array(float32, 1d, C)"
      ]
     },
     "execution_count": 407,
     "metadata": {},
     "output_type": "execute_result"
    }
   ],
   "source": [
    "nb.float32[::1](nb.types.FunctionType(nb.float32[::1](nb.float32[:, ::1], nb.int32[::1], nb.int32)))"
   ]
  },
  {
   "cell_type": "code",
   "execution_count": 408,
   "id": "d7e4d1e1",
   "metadata": {},
   "outputs": [],
   "source": [
    "@nb.njit([nb.float32[::1](nb.types.FunctionType(nb.float32[::1](nb.float32[:, ::1], nb.int32[::1], nb.int32)))])\n",
    "def fn(a):\n",
    "    return a(np.float32([[1.0, 1.0], [2.0, 2.0]]), np.int32([10]), np.int32(200))"
   ]
  },
  {
   "cell_type": "code",
   "execution_count": 2,
   "id": "2e43e58d",
   "metadata": {},
   "outputs": [],
   "source": [
    "from numba.typed import List\n",
    "\n",
    "nonparametric_sig = ['f8[::1](f8[:, ::1], i4[::1], i4)', 'f4[::1](f4[:, ::1], i4[::1], i4)']\n",
    "@nb.njit(nonparametric_sig, fastmath=True)\n",
    "def nonparametric_cost(x, start, end):\n",
    "    _d = (end - start).astype(x.dtype)\n",
    "    _seg = (x[end, :] - x[start, :]).T\n",
    "    _is_valid = (_seg != 0) & (_seg != (_d * 2))\n",
    "    f = (_seg * x.dtype.type(0.5)) / _d\n",
    "    _h = _d * (f * np.log(f) + (1 - f) * np.log(1 - f))\n",
    "    _t = np.where((_seg != 0) & (_seg != (_d * 2)), _h, x.dtype.type(0.0))\n",
    "    return _t.sum(axis=0)\n",
    "\n",
    "@nb.njit(['f8[:, ::1](f8[::1], i4)', 'f4[:, ::1](f4[::1], i4)'], fastmath=True)\n",
    "def create_partial_sums(x, k):\n",
    "\n",
    "    n = x.shape[0]\n",
    "    partial_sums = np.zeros(shape=(n + 1, k), dtype=x.dtype)\n",
    "    sorted_data = np.sort(x)\n",
    "\n",
    "    for i in np.arange(k):\n",
    "\n",
    "        z = -1 + (2 * i + 1.0) / k\n",
    "        p = 1.0 / (1 + (2 * n - 1) ** (-z))\n",
    "        t = sorted_data[int((n - 1) * p)]\n",
    "\n",
    "        for j in np.arange(1, n + 1):\n",
    "\n",
    "            partial_sums[j, i] = partial_sums[j - 1, i]\n",
    "            if x[j - 1] < t:\n",
    "                partial_sums[j, i] += 2\n",
    "            if x[j - 1] == t:\n",
    "                partial_sums[j, i] += 1\n",
    "    return partial_sums\n",
    "\n",
    "\n",
    "x = np.hstack([np.random.normal(2, 2, (1000,)), np.random.normal(-10, 1, (1250,)), np.random.normal(10, 2, (1500,))])\n",
    "k = 20\n",
    "c = 2.0 * (-np.log(2 * x.shape[0] - 1) / k)\n",
    "\n",
    "@nb.njit(nonparametric_sig, fastmath=True)\n",
    "def wrapped_fn(x, start, stop):\n",
    "    return nonparametric_cost(x, start, stop) * x.dtype.type(c)\n",
    "\n",
    "@nb.njit(['f8[:, ::1](f8[::1])', 'f4[:, ::1](f4[::1])'], fastmath=True)\n",
    "def wrapped_preprocess_fn(x):\n",
    "    return create_partial_sums(x, k)"
   ]
  },
  {
   "cell_type": "code",
   "execution_count": 35,
   "id": "477bbf2b",
   "metadata": {},
   "outputs": [],
   "source": [
    "# @nb.njit([nb.int32[::1](nb.float32[::1],\n",
    "#                         nb.int32,\n",
    "#                         nb.float32,\n",
    "#                         nb.types.FunctionType(nb.float32[::1](nb.float32[:, ::1], nb.int32[::1], nb.int32)),\n",
    "#                         nb.types.FunctionType(nb.float32[:, ::1](nb.float32[::1])))\n",
    "#          ])\n",
    "@nb.njit(fastmath=True, nogil=True)\n",
    "def pelt(x, min_len, penalty, cost_fn, preprocess_fn):\n",
    "    \"\"\"Pruned exact linear time changepoint segmentation\"\"\"\n",
    "    \n",
    "    # Setting up summary statistics and objects\n",
    "    n = np.int32(x.shape[0])\n",
    "    #model.fit(x)\n",
    "    sum_stats = preprocess_fn(x)\n",
    "    \n",
    "    # Initializing pelt parameters\n",
    "    f = np.empty(shape=(n,), dtype=np.float32)\n",
    "    f[0] = -penalty\n",
    "    costs = np.empty(shape=(n,), dtype=np.float32)\n",
    "    cp = List([np.int32([0]),])\n",
    "    r = np.zeros(shape=(n,), dtype=np.bool_)\n",
    "    r[0] = True\n",
    "\n",
    "    # Entering main loop\n",
    "    for tau_star in np.arange(1, n, dtype=np.int32):\n",
    "        \n",
    "        # Calculating minimum segment cost\n",
    "        _r = np.flatnonzero(r).astype(np.int32)\n",
    "        costs[_r] = cost_fn(sum_stats, _r, tau_star)\n",
    "\n",
    "        #costs[r] = model.error(r, tau_star)\n",
    "        _costs = costs[_r] + f[_r]\n",
    "        \n",
    "        f[tau_star] = _costs.min()\n",
    "        tau_l = _r[np.argmin(_costs)]\n",
    "        \n",
    "        # Setting new changepoints\n",
    "        x = np.hstack((cp[tau_l], np.int32([tau_l])))\n",
    "        #x = cp[tau_l] + [tau_l]\n",
    "        cp.append(x)\n",
    "        \n",
    "        # Setting new candidate points\n",
    "        #r = np.append(r[(f[r]) <= (f[tau_star] + penalty)], tau_star)\n",
    "        r[:] = False\n",
    "        r[_r[(f[_r]) <= (f[tau_star] + penalty)]] = True\n",
    "        r[tau_star] = True\n",
    "        \n",
    "    return cp[-1][2:]"
   ]
  },
  {
   "cell_type": "code",
   "execution_count": 4,
   "id": "f2ad3f0d",
   "metadata": {},
   "outputs": [
    {
     "name": "stdout",
     "output_type": "stream",
     "text": [
      "7.27 s ± 260 ms per loop (mean ± std. dev. of 7 runs, 1 loop each)\n"
     ]
    }
   ],
   "source": [
    "%timeit pelt.py_func(x, 10, 100.0, wrapped_fn, wrapped_preprocess_fn)"
   ]
  },
  {
   "cell_type": "code",
   "execution_count": 28,
   "id": "086b15f6",
   "metadata": {},
   "outputs": [
    {
     "ename": "TypingError",
     "evalue": "Failed in nopython mode pipeline (step: nopython frontend)\n\u001b[1m\u001b[1m\u001b[1mInvalid use of type(CPUDispatcher(<function wrapped_fn at 0x00000226CF8AFAF0>)) with parameters (array(float32, 2d, C), array(int64, 1d, C), int32)\nKnown signatures:\n * (array(float64, 2d, C), array(int32, 1d, C), int32) -> array(float64, 1d, C)\n * (array(float32, 2d, C), array(int32, 1d, C), int32) -> array(float32, 1d, C)\u001b[0m\n\u001b[0m\u001b[1mDuring: resolving callee type: type(CPUDispatcher(<function wrapped_fn at 0x00000226CF8AFAF0>))\u001b[0m\n\u001b[0m\u001b[1mDuring: typing of call at <ipython-input-27-8195c5c7d8d3> (29)\n\u001b[0m\n\u001b[1m\nFile \"<ipython-input-27-8195c5c7d8d3>\", line 29:\u001b[0m\n\u001b[1mdef pelt(x, min_len, penalty, cost_fn, preprocess_fn):\n    <source elided>\n        _r = np.flatnonzero(r)\n\u001b[1m        costs[_r] = cost_fn(sum_stats, _r, tau_star)\n\u001b[0m        \u001b[1m^\u001b[0m\u001b[0m\n",
     "output_type": "error",
     "traceback": [
      "\u001b[1;31m---------------------------------------------------------------------------\u001b[0m",
      "\u001b[1;31mTypingError\u001b[0m                               Traceback (most recent call last)",
      "\u001b[1;32m<ipython-input-28-5097e4864cc8>\u001b[0m in \u001b[0;36m<module>\u001b[1;34m\u001b[0m\n\u001b[1;32m----> 1\u001b[1;33m \u001b[0mpelt\u001b[0m\u001b[1;33m(\u001b[0m\u001b[0mx\u001b[0m\u001b[1;33m.\u001b[0m\u001b[0mastype\u001b[0m\u001b[1;33m(\u001b[0m\u001b[0mnp\u001b[0m\u001b[1;33m.\u001b[0m\u001b[0mfloat32\u001b[0m\u001b[1;33m)\u001b[0m\u001b[1;33m,\u001b[0m \u001b[1;36m10\u001b[0m\u001b[1;33m,\u001b[0m \u001b[1;36m100.0\u001b[0m\u001b[1;33m,\u001b[0m \u001b[0mwrapped_fn\u001b[0m\u001b[1;33m,\u001b[0m \u001b[0mwrapped_preprocess_fn\u001b[0m\u001b[1;33m)\u001b[0m\u001b[1;33m\u001b[0m\u001b[1;33m\u001b[0m\u001b[0m\n\u001b[0m",
      "\u001b[1;32m~\\anaconda3\\envs\\pychange\\lib\\site-packages\\numba\\core\\dispatcher.py\u001b[0m in \u001b[0;36m_compile_for_args\u001b[1;34m(self, *args, **kws)\u001b[0m\n\u001b[0;32m    418\u001b[0m                 \u001b[0me\u001b[0m\u001b[1;33m.\u001b[0m\u001b[0mpatch_message\u001b[0m\u001b[1;33m(\u001b[0m\u001b[0mmsg\u001b[0m\u001b[1;33m)\u001b[0m\u001b[1;33m\u001b[0m\u001b[1;33m\u001b[0m\u001b[0m\n\u001b[0;32m    419\u001b[0m \u001b[1;33m\u001b[0m\u001b[0m\n\u001b[1;32m--> 420\u001b[1;33m             \u001b[0merror_rewrite\u001b[0m\u001b[1;33m(\u001b[0m\u001b[0me\u001b[0m\u001b[1;33m,\u001b[0m \u001b[1;34m'typing'\u001b[0m\u001b[1;33m)\u001b[0m\u001b[1;33m\u001b[0m\u001b[1;33m\u001b[0m\u001b[0m\n\u001b[0m\u001b[0;32m    421\u001b[0m         \u001b[1;32mexcept\u001b[0m \u001b[0merrors\u001b[0m\u001b[1;33m.\u001b[0m\u001b[0mUnsupportedError\u001b[0m \u001b[1;32mas\u001b[0m \u001b[0me\u001b[0m\u001b[1;33m:\u001b[0m\u001b[1;33m\u001b[0m\u001b[1;33m\u001b[0m\u001b[0m\n\u001b[0;32m    422\u001b[0m             \u001b[1;31m# Something unsupported is present in the user code, add help info\u001b[0m\u001b[1;33m\u001b[0m\u001b[1;33m\u001b[0m\u001b[1;33m\u001b[0m\u001b[0m\n",
      "\u001b[1;32m~\\anaconda3\\envs\\pychange\\lib\\site-packages\\numba\\core\\dispatcher.py\u001b[0m in \u001b[0;36merror_rewrite\u001b[1;34m(e, issue_type)\u001b[0m\n\u001b[0;32m    359\u001b[0m                 \u001b[1;32mraise\u001b[0m \u001b[0me\u001b[0m\u001b[1;33m\u001b[0m\u001b[1;33m\u001b[0m\u001b[0m\n\u001b[0;32m    360\u001b[0m             \u001b[1;32melse\u001b[0m\u001b[1;33m:\u001b[0m\u001b[1;33m\u001b[0m\u001b[1;33m\u001b[0m\u001b[0m\n\u001b[1;32m--> 361\u001b[1;33m                 \u001b[1;32mraise\u001b[0m \u001b[0me\u001b[0m\u001b[1;33m.\u001b[0m\u001b[0mwith_traceback\u001b[0m\u001b[1;33m(\u001b[0m\u001b[1;32mNone\u001b[0m\u001b[1;33m)\u001b[0m\u001b[1;33m\u001b[0m\u001b[1;33m\u001b[0m\u001b[0m\n\u001b[0m\u001b[0;32m    362\u001b[0m \u001b[1;33m\u001b[0m\u001b[0m\n\u001b[0;32m    363\u001b[0m         \u001b[0margtypes\u001b[0m \u001b[1;33m=\u001b[0m \u001b[1;33m[\u001b[0m\u001b[1;33m]\u001b[0m\u001b[1;33m\u001b[0m\u001b[1;33m\u001b[0m\u001b[0m\n",
      "\u001b[1;31mTypingError\u001b[0m: Failed in nopython mode pipeline (step: nopython frontend)\n\u001b[1m\u001b[1m\u001b[1mInvalid use of type(CPUDispatcher(<function wrapped_fn at 0x00000226CF8AFAF0>)) with parameters (array(float32, 2d, C), array(int64, 1d, C), int32)\nKnown signatures:\n * (array(float64, 2d, C), array(int32, 1d, C), int32) -> array(float64, 1d, C)\n * (array(float32, 2d, C), array(int32, 1d, C), int32) -> array(float32, 1d, C)\u001b[0m\n\u001b[0m\u001b[1mDuring: resolving callee type: type(CPUDispatcher(<function wrapped_fn at 0x00000226CF8AFAF0>))\u001b[0m\n\u001b[0m\u001b[1mDuring: typing of call at <ipython-input-27-8195c5c7d8d3> (29)\n\u001b[0m\n\u001b[1m\nFile \"<ipython-input-27-8195c5c7d8d3>\", line 29:\u001b[0m\n\u001b[1mdef pelt(x, min_len, penalty, cost_fn, preprocess_fn):\n    <source elided>\n        _r = np.flatnonzero(r)\n\u001b[1m        costs[_r] = cost_fn(sum_stats, _r, tau_star)\n\u001b[0m        \u001b[1m^\u001b[0m\u001b[0m\n"
     ]
    }
   ],
   "source": [
    "pelt(x.astype(np.float32), 10, 100.0, wrapped_fn, wrapped_preprocess_fn)"
   ]
  },
  {
   "cell_type": "code",
   "execution_count": 39,
   "id": "6988ce5b",
   "metadata": {},
   "outputs": [
    {
     "name": "stdout",
     "output_type": "stream",
     "text": [
      "6.63 s ± 117 ms per loop (mean ± std. dev. of 7 runs, 1 loop each)\n"
     ]
    }
   ],
   "source": [
    "%timeit pelt(x.astype(np.float32), 10, 100.0, wrapped_fn, wrapped_preprocess_fn)"
   ]
  },
  {
   "cell_type": "code",
   "execution_count": 12,
   "id": "d116693a",
   "metadata": {},
   "outputs": [],
   "source": [
    "# import rpy2's package module\n",
    "import rpy2.robjects.packages as rpackages\n",
    "import rpy2.robjects as robjects\n",
    "\n",
    "# import R's utility package\n",
    "utils = rpackages.importr('utils')\n",
    "rcp = rpackages.importr('changepoint')\n",
    "rcpnp = rpackages.importr('changepoint.np')\n",
    "\n",
    "r_series = robjects.FloatVector(np.array(x))"
   ]
  },
  {
   "cell_type": "code",
   "execution_count": 38,
   "id": "8b5a8026",
   "metadata": {},
   "outputs": [
    {
     "name": "stdout",
     "output_type": "stream",
     "text": [
      "3.18 s ± 75.3 ms per loop (mean ± std. dev. of 7 runs, 1 loop each)\n"
     ]
    }
   ],
   "source": [
    "%timeit rcpnp.cpt_np(r_series, penalty=\"Manual\", pen_value=100.0, method='PELT', nquantiles=k)"
   ]
  },
  {
   "cell_type": "code",
   "execution_count": 6,
   "id": "2ccd1a39",
   "metadata": {},
   "outputs": [],
   "source": [
    "py_pelt = pelt.py_func\n",
    "%load_ext line_profiler"
   ]
  },
  {
   "cell_type": "code",
   "execution_count": 29,
   "id": "854615d8",
   "metadata": {},
   "outputs": [],
   "source": [
    "def wrapped_fn(x, start, stop):\n",
    "    return nonparametric_cost.py_func(x, start, stop) * c"
   ]
  },
  {
   "cell_type": "code",
   "execution_count": 41,
   "id": "ea3ada28",
   "metadata": {},
   "outputs": [
    {
     "name": "stderr",
     "output_type": "stream",
     "text": [
      "<ipython-input-2-783dfd7e7493>:10: RuntimeWarning: divide by zero encountered in log\n",
      "  _h = _d * (f * np.log(f) + (1 - f) * np.log(1 - f))\n",
      "<ipython-input-2-783dfd7e7493>:10: RuntimeWarning: invalid value encountered in multiply\n",
      "  _h = _d * (f * np.log(f) + (1 - f) * np.log(1 - f))\n"
     ]
    }
   ],
   "source": [
    "%lprun -f nonparametric_cost.py_func py_pelt(x, 10, 100.0, nonparametric_cost.py_func, wrapped_preprocess_fn)"
   ]
  },
  {
   "cell_type": "code",
   "execution_count": 44,
   "id": "4cb29291",
   "metadata": {},
   "outputs": [],
   "source": [
    "parametric_sig = ['f8[::1](f8[:, ::1], i4[::1], i4)', 'f4[::1](f4[:, ::1], i4[::1], i4)']\n",
    "#@nb.njit(parametric_sig, fastmath=True)\n",
    "@nb.njit(fastmath=True)\n",
    "def normal_mean_var_cost(x, start, end):\n",
    "    _x = x[end, :] - x[start, :]\n",
    "    _pi_const = x.dtype.type(np.log(2 * np.pi))\n",
    "    return _x[:, 3] * (_pi_const + np.log(np.fmax((_x[:, 1] - ((_x[:, 0] * _x[:, 0]) / _x[:, 3]))/ _x[:, 3], x.dtype.type(1e-8)) + 1))\n",
    "\n",
    "#@nb.njit(parametric_sig, fastmath=True)\n",
    "@nb.njit(fastmath=True)\n",
    "def wrapped_param_fn(x, start, stop):\n",
    "    return normal_mean_var_cost(x, start, stop) + x.dtype.type(100.0)\n",
    "\n",
    "#@nb.njit(['f8[:, ::1](f8[::1])', 'f4[:, ::1](f4[::1])'], fastmath=True)\n",
    "@nb.njit(fastmath=True)\n",
    "def create_summary_stats(x):\n",
    "    n = x.shape[0]\n",
    "    start_val = x.dtype.type(0)\n",
    "    sum_stats = np.stack((np.append(start_val, x.cumsum()),\n",
    "                          np.append(start_val, (x ** 2).cumsum()),\n",
    "                          np.append(start_val, ((x - x.mean()) ** 2).cumsum()),\n",
    "                          np.arange(0, n + 1, dtype=x.dtype)\n",
    "                         ),\n",
    "                         axis=-1)\n",
    "    return sum_stats"
   ]
  },
  {
   "cell_type": "code",
   "execution_count": 45,
   "id": "3858b98b",
   "metadata": {},
   "outputs": [
    {
     "data": {
      "text/plain": [
       "array([1000, 2250])"
      ]
     },
     "execution_count": 45,
     "metadata": {},
     "output_type": "execute_result"
    }
   ],
   "source": [
    "pelt(x.astype(np.float32), 10, 100.0, wrapped_param_fn, create_summary_stats)"
   ]
  },
  {
   "cell_type": "code",
   "execution_count": 46,
   "id": "703bb64b",
   "metadata": {},
   "outputs": [
    {
     "name": "stdout",
     "output_type": "stream",
     "text": [
      "224 ms ± 3.04 ms per loop (mean ± std. dev. of 7 runs, 1 loop each)\n"
     ]
    }
   ],
   "source": [
    "%timeit pelt(x.astype(np.float32), 10, 100.0, wrapped_param_fn, create_summary_stats)"
   ]
  },
  {
   "cell_type": "code",
   "execution_count": 47,
   "id": "719dbc73",
   "metadata": {},
   "outputs": [],
   "source": [
    "%lprun -f pelt.py_func pelt.py_func(x.astype(np.float32), 10, 100.0, normal_mean_var_cost, create_summary_stats)"
   ]
  },
  {
   "cell_type": "code",
   "execution_count": 13,
   "id": "88080ce8",
   "metadata": {},
   "outputs": [
    {
     "name": "stdout",
     "output_type": "stream",
     "text": [
      "105 ms ± 948 µs per loop (mean ± std. dev. of 7 runs, 10 loops each)\n"
     ]
    }
   ],
   "source": [
    "%timeit np.array(rcp.cpt_meanvar(r_series, penalty=\"Manual\", pen_value=100.0, method='PELT', test_stat='Normal'))"
   ]
  }
 ],
 "metadata": {
  "kernelspec": {
   "display_name": "Python 3",
   "language": "python",
   "name": "python3"
  },
  "language_info": {
   "codemirror_mode": {
    "name": "ipython",
    "version": 3
   },
   "file_extension": ".py",
   "mimetype": "text/x-python",
   "name": "python",
   "nbconvert_exporter": "python",
   "pygments_lexer": "ipython3",
   "version": "3.9.6"
  }
 },
 "nbformat": 4,
 "nbformat_minor": 5
}
