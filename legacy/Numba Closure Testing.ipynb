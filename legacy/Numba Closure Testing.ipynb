{
 "cells": [
  {
   "cell_type": "code",
   "execution_count": 1,
   "id": "02362733",
   "metadata": {},
   "outputs": [],
   "source": [
    "from time import time\n",
    "import numba as nb\n",
    "import numpy as np"
   ]
  },
  {
   "cell_type": "code",
   "execution_count": 2,
   "id": "9b43d79f",
   "metadata": {},
   "outputs": [],
   "source": [
    "test_series = np.random.normal(0, 10, (10000000,))"
   ]
  },
  {
   "cell_type": "code",
   "execution_count": 3,
   "id": "4715043f",
   "metadata": {},
   "outputs": [],
   "source": [
    "class Cost:\n",
    "    \n",
    "    def __init__(self, k):\n",
    "        self.k = k\n",
    "    \n",
    "    def fit(self, x):\n",
    "        y = np.vstack([x.cumsum(), x.cumsum() ** 2])\n",
    "        b = np.pi * x.mean()\n",
    "        return self.make_cost(y, b, self.k)\n",
    "    \n",
    "    @staticmethod\n",
    "    def make_cost(x, b, k):\n",
    "\n",
    "        @nb.njit([(nb.typeof(100), nb.typeof(100),)], fastmath=True)\n",
    "        def _cost_fn(start, end):\n",
    "            return np.sin((((b * x[:, start: end]) - b) / k).sum(axis=0))\n",
    "\n",
    "        return _cost_fn"
   ]
  },
  {
   "cell_type": "code",
   "execution_count": 4,
   "id": "216d6928",
   "metadata": {},
   "outputs": [],
   "source": [
    "def seg_fn(fn, pen):\n",
    "    return np.argmin(30 * np.pi * fn(0, 100000) + pen)"
   ]
  },
  {
   "cell_type": "code",
   "execution_count": 5,
   "id": "d8dc9c1f",
   "metadata": {},
   "outputs": [],
   "source": [
    "class CP:\n",
    "    \n",
    "    def __init__(self, seg_fn, cost):\n",
    "        self.seg_fn = seg_fn\n",
    "        self.cost = cost\n",
    "    \n",
    "    def fit(self, x):\n",
    "        cost_fn = self.cost.fit(x)\n",
    "        seg_fn = self.seg_fn\n",
    "        return_type = nb.typeof(np.argmin([100]))\n",
    "        nb_seg_fn = nb.njit(seg_fn, fastmath=True)\n",
    "        nb_seg_fn.compile(return_type(nb.typeof(cost_fn), nb.typeof(100),))\n",
    "        self.cp_fn = nb.njit(lambda pen: nb_seg_fn(cost_fn, pen))\n",
    "        self.cp_fn.compile(return_type(nb.typeof(100),))\n",
    "        return self\n",
    "    \n",
    "    def predict(self, pen):\n",
    "        return self.cp_fn(pen)"
   ]
  },
  {
   "cell_type": "code",
   "execution_count": 6,
   "id": "da2d5572",
   "metadata": {},
   "outputs": [
    {
     "data": {
      "text/plain": [
       "11975"
      ]
     },
     "execution_count": 6,
     "metadata": {},
     "output_type": "execute_result"
    }
   ],
   "source": [
    "cp = CP(seg_fn, Cost(10)).fit(test_series)\n",
    "cp.predict(100)"
   ]
  },
  {
   "cell_type": "code",
   "execution_count": 7,
   "id": "6289e090",
   "metadata": {},
   "outputs": [],
   "source": [
    "# Replacing with jitclass\n",
    "spec = [\n",
    "    ('k', nb.typeof(10)),\n",
    "    ('y', nb.typeof(np.vstack([test_series.cumsum(), test_series.cumsum() ** 2]))),\n",
    "    ('b', nb.typeof(np.pi * test_series.mean()))\n",
    "]\n",
    "\n",
    "@nb.experimental.jitclass(spec)\n",
    "class Cost2:\n",
    "    \n",
    "    def __init__(self, k):\n",
    "        self.k = k\n",
    "    \n",
    "    def fit(self, x):\n",
    "        self.y = np.vstack((x.cumsum(), x.cumsum() ** 2))\n",
    "        self.b = np.pi * x.mean()\n",
    "    \n",
    "    def predict(self, start, end):\n",
    "        return np.sin((((self.b * self.y[:, start: end]) - self.b) / self.k).sum(axis=0))"
   ]
  },
  {
   "cell_type": "code",
   "execution_count": 8,
   "id": "ee2c5b47",
   "metadata": {},
   "outputs": [],
   "source": [
    "class CP2:\n",
    "    \n",
    "    predict_nb = None\n",
    "\n",
    "    def __init__(self, cost):\n",
    "        self.cost = cost\n",
    "    \n",
    "    def fit(self, x):\n",
    "        self.cost.fit(x)\n",
    "        cost_obj = self.cost\n",
    "        return_type = nb.typeof(np.argmin([100]))\n",
    "        self._predict_nb = nb.njit(lambda cost, pen: np.argmin(30 * np.pi * cost.predict(0, 100000) + pen), fastmath=True, parallel=True, nogil=True, boundscheck=False, inline='always')\n",
    "        self._predict_nb.compile(return_type(nb.typeof(self.cost), nb.typeof(100),))\n",
    "        return self\n",
    "    \n",
    "    def predict(self, pen):\n",
    "        return self._predict_nb(self.cost, pen)"
   ]
  },
  {
   "cell_type": "code",
   "execution_count": 9,
   "id": "2a60eefd",
   "metadata": {},
   "outputs": [
    {
     "data": {
      "text/plain": [
       "11975"
      ]
     },
     "execution_count": 9,
     "metadata": {},
     "output_type": "execute_result"
    }
   ],
   "source": [
    "cp2 = CP2(Cost2(10)).fit(test_series)\n",
    "cp2.predict(100)"
   ]
  },
  {
   "cell_type": "code",
   "execution_count": 10,
   "id": "faad182f",
   "metadata": {},
   "outputs": [],
   "source": [
    "Cost3Type = nb.deferred_type()\n",
    "\n",
    "spec = [\n",
    "    ('k', nb.typeof(10)),\n",
    "    ('y', nb.typeof(np.vstack([test_series.cumsum(), test_series.cumsum() ** 2]))),\n",
    "    ('b', nb.typeof(np.pi * test_series.mean()))\n",
    "]\n",
    "\n",
    "@nb.experimental.jitclass(spec)\n",
    "class Cost3:\n",
    "    \n",
    "    def __init__(self, k):\n",
    "        self.k = k\n",
    "    \n",
    "    def fit(self, x):\n",
    "        self.y = np.vstack((x.cumsum(), x.cumsum() ** 2))\n",
    "        self.b = np.pi * x.mean()\n",
    "        return self\n",
    "\n",
    "Cost3Type.define(Cost3.class_type.instance_type)\n",
    "\n",
    "@nb.extending.overload_method(nb.types.misc.ClassInstanceType, 'predict', jit_options={'cache': False, 'fastmath': True, 'parallel': False, 'nogil': False, 'boundscheck': False, 'inline': 'always'})\n",
    "def cost_fast(inst, start, end):\n",
    "    if inst is Cost3.class_type.instance_type:\n",
    "\n",
    "        def impl(inst, start, end):\n",
    "            return np.sin((((inst.b * inst.y[:, start: end]) - inst.b) / inst.k).sum(axis=0))\n",
    "\n",
    "        return impl"
   ]
  },
  {
   "cell_type": "code",
   "execution_count": 11,
   "id": "a3aad3aa",
   "metadata": {},
   "outputs": [
    {
     "data": {
      "text/plain": [
       "11975"
      ]
     },
     "execution_count": 11,
     "metadata": {},
     "output_type": "execute_result"
    }
   ],
   "source": [
    "cp3 = CP2(Cost3(10)).fit(test_series)\n",
    "cp3.predict(100)"
   ]
  },
  {
   "cell_type": "code",
   "execution_count": 12,
   "id": "e5730cb1",
   "metadata": {},
   "outputs": [
    {
     "name": "stdout",
     "output_type": "stream",
     "text": [
      "1.17 ms ± 18.1 µs per loop (mean ± std. dev. of 7 runs, 1000 loops each)\n"
     ]
    }
   ],
   "source": [
    "%timeit cp.predict(100)"
   ]
  },
  {
   "cell_type": "code",
   "execution_count": 13,
   "id": "fda8d1db",
   "metadata": {},
   "outputs": [
    {
     "name": "stdout",
     "output_type": "stream",
     "text": [
      "1.53 ms ± 107 µs per loop (mean ± std. dev. of 7 runs, 1000 loops each)\n"
     ]
    }
   ],
   "source": [
    "%timeit cp2.predict(100)"
   ]
  },
  {
   "cell_type": "code",
   "execution_count": 14,
   "id": "001a5af9",
   "metadata": {},
   "outputs": [
    {
     "name": "stdout",
     "output_type": "stream",
     "text": [
      "2.21 ms ± 431 µs per loop (mean ± std. dev. of 7 runs, 1000 loops each)\n"
     ]
    }
   ],
   "source": [
    "%timeit cp3.predict(100)"
   ]
  }
 ],
 "metadata": {
  "kernelspec": {
   "display_name": "Python 3",
   "language": "python",
   "name": "python3"
  },
  "language_info": {
   "codemirror_mode": {
    "name": "ipython",
    "version": 3
   },
   "file_extension": ".py",
   "mimetype": "text/x-python",
   "name": "python",
   "nbconvert_exporter": "python",
   "pygments_lexer": "ipython3",
   "version": "3.9.6"
  }
 },
 "nbformat": 4,
 "nbformat_minor": 5
}
