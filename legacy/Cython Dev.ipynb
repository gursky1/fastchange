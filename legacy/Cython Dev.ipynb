{
 "cells": [
  {
   "cell_type": "code",
   "execution_count": 5,
   "id": "8bab3433",
   "metadata": {},
   "outputs": [],
   "source": [
    "# Importing packages\n",
    "from functools import partial\n",
    "from time import time\n",
    "import numpy as np\n",
    "from pychange.segment import create_summary_stats, binary_segmentation\n",
    "%load_ext Cython"
   ]
  },
  {
   "cell_type": "code",
   "execution_count": 4,
   "id": "b5ec0930",
   "metadata": {},
   "outputs": [],
   "source": [
    "# Creating test series\n",
    "x = np.concatenate([np.random.normal(-1, 1, (2000,)),\n",
    "                    np.random.normal(1, 2, (2000,)),\n",
    "                    np.random.normal(-1, 1, (2000,)),\n",
    "                    np.random.normal(1, 2, (2000,)),\n",
    "                    np.random.normal(-1, 1, (2000,)),\n",
    "                    np.random.normal(1, 2, (2000,))])\n",
    "\n",
    "# Creating summary stats\n",
    "sum_stats = create_summary_stats(x)\n",
    "sum_stats[:, 3] = sum_stats[:, 3] + 1"
   ]
  },
  {
   "cell_type": "code",
   "execution_count": 9,
   "id": "d15fd76c",
   "metadata": {},
   "outputs": [],
   "source": [
    "%%cython\n",
    "# Importing packages\n",
    "import numpy as np \n",
    "cimport numpy as np \n",
    "cimport cython\n",
    "\n",
    "DTYPE = np.float64\n",
    "ITYPE = np.int64\n",
    "ctypedef np.float64_t DTYPE_t\n",
    "ctypedef np.int64_t ITYPE_t\n",
    "\n",
    "from libc.math cimport log, M_PI, fmax\n",
    "\n",
    "@cython.wraparound(False)\n",
    "@cython.binding(False)\n",
    "@cython.boundscheck(False)\n",
    "@cython.cdivision(True)\n",
    "@cython.nonecheck(False)\n",
    "@cython.overflowcheck(False)\n",
    "cpdef np.ndarray[DTYPE_t, ndim=1] cython_normal_mean_var_cost(np.ndarray[DTYPE_t, ndim=2] x):\n",
    "    return x[:, 3] * (np.log(2 * M_PI) + np.log(fmax((x[:, 1] - ((x[:, 0] * x[:, 0]) / x[:, 3]))/ x[:, 3], 1e-8) + 1))"
   ]
  },
  {
   "cell_type": "code",
   "execution_count": 10,
   "id": "05e51b2d",
   "metadata": {},
   "outputs": [
    {
     "ename": "TypeError",
     "evalue": "only size-1 arrays can be converted to Python scalars",
     "output_type": "error",
     "traceback": [
      "\u001b[0;31m---------------------------------------------------------------------------\u001b[0m",
      "\u001b[0;31mTypeError\u001b[0m                                 Traceback (most recent call last)",
      "\u001b[0;32m<ipython-input-10-dd94d83c29fc>\u001b[0m in \u001b[0;36m<module>\u001b[0;34m\u001b[0m\n\u001b[0;32m----> 1\u001b[0;31m \u001b[0mcython_normal_mean_var_cost\u001b[0m\u001b[0;34m(\u001b[0m\u001b[0msum_stats\u001b[0m\u001b[0;34m)\u001b[0m\u001b[0;34m\u001b[0m\u001b[0;34m\u001b[0m\u001b[0m\n\u001b[0m",
      "\u001b[0;32m_cython_magic_42c1f8b35d856fe16e5722617d3b6d4f.pyx\u001b[0m in \u001b[0;36m_cython_magic_42c1f8b35d856fe16e5722617d3b6d4f.cython_normal_mean_var_cost\u001b[0;34m()\u001b[0m\n",
      "\u001b[0;32m_cython_magic_42c1f8b35d856fe16e5722617d3b6d4f.pyx\u001b[0m in \u001b[0;36m_cython_magic_42c1f8b35d856fe16e5722617d3b6d4f.cython_normal_mean_var_cost\u001b[0;34m()\u001b[0m\n",
      "\u001b[0;31mTypeError\u001b[0m: only size-1 arrays can be converted to Python scalars"
     ]
    }
   ],
   "source": [
    "cython_normal_mean_var_cost(sum_stats)"
   ]
  }
 ],
 "metadata": {
  "kernelspec": {
   "display_name": "Python 3",
   "language": "python",
   "name": "python3"
  },
  "language_info": {
   "codemirror_mode": {
    "name": "ipython",
    "version": 3
   },
   "file_extension": ".py",
   "mimetype": "text/x-python",
   "name": "python",
   "nbconvert_exporter": "python",
   "pygments_lexer": "ipython3",
   "version": "3.9.5"
  }
 },
 "nbformat": 4,
 "nbformat_minor": 5
}
