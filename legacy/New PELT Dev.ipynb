{
 "cells": [
  {
   "cell_type": "code",
   "execution_count": 1,
   "id": "b32d4299",
   "metadata": {},
   "outputs": [],
   "source": [
    "# Importing packages\n",
    "from time import time\n",
    "import math\n",
    "import numpy as np\n",
    "import numba as nb\n",
    "import pychange\n",
    "\n",
    "%load_ext line_profiler"
   ]
  },
  {
   "cell_type": "code",
   "execution_count": 2,
   "id": "2200749c",
   "metadata": {},
   "outputs": [],
   "source": [
    "# Creating synthentic data\n",
    "size = 500\n",
    "k = 30\n",
    "min_len = 10\n",
    "max_cp = 40\n",
    "pen = 100\n",
    "test_series = np.hstack([np.random.normal(0, 1, (size,)),\n",
    "                         np.random.normal(6, 1, (size,)),\n",
    "                         np.random.normal(0, 2, (size,)),\n",
    "                         np.random.normal(-4, 1, (size,)),\n",
    "                         np.random.normal(3, 1, (size,)),\n",
    "                         ] * 4)"
   ]
  },
  {
   "cell_type": "code",
   "execution_count": 77,
   "id": "fe601e16",
   "metadata": {},
   "outputs": [],
   "source": [
    "@nb.experimental.jitclass([\n",
    "    ('k', nb.int64),\n",
    "    ('n', nb.int64),\n",
    "    ('y', nb.float64[:, :]),\n",
    "    ('c', nb.float64)\n",
    "])\n",
    "class NonParametricCost:\n",
    "    \n",
    "    def __init__(self, k):\n",
    "        self.k = k\n",
    "    \n",
    "    def fit(self, x):\n",
    "        self.n = x.shape[0]\n",
    "        partial_sums = np.zeros(shape=(self.n + 1, self.k), dtype=x.dtype)\n",
    "        sorted_data = np.sort(x)\n",
    "\n",
    "        for i in np.arange(self.k):\n",
    "\n",
    "            z = -1 + (2 * i + 1.0) / self.k\n",
    "            p = 1.0 / (1 + (2 * self.n - 1) ** (-z))\n",
    "            t = sorted_data[int((self.n - 1) * p)]\n",
    "\n",
    "            for j in np.arange(1, self.n + 1):\n",
    "\n",
    "                partial_sums[j, i] = partial_sums[j - 1, i]\n",
    "                if x[j - 1] < t:\n",
    "                    partial_sums[j, i] += 2\n",
    "                if x[j - 1] == t:\n",
    "                    partial_sums[j, i] += 1\n",
    "        self.c = 2.0 * (-np.log(2 * self.n - 1)) / self.k\n",
    "        self.y = partial_sums\n",
    "        return self\n",
    "    \n",
    "    def cost(self, start, end):\n",
    "        cost = 0.0\n",
    "        ys = self.y[start, :]\n",
    "        ye = self.y[end, :]\n",
    "        for j in range(self.k):\n",
    "            a_sum = ye[j] - ys[j]\n",
    "            if a_sum != 0.0:\n",
    "                diff = end - start\n",
    "                a_half = 0.5 * a_sum\n",
    "                if a_half != diff:\n",
    "                    f = a_half / diff\n",
    "                    fi = 1.0 - f\n",
    "                    flog = math.log(f)\n",
    "                    filog = math.log(fi)\n",
    "                    t = f * flog\n",
    "                    ti = fi * filog\n",
    "                    l = t + ti\n",
    "                    ld = diff * l\n",
    "                    cost += ld\n",
    "        return self.c * cost"
   ]
  },
  {
   "cell_type": "code",
   "execution_count": 24,
   "id": "dcfe0e67",
   "metadata": {},
   "outputs": [],
   "source": [
    "@nb.njit(fastmath=True, nogil=True)\n",
    "def sdt_segmentation(cost, min_size, jump, penalty, max_exp_cp):\n",
    "    n_samples = cost.n\n",
    "    times = np.arange(0, n_samples + jump, jump)\n",
    "    times[-1] = n_samples\n",
    "\n",
    "    min_idx_diff = math.ceil(min_size/jump)\n",
    "\n",
    "    if len(times) <= min_idx_diff:\n",
    "        return np.empty(0, dtype=np.int64)\n",
    "\n",
    "    costs = np.full(len(times), np.inf)\n",
    "    costs[0] = 0\n",
    "\n",
    "    le = len(times) - min_idx_diff\n",
    "    partitions = np.empty(le * max_exp_cp, dtype=np.int64)\n",
    "    partition_starts = np.zeros(len(times) + 1, dtype=np.int64)\n",
    "\n",
    "    start_idx = np.zeros(1, dtype=np.int64)\n",
    "    for new_start, end_idx in enumerate(range(min_idx_diff, len(times))):\n",
    "        new_costs = np.empty_like(start_idx, dtype=np.float64)\n",
    "        for j, s in enumerate(start_idx):\n",
    "            new_costs[j] = cost.cost(times[s], times[end_idx]) + penalty\n",
    "        new_costs += costs[start_idx]\n",
    "        best_idx = np.argmin(new_costs)\n",
    "        best_cost = new_costs[best_idx]\n",
    "        best_real_idx = start_idx[best_idx]\n",
    "        if best_real_idx == 0:\n",
    "            best_part = np.empty(0, dtype=np.int64)\n",
    "        else:\n",
    "            best_part_start = partition_starts[best_real_idx]\n",
    "            best_part_end = partition_starts[best_real_idx+1]\n",
    "            best_part = partitions[best_part_start:best_part_end]\n",
    "\n",
    "        if end_idx == len(times) - 1:\n",
    "            return times[best_part]\n",
    "\n",
    "        new_partition = np.empty(len(best_part)+1, dtype=np.int64)\n",
    "        new_partition[:-1] = best_part\n",
    "        new_partition[-1] = end_idx\n",
    "\n",
    "        new_part_start = partition_starts[end_idx]\n",
    "        new_part_end = new_part_start + len(new_partition)\n",
    "\n",
    "        while new_part_end > partitions.size:\n",
    "            old_part = partitions\n",
    "            partitions = np.empty(2 * old_part.size, dtype=np.int64)\n",
    "            partitions[:old_part.size] = old_part\n",
    "\n",
    "        partitions[new_part_start:new_part_end] = new_partition\n",
    "        partition_starts[end_idx+1] = new_part_end\n",
    "\n",
    "        costs[end_idx] = best_cost\n",
    "\n",
    "        s2 = start_idx[new_costs <= best_cost + penalty]\n",
    "        start_idx = np.empty(len(s2) + 1, dtype=np.int64)\n",
    "        start_idx[:-1] = s2\n",
    "        start_idx[-1] = new_start + 1"
   ]
  },
  {
   "cell_type": "code",
   "execution_count": 33,
   "id": "17292c22",
   "metadata": {},
   "outputs": [],
   "source": [
    "def binary_segmentation(cost, min_len, max_cps, penalty):\n",
    "    \"\"\"Runs binary segmentation on time series\"\"\"\n",
    "\n",
    "    # Setting up summary statistics and objects\n",
    "    n = cost.n\n",
    "    is_candidate = np.arange(min_len, n - min_len)\n",
    "    cps = np.zeros(shape=(n,))\n",
    "    costs = np.full(shape=n, fill_value=0.0)\n",
    "    cps[-1] = 1\n",
    "    cps[0] = 1\n",
    "    costs[-1] = cost.cost(0, n)\n",
    "\n",
    "    # Iterating through changepoints until convergence\n",
    "    while True:\n",
    "\n",
    "        # Single Loop Iteration\n",
    "        _cps = np.flatnonzero(cps)\n",
    "        best_cand, best_cost, best_next_cost, best_next = 0, 0, 0, 0\n",
    "        best_total_cost = costs.sum()\n",
    "\n",
    "        # Looping over candidates\n",
    "        for c1, c2 in np.stack((_cps[:-1], _cps[1:]), axis=-1):\n",
    "            _cands = is_candidate[(is_candidate > c1) & (is_candidate < c2)]\n",
    "            if _cands.shape[0] == 0:\n",
    "                continue\n",
    "            _costs = np.empty(shape=(_cands.shape[0], 3), dtype=np.float64)\n",
    "            _other_costs = costs[: (c1 + 1)].sum() + costs[(c2 + 1):].sum()\n",
    "            _costs[:, 0] = [cost.cost(c1, i) for i in _cands]\n",
    "            _costs[:, 1] = [cost.cost(i, c2) for i in _cands]\n",
    "            _costs[:, 2] = _costs[:, 0] + _costs[:, 1] + _other_costs + penalty\n",
    "            _best_cand = np.argmin(_costs[:, 2])\n",
    "            if _costs[_best_cand, 2] < best_total_cost:\n",
    "                best_cand = _cands[_best_cand]\n",
    "                best_cost = _costs[_best_cand, 0]\n",
    "                best_next_cost = _costs[_best_cand, 1]\n",
    "                best_total_cost = _costs[_best_cand, 2]\n",
    "                best_next = c2\n",
    "\n",
    "        if best_cand == 0:\n",
    "            break\n",
    "        else:\n",
    "            cps[best_cand] = True\n",
    "            costs[best_cand] = best_cost\n",
    "            costs[best_next] = best_next_cost\n",
    "            is_candidate[(best_cand - min_len): (best_cand + min_len)] = False\n",
    "            if np.flatnonzero(cps).shape[0] > max_cp + 2:\n",
    "                break\n",
    "        \n",
    "    return np.flatnonzero(cps)[1:-1]"
   ]
  },
  {
   "cell_type": "code",
   "execution_count": 45,
   "id": "dda5d558",
   "metadata": {},
   "outputs": [],
   "source": [
    "# Replacing with jitclass\n",
    "# double sigsq=(x2-((x*x)/n))/n;\n",
    "#   if(sigsq<=0){sigsq=0.00000000001;}\n",
    "#   return(n*(log(2*M_PI)+log(sigsq)+1));\n",
    "\n",
    "@nb.experimental.jitclass([\n",
    "    ('n', nb.typeof(test_series.shape[0])),\n",
    "    ('y1', nb.typeof(np.append(0, test_series.cumsum()))),\n",
    "    ('y2', nb.typeof(np.append(0, (test_series ** 2).cumsum())))\n",
    "])\n",
    "class NormalMeanVarCost:\n",
    "    \n",
    "    def __init__(self):\n",
    "        pass\n",
    "    \n",
    "    def fit(self, x):\n",
    "        self.n = x.shape[0]\n",
    "        self.y1 = np.append(0, x.cumsum())\n",
    "        self.y2 = np.append(0, (x ** 2).cumsum())\n",
    "        return self\n",
    "    \n",
    "    def cost(self, start, end):\n",
    "        \n",
    "        n = end - start\n",
    "        d1 = self.y1[end] - self.y1[start]\n",
    "        d2 = self.y2[end] - self.y2[start]\n",
    "        a1 = (d1 ** 2) / n\n",
    "        a2 = d2 - a1\n",
    "        a3 = a2 / n\n",
    "        if a3 <= 0.0:\n",
    "            a3 = 1e-8\n",
    "        a4 = 2.8378771 + math.log(a3)\n",
    "        return n * a4"
   ]
  },
  {
   "cell_type": "code",
   "execution_count": 58,
   "id": "e4062cbc",
   "metadata": {},
   "outputs": [],
   "source": [
    "@nb.experimental.jitclass([\n",
    "    ('n', nb.int64),\n",
    "    ('y1', nb.float64[:]),\n",
    "    ('y2', nb.float64[:]),\n",
    "])\n",
    "class NormalMeanCost:\n",
    "    \n",
    "    def __init__(self):\n",
    "        pass\n",
    "    \n",
    "    def fit(self, x):\n",
    "        self.n = x.shape[0]\n",
    "        self.y1 = np.append(0, x.cumsum())\n",
    "        self.y2 = np.append(0, (x ** 2).cumsum())\n",
    "        return self\n",
    "    \n",
    "    def cost(self, start, end):\n",
    "        \n",
    "        n = end - start\n",
    "        d1 = self.y1[end] - self.y1[start]\n",
    "        d2 = self.y2[end] - self.y2[start]\n",
    "        a1 = (d1 ** 2) / n\n",
    "        return d2 - a1"
   ]
  },
  {
   "cell_type": "code",
   "execution_count": 47,
   "id": "58ba3d5c",
   "metadata": {},
   "outputs": [],
   "source": [
    "@nb.experimental.jitclass([\n",
    "    ('n', nb.typeof(test_series.shape[0])),\n",
    "    ('y1', nb.typeof(np.append(0, test_series.cumsum()))),\n",
    "    ('y2', nb.typeof(np.append(0, (test_series ** 2).cumsum()))),\n",
    "    ('y3', nb.typeof(np.append(0, ((test_series - test_series.mean()) ** 2).cumsum())))\n",
    "])\n",
    "class NormalVarCost:\n",
    "    \n",
    "    def __init__(self):\n",
    "        pass\n",
    "    \n",
    "    def fit(self, x):\n",
    "        self.n = x.shape[0]\n",
    "        self.y1 = np.append(0, x.cumsum())\n",
    "        self.y2 = np.append(0, (x ** 2).cumsum())\n",
    "        self.y3 = np.append(0, ((x - x.mean()) ** 2).cumsum())\n",
    "        return self\n",
    "    \n",
    "    def cost(self, start, end):\n",
    "        \n",
    "        n = end - start\n",
    "        d1 = self.y1[end] - self.y1[start]\n",
    "        d2 = self.y2[end] - self.y2[start]\n",
    "        d3 = self.y3[end] - self.y3[start]\n",
    "        a1 = math.log(d3 / n)\n",
    "        a2 = 2.8378771 + math.log(a1)\n",
    "        return n * a2"
   ]
  },
  {
   "cell_type": "code",
   "execution_count": 67,
   "id": "145f64ed",
   "metadata": {},
   "outputs": [],
   "source": [
    "@nb.experimental.jitclass([\n",
    "    ('n', nb.int64),\n",
    "    ('y1', nb.float64[:]),\n",
    "])\n",
    "class PoissonMeanVarCost:\n",
    "    \n",
    "    def __init__(self):\n",
    "        pass\n",
    "    \n",
    "    def fit(self, x):\n",
    "        self.n = x.shape[0]\n",
    "        self.y1 = np.append(0, x.cumsum())\n",
    "        return self\n",
    "    \n",
    "    def cost(self, start, end):\n",
    "\n",
    "        d1 = self.y1[end] - self.y1[start]\n",
    "        if d1 == 0.0:\n",
    "            return 0.0\n",
    "        n = end - start\n",
    "        a1 = math.log(n) - math.log(d1)\n",
    "        return 2.0 * d1 * a1"
   ]
  },
  {
   "cell_type": "code",
   "execution_count": 42,
   "id": "1bdbfaf8",
   "metadata": {},
   "outputs": [],
   "source": [
    "@nb.njit(fastmath=True, nogil=True)\n",
    "def segmentation(cost, min_len, jump, pen, max_cps):\n",
    "    \n",
    "    # Initializing parameters for segmentation\n",
    "    n = cost.n\n",
    "    cands = np.arange(0, n + jump, jump)\n",
    "    cands[-1] = n\n",
    "    n_cands = len(cands)\n",
    "    min_cand_len = math.ceil(min_len / jump)\n",
    "    \n",
    "    # Initializing cost matrix\n",
    "    costs = np.full(n_cands, fill_value=np.inf, dtype=np.float64)\n",
    "    costs[0] = 0.0\n",
    "    \n",
    "    # Initializing partitions for cp locations\n",
    "    n_cps = n_cands * (max_cps - min_cand_len)\n",
    "    cps = np.empty(n_cps, dtype=np.int64)\n",
    "    cps_starts = np.zeros(n_cands + 1, dtype=np.int64)\n",
    "    r = np.array([0], dtype=np.int64)\n",
    "    \n",
    "    # Starting loop for search\n",
    "    tau_star_range = range(min_cand_len, n_cands)\n",
    "    for tau_ind, tau_star in enumerate(tau_star_range):\n",
    "        \n",
    "        # Initializing for cost calc\n",
    "        r_len = len(r)\n",
    "        f = np.empty(r_len, dtype=np.float64)\n",
    "        \n",
    "        # Calculating each candidate cost\n",
    "        for j in range(r_len):\n",
    "            tau = r[j]\n",
    "            f[j] = cost.cost(cands[tau], cands[tau_star]) + costs[tau] + pen\n",
    "\n",
    "        # Finding best candidate\n",
    "        best_tau = np.argmin(f)\n",
    "        best_cost = f[best_tau]\n",
    "        best_r = r[best_tau]\n",
    "        \n",
    "        # Checking for zero condition\n",
    "        if best_r == 0:\n",
    "            r_part = np.empty(0, dtype=np.int64)\n",
    "        else:\n",
    "            r_start = cps_starts[best_r]\n",
    "            r_end = cps_starts[best_r + 1]\n",
    "            r_part = cps[r_start: r_end]\n",
    "        \n",
    "        # Checking if we are done segmenting\n",
    "        if tau_star == n_cands - 1:\n",
    "            return cands[r_part]\n",
    "        \n",
    "        # Updating changepoint partitions\n",
    "        _part_len = len(r_part) + 1\n",
    "        _part = np.empty(_part_len, dtype=np.int64)\n",
    "        _part[: -1] = r_part\n",
    "        _part[-1] = tau_star\n",
    "        _part_start = cps_starts[tau_star]\n",
    "        _part_end = _part_start + _part_len\n",
    "        \n",
    "        # Checking if we need to expand the max changepoint limit\n",
    "        # TODO try replacing this with a typed list in numba\n",
    "        while _part_end > n_cps:\n",
    "            _cps = cps\n",
    "            cps = np.empty(n_cps * 2, dtype=np.int64)\n",
    "            cps[: n_cps] = _cps\n",
    "            n_cps *= 2\n",
    "            \n",
    "        cps[_part_start: _part_end] = _part\n",
    "        cps_starts[tau_star + 1] = _part_end\n",
    "        \n",
    "        costs[tau_star] = best_cost\n",
    "        \n",
    "        _r = r[f <= best_cost + pen]\n",
    "        r = np.empty(len(_r) + 1, dtype=np.int64)\n",
    "        r[: -1] = _r\n",
    "        r[-1] = tau_ind + 1"
   ]
  },
  {
   "cell_type": "code",
   "execution_count": 70,
   "id": "be47a0e5",
   "metadata": {},
   "outputs": [],
   "source": [
    "cost = NormalMeanVarCost().fit(test_series)"
   ]
  },
  {
   "cell_type": "code",
   "execution_count": 50,
   "id": "aa9d2104",
   "metadata": {},
   "outputs": [],
   "source": [
    "cost = NormalVarCost().fit(test_series)"
   ]
  },
  {
   "cell_type": "code",
   "execution_count": 59,
   "id": "8ea88ecd",
   "metadata": {},
   "outputs": [],
   "source": [
    "cost = NormalMeanCost().fit(test_series)"
   ]
  },
  {
   "cell_type": "code",
   "execution_count": 72,
   "id": "ba873522",
   "metadata": {},
   "outputs": [],
   "source": [
    "cost = PoissonMeanVarCost().fit(test_series)"
   ]
  },
  {
   "cell_type": "code",
   "execution_count": 79,
   "id": "777bd025",
   "metadata": {},
   "outputs": [],
   "source": [
    "cost = NonParametricCost(k).fit(test_series)"
   ]
  },
  {
   "cell_type": "code",
   "execution_count": 80,
   "id": "fd7312ea",
   "metadata": {},
   "outputs": [
    {
     "data": {
      "text/plain": [
       "array([ 500, 1000, 1500, 2000, 2500, 3000, 3500, 4000, 4500, 5000, 5500,\n",
       "       6000, 6500, 7000, 7500, 8000, 8500, 9000, 9500], dtype=int64)"
      ]
     },
     "execution_count": 80,
     "metadata": {},
     "output_type": "execute_result"
    }
   ],
   "source": [
    "segmentation(cost, 10, 1, 100, 30)"
   ]
  },
  {
   "cell_type": "code",
   "execution_count": 36,
   "id": "0fbf2ecd",
   "metadata": {},
   "outputs": [
    {
     "data": {
      "text/plain": [
       "array([ 500, 1000, 1500, 2000, 2500, 3000, 3500, 4000, 4500, 5000, 5500,\n",
       "       6000, 6500, 7000, 7500, 8000, 8500, 9000, 9500], dtype=int64)"
      ]
     },
     "execution_count": 36,
     "metadata": {},
     "output_type": "execute_result"
    }
   ],
   "source": [
    "sdt_segmentation(cost, 10, 1, pen, 30)"
   ]
  },
  {
   "cell_type": "code",
   "execution_count": 39,
   "id": "918877b0",
   "metadata": {},
   "outputs": [
    {
     "data": {
      "text/plain": [
       "array([ 500, 1000, 1500, 2000, 2500, 3000, 3500, 4000, 4500, 5000, 5500,\n",
       "       6000, 6500, 7000, 7500, 8000, 8500, 9000, 9500], dtype=int64)"
      ]
     },
     "execution_count": 39,
     "metadata": {},
     "output_type": "execute_result"
    }
   ],
   "source": [
    "binary_segmentation(cost, 10, 30, pen)"
   ]
  },
  {
   "cell_type": "code",
   "execution_count": 37,
   "id": "96a5ec17",
   "metadata": {},
   "outputs": [
    {
     "name": "stdout",
     "output_type": "stream",
     "text": [
      "5.62 ms ± 72.9 µs per loop (mean ± std. dev. of 7 runs, 100 loops each)\n"
     ]
    }
   ],
   "source": [
    "%timeit segmentation(cost, 10, 10, pen, 30)"
   ]
  },
  {
   "cell_type": "code",
   "execution_count": 38,
   "id": "bf6df6c4",
   "metadata": {},
   "outputs": [
    {
     "name": "stdout",
     "output_type": "stream",
     "text": [
      "5.77 ms ± 52.2 µs per loop (mean ± std. dev. of 7 runs, 100 loops each)\n"
     ]
    }
   ],
   "source": [
    "%timeit sdt_segmentation(cost, 10, 10, pen, 30)"
   ]
  },
  {
   "cell_type": "code",
   "execution_count": 34,
   "id": "17cdbd6f",
   "metadata": {},
   "outputs": [],
   "source": [
    "py_seg = segmentation.py_func"
   ]
  },
  {
   "cell_type": "code",
   "execution_count": 35,
   "id": "4d73000a",
   "metadata": {},
   "outputs": [],
   "source": [
    "%lprun -f py_seg py_seg(cost, 10, 10, pen, 30)"
   ]
  }
 ],
 "metadata": {
  "kernelspec": {
   "display_name": "Python 3",
   "language": "python",
   "name": "python3"
  },
  "language_info": {
   "codemirror_mode": {
    "name": "ipython",
    "version": 3
   },
   "file_extension": ".py",
   "mimetype": "text/x-python",
   "name": "python",
   "nbconvert_exporter": "python",
   "pygments_lexer": "ipython3",
   "version": "3.9.6"
  }
 },
 "nbformat": 4,
 "nbformat_minor": 5
}
