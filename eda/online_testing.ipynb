{
 "cells": [
  {
   "cell_type": "code",
   "execution_count": 1,
   "metadata": {},
   "outputs": [
    {
     "name": "stderr",
     "output_type": "stream",
     "text": [
      "Unable to determine R home: [WinError 2] The system cannot find the file specified\n",
      "Unable to determine R library path: Command '('C:\\\\Program Files\\\\R\\\\R-4.1.1\\\\bin\\\\Rscript', '-e', 'cat(Sys.getenv(\"LD_LIBRARY_PATH\"))')' returned non-zero exit status 1.\n"
     ]
    }
   ],
   "source": [
    "# Importing pacakges\n",
    "import sys\n",
    "\n",
    "sys.path.append('..')\n",
    "\n",
    "import numpy as np\n",
    "\n",
    "from src.pychange.online import OnlineCP, StudentTProb, ConstantHazard\n",
    "from src.pychange.r import ROCP"
   ]
  },
  {
   "cell_type": "code",
   "execution_count": 2,
   "metadata": {},
   "outputs": [],
   "source": [
    "# Creating synthetic data\n",
    "data = np.hstack([\n",
    "    np.random.normal(0, 1, (1000,)),\n",
    "    np.random.normal(10, 1, (1000,)),\n",
    "    np.random.normal(0, 1, (1000,)),\n",
    "    np.random.normal(10, 1, (1000,)),\n",
    "    ])"
   ]
  },
  {
   "cell_type": "code",
   "execution_count": null,
   "metadata": {},
   "outputs": [],
   "source": [
    "# Using R\n",
    "class ROCP:\n",
    "\n",
    "    def __init__(self, **kwargs):\n",
    "        self.kwargs = kwargs\n",
    "    \n",
    "    def fit(self, signal):\n",
    "        _x = robjects.FloatVector(signal)\n",
    "        self.cp = rocp.onlineCPD(_x)\n",
    "        return self\n",
    "    \n",
    "    def predict(self):\n",
    "        return np.array(self.cp.rx2('changepoint_lists').rx2('colmaxes'))[0].astype(np.int64)[1:]\n"
   ]
  },
  {
   "cell_type": "code",
   "execution_count": 3,
   "metadata": {},
   "outputs": [
    {
     "data": {
      "text/plain": [
       "array([1001, 2001, 2733, 3001, 4001, 5001, 6001, 7001, 8001, 9001],\n",
       "      dtype=int64)"
      ]
     },
     "execution_count": 3,
     "metadata": {},
     "output_type": "execute_result"
    }
   ],
   "source": [
    "ROCP().fit(data).predict()"
   ]
  },
  {
   "cell_type": "code",
   "execution_count": 3,
   "metadata": {},
   "outputs": [
    {
     "data": {
      "text/plain": [
       "[1000, 2000, 3000]"
      ]
     },
     "execution_count": 3,
     "metadata": {},
     "output_type": "execute_result"
    }
   ],
   "source": [
    "OnlineCP(ConstantHazard(), StudentTProb()).update(data).get_cps()"
   ]
  },
  {
   "cell_type": "code",
   "execution_count": 3,
   "metadata": {},
   "outputs": [
    {
     "name": "stderr",
     "output_type": "stream",
     "text": [
      "Exception ignored from cffi callback <function _callback at 0x000001A4724E7670>:\n",
      "Traceback (most recent call last):\n",
      "  File \"C:\\Users\\15072\\anaconda3\\envs\\pychange\\lib\\site-packages\\rpy2\\rinterface_lib\\callbacks.py\", line 329, in _callback\n",
      "    try:\n",
      "KeyboardInterrupt: \n"
     ]
    }
   ],
   "source": [
    "%timeit ROCP().fit(data).predict()"
   ]
  },
  {
   "cell_type": "code",
   "execution_count": null,
   "metadata": {},
   "outputs": [
    {
     "name": "stdout",
     "output_type": "stream",
     "text": [
      "354 ms ± 702 µs per loop (mean ± std. dev. of 7 runs, 1 loop each)\n"
     ]
    }
   ],
   "source": [
    "%timeit OnlineCP(ConstantHazard(), StudentTProb()).update(data).get_cps()"
   ]
  },
  {
   "cell_type": "code",
   "execution_count": 4,
   "metadata": {},
   "outputs": [
    {
     "name": "stdout",
     "output_type": "stream",
     "text": [
      "30 0.0132 0.14 10.607\n",
      "50 0.03 0.26145 8.715\n",
      "100 0.09947 0.67179 6.754\n",
      "150 0.20815 1.24109 5.962\n",
      "250 0.54325 2.8278 5.205\n",
      "500 2.37708 9.75038 4.102\n",
      "750 6.88845 21.16839 3.073\n"
     ]
    }
   ],
   "source": [
    "from time import time\n",
    "\n",
    "def make_data(n):\n",
    "    return np.hstack([\n",
    "    np.random.normal(0, 1, (n,)),\n",
    "    np.random.normal(10, 1, (n,)),\n",
    "    np.random.normal(0, 1, (n,)),\n",
    "    np.random.normal(10, 1, (n,)),\n",
    "    np.random.normal(0, 1, (n,)),\n",
    "    np.random.normal(10, 1, (n,)),\n",
    "    np.random.normal(0, 1, (n,)),\n",
    "    np.random.normal(10, 1, (n,)),\n",
    "    np.random.normal(0, 1, (n,)),\n",
    "    np.random.normal(10, 1, (n,)),\n",
    "    ])\n",
    "for n in [30, 50, 100, 150, 250, 500, 750]:\n",
    "    data = make_data(n)\n",
    "    py_times = []\n",
    "    r_times = []\n",
    "    # Python\n",
    "    for _ in range(5):\n",
    "        start_time = time()\n",
    "        _ = OnlineCP(ConstantHazard(), StudentTProb()).update(data).get_cps()\n",
    "        py_times.append(time() - start_time)\n",
    "    # R\n",
    "    for _ in range(5):\n",
    "        start_time = time()\n",
    "        _ = ROCP().fit(data).predict()\n",
    "        r_times.append(time() - start_time)\n",
    "    \n",
    "    print(n, np.mean(py_times).round(5), np.mean(r_times).round(5), round(np.mean(r_times) / np.mean(py_times), 3))"
   ]
  }
 ],
 "metadata": {
  "interpreter": {
   "hash": "951673cc0d3bac0de28570097aaf063add610eee65492a5c879bee55aed3630e"
  },
  "kernelspec": {
   "display_name": "Python 3.9.12 ('pychange')",
   "language": "python",
   "name": "python3"
  },
  "language_info": {
   "codemirror_mode": {
    "name": "ipython",
    "version": 3
   },
   "file_extension": ".py",
   "mimetype": "text/x-python",
   "name": "python",
   "nbconvert_exporter": "python",
   "pygments_lexer": "ipython3",
   "version": "3.9.12"
  },
  "orig_nbformat": 4
 },
 "nbformat": 4,
 "nbformat_minor": 2
}
