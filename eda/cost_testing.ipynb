{
 "cells": [
  {
   "cell_type": "code",
   "execution_count": 1,
   "metadata": {},
   "outputs": [
    {
     "name": "stderr",
     "output_type": "stream",
     "text": [
      "Unable to determine R home: [WinError 2] The system cannot find the file specified\n",
      "Unable to determine R library path: Command '('C:\\\\Program Files\\\\R\\\\R-4.1.1\\\\bin\\\\Rscript', '-e', 'cat(Sys.getenv(\"LD_LIBRARY_PATH\"))')' returned non-zero exit status 1.\n"
     ]
    }
   ],
   "source": [
    "# Importing packages\n",
    "import sys\n",
    "\n",
    "sys.path.append('..')\n",
    "\n",
    "import numpy as np\n",
    "import numba as nb\n",
    "import pandas as pd\n",
    "\n",
    "from src.pychange.costs.normal import NormalMeanCost, NormalVarCost, NormalMeanVarCost\n",
    "# from src.pychange.costs.poisson import PoissonMeanVarCost\n",
    "# from src.pychange.costs.exp import ExponentialMeanVarCost\n",
    "# from src.pychange.costs.gamma import GammaMeanVarCost\n",
    "# from src.pychange.costs.emp import EmpiricalCost\n",
    "# from src.pychange.seg.amoc import AmocSeg\n",
    "# from src.pychange.seg.binseg import BinSeg\n",
    "from src.pychange.seg.pelt import PeltSeg\n",
    "from src.pychange.penalties import mbic_penalty\n",
    "from src.pychange.seg.base import BaseSeg, seg_sig\n",
    "\n",
    "from src.pychange.r import ROfflineChangepoint"
   ]
  },
  {
   "cell_type": "code",
   "execution_count": 3,
   "metadata": {},
   "outputs": [],
   "source": [
    "data = np.hstack([\n",
    "    np.random.normal(0, 1, (100,)),\n",
    "    np.random.normal(10, 2, (100,)),\n",
    "    # np.random.normal(20, 1, (100,)),\n",
    "    # np.random.poisson(1, (100,)),\n",
    "    # np.random.normal(4, 1, (100,)),\n",
    "])"
   ]
  },
  {
   "cell_type": "code",
   "execution_count": 10,
   "metadata": {},
   "outputs": [],
   "source": [
    "# Importing packages\n",
    "import math\n",
    "import numpy as np\n",
    "import numba as nb\n",
    "from numba.typed import List\n",
    "\n",
    "\n",
    "@nb.njit('f8[:](f8, i8, f8[:], f8[:], f8[:], f8[:])', fastmath=True)\n",
    "def student_t_pdf(x, n, m, k, a, b):\n",
    "    n = n + 1\n",
    "    results = np.empty((n,), dtype=np.float64)\n",
    "    for i in range(n):\n",
    "        loc = m[i]\n",
    "        var = b[i]* (k[i] + 1) / (a[i] * k[i])\n",
    "        scale = math.sqrt(var)\n",
    "        df = 2.0 * a[i]  \n",
    "        y = (x - loc) / scale\n",
    "        c0 = (df + 1) / 2\n",
    "        c1 = math.lgamma(c0)\n",
    "        c2 = math.lgamma(df / 2)\n",
    "        c3 = math.exp(c1 - c2)\n",
    "        d1 = math.sqrt(math.pi * df)\n",
    "        d2 = 1 + y ** 2 / df\n",
    "        d3 = d1 * d2 ** c0\n",
    "        r = c3 / d3\n",
    "        results[i] = r / scale\n",
    "    return results\n",
    "\n",
    "\n",
    "#@nb.njit(fastmath=True)\n",
    "def bayes_update(x, l, cp_probs, n_steps, mu, kappa, alpha, beta, mu0, kappa0, alpha0, beta0):\n",
    "        \n",
    "    # Iterating over data\n",
    "    for i in x:\n",
    "    \n",
    "        # Getting last probability array\n",
    "        last_cp_probs = cp_probs[n_steps]\n",
    "\n",
    "        # Getting likelihoods for each observation\n",
    "        probs = student_t_pdf(i, n_steps, mu, kappa, alpha, beta)\n",
    "\n",
    "        # Iterating number of steps seen\n",
    "        n_steps += 1\n",
    "\n",
    "        # Calculating hazard function\n",
    "        h = np.repeat(l, n_steps)\n",
    "        \n",
    "        # Updating growth probabilities\n",
    "        _cp_m = last_cp_probs * probs\n",
    "        cp_probs = np.empty(n_steps + 1, dtype=np.float64)\n",
    "        cp_probs[1:] = _cp_m * (1 - h)\n",
    "        cp_probs[0] = np.sum(_cp_m * h)\n",
    "        cp_probs /= np.sum(cp_probs)\n",
    "\n",
    "        # Upating likelihood function\n",
    "        # Generating arrays for new values\n",
    "        _beta = np.empty(beta.shape[0] + 1, dtype=np.float64)\n",
    "        _mu = np.empty(mu.shape[0] + 1, dtype=np.float64)\n",
    "        _kappa = np.empty(kappa.shape[0] + 1, dtype=np.float64)\n",
    "        _alpha = np.empty(alpha.shape[0] + 1, dtype=np.float64)\n",
    "        \n",
    "        # Populating initial values\n",
    "        _beta[0] = beta0\n",
    "        _mu[0] = mu0\n",
    "        _kappa[0] = kappa0\n",
    "        _alpha[0] = alpha0\n",
    "        \n",
    "        # Beta update\n",
    "        _beta[1:] = (beta + (kappa * (x - mu) ** 2) / (2.0 * (kappa + 1.)))\n",
    "        \n",
    "        # Mu update\n",
    "        _mu[1:] = (kappa * mu + x) / (kappa + 1)\n",
    "        \n",
    "        # Kappa update\n",
    "        _kappa[1:] = kappa + 1.0\n",
    "        \n",
    "        # Alpha update\n",
    "        _alpha[1:] = alpha + 0.5\n",
    "\n",
    "        # Updating sumstats\n",
    "        mu = _mu\n",
    "        kappa = _kappa\n",
    "        alpha = _alpha\n",
    "        beta = _beta\n",
    "        \n",
    "        # Adding probabilities to list\n",
    "        cp_probs.append(cp_probs)\n",
    "    \n",
    "    return cp_probs, n_steps, mu, kappa, alpha, beta\n",
    "\n",
    "\n",
    "class BayesOnlineCP:\n",
    "\n",
    "    def __init__(self, wait_iters: int=3, cp_threshold: float=0.5, l: float=100.0, m: float=0.0, k: float=0.01, a: float=0.01, b: float=0.0001):\n",
    "        self.wait_iters = wait_iters\n",
    "        self.cp_threshold = cp_threshold\n",
    "\n",
    "        self.l = l\n",
    "\n",
    "        self.mu0 = m\n",
    "        self.kappa0 = k\n",
    "        self.alpha0 = a\n",
    "        self.beta0 = b\n",
    "        \n",
    "        self.cp_probs = List()\n",
    "        self.cp_probs.append(np.float64([1.0]))\n",
    "        self.n_steps = 0\n",
    "\n",
    "        self.mu = np.array([self.mu0])\n",
    "        self.kappa = np.array([self.kappa0])\n",
    "        self.alpha = np.array([self.alpha0])\n",
    "        self.beta = np.array([self.beta0])\n",
    "        self.n = 0\n",
    "\n",
    "    def partial_fit(self, y: np.ndarray):\n",
    "        results = bayes_update(y,\n",
    "                               self.l,\n",
    "                               self.cp_probs,\n",
    "                               self.n,\n",
    "                               self.mu,\n",
    "                               self.kappa,\n",
    "                               self.alpha,\n",
    "                               self.beta,\n",
    "                               self.mu0,\n",
    "                               self.kappa0,\n",
    "                               self.alpha0,\n",
    "                               self.beta0)\n",
    "        self.cp_probs = results[0]\n",
    "        self.n_steps = results[1]\n",
    "        self.mu = results[2]\n",
    "        self.kappa = results[3]\n",
    "        self.alpha = results[4]\n",
    "        self.beta = results[5]\n",
    "\n",
    "\n",
    "    def get_probs(self):\n",
    "        # Getting cp probability values\n",
    "        p_size = len(self.cp_probs) - self.wait_iters - 1\n",
    "        prob_vals = np.empty(p_size, dtype=np.float64)\n",
    "        for i, j in enumerate(self.cp_probs[self.wait_iters: -1]):\n",
    "            if i == 0:\n",
    "                prob_vals[0] = 0\n",
    "            else:\n",
    "                prob_vals[i] = j[self.wait_iters]\n",
    "        return prob_vals\n",
    "\n",
    "\n",
    "    def get_cps(self):\n",
    "        \n",
    "        prob_vals = self.get_probs()\n",
    "        p_size = prob_vals.shape[0]\n",
    "        # Determining if changepoints meet threshold\n",
    "        cps = []\n",
    "        for i in range(1, p_size):\n",
    "\n",
    "            if prob_vals[i] < prob_vals[i - 1]:\n",
    "                continue\n",
    "\n",
    "            if i < p_size - 1:\n",
    "                if prob_vals[i] < prob_vals[i + 1]:\n",
    "                    continue\n",
    "\n",
    "            if prob_vals[i] >= self.cp_threshold:\n",
    "                cps.append(i)\n",
    "\n",
    "        return cps\n"
   ]
  },
  {
   "cell_type": "code",
   "execution_count": 11,
   "metadata": {},
   "outputs": [
    {
     "ename": "ValueError",
     "evalue": "could not broadcast input array from shape (200,) into shape (1,)",
     "output_type": "error",
     "traceback": [
      "\u001b[1;31m---------------------------------------------------------------------------\u001b[0m",
      "\u001b[1;31mValueError\u001b[0m                                Traceback (most recent call last)",
      "\u001b[1;32mc:\\Users\\15072\\Documents\\GitHub\\pychange\\eda\\cost_testing.ipynb Cell 4'\u001b[0m in \u001b[0;36m<cell line: 1>\u001b[1;34m()\u001b[0m\n\u001b[1;32m----> <a href='vscode-notebook-cell:/c%3A/Users/15072/Documents/GitHub/pychange/eda/cost_testing.ipynb#ch0000029?line=0'>1</a>\u001b[0m BayesOnlineCP()\u001b[39m.\u001b[39;49mpartial_fit(data)\u001b[39m.\u001b[39mget_cps()\n",
      "\u001b[1;32mc:\\Users\\15072\\Documents\\GitHub\\pychange\\eda\\cost_testing.ipynb Cell 3'\u001b[0m in \u001b[0;36mBayesOnlineCP.partial_fit\u001b[1;34m(self, y)\u001b[0m\n\u001b[0;32m    <a href='vscode-notebook-cell:/c%3A/Users/15072/Documents/GitHub/pychange/eda/cost_testing.ipynb#ch0000028?line=114'>115</a>\u001b[0m \u001b[39mdef\u001b[39;00m \u001b[39mpartial_fit\u001b[39m(\u001b[39mself\u001b[39m, y: np\u001b[39m.\u001b[39mndarray):\n\u001b[1;32m--> <a href='vscode-notebook-cell:/c%3A/Users/15072/Documents/GitHub/pychange/eda/cost_testing.ipynb#ch0000028?line=115'>116</a>\u001b[0m     results \u001b[39m=\u001b[39m bayes_update(y,\n\u001b[0;32m    <a href='vscode-notebook-cell:/c%3A/Users/15072/Documents/GitHub/pychange/eda/cost_testing.ipynb#ch0000028?line=116'>117</a>\u001b[0m                            \u001b[39mself\u001b[39;49m\u001b[39m.\u001b[39;49ml,\n\u001b[0;32m    <a href='vscode-notebook-cell:/c%3A/Users/15072/Documents/GitHub/pychange/eda/cost_testing.ipynb#ch0000028?line=117'>118</a>\u001b[0m                            \u001b[39mself\u001b[39;49m\u001b[39m.\u001b[39;49mcp_probs,\n\u001b[0;32m    <a href='vscode-notebook-cell:/c%3A/Users/15072/Documents/GitHub/pychange/eda/cost_testing.ipynb#ch0000028?line=118'>119</a>\u001b[0m                            \u001b[39mself\u001b[39;49m\u001b[39m.\u001b[39;49mn,\n\u001b[0;32m    <a href='vscode-notebook-cell:/c%3A/Users/15072/Documents/GitHub/pychange/eda/cost_testing.ipynb#ch0000028?line=119'>120</a>\u001b[0m                            \u001b[39mself\u001b[39;49m\u001b[39m.\u001b[39;49mmu,\n\u001b[0;32m    <a href='vscode-notebook-cell:/c%3A/Users/15072/Documents/GitHub/pychange/eda/cost_testing.ipynb#ch0000028?line=120'>121</a>\u001b[0m                            \u001b[39mself\u001b[39;49m\u001b[39m.\u001b[39;49mkappa,\n\u001b[0;32m    <a href='vscode-notebook-cell:/c%3A/Users/15072/Documents/GitHub/pychange/eda/cost_testing.ipynb#ch0000028?line=121'>122</a>\u001b[0m                            \u001b[39mself\u001b[39;49m\u001b[39m.\u001b[39;49malpha,\n\u001b[0;32m    <a href='vscode-notebook-cell:/c%3A/Users/15072/Documents/GitHub/pychange/eda/cost_testing.ipynb#ch0000028?line=122'>123</a>\u001b[0m                            \u001b[39mself\u001b[39;49m\u001b[39m.\u001b[39;49mbeta,\n\u001b[0;32m    <a href='vscode-notebook-cell:/c%3A/Users/15072/Documents/GitHub/pychange/eda/cost_testing.ipynb#ch0000028?line=123'>124</a>\u001b[0m                            \u001b[39mself\u001b[39;49m\u001b[39m.\u001b[39;49mmu0,\n\u001b[0;32m    <a href='vscode-notebook-cell:/c%3A/Users/15072/Documents/GitHub/pychange/eda/cost_testing.ipynb#ch0000028?line=124'>125</a>\u001b[0m                            \u001b[39mself\u001b[39;49m\u001b[39m.\u001b[39;49mkappa0,\n\u001b[0;32m    <a href='vscode-notebook-cell:/c%3A/Users/15072/Documents/GitHub/pychange/eda/cost_testing.ipynb#ch0000028?line=125'>126</a>\u001b[0m                            \u001b[39mself\u001b[39;49m\u001b[39m.\u001b[39;49malpha0,\n\u001b[0;32m    <a href='vscode-notebook-cell:/c%3A/Users/15072/Documents/GitHub/pychange/eda/cost_testing.ipynb#ch0000028?line=126'>127</a>\u001b[0m                            \u001b[39mself\u001b[39;49m\u001b[39m.\u001b[39;49mbeta0)\n\u001b[0;32m    <a href='vscode-notebook-cell:/c%3A/Users/15072/Documents/GitHub/pychange/eda/cost_testing.ipynb#ch0000028?line=127'>128</a>\u001b[0m     \u001b[39mself\u001b[39m\u001b[39m.\u001b[39mcp_probs \u001b[39m=\u001b[39m results[\u001b[39m0\u001b[39m]\n\u001b[0;32m    <a href='vscode-notebook-cell:/c%3A/Users/15072/Documents/GitHub/pychange/eda/cost_testing.ipynb#ch0000028?line=128'>129</a>\u001b[0m     \u001b[39mself\u001b[39m\u001b[39m.\u001b[39mn_steps \u001b[39m=\u001b[39m results[\u001b[39m1\u001b[39m]\n",
      "\u001b[1;32mc:\\Users\\15072\\Documents\\GitHub\\pychange\\eda\\cost_testing.ipynb Cell 3'\u001b[0m in \u001b[0;36mbayes_update\u001b[1;34m(x, l, cp_probs, n_steps, mu, kappa, alpha, beta, mu0, kappa0, alpha0, beta0)\u001b[0m\n\u001b[0;32m     <a href='vscode-notebook-cell:/c%3A/Users/15072/Documents/GitHub/pychange/eda/cost_testing.ipynb#ch0000028?line=65'>66</a>\u001b[0m _alpha[\u001b[39m0\u001b[39m] \u001b[39m=\u001b[39m alpha0\n\u001b[0;32m     <a href='vscode-notebook-cell:/c%3A/Users/15072/Documents/GitHub/pychange/eda/cost_testing.ipynb#ch0000028?line=67'>68</a>\u001b[0m \u001b[39m# Beta update\u001b[39;00m\n\u001b[1;32m---> <a href='vscode-notebook-cell:/c%3A/Users/15072/Documents/GitHub/pychange/eda/cost_testing.ipynb#ch0000028?line=68'>69</a>\u001b[0m _beta[\u001b[39m1\u001b[39m:] \u001b[39m=\u001b[39m (beta \u001b[39m+\u001b[39m (kappa \u001b[39m*\u001b[39m (x \u001b[39m-\u001b[39m mu) \u001b[39m*\u001b[39m\u001b[39m*\u001b[39m \u001b[39m2\u001b[39m) \u001b[39m/\u001b[39m (\u001b[39m2.0\u001b[39m \u001b[39m*\u001b[39m (kappa \u001b[39m+\u001b[39m \u001b[39m1.\u001b[39m)))\n\u001b[0;32m     <a href='vscode-notebook-cell:/c%3A/Users/15072/Documents/GitHub/pychange/eda/cost_testing.ipynb#ch0000028?line=70'>71</a>\u001b[0m \u001b[39m# Mu update\u001b[39;00m\n\u001b[0;32m     <a href='vscode-notebook-cell:/c%3A/Users/15072/Documents/GitHub/pychange/eda/cost_testing.ipynb#ch0000028?line=71'>72</a>\u001b[0m _mu[\u001b[39m1\u001b[39m:] \u001b[39m=\u001b[39m (kappa \u001b[39m*\u001b[39m mu \u001b[39m+\u001b[39m x) \u001b[39m/\u001b[39m (kappa \u001b[39m+\u001b[39m \u001b[39m1\u001b[39m)\n",
      "\u001b[1;31mValueError\u001b[0m: could not broadcast input array from shape (200,) into shape (1,)"
     ]
    }
   ],
   "source": [
    "BayesOnlineCP().partial_fit(data).get_cps()"
   ]
  },
  {
   "cell_type": "code",
   "execution_count": 3,
   "metadata": {},
   "outputs": [],
   "source": [
    "# Importing packages\n",
    "import math\n",
    "\n",
    "import numpy as np\n",
    "import numba as nb\n",
    "\n",
    "from src.pychange.costs.base import BaseCost, preprocess_sig, cost_sig"
   ]
  },
  {
   "cell_type": "code",
   "execution_count": 26,
   "metadata": {},
   "outputs": [],
   "source": [
    "@nb.njit(cost_sig, fastmath=True)\n",
    "def empirical_cost(s, e, y, cost_args):\n",
    "    cost = 0.0\n",
    "    k = int(cost_args[0])\n",
    "    for j in range(k):\n",
    "        a_sum = y[e, j] - y[s, j]\n",
    "        if a_sum != 0.0:\n",
    "            n = e - s\n",
    "            a_half = 0.5 * a_sum\n",
    "            if a_half != n:\n",
    "                f = a_half / n\n",
    "                fi = 1.0 - f\n",
    "                l = f * math.log(f) + fi * math.log(fi)\n",
    "                cost += n * l\n",
    "    cost *= cost_args[1]\n",
    "    return cost\n",
    "\n",
    "\n",
    "@nb.njit(cost_sig, fastmath=True)\n",
    "def empirical_cost_mbic(s, e, y, cost_args):\n",
    "\n",
    "    cost = empirical_cost(s, e, y, cost_args)\n",
    "    return cost + math.log(e - s)\n",
    "\n",
    "\n",
    "class EmpiricalCost(BaseCost):\n",
    "    \n",
    "    n_params = 1\n",
    "    \n",
    "    def __init__(self, *args, k: int=10, **kwargs):\n",
    "        super().__init__(*args, **kwargs)\n",
    "        self.args = np.float64([k])\n",
    "    \n",
    "    @staticmethod\n",
    "    @nb.njit(preprocess_sig, fastmath=True)\n",
    "    def preprocess(y, args):\n",
    "\n",
    "        # Getting some needed scalars\n",
    "        n = y.shape[0]\n",
    "        k = int(args[0])\n",
    "        yK = -1 + (2 * (np.arange(k) -1) / k)\n",
    "        c = -1.0 * np.log(2 * n - 1)\n",
    "        pK = 1 / (1 + np.exp(c * yK))\n",
    "\n",
    "        # Initializing array to hold partial sum values\n",
    "        sumstats = np.zeros(shape=(n + 1, k), dtype=np.float64)\n",
    "        y_sort = np.sort(y)\n",
    "\n",
    "        # Iterating over quantiles\n",
    "        for i in range(k):\n",
    "            j = int((n - 1) * pK[i] + 1)\n",
    "            sumstats[1:, i] = np.cumsum(y < y_sort[j]) + 0.5 * np.cumsum(y == y_sort[j])\n",
    "    \n",
    "        return sumstats, np.float64([k, 2 * c / k])\n",
    "\n",
    "    cost_fn = staticmethod(empirical_cost)\n",
    "    cost_fn_mbic = staticmethod(empirical_cost_mbic)\n"
   ]
  },
  {
   "cell_type": "code",
   "execution_count": 20,
   "metadata": {},
   "outputs": [
    {
     "name": "stdout",
     "output_type": "stream",
     "text": [
      "254 ms ± 171 µs per loop (mean ± std. dev. of 7 runs, 1 loop each)\n"
     ]
    }
   ],
   "source": [
    "%timeit PeltSeg(EmpiricalCost(k=10), mbic_penalty, min_len=10, max_cps=10).fit(data).predict()"
   ]
  },
  {
   "cell_type": "code",
   "execution_count": 21,
   "metadata": {},
   "outputs": [
    {
     "name": "stdout",
     "output_type": "stream",
     "text": [
      "1.38 s ± 6.78 ms per loop (mean ± std. dev. of 7 runs, 1 loop each)\n"
     ]
    }
   ],
   "source": [
    "%timeit ROfflineChangepoint('np', penalty='MBIC', method='PELT', nquantiles=10, minseglen=10).fit(data).predict()"
   ]
  },
  {
   "cell_type": "code",
   "execution_count": 27,
   "metadata": {},
   "outputs": [
    {
     "data": {
      "text/plain": [
       "array([1000, 2000, 3000, 4001], dtype=int64)"
      ]
     },
     "execution_count": 27,
     "metadata": {},
     "output_type": "execute_result"
    }
   ],
   "source": [
    "PeltSeg(EmpiricalCost(k=10), mbic_penalty, min_len=10, max_cps=10).fit(data).predict()"
   ]
  },
  {
   "cell_type": "code",
   "execution_count": 28,
   "metadata": {},
   "outputs": [
    {
     "data": {
      "text/plain": [
       "array([1000, 2000, 3000, 4000], dtype=int64)"
      ]
     },
     "execution_count": 28,
     "metadata": {},
     "output_type": "execute_result"
    }
   ],
   "source": [
    "ROfflineChangepoint('np', penalty='MBIC', method='PELT', nquantiles=10, minseglen=10).fit(data).predict()"
   ]
  },
  {
   "cell_type": "code",
   "execution_count": 5,
   "metadata": {},
   "outputs": [],
   "source": [
    "import timeit"
   ]
  },
  {
   "cell_type": "code",
   "execution_count": 6,
   "metadata": {},
   "outputs": [],
   "source": [
    "py_times = timeit.repeat('PeltSeg(NormalMeanVarCost(), bic_penalty, min_len=10, max_cps=10).fit(data).predict()', repeat=10, number=20, globals=globals())"
   ]
  },
  {
   "cell_type": "code",
   "execution_count": 7,
   "metadata": {},
   "outputs": [],
   "source": [
    "r_times = timeit.repeat(\"ROfflineChangepoint('meanvar', penalty='BIC', method='PELT', test_stat='Normal', minseglen=10, Q=10).fit(data).predict().astype(np.int64)\", repeat=10, number=20, globals=globals())"
   ]
  },
  {
   "cell_type": "code",
   "execution_count": 9,
   "metadata": {},
   "outputs": [
    {
     "name": "stdout",
     "output_type": "stream",
     "text": [
      "Mean\n",
      "5.001938950000005\n",
      "1.4876493899999956\n",
      "0.2974145436141307\n"
     ]
    },
    {
     "ename": "KeyboardInterrupt",
     "evalue": "",
     "output_type": "error",
     "traceback": [
      "\u001b[1;31m---------------------------------------------------------------------------\u001b[0m",
      "\u001b[1;31mKeyboardInterrupt\u001b[0m                         Traceback (most recent call last)",
      "\u001b[1;32mc:\\Users\\15072\\Documents\\GitHub\\pychange\\eda\\cost_testing.ipynb Cell 6'\u001b[0m in \u001b[0;36m<cell line: 1>\u001b[1;34m()\u001b[0m\n\u001b[0;32m      <a href='vscode-notebook-cell:/c%3A/Users/15072/Documents/GitHub/pychange/eda/cost_testing.ipynb#ch0000005?line=0'>1</a>\u001b[0m \u001b[39mfor\u001b[39;00m i \u001b[39min\u001b[39;00m [\u001b[39m'\u001b[39m\u001b[39mMean\u001b[39m\u001b[39m'\u001b[39m, \u001b[39m'\u001b[39m\u001b[39mVar\u001b[39m\u001b[39m'\u001b[39m, \u001b[39m'\u001b[39m\u001b[39mMeanVar\u001b[39m\u001b[39m'\u001b[39m]:\n\u001b[1;32m----> <a href='vscode-notebook-cell:/c%3A/Users/15072/Documents/GitHub/pychange/eda/cost_testing.ipynb#ch0000005?line=2'>3</a>\u001b[0m     py_times \u001b[39m=\u001b[39m timeit\u001b[39m.\u001b[39;49mrepeat(\u001b[39mf\u001b[39;49m\u001b[39m'\u001b[39;49m\u001b[39mPeltSeg(Normal\u001b[39;49m\u001b[39m{\u001b[39;49;00mi\u001b[39m}\u001b[39;49;00m\u001b[39mCost(), bic_penalty, min_len=10, max_cps=10).fit(data).predict()\u001b[39;49m\u001b[39m'\u001b[39;49m, repeat\u001b[39m=\u001b[39;49m\u001b[39m10\u001b[39;49m, number\u001b[39m=\u001b[39;49m\u001b[39m20\u001b[39;49m, \u001b[39mglobals\u001b[39;49m\u001b[39m=\u001b[39;49m\u001b[39mglobals\u001b[39;49m())\n\u001b[0;32m      <a href='vscode-notebook-cell:/c%3A/Users/15072/Documents/GitHub/pychange/eda/cost_testing.ipynb#ch0000005?line=3'>4</a>\u001b[0m     r_times \u001b[39m=\u001b[39m timeit\u001b[39m.\u001b[39mrepeat(\u001b[39mf\u001b[39m\u001b[39m\"\u001b[39m\u001b[39mROfflineChangepoint(\u001b[39m\u001b[39m'\u001b[39m\u001b[39m{\u001b[39;00mi\u001b[39m.\u001b[39mlower()\u001b[39m}\u001b[39;00m\u001b[39m'\u001b[39m\u001b[39m, penalty=\u001b[39m\u001b[39m'\u001b[39m\u001b[39mBIC\u001b[39m\u001b[39m'\u001b[39m\u001b[39m, method=\u001b[39m\u001b[39m'\u001b[39m\u001b[39mPELT\u001b[39m\u001b[39m'\u001b[39m\u001b[39m, test_stat=\u001b[39m\u001b[39m'\u001b[39m\u001b[39mNormal\u001b[39m\u001b[39m'\u001b[39m\u001b[39m, minseglen=10, Q=10).fit(data).predict().astype(np.int64)\u001b[39m\u001b[39m\"\u001b[39m, repeat\u001b[39m=\u001b[39m\u001b[39m10\u001b[39m, number\u001b[39m=\u001b[39m\u001b[39m20\u001b[39m, \u001b[39mglobals\u001b[39m\u001b[39m=\u001b[39m\u001b[39mglobals\u001b[39m())\n\u001b[0;32m      <a href='vscode-notebook-cell:/c%3A/Users/15072/Documents/GitHub/pychange/eda/cost_testing.ipynb#ch0000005?line=5'>6</a>\u001b[0m     py_mean \u001b[39m=\u001b[39m np\u001b[39m.\u001b[39mmean(py_times)\n",
      "File \u001b[1;32m~\\anaconda3\\envs\\pychange\\lib\\timeit.py:238\u001b[0m, in \u001b[0;36mrepeat\u001b[1;34m(stmt, setup, timer, repeat, number, globals)\u001b[0m\n\u001b[0;32m    <a href='file:///c%3A/Users/15072/anaconda3/envs/pychange/lib/timeit.py?line=234'>235</a>\u001b[0m \u001b[39mdef\u001b[39;00m \u001b[39mrepeat\u001b[39m(stmt\u001b[39m=\u001b[39m\u001b[39m\"\u001b[39m\u001b[39mpass\u001b[39m\u001b[39m\"\u001b[39m, setup\u001b[39m=\u001b[39m\u001b[39m\"\u001b[39m\u001b[39mpass\u001b[39m\u001b[39m\"\u001b[39m, timer\u001b[39m=\u001b[39mdefault_timer,\n\u001b[0;32m    <a href='file:///c%3A/Users/15072/anaconda3/envs/pychange/lib/timeit.py?line=235'>236</a>\u001b[0m            repeat\u001b[39m=\u001b[39mdefault_repeat, number\u001b[39m=\u001b[39mdefault_number, \u001b[39mglobals\u001b[39m\u001b[39m=\u001b[39m\u001b[39mNone\u001b[39;00m):\n\u001b[0;32m    <a href='file:///c%3A/Users/15072/anaconda3/envs/pychange/lib/timeit.py?line=236'>237</a>\u001b[0m     \u001b[39m\"\"\"Convenience function to create Timer object and call repeat method.\"\"\"\u001b[39;00m\n\u001b[1;32m--> <a href='file:///c%3A/Users/15072/anaconda3/envs/pychange/lib/timeit.py?line=237'>238</a>\u001b[0m     \u001b[39mreturn\u001b[39;00m Timer(stmt, setup, timer, \u001b[39mglobals\u001b[39;49m)\u001b[39m.\u001b[39;49mrepeat(repeat, number)\n",
      "File \u001b[1;32m~\\anaconda3\\envs\\pychange\\lib\\timeit.py:205\u001b[0m, in \u001b[0;36mTimer.repeat\u001b[1;34m(self, repeat, number)\u001b[0m\n\u001b[0;32m    <a href='file:///c%3A/Users/15072/anaconda3/envs/pychange/lib/timeit.py?line=202'>203</a>\u001b[0m r \u001b[39m=\u001b[39m []\n\u001b[0;32m    <a href='file:///c%3A/Users/15072/anaconda3/envs/pychange/lib/timeit.py?line=203'>204</a>\u001b[0m \u001b[39mfor\u001b[39;00m i \u001b[39min\u001b[39;00m \u001b[39mrange\u001b[39m(repeat):\n\u001b[1;32m--> <a href='file:///c%3A/Users/15072/anaconda3/envs/pychange/lib/timeit.py?line=204'>205</a>\u001b[0m     t \u001b[39m=\u001b[39m \u001b[39mself\u001b[39;49m\u001b[39m.\u001b[39;49mtimeit(number)\n\u001b[0;32m    <a href='file:///c%3A/Users/15072/anaconda3/envs/pychange/lib/timeit.py?line=205'>206</a>\u001b[0m     r\u001b[39m.\u001b[39mappend(t)\n\u001b[0;32m    <a href='file:///c%3A/Users/15072/anaconda3/envs/pychange/lib/timeit.py?line=206'>207</a>\u001b[0m \u001b[39mreturn\u001b[39;00m r\n",
      "File \u001b[1;32m~\\anaconda3\\envs\\pychange\\lib\\timeit.py:177\u001b[0m, in \u001b[0;36mTimer.timeit\u001b[1;34m(self, number)\u001b[0m\n\u001b[0;32m    <a href='file:///c%3A/Users/15072/anaconda3/envs/pychange/lib/timeit.py?line=174'>175</a>\u001b[0m gc\u001b[39m.\u001b[39mdisable()\n\u001b[0;32m    <a href='file:///c%3A/Users/15072/anaconda3/envs/pychange/lib/timeit.py?line=175'>176</a>\u001b[0m \u001b[39mtry\u001b[39;00m:\n\u001b[1;32m--> <a href='file:///c%3A/Users/15072/anaconda3/envs/pychange/lib/timeit.py?line=176'>177</a>\u001b[0m     timing \u001b[39m=\u001b[39m \u001b[39mself\u001b[39;49m\u001b[39m.\u001b[39;49minner(it, \u001b[39mself\u001b[39;49m\u001b[39m.\u001b[39;49mtimer)\n\u001b[0;32m    <a href='file:///c%3A/Users/15072/anaconda3/envs/pychange/lib/timeit.py?line=177'>178</a>\u001b[0m \u001b[39mfinally\u001b[39;00m:\n\u001b[0;32m    <a href='file:///c%3A/Users/15072/anaconda3/envs/pychange/lib/timeit.py?line=178'>179</a>\u001b[0m     \u001b[39mif\u001b[39;00m gcold:\n",
      "File \u001b[1;32m<timeit-src>:6\u001b[0m, in \u001b[0;36minner\u001b[1;34m(_it, _timer)\u001b[0m\n",
      "File \u001b[1;32mc:\\Users\\15072\\Documents\\GitHub\\pychange\\eda\\..\\src\\pychange\\seg\\base.py:33\u001b[0m, in \u001b[0;36mBaseSeg.fit\u001b[1;34m(self, y)\u001b[0m\n\u001b[0;32m     <a href='file:///c%3A/Users/15072/Documents/GitHub/pychange/eda/../src/pychange/seg/base.py?line=29'>30</a>\u001b[0m \u001b[39mself\u001b[39m\u001b[39m.\u001b[39mcost\u001b[39m.\u001b[39mfit(y)\n\u001b[0;32m     <a href='file:///c%3A/Users/15072/Documents/GitHub/pychange/eda/../src/pychange/seg/base.py?line=31'>32</a>\u001b[0m \u001b[39m# Running segmentation\u001b[39;00m\n\u001b[1;32m---> <a href='file:///c%3A/Users/15072/Documents/GitHub/pychange/eda/../src/pychange/seg/base.py?line=32'>33</a>\u001b[0m \u001b[39mself\u001b[39m\u001b[39m.\u001b[39mcps \u001b[39m=\u001b[39m \u001b[39mself\u001b[39;49m\u001b[39m.\u001b[39;49mseg_fn(\u001b[39mself\u001b[39;49m\u001b[39m.\u001b[39;49mcost\u001b[39m.\u001b[39;49mcost_fn, \u001b[39mself\u001b[39;49m\u001b[39m.\u001b[39;49mcost\u001b[39m.\u001b[39;49msumstats, \u001b[39mself\u001b[39;49m\u001b[39m.\u001b[39;49mcost\u001b[39m.\u001b[39;49mcost_args, \u001b[39mself\u001b[39;49m\u001b[39m.\u001b[39;49mpen, \u001b[39mself\u001b[39;49m\u001b[39m.\u001b[39;49mmin_len, \u001b[39mself\u001b[39;49m\u001b[39m.\u001b[39;49mmax_cps, \u001b[39mself\u001b[39;49m\u001b[39m.\u001b[39;49mn)\n\u001b[0;32m     <a href='file:///c%3A/Users/15072/Documents/GitHub/pychange/eda/../src/pychange/seg/base.py?line=33'>34</a>\u001b[0m \u001b[39mif\u001b[39;00m \u001b[39mself\u001b[39m\u001b[39m.\u001b[39mcps\u001b[39m.\u001b[39mshape[\u001b[39m0\u001b[39m] \u001b[39m==\u001b[39m \u001b[39m1\u001b[39m \u001b[39mand\u001b[39;00m \u001b[39mself\u001b[39m\u001b[39m.\u001b[39mcps[\u001b[39m0\u001b[39m] \u001b[39m==\u001b[39m \u001b[39m-\u001b[39m\u001b[39m1\u001b[39m:\n\u001b[0;32m     <a href='file:///c%3A/Users/15072/Documents/GitHub/pychange/eda/../src/pychange/seg/base.py?line=34'>35</a>\u001b[0m     \u001b[39mself\u001b[39m\u001b[39m.\u001b[39mcps \u001b[39m=\u001b[39m np\u001b[39m.\u001b[39mint64([])\n",
      "File \u001b[1;32m~\\anaconda3\\envs\\pychange\\lib\\site-packages\\numba\\core\\serialize.py:43\u001b[0m, in \u001b[0;36m_numba_unpickle\u001b[1;34m(address, bytedata, hashed)\u001b[0m\n\u001b[0;32m     <a href='file:///c%3A/Users/15072/anaconda3/envs/pychange/lib/site-packages/numba/core/serialize.py?line=28'>29</a>\u001b[0m \u001b[39mdef\u001b[39;00m \u001b[39m_numba_unpickle\u001b[39m(address, bytedata, hashed):\n\u001b[0;32m     <a href='file:///c%3A/Users/15072/anaconda3/envs/pychange/lib/site-packages/numba/core/serialize.py?line=29'>30</a>\u001b[0m     \u001b[39m\"\"\"Used by `numba_unpickle` from _helperlib.c\u001b[39;00m\n\u001b[0;32m     <a href='file:///c%3A/Users/15072/anaconda3/envs/pychange/lib/site-packages/numba/core/serialize.py?line=30'>31</a>\u001b[0m \n\u001b[0;32m     <a href='file:///c%3A/Users/15072/anaconda3/envs/pychange/lib/site-packages/numba/core/serialize.py?line=31'>32</a>\u001b[0m \u001b[39m    Parameters\u001b[39;00m\n\u001b[1;32m   (...)\u001b[0m\n\u001b[0;32m     <a href='file:///c%3A/Users/15072/anaconda3/envs/pychange/lib/site-packages/numba/core/serialize.py?line=40'>41</a>\u001b[0m \u001b[39m        unpickled object\u001b[39;00m\n\u001b[0;32m     <a href='file:///c%3A/Users/15072/anaconda3/envs/pychange/lib/site-packages/numba/core/serialize.py?line=41'>42</a>\u001b[0m \u001b[39m    \"\"\"\u001b[39;00m\n\u001b[1;32m---> <a href='file:///c%3A/Users/15072/anaconda3/envs/pychange/lib/site-packages/numba/core/serialize.py?line=42'>43</a>\u001b[0m     key \u001b[39m=\u001b[39m (address, hashed)\n\u001b[0;32m     <a href='file:///c%3A/Users/15072/anaconda3/envs/pychange/lib/site-packages/numba/core/serialize.py?line=43'>44</a>\u001b[0m     \u001b[39mtry\u001b[39;00m:\n\u001b[0;32m     <a href='file:///c%3A/Users/15072/anaconda3/envs/pychange/lib/site-packages/numba/core/serialize.py?line=44'>45</a>\u001b[0m         obj \u001b[39m=\u001b[39m _unpickled_memo[key]\n",
      "\u001b[1;31mKeyboardInterrupt\u001b[0m: "
     ]
    }
   ],
   "source": [
    "for i in ['Mean', 'Var', 'MeanVar']:\n",
    "\n",
    "    \n",
    "\n",
    "    py_times = timeit.repeat(f'PeltSeg(Normal{i}Cost(), bic_penalty, min_len=10, max_cps=10).fit(data).predict()', repeat=10, number=1, globals=globals())\n",
    "    r_times = timeit.repeat(f\"ROfflineChangepoint('{i.lower()}', penalty='BIC', method='PELT', test_stat='Normal', minseglen=10, Q=10).fit(data).predict().astype(np.int64)\", repeat=10, number=20, globals=globals())\n",
    "\n",
    "    py_mean = np.mean(py_times)\n",
    "    r_mean = np.mean(r_times)\n",
    "    print(i)\n",
    "    print(py_mean)\n",
    "    print(r_mean)\n",
    "    print(r_mean / py_mean)"
   ]
  },
  {
   "cell_type": "code",
   "execution_count": null,
   "metadata": {},
   "outputs": [],
   "source": []
  },
  {
   "cell_type": "code",
   "execution_count": 6,
   "metadata": {},
   "outputs": [
    {
     "name": "stdout",
     "output_type": "stream",
     "text": [
      "64.4 ms ± 3.58 ms per loop (mean ± std. dev. of 7 runs, 10 loops each)\n"
     ]
    }
   ],
   "source": [
    "%timeit PeltSeg(NormalMeanVarCost(), bic_penalty, min_len=10, max_cps=10).fit(data).predict()"
   ]
  },
  {
   "cell_type": "code",
   "execution_count": 6,
   "metadata": {},
   "outputs": [
    {
     "name": "stdout",
     "output_type": "stream",
     "text": [
      "143 ms ± 8.71 ms per loop (mean ± std. dev. of 7 runs, 10 loops each)\n"
     ]
    }
   ],
   "source": [
    "%timeit ROfflineChangepoint('meanvar', penalty='BIC', method='PELT', test_stat='Normal', minseglen=10, Q=10).fit(data).predict().astype(np.int64)"
   ]
  },
  {
   "cell_type": "code",
   "execution_count": 3,
   "metadata": {},
   "outputs": [],
   "source": [
    "data_name = 'wave_c44137'\n",
    "data = pd.read_csv(f'../data/{data_name}.csv').iloc[:, -1].values"
   ]
  },
  {
   "cell_type": "code",
   "execution_count": 228,
   "metadata": {},
   "outputs": [],
   "source": [
    "data = np.hstack([\n",
    "    np.random.normal(0, 1, size=(200,)),\n",
    "    np.random.normal(10, 2, size=(100,))\n",
    "]).astype(np.float64)"
   ]
  },
  {
   "cell_type": "code",
   "execution_count": 14,
   "metadata": {},
   "outputs": [
    {
     "name": "stdout",
     "output_type": "stream",
     "text": [
      "47\n",
      "48\n",
      "[ 2230  3506  4791  5793  6800  7962  9843 11567 12569 14415 15713 16897\n",
      " 17952 19176 20198 21373 22558 23800 24928 25930 27403 29342 30949 32121\n",
      " 33879 35145 36406 37746 38762 40040 41049 42873 43915 45433 46435 48166\n",
      " 49468 50943 51952 52988 54008 55162 56507 57567 59563 61021 62023] [ 1236  2236  3506  4793  5793  6800  7962  9843 11569 12569 14415 15713\n",
      " 16713 17952 19176 20198 21373 22558 23800 24928 25928 27403 29342 30949\n",
      " 32121 33879 35145 36406 37746 38762 40040 41040 42873 43915 45435 46435\n",
      " 48166 49468 50943 51952 52988 54008 55162 56507 57567 59563 61021 62021]\n"
     ]
    }
   ],
   "source": [
    "cps1 = PeltSeg(NormalMeanVarCost(), bic_penalty, min_len=1000, max_cps=10).fit(data).predict()\n",
    "cps2 = ROfflineChangepoint('meanvar', penalty='BIC', method='PELT', test_stat='Normal', minseglen=1000, Q=10).fit(data).predict().astype(np.int64)\n",
    "print(len(cps1))\n",
    "print(len(cps2))\n",
    "if len(cps1) == len(cps2):\n",
    "    print(np.all(cps1 == cps2))\n",
    "print(cps1, cps2)"
   ]
  },
  {
   "cell_type": "code",
   "execution_count": null,
   "metadata": {},
   "outputs": [],
   "source": []
  },
  {
   "cell_type": "code",
   "execution_count": 18,
   "metadata": {},
   "outputs": [
    {
     "name": "stdout",
     "output_type": "stream",
     "text": [
      "169 ms ± 19.2 ms per loop (mean ± std. dev. of 7 runs, 10 loops each)\n"
     ]
    }
   ],
   "source": [
    "%timeit BinSeg(PoissonMeanVarCost(), bic_penalty, min_len=5, max_cps=100).fit(data).predict()"
   ]
  },
  {
   "cell_type": "code",
   "execution_count": 19,
   "metadata": {},
   "outputs": [
    {
     "name": "stdout",
     "output_type": "stream",
     "text": [
      "247 ms ± 8.51 ms per loop (mean ± std. dev. of 7 runs, 1 loop each)\n"
     ]
    }
   ],
   "source": [
    "%timeit ROfflineChangepoint('meanvar', penalty='BIC', method='BinSeg', test_stat='Poisson', minseglen=5, Q=100).fit(data).predict()"
   ]
  },
  {
   "cell_type": "code",
   "execution_count": 1,
   "metadata": {},
   "outputs": [
    {
     "name": "stderr",
     "output_type": "stream",
     "text": [
      "Unable to determine R home: [WinError 2] The system cannot find the file specified\n",
      "Unable to determine R library path: Command '('C:\\\\Program Files\\\\R\\\\R-4.0.5\\\\bin\\\\Rscript', '-e', 'cat(Sys.getenv(\"LD_LIBRARY_PATH\"))')' returned non-zero exit status 1.\n"
     ]
    }
   ],
   "source": [
    "# Importing packages\n",
    "import sys\n",
    "\n",
    "sys.path.append('..')\n",
    "\n",
    "import numpy as np\n",
    "import pandas as pd\n",
    "import numba as nb\n",
    "\n",
    "from src.pychange.costs.normal import NormalMeanCost\n",
    "from src.pychange.r import ROfflineChangepoint\n",
    "\n",
    "from src.pychange.seg.base import seg_sig"
   ]
  },
  {
   "cell_type": "code",
   "execution_count": 2,
   "metadata": {},
   "outputs": [],
   "source": [
    "data_name = 'wave_c44137'\n",
    "data = pd.read_csv(f'../data/{data_name}.csv').iloc[:, -1].values\n",
    "\n",
    "data = np.hstack([\n",
    "    np.random.normal(0, 1, (200,)),\n",
    "    np.random.normal(5, 1, (200,)),\n",
    "    np.random.normal(10, 1, (200,)),\n",
    "    np.random.normal(-2, 1, (200,)),\n",
    "])\n",
    "\n",
    "max_cps = 5\n",
    "min_len = 5\n",
    "n = data.shape[0]\n",
    "cost = NormalMeanCost().fit(data)\n",
    "pen = 10.0"
   ]
  },
  {
   "cell_type": "code",
   "execution_count": 3,
   "metadata": {},
   "outputs": [
    {
     "data": {
      "text/plain": [
       "array([200., 400., 600.])"
      ]
     },
     "execution_count": 3,
     "metadata": {},
     "output_type": "execute_result"
    }
   ],
   "source": [
    "ROfflineChangepoint('mean', penalty='Manual', method='BinSeg', test_stat='Normal', minseglen=5, pen_value=10.0, Q=5).fit(data).predict()"
   ]
  },
  {
   "cell_type": "code",
   "execution_count": 7,
   "metadata": {},
   "outputs": [],
   "source": [
    "def seg_fn(cost, sumstats, cost_args, penalty, min_len, max_cps, n):\n",
    "\n",
    "    # Initializing our array of changepoint candidates and costs\n",
    "    tau = np.empty((max_cps + 2,), dtype=np.int64)\n",
    "    tau[:2] = np.int64([0, n])\n",
    "    costs = np.empty((n,), dtype=np.float64)\n",
    "    \n",
    "    # Initializing array of found changepoints and their associated costs\n",
    "    cps = np.empty((max_cps,), dtype=np.int64)\n",
    "    cps_costs = np.zeros((max_cps,), dtype=np.float64)\n",
    "    \n",
    "    # Iterating to a max depth of our max changepoint limit\n",
    "    for q in range(max_cps):\n",
    "        \n",
    "        # Setting all costs back to zero for this run\n",
    "        costs[:] = 0.0\n",
    "        \n",
    "        # Iterating over each of the current segments\n",
    "        for ind in range(q + 1):\n",
    "            \n",
    "            # Setting start and end\n",
    "            start = tau[ind] + 1\n",
    "            end = tau[ind + 1]\n",
    "            \n",
    "            # Adjusting for min len\n",
    "            start_ind = start + min_len\n",
    "            end_ind = end - min_len + 1\n",
    "            \n",
    "            # Getting our null cost\n",
    "            null = cost(start, end, sumstats, cost_args)\n",
    "            costs[start_ind: end_ind] = null\n",
    "            \n",
    "            # Iterating over candidate points\n",
    "            for j in range(start_ind, end_ind):\n",
    "                costs[j] -= cost(start, j, sumstats, cost_args)\n",
    "                costs[j] -= cost(j, end, sumstats, cost_args)\n",
    "            \n",
    "            # Halving vlaues\n",
    "            costs[start_ind: end_ind] *= -0.5\n",
    "\n",
    "        # Finding the best changepoint candidate from this run\n",
    "        best_ind = np.argmin(costs)\n",
    "        best_cost = costs[best_ind]\n",
    "        cps[q] = best_ind\n",
    "        \n",
    "        # If better than the previous best cost, add to change point list\n",
    "        if best_cost < cps_costs[q]:\n",
    "            cps_costs[q] = best_cost\n",
    "            \n",
    "        # Adding changepoint to our list of endpoints\n",
    "        tau[q + 2] = best_ind\n",
    "        tau[: q + 3] = np.sort(tau[: q + 3])\n",
    "\n",
    "    # Pruning changepoints by penalty\n",
    "    n_cps = np.sum(cps_costs <= -1 * penalty)\n",
    "    if n_cps == 0:\n",
    "        cps = np.int64([-1])\n",
    "    else:\n",
    "        cps = np.sort(cps[:n_cps])\n",
    "    return cps"
   ]
  },
  {
   "cell_type": "code",
   "execution_count": 8,
   "metadata": {},
   "outputs": [
    {
     "data": {
      "text/plain": [
       "array([200, 400, 600], dtype=int64)"
      ]
     },
     "execution_count": 8,
     "metadata": {},
     "output_type": "execute_result"
    }
   ],
   "source": [
    "seg_fn(cost.cost_fn, cost.sumstats, cost.cost_args, pen, min_len, max_cps, n)"
   ]
  },
  {
   "cell_type": "code",
   "execution_count": 16,
   "metadata": {},
   "outputs": [
    {
     "name": "stdout",
     "output_type": "stream",
     "text": [
      "270 µs ± 7.81 µs per loop (mean ± std. dev. of 7 runs, 1,000 loops each)\n"
     ]
    }
   ],
   "source": [
    "%timeit binary_segment(cost.cost_fn, cost.sumstats, cost.cost_args, pen, min_len, max_cps, n)"
   ]
  },
  {
   "cell_type": "code",
   "execution_count": 9,
   "metadata": {},
   "outputs": [
    {
     "name": "stdout",
     "output_type": "stream",
     "text": [
      "1.76 ms ± 369 µs per loop (mean ± std. dev. of 7 runs, 1 loop each)\n"
     ]
    }
   ],
   "source": [
    "%timeit ROfflineChangepoint('mean', penalty='Manual', method='BinSeg', test_stat='Normal', minseglen=5, pen_value=10.0, Q=5).fit(data).predict()"
   ]
  }
 ],
 "metadata": {
  "interpreter": {
   "hash": "b4c53f74dd97562ff78f398eee988e3939218fc19e3a8ca4ae8290fa2322c252"
  },
  "kernelspec": {
   "display_name": "Python 3.10.4 ('pychange')",
   "language": "python",
   "name": "python3"
  },
  "language_info": {
   "codemirror_mode": {
    "name": "ipython",
    "version": 3
   },
   "file_extension": ".py",
   "mimetype": "text/x-python",
   "name": "python",
   "nbconvert_exporter": "python",
   "pygments_lexer": "ipython3",
   "version": "3.9.12"
  },
  "orig_nbformat": 4
 },
 "nbformat": 4,
 "nbformat_minor": 2
}
