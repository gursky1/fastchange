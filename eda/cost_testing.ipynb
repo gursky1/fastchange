{
 "cells": [
  {
   "cell_type": "code",
   "execution_count": 1,
   "metadata": {},
   "outputs": [
    {
     "name": "stderr",
     "output_type": "stream",
     "text": [
      "Unable to determine R home: [WinError 2] The system cannot find the file specified\n",
      "Unable to determine R library path: Command '('C:\\\\Program Files\\\\R\\\\R-4.0.5\\\\bin\\\\Rscript', '-e', 'cat(Sys.getenv(\"LD_LIBRARY_PATH\"))')' returned non-zero exit status 1.\n"
     ]
    }
   ],
   "source": [
    "# Importing packages\n",
    "import sys\n",
    "\n",
    "sys.path.append('..')\n",
    "\n",
    "import numpy as np\n",
    "import numba as nb\n",
    "import pandas as pd\n",
    "\n",
    "from src.pychange.costs.normal import NormalMeanCost, NormalVarCost, NormalMeanVarCost\n",
    "# from src.pychange.costs.poisson import PoissonMeanVarCost\n",
    "# from src.pychange.costs.exp import ExponentialMeanVarCost\n",
    "# from src.pychange.costs.gamma import GammaMeanVarCost\n",
    "# from src.pychange.costs.emp import EmpiricalCost\n",
    "# from src.pychange.seg.amoc import AmocSeg\n",
    "# from src.pychange.seg.binseg import BinSeg\n",
    "from src.pychange.seg.pelt import PeltSeg\n",
    "from src.pychange.penalties import bic_penalty\n",
    "from src.pychange.seg.base import BaseSeg, seg_sig\n",
    "\n",
    "from src.pychange.r import ROfflineChangepoint"
   ]
  },
  {
   "cell_type": "code",
   "execution_count": 2,
   "metadata": {},
   "outputs": [],
   "source": [
    "data_name = 'wave_c44137'\n",
    "data = pd.read_csv(f'../data/{data_name}.csv').iloc[:, -1].values"
   ]
  },
  {
   "cell_type": "code",
   "execution_count": 5,
   "metadata": {},
   "outputs": [],
   "source": [
    "import timeit"
   ]
  },
  {
   "cell_type": "code",
   "execution_count": 13,
   "metadata": {},
   "outputs": [],
   "source": [
    "py_times = timeit.repeat('PeltSeg(NormalMeanVarCost(), bic_penalty, min_len=10, max_cps=10).fit(data).predict()', repeat=10, number=20, globals=globals())"
   ]
  },
  {
   "cell_type": "code",
   "execution_count": 14,
   "metadata": {},
   "outputs": [],
   "source": [
    "r_times = timeit.repeat(\"ROfflineChangepoint('meanvar', penalty='BIC', method='PELT', test_stat='Normal', minseglen=10, Q=10).fit(data).predict().astype(np.int64)\", repeat=10, number=20, globals=globals())"
   ]
  },
  {
   "cell_type": "code",
   "execution_count": null,
   "metadata": {},
   "outputs": [],
   "source": [
    "print(np.mean(py_times))\n",
    "print(np.mean(r_times))"
   ]
  },
  {
   "cell_type": "code",
   "execution_count": null,
   "metadata": {},
   "outputs": [],
   "source": []
  },
  {
   "cell_type": "code",
   "execution_count": 6,
   "metadata": {},
   "outputs": [
    {
     "name": "stdout",
     "output_type": "stream",
     "text": [
      "64.4 ms ± 3.58 ms per loop (mean ± std. dev. of 7 runs, 10 loops each)\n"
     ]
    }
   ],
   "source": [
    "%timeit PeltSeg(NormalMeanVarCost(), bic_penalty, min_len=10, max_cps=10).fit(data).predict()"
   ]
  },
  {
   "cell_type": "code",
   "execution_count": 6,
   "metadata": {},
   "outputs": [
    {
     "name": "stdout",
     "output_type": "stream",
     "text": [
      "143 ms ± 8.71 ms per loop (mean ± std. dev. of 7 runs, 10 loops each)\n"
     ]
    }
   ],
   "source": [
    "%timeit ROfflineChangepoint('meanvar', penalty='BIC', method='PELT', test_stat='Normal', minseglen=10, Q=10).fit(data).predict().astype(np.int64)"
   ]
  },
  {
   "cell_type": "code",
   "execution_count": 3,
   "metadata": {},
   "outputs": [],
   "source": [
    "data_name = 'wave_c44137'\n",
    "data = pd.read_csv(f'../data/{data_name}.csv').iloc[:, -1].values"
   ]
  },
  {
   "cell_type": "code",
   "execution_count": 228,
   "metadata": {},
   "outputs": [],
   "source": [
    "data = np.hstack([\n",
    "    np.random.normal(0, 1, size=(200,)),\n",
    "    np.random.normal(10, 2, size=(100,))\n",
    "]).astype(np.float64)"
   ]
  },
  {
   "cell_type": "code",
   "execution_count": 14,
   "metadata": {},
   "outputs": [
    {
     "name": "stdout",
     "output_type": "stream",
     "text": [
      "47\n",
      "48\n",
      "[ 2230  3506  4791  5793  6800  7962  9843 11567 12569 14415 15713 16897\n",
      " 17952 19176 20198 21373 22558 23800 24928 25930 27403 29342 30949 32121\n",
      " 33879 35145 36406 37746 38762 40040 41049 42873 43915 45433 46435 48166\n",
      " 49468 50943 51952 52988 54008 55162 56507 57567 59563 61021 62023] [ 1236  2236  3506  4793  5793  6800  7962  9843 11569 12569 14415 15713\n",
      " 16713 17952 19176 20198 21373 22558 23800 24928 25928 27403 29342 30949\n",
      " 32121 33879 35145 36406 37746 38762 40040 41040 42873 43915 45435 46435\n",
      " 48166 49468 50943 51952 52988 54008 55162 56507 57567 59563 61021 62021]\n"
     ]
    }
   ],
   "source": [
    "cps1 = PeltSeg(NormalMeanVarCost(), bic_penalty, min_len=1000, max_cps=10).fit(data).predict()\n",
    "cps2 = ROfflineChangepoint('meanvar', penalty='BIC', method='PELT', test_stat='Normal', minseglen=1000, Q=10).fit(data).predict().astype(np.int64)\n",
    "print(len(cps1))\n",
    "print(len(cps2))\n",
    "if len(cps1) == len(cps2):\n",
    "    print(np.all(cps1 == cps2))\n",
    "print(cps1, cps2)"
   ]
  },
  {
   "cell_type": "code",
   "execution_count": null,
   "metadata": {},
   "outputs": [],
   "source": []
  },
  {
   "cell_type": "code",
   "execution_count": 18,
   "metadata": {},
   "outputs": [
    {
     "name": "stdout",
     "output_type": "stream",
     "text": [
      "169 ms ± 19.2 ms per loop (mean ± std. dev. of 7 runs, 10 loops each)\n"
     ]
    }
   ],
   "source": [
    "%timeit BinSeg(PoissonMeanVarCost(), bic_penalty, min_len=5, max_cps=100).fit(data).predict()"
   ]
  },
  {
   "cell_type": "code",
   "execution_count": 19,
   "metadata": {},
   "outputs": [
    {
     "name": "stdout",
     "output_type": "stream",
     "text": [
      "247 ms ± 8.51 ms per loop (mean ± std. dev. of 7 runs, 1 loop each)\n"
     ]
    }
   ],
   "source": [
    "%timeit ROfflineChangepoint('meanvar', penalty='BIC', method='BinSeg', test_stat='Poisson', minseglen=5, Q=100).fit(data).predict()"
   ]
  },
  {
   "cell_type": "code",
   "execution_count": 1,
   "metadata": {},
   "outputs": [
    {
     "name": "stderr",
     "output_type": "stream",
     "text": [
      "Unable to determine R home: [WinError 2] The system cannot find the file specified\n",
      "Unable to determine R library path: Command '('C:\\\\Program Files\\\\R\\\\R-4.0.5\\\\bin\\\\Rscript', '-e', 'cat(Sys.getenv(\"LD_LIBRARY_PATH\"))')' returned non-zero exit status 1.\n"
     ]
    }
   ],
   "source": [
    "# Importing packages\n",
    "import sys\n",
    "\n",
    "sys.path.append('..')\n",
    "\n",
    "import numpy as np\n",
    "import pandas as pd\n",
    "import numba as nb\n",
    "\n",
    "from src.pychange.costs.normal import NormalMeanCost\n",
    "from src.pychange.r import ROfflineChangepoint\n",
    "\n",
    "from src.pychange.seg.base import seg_sig"
   ]
  },
  {
   "cell_type": "code",
   "execution_count": 2,
   "metadata": {},
   "outputs": [],
   "source": [
    "data_name = 'wave_c44137'\n",
    "data = pd.read_csv(f'../data/{data_name}.csv').iloc[:, -1].values\n",
    "\n",
    "data = np.hstack([\n",
    "    np.random.normal(0, 1, (200,)),\n",
    "    np.random.normal(5, 1, (200,)),\n",
    "    np.random.normal(10, 1, (200,)),\n",
    "    np.random.normal(-2, 1, (200,)),\n",
    "])\n",
    "\n",
    "max_cps = 5\n",
    "min_len = 5\n",
    "n = data.shape[0]\n",
    "cost = NormalMeanCost().fit(data)\n",
    "pen = 10.0"
   ]
  },
  {
   "cell_type": "code",
   "execution_count": 3,
   "metadata": {},
   "outputs": [
    {
     "data": {
      "text/plain": [
       "array([200., 400., 600.])"
      ]
     },
     "execution_count": 3,
     "metadata": {},
     "output_type": "execute_result"
    }
   ],
   "source": [
    "ROfflineChangepoint('mean', penalty='Manual', method='BinSeg', test_stat='Normal', minseglen=5, pen_value=10.0, Q=5).fit(data).predict()"
   ]
  },
  {
   "cell_type": "code",
   "execution_count": 7,
   "metadata": {},
   "outputs": [],
   "source": [
    "def seg_fn(cost, sumstats, cost_args, penalty, min_len, max_cps, n):\n",
    "\n",
    "    # Initializing our array of changepoint candidates and costs\n",
    "    tau = np.empty((max_cps + 2,), dtype=np.int64)\n",
    "    tau[:2] = np.int64([0, n])\n",
    "    costs = np.empty((n,), dtype=np.float64)\n",
    "    \n",
    "    # Initializing array of found changepoints and their associated costs\n",
    "    cps = np.empty((max_cps,), dtype=np.int64)\n",
    "    cps_costs = np.zeros((max_cps,), dtype=np.float64)\n",
    "    \n",
    "    # Iterating to a max depth of our max changepoint limit\n",
    "    for q in range(max_cps):\n",
    "        \n",
    "        # Setting all costs back to zero for this run\n",
    "        costs[:] = 0.0\n",
    "        \n",
    "        # Iterating over each of the current segments\n",
    "        for ind in range(q + 1):\n",
    "            \n",
    "            # Setting start and end\n",
    "            start = tau[ind] + 1\n",
    "            end = tau[ind + 1]\n",
    "            \n",
    "            # Adjusting for min len\n",
    "            start_ind = start + min_len\n",
    "            end_ind = end - min_len + 1\n",
    "            \n",
    "            # Getting our null cost\n",
    "            null = cost(start, end, sumstats, cost_args)\n",
    "            costs[start_ind: end_ind] = null\n",
    "            \n",
    "            # Iterating over candidate points\n",
    "            for j in range(start_ind, end_ind):\n",
    "                costs[j] -= cost(start, j, sumstats, cost_args)\n",
    "                costs[j] -= cost(j, end, sumstats, cost_args)\n",
    "            \n",
    "            # Halving vlaues\n",
    "            costs[start_ind: end_ind] *= -0.5\n",
    "\n",
    "        # Finding the best changepoint candidate from this run\n",
    "        best_ind = np.argmin(costs)\n",
    "        best_cost = costs[best_ind]\n",
    "        cps[q] = best_ind\n",
    "        \n",
    "        # If better than the previous best cost, add to change point list\n",
    "        if best_cost < cps_costs[q]:\n",
    "            cps_costs[q] = best_cost\n",
    "            \n",
    "        # Adding changepoint to our list of endpoints\n",
    "        tau[q + 2] = best_ind\n",
    "        tau[: q + 3] = np.sort(tau[: q + 3])\n",
    "\n",
    "    # Pruning changepoints by penalty\n",
    "    n_cps = np.sum(cps_costs <= -1 * penalty)\n",
    "    if n_cps == 0:\n",
    "        cps = np.int64([-1])\n",
    "    else:\n",
    "        cps = np.sort(cps[:n_cps])\n",
    "    return cps"
   ]
  },
  {
   "cell_type": "code",
   "execution_count": 8,
   "metadata": {},
   "outputs": [
    {
     "data": {
      "text/plain": [
       "array([200, 400, 600], dtype=int64)"
      ]
     },
     "execution_count": 8,
     "metadata": {},
     "output_type": "execute_result"
    }
   ],
   "source": [
    "seg_fn(cost.cost_fn, cost.sumstats, cost.cost_args, pen, min_len, max_cps, n)"
   ]
  },
  {
   "cell_type": "code",
   "execution_count": 16,
   "metadata": {},
   "outputs": [
    {
     "name": "stdout",
     "output_type": "stream",
     "text": [
      "270 µs ± 7.81 µs per loop (mean ± std. dev. of 7 runs, 1,000 loops each)\n"
     ]
    }
   ],
   "source": [
    "%timeit binary_segment(cost.cost_fn, cost.sumstats, cost.cost_args, pen, min_len, max_cps, n)"
   ]
  },
  {
   "cell_type": "code",
   "execution_count": 9,
   "metadata": {},
   "outputs": [
    {
     "name": "stdout",
     "output_type": "stream",
     "text": [
      "1.76 ms ± 369 µs per loop (mean ± std. dev. of 7 runs, 1 loop each)\n"
     ]
    }
   ],
   "source": [
    "%timeit ROfflineChangepoint('mean', penalty='Manual', method='BinSeg', test_stat='Normal', minseglen=5, pen_value=10.0, Q=5).fit(data).predict()"
   ]
  }
 ],
 "metadata": {
  "interpreter": {
   "hash": "b4c53f74dd97562ff78f398eee988e3939218fc19e3a8ca4ae8290fa2322c252"
  },
  "kernelspec": {
   "display_name": "Python 3.10.4 ('pychange')",
   "language": "python",
   "name": "python3"
  },
  "language_info": {
   "codemirror_mode": {
    "name": "ipython",
    "version": 3
   },
   "file_extension": ".py",
   "mimetype": "text/x-python",
   "name": "python",
   "nbconvert_exporter": "python",
   "pygments_lexer": "ipython3",
   "version": "3.10.4"
  },
  "orig_nbformat": 4
 },
 "nbformat": 4,
 "nbformat_minor": 2
}
