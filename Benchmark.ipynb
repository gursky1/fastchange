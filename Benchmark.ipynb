{
 "cells": [
  {
   "cell_type": "code",
   "execution_count": 3,
   "id": "89b816f8",
   "metadata": {},
   "outputs": [
    {
     "ename": "ImportError",
     "evalue": "DLL load failed while importing numba_costs: %1 is not a valid Win32 application.",
     "output_type": "error",
     "traceback": [
      "\u001b[1;31m---------------------------------------------------------------------------\u001b[0m",
      "\u001b[1;31mImportError\u001b[0m                               Traceback (most recent call last)",
      "\u001b[1;32m<ipython-input-3-dd5327c03ec1>\u001b[0m in \u001b[0;36m<module>\u001b[1;34m\u001b[0m\n\u001b[0;32m      2\u001b[0m \u001b[1;32mfrom\u001b[0m \u001b[0mnumba\u001b[0m \u001b[1;32mimport\u001b[0m \u001b[0mnjit\u001b[0m\u001b[1;33m\u001b[0m\u001b[1;33m\u001b[0m\u001b[0m\n\u001b[0;32m      3\u001b[0m \u001b[1;32mfrom\u001b[0m \u001b[0mpychange\u001b[0m\u001b[1;33m.\u001b[0m\u001b[0mcosts\u001b[0m \u001b[1;32mimport\u001b[0m \u001b[0mnormal_mean_var_cost\u001b[0m\u001b[1;33m,\u001b[0m \u001b[0mjit_normal_mean_var_cost\u001b[0m\u001b[1;33m\u001b[0m\u001b[1;33m\u001b[0m\u001b[0m\n\u001b[1;32m----> 4\u001b[1;33m \u001b[1;32mfrom\u001b[0m \u001b[0mpychange\u001b[0m\u001b[1;33m.\u001b[0m\u001b[0mnumba_costs\u001b[0m \u001b[1;32mimport\u001b[0m \u001b[0maot_normal_mean_var_cost\u001b[0m\u001b[1;33m\u001b[0m\u001b[1;33m\u001b[0m\u001b[0m\n\u001b[0m\u001b[0;32m      5\u001b[0m \u001b[1;32mfrom\u001b[0m \u001b[0mpychange\u001b[0m\u001b[1;33m.\u001b[0m\u001b[0mcython_costs\u001b[0m \u001b[1;32mimport\u001b[0m \u001b[0mcython_normal_mean_var_cost\u001b[0m\u001b[1;33m\u001b[0m\u001b[1;33m\u001b[0m\u001b[0m\n\u001b[0;32m      6\u001b[0m \u001b[1;32mfrom\u001b[0m \u001b[0mpychange\u001b[0m\u001b[1;33m.\u001b[0m\u001b[0msegment\u001b[0m \u001b[1;32mimport\u001b[0m \u001b[0mcreate_summary_stats\u001b[0m\u001b[1;33m\u001b[0m\u001b[1;33m\u001b[0m\u001b[0m\n",
      "\u001b[1;31mImportError\u001b[0m: DLL load failed while importing numba_costs: %1 is not a valid Win32 application."
     ]
    }
   ],
   "source": [
    "import numpy as np\n",
    "from numba import njit\n",
    "from pychange.costs import normal_mean_var_cost, jit_normal_mean_var_cost\n",
    "from pychange.numba_costs import aot_normal_mean_var_cost\n",
    "from pychange.cython_costs import cython_normal_mean_var_cost\n",
    "from pychange.segment import create_summary_stats"
   ]
  },
  {
   "cell_type": "code",
   "execution_count": null,
   "id": "1d4ad730",
   "metadata": {},
   "outputs": [],
   "source": [
    "%1 is not a valid Win32 application."
   ]
  },
  {
   "cell_type": "code",
   "execution_count": 2,
   "id": "4c276ac0",
   "metadata": {},
   "outputs": [
    {
     "name": "stdout",
     "output_type": "stream",
     "text": [
      "(2500,)\n"
     ]
    }
   ],
   "source": [
    "# Creating test series\n",
    "x = np.concatenate([np.random.normal(0, 1, (1500,)), np.random.normal(1, 2, (1000,))])\n",
    "#x = np.random.normal(0, 1, (1500,))\n",
    "print(x.shape)"
   ]
  },
  {
   "cell_type": "code",
   "execution_count": 3,
   "id": "aeb8d876",
   "metadata": {},
   "outputs": [],
   "source": [
    "# Creating summary stats\n",
    "sum_stats = create_summary_stats(x)[1000, :]\n",
    "n = 1000"
   ]
  },
  {
   "cell_type": "code",
   "execution_count": 4,
   "id": "9788848a",
   "metadata": {},
   "outputs": [
    {
     "name": "stdout",
     "output_type": "stream",
     "text": [
      "5.32 µs ± 585 ns per loop (mean ± std. dev. of 7 runs, 100000 loops each)\n"
     ]
    }
   ],
   "source": [
    "%timeit normal_mean_var_cost(sum_stats, n)"
   ]
  },
  {
   "cell_type": "code",
   "execution_count": 5,
   "id": "7cf8f4c8",
   "metadata": {},
   "outputs": [
    {
     "name": "stdout",
     "output_type": "stream",
     "text": [
      "413 ns ± 35.2 ns per loop (mean ± std. dev. of 7 runs, 1000000 loops each)\n"
     ]
    }
   ],
   "source": [
    "jit_normal_mean_var_cost(sum_stats, n)\n",
    "%timeit jit_normal_mean_var_cost(sum_stats, n)"
   ]
  },
  {
   "cell_type": "code",
   "execution_count": 6,
   "id": "9d1adf17",
   "metadata": {},
   "outputs": [
    {
     "name": "stdout",
     "output_type": "stream",
     "text": [
      "274 ns ± 11.6 ns per loop (mean ± std. dev. of 7 runs, 1000000 loops each)\n"
     ]
    }
   ],
   "source": [
    "%timeit aot_normal_mean_var_cost(sum_stats, n)"
   ]
  }
 ],
 "metadata": {
  "kernelspec": {
   "display_name": "Python 3",
   "language": "python",
   "name": "python3"
  },
  "language_info": {
   "codemirror_mode": {
    "name": "ipython",
    "version": 3
   },
   "file_extension": ".py",
   "mimetype": "text/x-python",
   "name": "python",
   "nbconvert_exporter": "python",
   "pygments_lexer": "ipython3",
   "version": "3.9.5"
  }
 },
 "nbformat": 4,
 "nbformat_minor": 5
}
