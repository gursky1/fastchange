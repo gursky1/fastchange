{
 "cells": [
  {
   "cell_type": "code",
   "execution_count": 1,
   "id": "83c6bdaf",
   "metadata": {},
   "outputs": [],
   "source": [
    "# Importing packages\n",
    "import numpy as np\n",
    "from pychange.costs import NormalMeanCost, NormalVarCost, NormalMeanVarCost, PoissonMeanVarCost, NonParametricCost\n",
    "from pychange.segment import amoc_segment, pelt_segment, binary_segment\n",
    "from pychange.r import RChangepoint\n",
    "%load_ext line_profiler"
   ]
  },
  {
   "cell_type": "code",
   "execution_count": 2,
   "id": "666e2c5e",
   "metadata": {},
   "outputs": [],
   "source": [
    "# Creating Normal synthetic data\n",
    "size = 2000\n",
    "k = 10\n",
    "min_len = 10\n",
    "max_cp = 40\n",
    "pen = 100\n",
    "test_series = np.hstack([np.random.normal(0, 1, (size,)),\n",
    "                         np.random.normal(6, 1, (size,)),\n",
    "                         np.random.normal(0, 2, (size,)),\n",
    "                         np.random.normal(-4, 1, (size,)),\n",
    "                         np.random.normal(3, 1, (size,)),\n",
    "                         ] * 4)\n",
    "\n",
    "p_test_series = np.hstack([np.random.poisson(2, (size,)),\n",
    "                         np.random.poisson(6, (size,)),\n",
    "                         np.random.poisson(10, (size,)),\n",
    "                         np.random.poisson(4, (size,)),\n",
    "                         np.random.poisson(3, (size,)),\n",
    "                         ] * 4)"
   ]
  },
  {
   "cell_type": "markdown",
   "id": "5fdc5fa2",
   "metadata": {},
   "source": [
    "# AMOC"
   ]
  },
  {
   "cell_type": "markdown",
   "id": "1e25855a",
   "metadata": {},
   "source": [
    "## Normal Mean"
   ]
  },
  {
   "cell_type": "code",
   "execution_count": 20,
   "id": "f3092d4a",
   "metadata": {},
   "outputs": [
    {
     "data": {
      "text/plain": [
       "10000"
      ]
     },
     "execution_count": 20,
     "metadata": {},
     "output_type": "execute_result"
    }
   ],
   "source": [
    "# Normal mean\n",
    "amoc_segment(NormalMeanCost().fit(test_series), min_len, pen)"
   ]
  },
  {
   "cell_type": "code",
   "execution_count": 21,
   "id": "d2767391",
   "metadata": {},
   "outputs": [
    {
     "data": {
      "text/plain": [
       "array([10000.])"
      ]
     },
     "execution_count": 21,
     "metadata": {},
     "output_type": "execute_result"
    }
   ],
   "source": [
    "RChangepoint('mean', penalty='Manual', pen_value=pen, method='AMOC', minseglen=min_len).fit(test_series).predict()"
   ]
  },
  {
   "cell_type": "code",
   "execution_count": 22,
   "id": "3dce8854",
   "metadata": {},
   "outputs": [
    {
     "name": "stdout",
     "output_type": "stream",
     "text": [
      "2.07 ms ± 20.4 µs per loop (mean ± std. dev. of 7 runs, 100 loops each)\n"
     ]
    }
   ],
   "source": [
    "# Pychange Timing\n",
    "%timeit amoc_segment(NormalMeanCost().fit(test_series), min_len, pen)"
   ]
  },
  {
   "cell_type": "code",
   "execution_count": 23,
   "id": "721c1a3a",
   "metadata": {},
   "outputs": [
    {
     "name": "stdout",
     "output_type": "stream",
     "text": [
      "8.79 ms ± 227 µs per loop (mean ± std. dev. of 7 runs, 100 loops each)\n"
     ]
    }
   ],
   "source": [
    "# R timing\n",
    "%timeit RChangepoint('mean', penalty='Manual', pen_value=pen, method='AMOC', test_stat=\"Normal\", minseglen=min_len).fit(test_series).predict()"
   ]
  },
  {
   "cell_type": "markdown",
   "id": "686dfd1c",
   "metadata": {},
   "source": [
    "## Normal Var"
   ]
  },
  {
   "cell_type": "code",
   "execution_count": 24,
   "id": "ceda6590",
   "metadata": {},
   "outputs": [
    {
     "data": {
      "text/plain": [
       "5000"
      ]
     },
     "execution_count": 24,
     "metadata": {},
     "output_type": "execute_result"
    }
   ],
   "source": [
    "# Normal mean\n",
    "amoc_segment(NormalVarCost().fit(test_series), min_len, pen)"
   ]
  },
  {
   "cell_type": "code",
   "execution_count": 25,
   "id": "87124ece",
   "metadata": {},
   "outputs": [
    {
     "data": {
      "text/plain": [
       "array([5000.])"
      ]
     },
     "execution_count": 25,
     "metadata": {},
     "output_type": "execute_result"
    }
   ],
   "source": [
    "RChangepoint('var', penalty='Manual', pen_value=pen, method='AMOC', minseglen=min_len).fit(test_series).predict()"
   ]
  },
  {
   "cell_type": "code",
   "execution_count": 26,
   "id": "1596282f",
   "metadata": {},
   "outputs": [
    {
     "name": "stdout",
     "output_type": "stream",
     "text": [
      "5.95 ms ± 75.2 µs per loop (mean ± std. dev. of 7 runs, 100 loops each)\n"
     ]
    }
   ],
   "source": [
    "# Pychange Timing\n",
    "%timeit amoc_segment(NormalVarCost().fit(test_series), min_len, pen)"
   ]
  },
  {
   "cell_type": "code",
   "execution_count": 27,
   "id": "a6657f47",
   "metadata": {},
   "outputs": [
    {
     "name": "stdout",
     "output_type": "stream",
     "text": [
      "13.8 ms ± 191 µs per loop (mean ± std. dev. of 7 runs, 100 loops each)\n"
     ]
    }
   ],
   "source": [
    "# R timing\n",
    "%timeit RChangepoint('var', penalty='Manual', pen_value=pen, method='AMOC', test_stat=\"Normal\", minseglen=min_len).fit(test_series).predict()"
   ]
  },
  {
   "cell_type": "markdown",
   "id": "b268f830",
   "metadata": {},
   "source": [
    "## Normal Mean+Var"
   ]
  },
  {
   "cell_type": "code",
   "execution_count": 28,
   "id": "40ecfe11",
   "metadata": {},
   "outputs": [
    {
     "data": {
      "text/plain": [
       "95000"
      ]
     },
     "execution_count": 28,
     "metadata": {},
     "output_type": "execute_result"
    }
   ],
   "source": [
    "# Normal mean\n",
    "amoc_segment(NormalMeanVarCost().fit(test_series), min_len, pen)"
   ]
  },
  {
   "cell_type": "code",
   "execution_count": 29,
   "id": "93cfa665",
   "metadata": {},
   "outputs": [
    {
     "data": {
      "text/plain": [
       "array([95000.])"
      ]
     },
     "execution_count": 29,
     "metadata": {},
     "output_type": "execute_result"
    }
   ],
   "source": [
    "RChangepoint('meanvar', penalty='Manual', pen_value=pen, method='AMOC', minseglen=min_len).fit(test_series).predict()"
   ]
  },
  {
   "cell_type": "code",
   "execution_count": 30,
   "id": "80607224",
   "metadata": {},
   "outputs": [
    {
     "name": "stdout",
     "output_type": "stream",
     "text": [
      "3.81 ms ± 58.8 µs per loop (mean ± std. dev. of 7 runs, 100 loops each)\n"
     ]
    }
   ],
   "source": [
    "# Pychange Timing\n",
    "%timeit amoc_segment(NormalMeanVarCost().fit(test_series), min_len, pen)"
   ]
  },
  {
   "cell_type": "code",
   "execution_count": 31,
   "id": "dc9a7670",
   "metadata": {},
   "outputs": [
    {
     "name": "stdout",
     "output_type": "stream",
     "text": [
      "18.2 ms ± 559 µs per loop (mean ± std. dev. of 7 runs, 100 loops each)\n"
     ]
    }
   ],
   "source": [
    "# R timing\n",
    "%timeit RChangepoint('meanvar', penalty='Manual', pen_value=pen, method='AMOC', test_stat=\"Normal\", minseglen=min_len).fit(test_series).predict()"
   ]
  },
  {
   "cell_type": "markdown",
   "id": "b2ce445a",
   "metadata": {},
   "source": [
    "## Poisson Mean+Var"
   ]
  },
  {
   "cell_type": "code",
   "execution_count": 4,
   "id": "1a40cf5d",
   "metadata": {},
   "outputs": [
    {
     "data": {
      "text/plain": [
       "5000"
      ]
     },
     "execution_count": 4,
     "metadata": {},
     "output_type": "execute_result"
    }
   ],
   "source": [
    "# Normal mean\n",
    "amoc_segment(PoissonMeanVarCost().fit(p_test_series), min_len, pen)"
   ]
  },
  {
   "cell_type": "code",
   "execution_count": 5,
   "id": "8cb4b747",
   "metadata": {},
   "outputs": [
    {
     "data": {
      "text/plain": [
       "array([5000.])"
      ]
     },
     "execution_count": 5,
     "metadata": {},
     "output_type": "execute_result"
    }
   ],
   "source": [
    "RChangepoint('meanvar', penalty='Manual', pen_value=pen, method='AMOC', test_stat=\"Poisson\", minseglen=min_len).fit(p_test_series).predict()"
   ]
  },
  {
   "cell_type": "code",
   "execution_count": 6,
   "id": "7259366a",
   "metadata": {},
   "outputs": [
    {
     "name": "stdout",
     "output_type": "stream",
     "text": [
      "2.72 ms ± 39.4 µs per loop (mean ± std. dev. of 7 runs, 100 loops each)\n"
     ]
    }
   ],
   "source": [
    "# Pychange Timing\n",
    "%timeit amoc_segment(PoissonMeanVarCost().fit(p_test_series), min_len, pen)"
   ]
  },
  {
   "cell_type": "code",
   "execution_count": 8,
   "id": "bfffacaa",
   "metadata": {},
   "outputs": [
    {
     "name": "stdout",
     "output_type": "stream",
     "text": [
      "68 ms ± 995 µs per loop (mean ± std. dev. of 7 runs, 10 loops each)\n"
     ]
    }
   ],
   "source": [
    "# R timing\n",
    "%timeit RChangepoint('meanvar', penalty='Manual', pen_value=pen, method='AMOC', test_stat=\"Poisson\", minseglen=min_len).fit(p_test_series).predict()"
   ]
  },
  {
   "cell_type": "markdown",
   "id": "fdc3e109",
   "metadata": {},
   "source": [
    "## Nonparametric"
   ]
  },
  {
   "cell_type": "code",
   "execution_count": 9,
   "id": "49f7c061",
   "metadata": {},
   "outputs": [
    {
     "data": {
      "text/plain": [
       "10000"
      ]
     },
     "execution_count": 9,
     "metadata": {},
     "output_type": "execute_result"
    }
   ],
   "source": [
    "# Normal mean\n",
    "amoc_segment(NonParametricCost(k).fit(test_series), min_len, pen)"
   ]
  },
  {
   "cell_type": "code",
   "execution_count": 11,
   "id": "398003bb",
   "metadata": {},
   "outputs": [
    {
     "name": "stdout",
     "output_type": "stream",
     "text": [
      "119 ms ± 858 µs per loop (mean ± std. dev. of 7 runs, 10 loops each)\n"
     ]
    }
   ],
   "source": [
    "# Pychange Timing\n",
    "%timeit amoc_segment(NonParametricCost(k).fit(test_series), min_len, pen)"
   ]
  },
  {
   "cell_type": "markdown",
   "id": "7b8cb8b3",
   "metadata": {},
   "source": [
    "# Pelt"
   ]
  },
  {
   "cell_type": "markdown",
   "id": "63dbe415",
   "metadata": {},
   "source": [
    "## Normal Mean"
   ]
  },
  {
   "cell_type": "code",
   "execution_count": 14,
   "id": "fb7b0a55",
   "metadata": {},
   "outputs": [
    {
     "data": {
      "text/plain": [
       "array([ 5000, 10000, 15000, 20000, 25000, 30000, 35000, 40000, 45000,\n",
       "       50000, 55000, 60000, 65000, 70000, 75000, 80000, 85000, 90000,\n",
       "       95000], dtype=int64)"
      ]
     },
     "execution_count": 14,
     "metadata": {},
     "output_type": "execute_result"
    }
   ],
   "source": [
    "# Normal mean\n",
    "pelt_segment(NormalMeanCost().fit(test_series), min_len, max_cp, pen, 1)"
   ]
  },
  {
   "cell_type": "code",
   "execution_count": 15,
   "id": "67dad695",
   "metadata": {},
   "outputs": [
    {
     "data": {
      "text/plain": [
       "array([ 5000, 10000, 15000, 20000, 25000, 30000, 35000, 40000, 45000,\n",
       "       50000, 55000, 60000, 65000, 70000, 75000, 80000, 85000, 90000,\n",
       "       95000], dtype=int32)"
      ]
     },
     "execution_count": 15,
     "metadata": {},
     "output_type": "execute_result"
    }
   ],
   "source": [
    "RChangepoint('mean', penalty='Manual', pen_value=pen, method='PELT', minseglen=min_len).fit(test_series).predict()"
   ]
  },
  {
   "cell_type": "code",
   "execution_count": 17,
   "id": "861d6a30",
   "metadata": {},
   "outputs": [
    {
     "name": "stdout",
     "output_type": "stream",
     "text": [
      "3.85 s ± 23.7 ms per loop (mean ± std. dev. of 7 runs, 1 loop each)\n"
     ]
    }
   ],
   "source": [
    "# Pychange Timing\n",
    "%timeit pelt_segment(NormalMeanCost().fit(test_series), min_len, max_cp, pen, 1)"
   ]
  },
  {
   "cell_type": "code",
   "execution_count": 18,
   "id": "9c2f454b",
   "metadata": {},
   "outputs": [
    {
     "name": "stdout",
     "output_type": "stream",
     "text": [
      "1.1 s ± 12.4 ms per loop (mean ± std. dev. of 7 runs, 1 loop each)\n"
     ]
    }
   ],
   "source": [
    "# R timing\n",
    "%timeit RChangepoint('mean', penalty='Manual', pen_value=pen, method='PELT', minseglen=min_len).fit(test_series).predict()"
   ]
  },
  {
   "cell_type": "markdown",
   "id": "391b5a20",
   "metadata": {},
   "source": [
    "## Normal Var"
   ]
  },
  {
   "cell_type": "code",
   "execution_count": 19,
   "id": "08d1aef1",
   "metadata": {},
   "outputs": [
    {
     "data": {
      "text/plain": [
       "array([ 4992, 10001, 14999, 20000, 25001, 29992, 35001, 39999, 45000,\n",
       "       50001, 54992, 60001, 64999, 70000, 75001, 79992, 85001, 89999,\n",
       "       95000], dtype=int64)"
      ]
     },
     "execution_count": 19,
     "metadata": {},
     "output_type": "execute_result"
    }
   ],
   "source": [
    "pelt_segment(NormalVarCost().fit(test_series), min_len, max_cp, pen, 1)"
   ]
  },
  {
   "cell_type": "code",
   "execution_count": 20,
   "id": "e5cf5788",
   "metadata": {},
   "outputs": [
    {
     "data": {
      "text/plain": [
       "array([ 5000, 10001, 14999, 20000, 24991, 30000, 35001, 39999, 45000,\n",
       "       49991, 55000, 60001, 64999, 70000, 74991, 80000, 85001, 89999,\n",
       "       95000], dtype=int32)"
      ]
     },
     "execution_count": 20,
     "metadata": {},
     "output_type": "execute_result"
    }
   ],
   "source": [
    "RChangepoint('var', penalty='Manual', pen_value=pen, method='PELT', minseglen=min_len).fit(test_series).predict()"
   ]
  },
  {
   "cell_type": "code",
   "execution_count": 21,
   "id": "53774629",
   "metadata": {},
   "outputs": [
    {
     "name": "stdout",
     "output_type": "stream",
     "text": [
      "6.9 s ± 70.6 ms per loop (mean ± std. dev. of 7 runs, 1 loop each)\n"
     ]
    }
   ],
   "source": [
    "# Pychange Timing\n",
    "%timeit pelt_segment(NormalVarCost().fit(test_series), min_len, max_cp, pen, 1)"
   ]
  },
  {
   "cell_type": "code",
   "execution_count": 22,
   "id": "e82c7345",
   "metadata": {},
   "outputs": [
    {
     "name": "stdout",
     "output_type": "stream",
     "text": [
      "9.72 s ± 95.6 ms per loop (mean ± std. dev. of 7 runs, 1 loop each)\n"
     ]
    }
   ],
   "source": [
    "# R timing\n",
    "%timeit RChangepoint('var', penalty='Manual', pen_value=pen, method='PELT', minseglen=min_len).fit(test_series).predict()"
   ]
  },
  {
   "cell_type": "markdown",
   "id": "6731b850",
   "metadata": {},
   "source": [
    "## Normal Mean+Var"
   ]
  },
  {
   "cell_type": "code",
   "execution_count": 23,
   "id": "154ec6e9",
   "metadata": {},
   "outputs": [
    {
     "data": {
      "text/plain": [
       "array([ 5000, 10000, 15000, 20000, 25000, 30000, 35000, 40000, 45000,\n",
       "       50000, 55000, 60000, 65000, 70000, 75000, 80000, 85000, 90000,\n",
       "       95000], dtype=int64)"
      ]
     },
     "execution_count": 23,
     "metadata": {},
     "output_type": "execute_result"
    }
   ],
   "source": [
    "pelt_segment(NormalMeanVarCost().fit(test_series), min_len, max_cp, pen, 1)"
   ]
  },
  {
   "cell_type": "code",
   "execution_count": 24,
   "id": "a74e9a81",
   "metadata": {},
   "outputs": [
    {
     "data": {
      "text/plain": [
       "array([ 5000, 10000, 15000, 20000, 25000, 30000, 35000, 40000, 45000,\n",
       "       50000, 55000, 60000, 65000, 70000, 75000, 80000, 85000, 90000,\n",
       "       95000], dtype=int32)"
      ]
     },
     "execution_count": 24,
     "metadata": {},
     "output_type": "execute_result"
    }
   ],
   "source": [
    "RChangepoint('meanvar', penalty='Manual', pen_value=pen, method='PELT', minseglen=min_len).fit(test_series).predict()"
   ]
  },
  {
   "cell_type": "code",
   "execution_count": 25,
   "id": "a2e35145",
   "metadata": {},
   "outputs": [
    {
     "name": "stdout",
     "output_type": "stream",
     "text": [
      "5.33 s ± 23.3 ms per loop (mean ± std. dev. of 7 runs, 1 loop each)\n"
     ]
    }
   ],
   "source": [
    "# Pychange Timing\n",
    "%timeit pelt_segment(NormalMeanVarCost().fit(test_series), min_len, max_cp, pen, 1)"
   ]
  },
  {
   "cell_type": "code",
   "execution_count": 26,
   "id": "5d27856f",
   "metadata": {},
   "outputs": [
    {
     "name": "stdout",
     "output_type": "stream",
     "text": [
      "13.1 s ± 123 ms per loop (mean ± std. dev. of 7 runs, 1 loop each)\n"
     ]
    }
   ],
   "source": [
    "# R timing\n",
    "%timeit RChangepoint('meanvar', penalty='Manual', pen_value=pen, method='PELT', minseglen=min_len).fit(test_series).predict()"
   ]
  },
  {
   "cell_type": "markdown",
   "id": "af150db8",
   "metadata": {},
   "source": [
    "## Poisson Mean+Var"
   ]
  },
  {
   "cell_type": "code",
   "execution_count": 27,
   "id": "78df78b2",
   "metadata": {},
   "outputs": [
    {
     "data": {
      "text/plain": [
       "array([ 5000, 10000, 15002, 19996, 25006, 30000, 35000, 40002, 44996,\n",
       "       50006, 55000, 60000, 65002, 69996, 75006, 80000, 85000, 90002,\n",
       "       94996], dtype=int64)"
      ]
     },
     "execution_count": 27,
     "metadata": {},
     "output_type": "execute_result"
    }
   ],
   "source": [
    "pelt_segment(PoissonMeanVarCost().fit(p_test_series), min_len, max_cp, pen, 1)"
   ]
  },
  {
   "cell_type": "code",
   "execution_count": 28,
   "id": "d5bdd96c",
   "metadata": {},
   "outputs": [
    {
     "data": {
      "text/plain": [
       "array([ 5000, 10000, 15002, 19996, 25006, 30000, 35000, 40002, 44996,\n",
       "       50006, 55000, 60000, 65002, 69996, 75006, 80000, 85000, 90002,\n",
       "       94996], dtype=int32)"
      ]
     },
     "execution_count": 28,
     "metadata": {},
     "output_type": "execute_result"
    }
   ],
   "source": [
    "RChangepoint('meanvar', penalty='Manual', pen_value=pen, method='PELT', minseglen=min_len, test_stat=\"Poisson\").fit(p_test_series).predict()"
   ]
  },
  {
   "cell_type": "code",
   "execution_count": 29,
   "id": "d6838d81",
   "metadata": {},
   "outputs": [
    {
     "name": "stdout",
     "output_type": "stream",
     "text": [
      "5.15 s ± 47.4 ms per loop (mean ± std. dev. of 7 runs, 1 loop each)\n"
     ]
    }
   ],
   "source": [
    "# Pychange Timing\n",
    "%timeit pelt_segment(PoissonMeanVarCost().fit(p_test_series), min_len, max_cp, pen, 1)"
   ]
  },
  {
   "cell_type": "code",
   "execution_count": 30,
   "id": "13b04407",
   "metadata": {},
   "outputs": [
    {
     "name": "stdout",
     "output_type": "stream",
     "text": [
      "16.1 s ± 130 ms per loop (mean ± std. dev. of 7 runs, 1 loop each)\n"
     ]
    }
   ],
   "source": [
    "# R timing\n",
    "%timeit RChangepoint('meanvar', penalty='Manual', pen_value=pen, method='PELT', minseglen=min_len, test_stat=\"Poisson\").fit(p_test_series).predict()"
   ]
  },
  {
   "cell_type": "markdown",
   "id": "bd44f8f1",
   "metadata": {},
   "source": [
    "## Nonparametric"
   ]
  },
  {
   "cell_type": "code",
   "execution_count": 3,
   "id": "97260c80",
   "metadata": {},
   "outputs": [
    {
     "data": {
      "text/plain": [
       "array([ 2000,  4000,  5999,  8000,  9992, 12000, 14000, 15999, 18000,\n",
       "       19992, 22000, 24000, 25999, 28000, 29992, 32000, 34000, 35999,\n",
       "       38000], dtype=int64)"
      ]
     },
     "execution_count": 3,
     "metadata": {},
     "output_type": "execute_result"
    }
   ],
   "source": [
    "pelt_segment(NonParametricCost(k).fit(test_series), min_len, max_cp, pen, 1)"
   ]
  },
  {
   "cell_type": "code",
   "execution_count": 4,
   "id": "abe97d80",
   "metadata": {},
   "outputs": [
    {
     "data": {
      "text/plain": [
       "array([ 2000,  4000,  5999,  8000,  9992, 12000, 14000, 15999, 18000,\n",
       "       19992, 22000, 24000, 25999, 28000, 29992, 32000, 34000, 35999,\n",
       "       38000], dtype=int32)"
      ]
     },
     "execution_count": 4,
     "metadata": {},
     "output_type": "execute_result"
    }
   ],
   "source": [
    "RChangepoint('np', penalty='Manual', pen_value=pen, method='PELT', minseglen=min_len, nquantiles=k).fit(test_series).predict()"
   ]
  },
  {
   "cell_type": "code",
   "execution_count": 5,
   "id": "206ce4c5",
   "metadata": {},
   "outputs": [
    {
     "name": "stdout",
     "output_type": "stream",
     "text": [
      "3.01 s ± 3 ms per loop (mean ± std. dev. of 7 runs, 1 loop each)\n"
     ]
    }
   ],
   "source": [
    "# Pychange Timing\n",
    "%timeit pelt_segment(NonParametricCost(k).fit(test_series), min_len, max_cp, pen, 1)"
   ]
  },
  {
   "cell_type": "code",
   "execution_count": null,
   "id": "24f3d526",
   "metadata": {},
   "outputs": [],
   "source": [
    "# R timing\n",
    "%timeit RChangepoint('np', penalty='Manual', pen_value=pen, method='PELT', minseglen=min_len, nquantiles=k).fit(test_series).predict()"
   ]
  },
  {
   "cell_type": "markdown",
   "id": "7bc08494",
   "metadata": {},
   "source": [
    "# Binary Segmentation"
   ]
  }
 ],
 "metadata": {
  "kernelspec": {
   "display_name": "Python 3",
   "language": "python",
   "name": "python3"
  },
  "language_info": {
   "codemirror_mode": {
    "name": "ipython",
    "version": 3
   },
   "file_extension": ".py",
   "mimetype": "text/x-python",
   "name": "python",
   "nbconvert_exporter": "python",
   "pygments_lexer": "ipython3",
   "version": "3.9.6"
  }
 },
 "nbformat": 4,
 "nbformat_minor": 5
}
