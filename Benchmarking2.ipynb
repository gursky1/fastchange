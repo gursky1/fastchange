{
 "cells": [
  {
   "cell_type": "code",
   "execution_count": 1,
   "id": "956cf299",
   "metadata": {},
   "outputs": [],
   "source": [
    "# Importing packages\n",
    "import numpy as np\n",
    "from pychange.costs import L1Cost, L2Cost, NormalMeanCost, NormalVarCost, NormalMeanVarCost,NormalMeanVarCostFast, PoissonMeanVarCost, ExponentialMeanVarCost, GammaMeanVarCost, NonParametricCost, NonParametricCostParallel\n",
    "from pychange.segment import amoc_segment, pelt_segment, binary_segment, amoc_segment_parallel, pelt_segment_parallel, binary_segment_parallel\n",
    "from pychange.online import ConstantHazard, StudentTProb, OnlineCP, StudentTProbParallel, OnlineCPParallel\n",
    "from pychange.r import ROfflineChangepoint, ROCP\n",
    "import ruptures as rpt\n",
    "%load_ext line_profiler"
   ]
  },
  {
   "cell_type": "code",
   "execution_count": 2,
   "id": "45a2f155",
   "metadata": {},
   "outputs": [],
   "source": [
    "# Creating Normal synthetic data\n",
    "size = 2000\n",
    "sm_size = 2000\n",
    "k = 20\n",
    "min_len = 10\n",
    "max_cp = 40\n",
    "pen = 100.0\n",
    "test_series = np.hstack([np.random.normal(0, 1, (size,)),\n",
    "                         np.random.normal(6, 1, (size,)),\n",
    "                         np.random.normal(0, 2, (size,)),\n",
    "                         np.random.normal(-4, 1, (size,)),\n",
    "                         np.random.normal(3, 1, (size,)),\n",
    "                         ] * 8)\n",
    "\n",
    "sm_test_series = np.hstack([np.random.normal(0, 1, (sm_size,)),\n",
    "                         np.random.normal(6, 1, (sm_size,)),\n",
    "                         np.random.normal(0, 2, (sm_size,)),\n",
    "                         np.random.normal(-4, 1, (sm_size,)),\n",
    "                         np.random.normal(3, 1, (sm_size,)),\n",
    "                         ] * 2)\n",
    "\n",
    "p_test_series = np.hstack([np.random.poisson(2, (size,)),\n",
    "                         np.random.poisson(6, (size,)),\n",
    "                         np.random.poisson(10, (size,)),\n",
    "                         np.random.poisson(4, (size,)),\n",
    "                         np.random.poisson(3, (size,)),\n",
    "                         ] * 8)\n",
    "\n",
    "g_test_series = p_test_series + 1"
   ]
  },
  {
   "cell_type": "markdown",
   "id": "1227debc",
   "metadata": {},
   "source": [
    "# AMOC"
   ]
  },
  {
   "cell_type": "markdown",
   "id": "f5e7c15d",
   "metadata": {},
   "source": [
    "## Normal Mean"
   ]
  },
  {
   "cell_type": "code",
   "execution_count": 3,
   "id": "919a68b0",
   "metadata": {},
   "outputs": [
    {
     "data": {
      "text/plain": [
       "5001"
      ]
     },
     "execution_count": 3,
     "metadata": {},
     "output_type": "execute_result"
    }
   ],
   "source": [
    "# Normal mean\n",
    "amoc_segment(NormalMeanCost().fit(test_series), min_len, pen)"
   ]
  },
  {
   "cell_type": "code",
   "execution_count": 4,
   "id": "eb4de91f",
   "metadata": {},
   "outputs": [
    {
     "data": {
      "text/plain": [
       "5001"
      ]
     },
     "execution_count": 4,
     "metadata": {},
     "output_type": "execute_result"
    }
   ],
   "source": [
    "# Normal mean\n",
    "amoc_segment_parallel(NormalMeanCost().fit(test_series), min_len, pen)"
   ]
  },
  {
   "cell_type": "code",
   "execution_count": 5,
   "id": "ddd985ad",
   "metadata": {},
   "outputs": [
    {
     "data": {
      "text/plain": [
       "array([5001.])"
      ]
     },
     "execution_count": 5,
     "metadata": {},
     "output_type": "execute_result"
    }
   ],
   "source": [
    "ROfflineChangepoint('mean', penalty='Manual', pen_value=pen, method='AMOC', minseglen=min_len).fit(test_series).predict()"
   ]
  },
  {
   "cell_type": "code",
   "execution_count": 6,
   "id": "36cf5e16",
   "metadata": {},
   "outputs": [
    {
     "name": "stdout",
     "output_type": "stream",
     "text": [
      "1.57 ms ± 7.4 µs per loop (mean ± std. dev. of 7 runs, 1000 loops each)\n"
     ]
    }
   ],
   "source": [
    "# Pychange Timing\n",
    "%timeit amoc_segment(NormalMeanCost().fit(test_series), min_len, pen)"
   ]
  },
  {
   "cell_type": "code",
   "execution_count": 7,
   "id": "fb926dfd",
   "metadata": {},
   "outputs": [
    {
     "name": "stdout",
     "output_type": "stream",
     "text": [
      "8.23 ms ± 185 µs per loop (mean ± std. dev. of 7 runs, 100 loops each)\n"
     ]
    }
   ],
   "source": [
    "# R timing\n",
    "%timeit ROfflineChangepoint('mean', penalty='Manual', pen_value=pen, method='AMOC', test_stat=\"Normal\", minseglen=min_len).fit(test_series).predict()"
   ]
  },
  {
   "cell_type": "code",
   "execution_count": 8,
   "id": "cbc07194",
   "metadata": {},
   "outputs": [
    {
     "name": "stdout",
     "output_type": "stream",
     "text": [
      "661 µs ± 14.8 µs per loop (mean ± std. dev. of 7 runs, 1000 loops each)\n"
     ]
    }
   ],
   "source": [
    "# Pychange Timing\n",
    "%timeit amoc_segment_parallel(NormalMeanCost().fit(test_series), min_len, pen)"
   ]
  },
  {
   "cell_type": "markdown",
   "id": "db6e1e24",
   "metadata": {},
   "source": [
    "## Normal Var"
   ]
  },
  {
   "cell_type": "code",
   "execution_count": 27,
   "id": "f172c294",
   "metadata": {},
   "outputs": [
    {
     "data": {
      "text/plain": [
       "10000"
      ]
     },
     "execution_count": 27,
     "metadata": {},
     "output_type": "execute_result"
    }
   ],
   "source": [
    "# Normal mean\n",
    "amoc_segment(NormalVarCost().fit(test_series), min_len, pen)"
   ]
  },
  {
   "cell_type": "code",
   "execution_count": 28,
   "id": "0920ae17",
   "metadata": {},
   "outputs": [
    {
     "data": {
      "text/plain": [
       "array([10000.])"
      ]
     },
     "execution_count": 28,
     "metadata": {},
     "output_type": "execute_result"
    }
   ],
   "source": [
    "ROfflineChangepoint('var', penalty='Manual', pen_value=pen, method='AMOC', minseglen=min_len).fit(test_series).predict()"
   ]
  },
  {
   "cell_type": "code",
   "execution_count": 29,
   "id": "3fca3c59",
   "metadata": {},
   "outputs": [
    {
     "name": "stdout",
     "output_type": "stream",
     "text": [
      "22.9 ms ± 132 µs per loop (mean ± std. dev. of 7 runs, 10 loops each)\n"
     ]
    }
   ],
   "source": [
    "# Pychange Timing\n",
    "%timeit amoc_segment(NormalVarCost().fit(test_series), min_len, pen)"
   ]
  },
  {
   "cell_type": "code",
   "execution_count": 30,
   "id": "94c8f679",
   "metadata": {},
   "outputs": [
    {
     "name": "stdout",
     "output_type": "stream",
     "text": [
      "48.4 ms ± 1.55 ms per loop (mean ± std. dev. of 7 runs, 10 loops each)\n"
     ]
    }
   ],
   "source": [
    "# R timing\n",
    "%timeit ROfflineChangepoint('var', penalty='Manual', pen_value=pen, method='AMOC', test_stat=\"Normal\", minseglen=min_len).fit(test_series).predict()"
   ]
  },
  {
   "cell_type": "markdown",
   "id": "509dcd87",
   "metadata": {},
   "source": [
    "## Normal Mean+Var"
   ]
  },
  {
   "cell_type": "code",
   "execution_count": 3,
   "id": "410efd38",
   "metadata": {},
   "outputs": [
    {
     "data": {
      "text/plain": [
       "1560002"
      ]
     },
     "execution_count": 3,
     "metadata": {},
     "output_type": "execute_result"
    }
   ],
   "source": [
    "# Normal mean\n",
    "amoc_segment(NormalMeanVarCost().fit(test_series), min_len, pen)"
   ]
  },
  {
   "cell_type": "code",
   "execution_count": 4,
   "id": "d9a1c804",
   "metadata": {},
   "outputs": [
    {
     "data": {
      "text/plain": [
       "array([1560002.])"
      ]
     },
     "execution_count": 4,
     "metadata": {},
     "output_type": "execute_result"
    }
   ],
   "source": [
    "ROfflineChangepoint('meanvar', penalty='Manual', pen_value=pen, method='AMOC', minseglen=min_len).fit(test_series).predict()"
   ]
  },
  {
   "cell_type": "code",
   "execution_count": 7,
   "id": "2c22c688",
   "metadata": {},
   "outputs": [
    {
     "data": {
      "text/plain": [
       "1560002"
      ]
     },
     "execution_count": 7,
     "metadata": {},
     "output_type": "execute_result"
    }
   ],
   "source": [
    "# Normal mean\n",
    "amoc_segment_parallel(NormalMeanVarCostFast().fit(test_series), min_len, pen)"
   ]
  },
  {
   "cell_type": "code",
   "execution_count": 5,
   "id": "1cd3bcaf",
   "metadata": {},
   "outputs": [
    {
     "name": "stdout",
     "output_type": "stream",
     "text": [
      "63.8 ms ± 553 µs per loop (mean ± std. dev. of 7 runs, 10 loops each)\n"
     ]
    }
   ],
   "source": [
    "# Pychange Timing\n",
    "%timeit amoc_segment(NormalMeanVarCost().fit(test_series), min_len, pen)"
   ]
  },
  {
   "cell_type": "code",
   "execution_count": 6,
   "id": "d636ad28",
   "metadata": {},
   "outputs": [
    {
     "name": "stdout",
     "output_type": "stream",
     "text": [
      "264 ms ± 19.6 ms per loop (mean ± std. dev. of 7 runs, 1 loop each)\n"
     ]
    }
   ],
   "source": [
    "# R timing\n",
    "%timeit ROfflineChangepoint('meanvar', penalty='Manual', pen_value=pen, method='AMOC', test_stat=\"Normal\", minseglen=min_len).fit(test_series).predict()"
   ]
  },
  {
   "cell_type": "code",
   "execution_count": 8,
   "id": "2d8de128",
   "metadata": {},
   "outputs": [
    {
     "name": "stdout",
     "output_type": "stream",
     "text": [
      "20.4 ms ± 71.6 µs per loop (mean ± std. dev. of 7 runs, 100 loops each)\n"
     ]
    }
   ],
   "source": [
    "%timeit amoc_segment_parallel(NormalMeanVarCostFast().fit(test_series), min_len, pen)"
   ]
  },
  {
   "cell_type": "markdown",
   "id": "eaeaf881",
   "metadata": {},
   "source": [
    "## Poisson Mean+Var"
   ]
  },
  {
   "cell_type": "code",
   "execution_count": 35,
   "id": "a45d9122",
   "metadata": {},
   "outputs": [
    {
     "data": {
      "text/plain": [
       "10000"
      ]
     },
     "execution_count": 35,
     "metadata": {},
     "output_type": "execute_result"
    }
   ],
   "source": [
    "# Normal mean\n",
    "amoc_segment(PoissonMeanVarCost().fit(p_test_series), min_len, pen)"
   ]
  },
  {
   "cell_type": "code",
   "execution_count": 36,
   "id": "140ff31b",
   "metadata": {},
   "outputs": [
    {
     "data": {
      "text/plain": [
       "array([10000.])"
      ]
     },
     "execution_count": 36,
     "metadata": {},
     "output_type": "execute_result"
    }
   ],
   "source": [
    "ROfflineChangepoint('meanvar', penalty='Manual', pen_value=pen, method='AMOC', test_stat=\"Poisson\", minseglen=min_len).fit(p_test_series).predict()"
   ]
  },
  {
   "cell_type": "code",
   "execution_count": 37,
   "id": "1b908ca0",
   "metadata": {},
   "outputs": [
    {
     "name": "stdout",
     "output_type": "stream",
     "text": [
      "12 ms ± 24.7 µs per loop (mean ± std. dev. of 7 runs, 100 loops each)\n"
     ]
    }
   ],
   "source": [
    "# Pychange Timing\n",
    "%timeit amoc_segment(PoissonMeanVarCost().fit(p_test_series), min_len, pen)"
   ]
  },
  {
   "cell_type": "code",
   "execution_count": 38,
   "id": "fcd9c7bf",
   "metadata": {},
   "outputs": [
    {
     "name": "stdout",
     "output_type": "stream",
     "text": [
      "262 ms ± 6.67 ms per loop (mean ± std. dev. of 7 runs, 1 loop each)\n"
     ]
    }
   ],
   "source": [
    "# R timing\n",
    "%timeit ROfflineChangepoint('meanvar', penalty='Manual', pen_value=pen, method='AMOC', test_stat=\"Poisson\", minseglen=min_len).fit(p_test_series).predict()"
   ]
  },
  {
   "cell_type": "markdown",
   "id": "e7dc631c",
   "metadata": {},
   "source": [
    "## Exponential"
   ]
  },
  {
   "cell_type": "code",
   "execution_count": 3,
   "id": "08978b25",
   "metadata": {},
   "outputs": [
    {
     "data": {
      "text/plain": [
       "10000"
      ]
     },
     "execution_count": 3,
     "metadata": {},
     "output_type": "execute_result"
    }
   ],
   "source": [
    "amoc_segment(ExponentialMeanVarCost().fit(p_test_series), min_len, pen)"
   ]
  },
  {
   "cell_type": "code",
   "execution_count": 4,
   "id": "e76b85ab",
   "metadata": {},
   "outputs": [
    {
     "data": {
      "text/plain": [
       "array([10000.])"
      ]
     },
     "execution_count": 4,
     "metadata": {},
     "output_type": "execute_result"
    }
   ],
   "source": [
    "ROfflineChangepoint('meanvar', penalty='Manual', pen_value=pen, method='AMOC', test_stat=\"Exponential\", minseglen=min_len).fit(p_test_series).predict()"
   ]
  },
  {
   "cell_type": "code",
   "execution_count": 5,
   "id": "cbe97125",
   "metadata": {},
   "outputs": [
    {
     "name": "stdout",
     "output_type": "stream",
     "text": [
      "11.5 ms ± 75.7 µs per loop (mean ± std. dev. of 7 runs, 100 loops each)\n"
     ]
    }
   ],
   "source": [
    "%timeit amoc_segment(ExponentialMeanVarCost().fit(p_test_series), min_len, pen)"
   ]
  },
  {
   "cell_type": "code",
   "execution_count": 6,
   "id": "20195a18",
   "metadata": {},
   "outputs": [
    {
     "name": "stdout",
     "output_type": "stream",
     "text": [
      "254 ms ± 6 ms per loop (mean ± std. dev. of 7 runs, 1 loop each)\n"
     ]
    }
   ],
   "source": [
    "%timeit ROfflineChangepoint('meanvar', penalty='Manual', pen_value=pen, method='AMOC', test_stat=\"Exponential\", minseglen=min_len).fit(p_test_series).predict()"
   ]
  },
  {
   "cell_type": "markdown",
   "id": "c6db48fc",
   "metadata": {},
   "source": [
    "## Gamma"
   ]
  },
  {
   "cell_type": "code",
   "execution_count": 3,
   "id": "d5db2e6e",
   "metadata": {},
   "outputs": [
    {
     "data": {
      "text/plain": [
       "10000"
      ]
     },
     "execution_count": 3,
     "metadata": {},
     "output_type": "execute_result"
    }
   ],
   "source": [
    "amoc_segment(GammaMeanVarCost().fit(g_test_series), min_len, pen)"
   ]
  },
  {
   "cell_type": "code",
   "execution_count": 4,
   "id": "3b3713cc",
   "metadata": {},
   "outputs": [
    {
     "data": {
      "text/plain": [
       "array([10000.])"
      ]
     },
     "execution_count": 4,
     "metadata": {},
     "output_type": "execute_result"
    }
   ],
   "source": [
    "ROfflineChangepoint('meanvar', penalty='Manual', pen_value=pen, method='AMOC', test_stat=\"Gamma\", minseglen=min_len).fit(g_test_series).predict()"
   ]
  },
  {
   "cell_type": "code",
   "execution_count": 5,
   "id": "2276a24c",
   "metadata": {},
   "outputs": [
    {
     "name": "stdout",
     "output_type": "stream",
     "text": [
      "11.4 ms ± 44.7 µs per loop (mean ± std. dev. of 7 runs, 100 loops each)\n"
     ]
    }
   ],
   "source": [
    "%timeit amoc_segment(GammaMeanVarCost().fit(g_test_series), min_len, pen)"
   ]
  },
  {
   "cell_type": "code",
   "execution_count": 6,
   "id": "48a5be30",
   "metadata": {},
   "outputs": [
    {
     "name": "stdout",
     "output_type": "stream",
     "text": [
      "246 ms ± 8.35 ms per loop (mean ± std. dev. of 7 runs, 1 loop each)\n"
     ]
    }
   ],
   "source": [
    "%timeit ROfflineChangepoint('meanvar', penalty='Manual', pen_value=pen, method='AMOC', test_stat=\"Gamma\", minseglen=min_len).fit(g_test_series).predict()"
   ]
  },
  {
   "cell_type": "markdown",
   "id": "538ed00c",
   "metadata": {},
   "source": [
    "## Nonparametric"
   ]
  },
  {
   "cell_type": "code",
   "execution_count": 17,
   "id": "a13b3604",
   "metadata": {},
   "outputs": [
    {
     "data": {
      "text/plain": [
       "80000"
      ]
     },
     "execution_count": 17,
     "metadata": {},
     "output_type": "execute_result"
    }
   ],
   "source": [
    "# Normal mean\n",
    "amoc_segment(NonParametricCost(k).fit(test_series), min_len, pen)"
   ]
  },
  {
   "cell_type": "code",
   "execution_count": 18,
   "id": "e7cf7c3c",
   "metadata": {},
   "outputs": [
    {
     "name": "stdout",
     "output_type": "stream",
     "text": [
      "1.56 s ± 16 ms per loop (mean ± std. dev. of 7 runs, 1 loop each)\n"
     ]
    }
   ],
   "source": [
    "# Pychange Timing\n",
    "%timeit amoc_segment(NonParametricCost(k).fit(test_series), min_len, pen)"
   ]
  },
  {
   "cell_type": "code",
   "execution_count": 19,
   "id": "0f59d738",
   "metadata": {},
   "outputs": [
    {
     "data": {
      "text/plain": [
       "80000"
      ]
     },
     "execution_count": 19,
     "metadata": {},
     "output_type": "execute_result"
    }
   ],
   "source": [
    "# Normal mean\n",
    "amoc_segment_parallel(NonParametricCost(k).fit(test_series), min_len, pen)"
   ]
  },
  {
   "cell_type": "code",
   "execution_count": 20,
   "id": "465fe05c",
   "metadata": {},
   "outputs": [
    {
     "name": "stdout",
     "output_type": "stream",
     "text": [
      "680 ms ± 25.2 ms per loop (mean ± std. dev. of 7 runs, 1 loop each)\n"
     ]
    }
   ],
   "source": [
    "# Pychange Timing\n",
    "%timeit amoc_segment_parallel(NonParametricCost(k).fit(test_series), min_len, pen)"
   ]
  },
  {
   "cell_type": "code",
   "execution_count": 21,
   "id": "f90a2a1a",
   "metadata": {},
   "outputs": [
    {
     "data": {
      "text/plain": [
       "80000"
      ]
     },
     "execution_count": 21,
     "metadata": {},
     "output_type": "execute_result"
    }
   ],
   "source": [
    "# Normal mean\n",
    "amoc_segment(NonParametricCostParallel(k).fit(test_series), min_len, pen)"
   ]
  },
  {
   "cell_type": "code",
   "execution_count": 22,
   "id": "3b2c6d5e",
   "metadata": {},
   "outputs": [
    {
     "name": "stdout",
     "output_type": "stream",
     "text": [
      "1.18 s ± 46.7 ms per loop (mean ± std. dev. of 7 runs, 1 loop each)\n"
     ]
    }
   ],
   "source": [
    "# Pychange Timing\n",
    "%timeit amoc_segment(NonParametricCostParallel(k).fit(test_series), min_len, pen)"
   ]
  },
  {
   "cell_type": "code",
   "execution_count": 23,
   "id": "28979474",
   "metadata": {},
   "outputs": [
    {
     "data": {
      "text/plain": [
       "80000"
      ]
     },
     "execution_count": 23,
     "metadata": {},
     "output_type": "execute_result"
    }
   ],
   "source": [
    "# Normal mean\n",
    "amoc_segment_parallel(NonParametricCostParallel(k).fit(test_series), min_len, pen)"
   ]
  },
  {
   "cell_type": "code",
   "execution_count": 24,
   "id": "5b489e06",
   "metadata": {},
   "outputs": [
    {
     "name": "stdout",
     "output_type": "stream",
     "text": [
      "409 ms ± 28.5 ms per loop (mean ± std. dev. of 7 runs, 1 loop each)\n"
     ]
    }
   ],
   "source": [
    "# Pychange Timing\n",
    "%timeit amoc_segment_parallel(NonParametricCostParallel(k).fit(test_series), min_len, pen)"
   ]
  },
  {
   "cell_type": "markdown",
   "id": "49b68ae1",
   "metadata": {},
   "source": [
    "# Pelt"
   ]
  },
  {
   "cell_type": "markdown",
   "id": "eea3eb09",
   "metadata": {},
   "source": [
    "## L1"
   ]
  },
  {
   "cell_type": "code",
   "execution_count": 41,
   "id": "47fb36ad",
   "metadata": {},
   "outputs": [
    {
     "data": {
      "text/plain": [
       "array([100, 200, 300, 400], dtype=int64)"
      ]
     },
     "execution_count": 41,
     "metadata": {},
     "output_type": "execute_result"
    }
   ],
   "source": [
    "# L1 cost\n",
    "pelt_segment(L1Cost().fit(sm_test_series), min_len, max_cp, pen, 1)"
   ]
  },
  {
   "cell_type": "code",
   "execution_count": 42,
   "id": "00bcca20",
   "metadata": {},
   "outputs": [
    {
     "data": {
      "text/plain": [
       "[100, 200, 300, 400, 500]"
      ]
     },
     "execution_count": 42,
     "metadata": {},
     "output_type": "execute_result"
    }
   ],
   "source": [
    "rpt.Pelt(model='l1', min_size=min_len, jump=1).fit(sm_test_series).predict(pen=pen)"
   ]
  },
  {
   "cell_type": "code",
   "execution_count": 43,
   "id": "d2038e3f",
   "metadata": {},
   "outputs": [
    {
     "name": "stdout",
     "output_type": "stream",
     "text": [
      "37.5 ms ± 36.6 µs per loop (mean ± std. dev. of 7 runs, 10 loops each)\n"
     ]
    }
   ],
   "source": [
    "%timeit pelt_segment(L1Cost().fit(sm_test_series), min_len, max_cp, pen, 1)"
   ]
  },
  {
   "cell_type": "code",
   "execution_count": 44,
   "id": "769786e4",
   "metadata": {},
   "outputs": [
    {
     "name": "stdout",
     "output_type": "stream",
     "text": [
      "2.22 s ± 2.18 ms per loop (mean ± std. dev. of 7 runs, 1 loop each)\n"
     ]
    }
   ],
   "source": [
    "%timeit rpt.Pelt(model='l1', min_size=min_len, jump=1).fit(sm_test_series).predict(pen=pen)"
   ]
  },
  {
   "cell_type": "markdown",
   "id": "76fea73b",
   "metadata": {},
   "source": [
    "## L2"
   ]
  },
  {
   "cell_type": "code",
   "execution_count": 45,
   "id": "192d1862",
   "metadata": {
    "scrolled": true
   },
   "outputs": [
    {
     "data": {
      "text/plain": [
       "array([100, 200, 300, 400], dtype=int64)"
      ]
     },
     "execution_count": 45,
     "metadata": {},
     "output_type": "execute_result"
    }
   ],
   "source": [
    "# L1 cost\n",
    "pelt_segment(L2Cost().fit(sm_test_series), min_len, max_cp, pen, 1)"
   ]
  },
  {
   "cell_type": "code",
   "execution_count": 46,
   "id": "259fb514",
   "metadata": {},
   "outputs": [
    {
     "data": {
      "text/plain": [
       "[100, 200, 300, 400, 500]"
      ]
     },
     "execution_count": 46,
     "metadata": {},
     "output_type": "execute_result"
    }
   ],
   "source": [
    "rpt.Pelt(model='l2', min_size=min_len, jump=1).fit(sm_test_series).predict(pen=pen)"
   ]
  },
  {
   "cell_type": "code",
   "execution_count": 47,
   "id": "2d71bba4",
   "metadata": {},
   "outputs": [
    {
     "name": "stdout",
     "output_type": "stream",
     "text": [
      "1.8 ms ± 579 ns per loop (mean ± std. dev. of 7 runs, 1000 loops each)\n"
     ]
    }
   ],
   "source": [
    "%timeit pelt_segment(L2Cost().fit(sm_test_series), min_len, max_cp, pen, 1)"
   ]
  },
  {
   "cell_type": "code",
   "execution_count": 48,
   "id": "df0b8178",
   "metadata": {},
   "outputs": [
    {
     "name": "stdout",
     "output_type": "stream",
     "text": [
      "700 ms ± 1.24 ms per loop (mean ± std. dev. of 7 runs, 1 loop each)\n"
     ]
    }
   ],
   "source": [
    "%timeit rpt.Pelt(model='l2', min_size=min_len, jump=1).fit(sm_test_series).predict(pen=pen)"
   ]
  },
  {
   "cell_type": "markdown",
   "id": "4160b674",
   "metadata": {},
   "source": [
    "## Normal Mean"
   ]
  },
  {
   "cell_type": "code",
   "execution_count": 9,
   "id": "5007a0c4",
   "metadata": {},
   "outputs": [
    {
     "data": {
      "text/plain": [
       "array([ 2500,  5001,  7500, 10000, 12500, 15000, 17501, 20000, 22500,\n",
       "       25000, 27500, 30001, 32500, 35000, 37500, 40000, 42501, 45000,\n",
       "       47500, 50000, 52500, 55001, 57500, 60000, 62500, 65000, 67501,\n",
       "       70000, 72500, 75000, 77500, 80001, 82500, 85000, 87500, 90000,\n",
       "       92501, 95000, 97500], dtype=int64)"
      ]
     },
     "execution_count": 9,
     "metadata": {},
     "output_type": "execute_result"
    }
   ],
   "source": [
    "# Normal mean\n",
    "pelt_segment(NormalMeanCost().fit(test_series), min_len, max_cp, pen, 1)"
   ]
  },
  {
   "cell_type": "code",
   "execution_count": 10,
   "id": "53e9588f",
   "metadata": {},
   "outputs": [
    {
     "data": {
      "text/plain": [
       "array([ 2500,  5001,  7500, 10000, 12500, 15000, 17501, 20000, 22500,\n",
       "       25000, 27500, 30001, 32500, 35000, 37500, 40000, 42501, 45000,\n",
       "       47500, 50000, 52500, 55001, 57500, 60000, 62500, 65000, 67501,\n",
       "       70000, 72500, 75000, 77500, 80001, 82500, 85000, 87500, 90000,\n",
       "       92501, 95000, 97500], dtype=int64)"
      ]
     },
     "execution_count": 10,
     "metadata": {},
     "output_type": "execute_result"
    }
   ],
   "source": [
    "# Normal mean\n",
    "pelt_segment_parallel(NormalMeanCost().fit(test_series), min_len, max_cp, pen, 1)"
   ]
  },
  {
   "cell_type": "code",
   "execution_count": 11,
   "id": "f2aecce3",
   "metadata": {},
   "outputs": [
    {
     "data": {
      "text/plain": [
       "array([ 2500,  5001,  7500, 10000, 12500, 15000, 17501, 20000, 22500,\n",
       "       25000, 27500, 30001, 32500, 35000, 37500, 40000, 42501, 45000,\n",
       "       47500, 50000, 52500, 55001, 57500, 60000, 62500, 65000, 67501,\n",
       "       70000, 72500, 75000, 77500, 80001, 82500, 85000, 87500, 90000,\n",
       "       92501, 95000, 97500], dtype=int32)"
      ]
     },
     "execution_count": 11,
     "metadata": {},
     "output_type": "execute_result"
    }
   ],
   "source": [
    "ROfflineChangepoint('mean', penalty='Manual', pen_value=pen, method='PELT', minseglen=min_len).fit(test_series).predict()"
   ]
  },
  {
   "cell_type": "code",
   "execution_count": 12,
   "id": "ae81989a",
   "metadata": {},
   "outputs": [
    {
     "name": "stdout",
     "output_type": "stream",
     "text": [
      "1.97 s ± 14.7 ms per loop (mean ± std. dev. of 7 runs, 1 loop each)\n"
     ]
    }
   ],
   "source": [
    "# Pychange Timing\n",
    "%timeit pelt_segment(NormalMeanCost().fit(test_series), min_len, max_cp, pen, 1)"
   ]
  },
  {
   "cell_type": "code",
   "execution_count": 13,
   "id": "e5735d17",
   "metadata": {},
   "outputs": [
    {
     "name": "stdout",
     "output_type": "stream",
     "text": [
      "555 ms ± 790 µs per loop (mean ± std. dev. of 7 runs, 1 loop each)\n"
     ]
    }
   ],
   "source": [
    "# R timing\n",
    "%timeit ROfflineChangepoint('mean', penalty='Manual', pen_value=pen, method='PELT', minseglen=min_len).fit(test_series).predict()"
   ]
  },
  {
   "cell_type": "code",
   "execution_count": 14,
   "id": "406d401d",
   "metadata": {},
   "outputs": [
    {
     "name": "stdout",
     "output_type": "stream",
     "text": [
      "1.93 s ± 26.4 ms per loop (mean ± std. dev. of 7 runs, 1 loop each)\n"
     ]
    }
   ],
   "source": [
    "# Normal mean\n",
    "%timeit pelt_segment_parallel(NormalMeanCost().fit(test_series), min_len, max_cp, pen, 1)"
   ]
  },
  {
   "cell_type": "markdown",
   "id": "0ded2f7f",
   "metadata": {},
   "source": [
    "## Normal Var"
   ]
  },
  {
   "cell_type": "code",
   "execution_count": 53,
   "id": "59932302",
   "metadata": {},
   "outputs": [
    {
     "data": {
      "text/plain": [
       "array([   671,    707,  10000,  20001,  29999,  40000,  50013,  50671,\n",
       "        50707,  60000,  70001,  79999,  90000, 100013, 100671, 100707,\n",
       "       110000, 120001, 129999, 140000, 150013, 150671, 150707, 160000,\n",
       "       170001, 179999, 190000, 200013, 200671, 200707, 210000, 220001,\n",
       "       229999, 240000, 250013, 250671, 250707, 260000, 270001, 279999,\n",
       "       290000, 300013, 300671, 300707, 310000, 320001, 329999, 340000,\n",
       "       350013, 350671, 350707, 360000, 370001, 379999, 390000],\n",
       "      dtype=int64)"
      ]
     },
     "execution_count": 53,
     "metadata": {},
     "output_type": "execute_result"
    }
   ],
   "source": [
    "pelt_segment(NormalVarCost().fit(test_series), min_len, max_cp, pen, 1)"
   ]
  },
  {
   "cell_type": "code",
   "execution_count": 54,
   "id": "c0b93cb7",
   "metadata": {},
   "outputs": [
    {
     "data": {
      "text/plain": [
       "array([ 10000,  20001,  29999,  40000,  50007,  60000,  70001,  79999,\n",
       "        90000, 100007, 110000, 120001, 129999, 140000, 150007, 160000,\n",
       "       170001, 179999, 190000, 200007, 210000, 220001, 229999, 240000,\n",
       "       250007, 260000, 270001, 279999, 290000, 300007, 310000, 320001,\n",
       "       329999, 340000, 350007, 360000, 370001, 379999, 390000],\n",
       "      dtype=int32)"
      ]
     },
     "execution_count": 54,
     "metadata": {},
     "output_type": "execute_result"
    }
   ],
   "source": [
    "ROfflineChangepoint('var', penalty='Manual', pen_value=pen, method='PELT', minseglen=min_len).fit(test_series).predict()"
   ]
  },
  {
   "cell_type": "code",
   "execution_count": 55,
   "id": "e450fdd0",
   "metadata": {},
   "outputs": [
    {
     "name": "stdout",
     "output_type": "stream",
     "text": [
      "49.5 s ± 427 ms per loop (mean ± std. dev. of 7 runs, 1 loop each)\n"
     ]
    }
   ],
   "source": [
    "# Pychange Timing\n",
    "%timeit pelt_segment(NormalVarCost().fit(test_series), min_len, max_cp, pen, 1)"
   ]
  },
  {
   "cell_type": "code",
   "execution_count": 56,
   "id": "7874aa27",
   "metadata": {},
   "outputs": [
    {
     "name": "stdout",
     "output_type": "stream",
     "text": [
      "1min 13s ± 166 ms per loop (mean ± std. dev. of 7 runs, 1 loop each)\n"
     ]
    }
   ],
   "source": [
    "# R timing\n",
    "%timeit ROfflineChangepoint('var', penalty='Manual', pen_value=pen, method='PELT', minseglen=min_len).fit(test_series).predict()"
   ]
  },
  {
   "cell_type": "markdown",
   "id": "5c066b0a",
   "metadata": {},
   "source": [
    "## Normal Mean+Var"
   ]
  },
  {
   "cell_type": "code",
   "execution_count": 12,
   "id": "73e99802",
   "metadata": {},
   "outputs": [
    {
     "data": {
      "text/plain": [
       "array([ 2000,  4000,  6000,  8000, 10001, 12000, 14000, 16000, 18000,\n",
       "       20001, 22000, 24000, 26000, 28000, 30001, 32000, 34000, 36000,\n",
       "       38000, 40001, 42000, 44000, 46000, 48000, 50001, 52000, 54000,\n",
       "       56000, 58000, 60001, 62000, 64000, 66000, 68000, 70001, 72000,\n",
       "       74000, 76000, 78000], dtype=int64)"
      ]
     },
     "execution_count": 12,
     "metadata": {},
     "output_type": "execute_result"
    }
   ],
   "source": [
    "pelt_segment(NormalMeanVarCost().fit(test_series), min_len, max_cp, pen, 1)"
   ]
  },
  {
   "cell_type": "code",
   "execution_count": 13,
   "id": "e15496f5",
   "metadata": {},
   "outputs": [
    {
     "data": {
      "text/plain": [
       "array([ 2000,  4000,  6000,  8000, 10001, 12000, 14000, 16000, 18000,\n",
       "       20001, 22000, 24000, 26000, 28000, 30001, 32000, 34000, 36000,\n",
       "       38000, 40001, 42000, 44000, 46000, 48000, 50001, 52000, 54000,\n",
       "       56000, 58000, 60001, 62000, 64000, 66000, 68000, 70001, 72000,\n",
       "       74000, 76000, 78000], dtype=int64)"
      ]
     },
     "execution_count": 13,
     "metadata": {},
     "output_type": "execute_result"
    }
   ],
   "source": [
    "pelt_segment_parallel(NormalMeanVarCostFast().fit(test_series), min_len, max_cp, pen, 1)"
   ]
  },
  {
   "cell_type": "code",
   "execution_count": 14,
   "id": "800cb645",
   "metadata": {},
   "outputs": [
    {
     "data": {
      "text/plain": [
       "array([ 2000,  4000,  6000,  8000, 10001, 12000, 14000, 16000, 18000,\n",
       "       20001, 22000, 24000, 26000, 28000, 30001, 32000, 34000, 36000,\n",
       "       38000, 40001, 42000, 44000, 46000, 48000, 50001, 52000, 54000,\n",
       "       56000, 58000, 60001, 62000, 64000, 66000, 68000, 70001, 72000,\n",
       "       74000, 76000, 78000], dtype=int32)"
      ]
     },
     "execution_count": 14,
     "metadata": {},
     "output_type": "execute_result"
    }
   ],
   "source": [
    "ROfflineChangepoint('meanvar', penalty='Manual', pen_value=pen, method='PELT', minseglen=min_len).fit(test_series).predict()"
   ]
  },
  {
   "cell_type": "code",
   "execution_count": 15,
   "id": "617e1e9d",
   "metadata": {},
   "outputs": [
    {
     "name": "stdout",
     "output_type": "stream",
     "text": [
      "1.73 s ± 35.8 ms per loop (mean ± std. dev. of 7 runs, 1 loop each)\n"
     ]
    }
   ],
   "source": [
    "# Pychange Timing\n",
    "%timeit pelt_segment(NormalMeanVarCost().fit(test_series), min_len, max_cp, pen, 1)"
   ]
  },
  {
   "cell_type": "code",
   "execution_count": 16,
   "id": "58444738",
   "metadata": {},
   "outputs": [
    {
     "name": "stdout",
     "output_type": "stream",
     "text": [
      "4.35 s ± 42.3 ms per loop (mean ± std. dev. of 7 runs, 1 loop each)\n"
     ]
    }
   ],
   "source": [
    "# R timing\n",
    "%timeit ROfflineChangepoint('meanvar', penalty='Manual', pen_value=pen, method='PELT', minseglen=min_len).fit(test_series).predict()"
   ]
  },
  {
   "cell_type": "code",
   "execution_count": 17,
   "id": "b517e2f5",
   "metadata": {},
   "outputs": [
    {
     "name": "stdout",
     "output_type": "stream",
     "text": [
      "1.75 s ± 14.1 ms per loop (mean ± std. dev. of 7 runs, 1 loop each)\n"
     ]
    }
   ],
   "source": [
    "# Pychange Timing\n",
    "%timeit pelt_segment_parallel(NormalMeanVarCostFast().fit(test_series), min_len, max_cp, pen, 1)"
   ]
  },
  {
   "cell_type": "markdown",
   "id": "c2a51258",
   "metadata": {},
   "source": [
    "## Poisson Mean+Var"
   ]
  },
  {
   "cell_type": "code",
   "execution_count": 61,
   "id": "ce1dfca6",
   "metadata": {},
   "outputs": [
    {
     "data": {
      "text/plain": [
       "array([ 10000,  19998,  30000,  39998,  50000,  60000,  69998,  80000,\n",
       "        89998, 100000, 110000, 119998, 130000, 139998, 150000, 160000,\n",
       "       169998, 180000, 189998, 200000, 210000, 219998, 230000, 239998,\n",
       "       250000, 260000, 269998, 280000, 289998, 300000, 310000, 319998,\n",
       "       330000, 339998, 350000, 360000, 369998, 380000, 389998],\n",
       "      dtype=int64)"
      ]
     },
     "execution_count": 61,
     "metadata": {},
     "output_type": "execute_result"
    }
   ],
   "source": [
    "pelt_segment(PoissonMeanVarCost().fit(p_test_series), min_len, max_cp, pen, 1)"
   ]
  },
  {
   "cell_type": "code",
   "execution_count": 62,
   "id": "a6a093b3",
   "metadata": {},
   "outputs": [
    {
     "data": {
      "text/plain": [
       "array([ 10000,  19998,  30000,  39998,  50000,  60000,  69998,  80000,\n",
       "        89998, 100000, 110000, 119998, 130000, 139998, 150000, 160000,\n",
       "       169998, 180000, 189998, 200000, 210000, 219998, 230000, 239998,\n",
       "       250000, 260000, 269998, 280000, 289998, 300000, 310000, 319998,\n",
       "       330000, 339998, 350000, 360000, 369998, 380000, 389998],\n",
       "      dtype=int32)"
      ]
     },
     "execution_count": 62,
     "metadata": {},
     "output_type": "execute_result"
    }
   ],
   "source": [
    "ROfflineChangepoint('meanvar', penalty='Manual', pen_value=pen, method='PELT', minseglen=min_len, test_stat=\"Poisson\").fit(p_test_series).predict()"
   ]
  },
  {
   "cell_type": "code",
   "execution_count": null,
   "id": "f5730008",
   "metadata": {},
   "outputs": [],
   "source": [
    "# Pychange Timing\n",
    "%timeit pelt_segment(PoissonMeanVarCost().fit(p_test_series), min_len, max_cp, pen, 1)"
   ]
  },
  {
   "cell_type": "code",
   "execution_count": null,
   "id": "d1817a57",
   "metadata": {},
   "outputs": [],
   "source": [
    "# R timing\n",
    "%timeit ROfflineChangepoint('meanvar', penalty='Manual', pen_value=pen, method='PELT', minseglen=min_len, test_stat=\"Poisson\").fit(p_test_series).predict()"
   ]
  },
  {
   "cell_type": "markdown",
   "id": "3731aeff",
   "metadata": {},
   "source": [
    "## Exponential Mean+Var"
   ]
  },
  {
   "cell_type": "code",
   "execution_count": 7,
   "id": "5be0d0ed",
   "metadata": {},
   "outputs": [
    {
     "data": {
      "text/plain": [
       "array([ 10000,  19998,  30000,  39997,  50013,  60000,  69998,  80000,\n",
       "        89997, 100013, 110000, 119998, 130000, 139997, 150013, 160000,\n",
       "       169998, 180000, 189997, 200013, 210000, 219998, 230000, 239997,\n",
       "       250013, 260000, 269998, 280000, 289997, 300013, 310000, 319998,\n",
       "       330000, 339997, 350013, 360000, 369998, 380000, 389997],\n",
       "      dtype=int64)"
      ]
     },
     "execution_count": 7,
     "metadata": {},
     "output_type": "execute_result"
    }
   ],
   "source": [
    "pelt_segment(ExponentialMeanVarCost().fit(p_test_series), min_len, max_cp, pen, 1)"
   ]
  },
  {
   "cell_type": "code",
   "execution_count": null,
   "id": "e3d2cdbe",
   "metadata": {},
   "outputs": [
    {
     "name": "stderr",
     "output_type": "stream",
     "text": [
      "Exception ignored from cffi callback <function _callback at 0x0000013DEEEF10D0>:\n",
      "Traceback (most recent call last):\n",
      "  File \"C:\\Users\\15072\\anaconda3\\envs\\pychange\\lib\\site-packages\\rpy2\\rinterface_lib\\callbacks.py\", line 313, in _callback\n",
      "    try:\n",
      "KeyboardInterrupt: \n"
     ]
    }
   ],
   "source": [
    "ROfflineChangepoint('meanvar', penalty='Manual', pen_value=pen, method='PELT', minseglen=min_len, test_stat=\"Exponential\").fit(p_test_series).predict()"
   ]
  },
  {
   "cell_type": "code",
   "execution_count": null,
   "id": "53aeacb6",
   "metadata": {},
   "outputs": [],
   "source": [
    "# Pychange Timing\n",
    "%timeit pelt_segment(ExponentialMeanVarCost().fit(p_test_series), min_len, max_cp, pen, 1)"
   ]
  },
  {
   "cell_type": "code",
   "execution_count": null,
   "id": "b3b00828",
   "metadata": {},
   "outputs": [],
   "source": [
    "# R timing\n",
    "%timeit ROfflineChangepoint('meanvar', penalty='Manual', pen_value=pen, method='PELT', minseglen=min_len, test_stat=\"Exponential\").fit(p_test_series).predict()"
   ]
  },
  {
   "cell_type": "markdown",
   "id": "4a293669",
   "metadata": {},
   "source": [
    "## Gamma Mean+Var"
   ]
  },
  {
   "cell_type": "code",
   "execution_count": null,
   "id": "1c27ea71",
   "metadata": {},
   "outputs": [],
   "source": [
    "pelt_segment(GammaMeanVarCost().fit(g_test_series), min_len, max_cp, pen, 1)"
   ]
  },
  {
   "cell_type": "code",
   "execution_count": null,
   "id": "0f696efa",
   "metadata": {},
   "outputs": [],
   "source": [
    "ROfflineChangepoint('meanvar', penalty='Manual', pen_value=pen, method='PELT', minseglen=min_len, test_stat=\"Gamma\").fit(g_test_series).predict()"
   ]
  },
  {
   "cell_type": "code",
   "execution_count": null,
   "id": "eb226b3f",
   "metadata": {},
   "outputs": [],
   "source": [
    "# Pychange Timing\n",
    "%timeit pelt_segment(GammaMeanVarCost().fit(g_test_series), min_len, max_cp, pen, 1)"
   ]
  },
  {
   "cell_type": "code",
   "execution_count": null,
   "id": "fb1d5b6d",
   "metadata": {},
   "outputs": [],
   "source": [
    "# R timing\n",
    "%timeit ROfflineChangepoint('meanvar', penalty='Manual', pen_value=pen, method='PELT', minseglen=min_len, test_stat=\"Gamma\").fit(g_test_series).predict().predict()"
   ]
  },
  {
   "cell_type": "markdown",
   "id": "dd1dffa0",
   "metadata": {},
   "source": [
    "## Nonparametric"
   ]
  },
  {
   "cell_type": "code",
   "execution_count": 11,
   "id": "f78d76e6",
   "metadata": {},
   "outputs": [
    {
     "data": {
      "text/plain": [
       "array([ 1000,  2001,  3001,  4000,  5000,  6000,  7001,  8001,  9000,\n",
       "       10000, 11000, 12001, 13001, 14000, 15000, 16000, 17001, 18001,\n",
       "       19000, 20000, 21000, 22001, 23001, 24000, 25000, 26000, 27001,\n",
       "       28001, 29000, 30000, 31000, 32001, 33001, 34000, 35000, 36000,\n",
       "       37001, 38001, 39000], dtype=int64)"
      ]
     },
     "execution_count": 11,
     "metadata": {},
     "output_type": "execute_result"
    }
   ],
   "source": [
    "pelt_segment(NonParametricCost(k).fit(test_series), min_len, max_cp, pen, 1)"
   ]
  },
  {
   "cell_type": "code",
   "execution_count": 13,
   "id": "2322706f",
   "metadata": {},
   "outputs": [
    {
     "data": {
      "text/plain": [
       "array([ 1000,  2001,  3001,  4000,  5000,  6000,  7001,  8001,  9000,\n",
       "       10000, 11000, 12001, 13001, 14000, 15000, 16000, 17001, 18001,\n",
       "       19000, 20000, 21000, 22001, 23001, 24000, 25000, 26000, 27001,\n",
       "       28001, 29000, 30000, 31000, 32001, 33001, 34000, 35000, 36000,\n",
       "       37001, 38001, 39000], dtype=int32)"
      ]
     },
     "execution_count": 13,
     "metadata": {},
     "output_type": "execute_result"
    }
   ],
   "source": [
    "ROfflineChangepoint('np', penalty='Manual', pen_value=pen, method='PELT', minseglen=min_len, nquantiles=k).fit(test_series).predict()"
   ]
  },
  {
   "cell_type": "code",
   "execution_count": 12,
   "id": "f3c4008d",
   "metadata": {},
   "outputs": [
    {
     "name": "stdout",
     "output_type": "stream",
     "text": [
      "2.56 s ± 11.4 ms per loop (mean ± std. dev. of 7 runs, 1 loop each)\n"
     ]
    }
   ],
   "source": [
    "# Pychange Timing\n",
    "%timeit pelt_segment(NonParametricCost(k).fit(test_series), min_len, max_cp, pen, 1)"
   ]
  },
  {
   "cell_type": "code",
   "execution_count": 14,
   "id": "8a41ff96",
   "metadata": {},
   "outputs": [
    {
     "name": "stdout",
     "output_type": "stream",
     "text": [
      "23.4 s ± 174 ms per loop (mean ± std. dev. of 7 runs, 1 loop each)\n"
     ]
    }
   ],
   "source": [
    "# R timing\n",
    "%timeit ROfflineChangepoint('np', penalty='Manual', pen_value=pen, method='PELT', minseglen=min_len, nquantiles=k).fit(test_series).predict()"
   ]
  },
  {
   "cell_type": "code",
   "execution_count": 9,
   "id": "506443e2",
   "metadata": {},
   "outputs": [
    {
     "data": {
      "text/plain": [
       "array([ 1000,  2001,  3001,  4000,  5000,  6000,  7001,  8001,  9000,\n",
       "       10000, 11000, 12001, 13001, 14000, 15000, 16000, 17001, 18001,\n",
       "       19000, 20000, 21000, 22001, 23001, 24000, 25000, 26000, 27001,\n",
       "       28001, 29000, 30000, 31000, 32001, 33001, 34000, 35000, 36000,\n",
       "       37001, 38001, 39000], dtype=int64)"
      ]
     },
     "execution_count": 9,
     "metadata": {},
     "output_type": "execute_result"
    }
   ],
   "source": [
    "pelt_segment_parallel(NonParametricCostParallel(k).fit(test_series), min_len, max_cp, pen, 1)"
   ]
  },
  {
   "cell_type": "code",
   "execution_count": 10,
   "id": "0a97de9e",
   "metadata": {},
   "outputs": [
    {
     "name": "stdout",
     "output_type": "stream",
     "text": [
      "1.95 s ± 8.92 ms per loop (mean ± std. dev. of 7 runs, 1 loop each)\n"
     ]
    }
   ],
   "source": [
    "# Pychange Timing\n",
    "%timeit pelt_segment_parallel(NonParametricCostParallel(k).fit(test_series), min_len, max_cp, pen, 1)"
   ]
  },
  {
   "cell_type": "markdown",
   "id": "c6620421",
   "metadata": {},
   "source": [
    "# Binary Segmentation"
   ]
  },
  {
   "cell_type": "markdown",
   "id": "6ebea895",
   "metadata": {},
   "source": [
    "## L1"
   ]
  },
  {
   "cell_type": "code",
   "execution_count": null,
   "id": "dc83ab0c",
   "metadata": {},
   "outputs": [],
   "source": [
    "# L1 cost\n",
    "binary_segment(L1Cost().fit(sm_test_series), min_len, pen)"
   ]
  },
  {
   "cell_type": "code",
   "execution_count": null,
   "id": "1e6f098e",
   "metadata": {},
   "outputs": [],
   "source": [
    "rpt.Binseg(model='l1', min_size=min_len, jump=1).fit(sm_test_series).predict(pen=pen)"
   ]
  },
  {
   "cell_type": "code",
   "execution_count": null,
   "id": "3cbc85a2",
   "metadata": {},
   "outputs": [],
   "source": [
    "%timeit binary_segment(L1Cost().fit(sm_test_series), min_len, pen)"
   ]
  },
  {
   "cell_type": "code",
   "execution_count": null,
   "id": "f4712907",
   "metadata": {},
   "outputs": [],
   "source": [
    "%timeit rpt.Binseg(model='l1', min_size=min_len, jump=1).fit(sm_test_series).predict(pen=pen)"
   ]
  },
  {
   "cell_type": "markdown",
   "id": "3b5c6a7f",
   "metadata": {},
   "source": [
    "## L2"
   ]
  },
  {
   "cell_type": "code",
   "execution_count": null,
   "id": "35a5b479",
   "metadata": {},
   "outputs": [],
   "source": [
    "# L2 cost\n",
    "binary_segment(L2Cost().fit(sm_test_series), min_len, pen)"
   ]
  },
  {
   "cell_type": "code",
   "execution_count": null,
   "id": "ad7c7b3a",
   "metadata": {},
   "outputs": [],
   "source": [
    "rpt.Binseg(model='l2', min_size=min_len, jump=1).fit(sm_test_series).predict(pen=pen)"
   ]
  },
  {
   "cell_type": "code",
   "execution_count": null,
   "id": "b2afb1e2",
   "metadata": {},
   "outputs": [],
   "source": [
    "%timeit binary_segment(L2Cost().fit(sm_test_series), min_len, pen)"
   ]
  },
  {
   "cell_type": "code",
   "execution_count": null,
   "id": "401b4915",
   "metadata": {},
   "outputs": [],
   "source": [
    "%timeit rpt.Binseg(model='l2', min_size=min_len, jump=1).fit(sm_test_series).predict(pen=pen)"
   ]
  },
  {
   "cell_type": "markdown",
   "id": "b1fb53a8",
   "metadata": {},
   "source": [
    "## Normal Mean"
   ]
  },
  {
   "cell_type": "code",
   "execution_count": 3,
   "id": "62ddd009",
   "metadata": {},
   "outputs": [
    {
     "data": {
      "text/plain": [
       "array([ 2000,  4002,  5999,  8000, 10000, 12000, 14002, 15999, 18000,\n",
       "       20000, 22000, 24002, 25999, 28000, 30000, 32000, 34002, 35999,\n",
       "       38000, 40000, 42000, 44002, 45999, 48000, 50000, 52000, 54002,\n",
       "       55999, 58000, 60000, 62000, 64002, 65999, 68000, 70000, 72000,\n",
       "       74002, 75999, 78000, 79999], dtype=int64)"
      ]
     },
     "execution_count": 3,
     "metadata": {},
     "output_type": "execute_result"
    }
   ],
   "source": [
    "# Normal mean\n",
    "binary_segment(NormalMeanCost().fit(test_series), min_len, pen)"
   ]
  },
  {
   "cell_type": "code",
   "execution_count": 4,
   "id": "dcaaa9fe",
   "metadata": {},
   "outputs": [
    {
     "data": {
      "text/plain": [
       "array([ 2000,  4002,  5999,  8000, 10000, 12000, 14002, 15999, 18000,\n",
       "       20000, 22000, 24002, 25999, 28000, 30000, 32000, 34002, 35999,\n",
       "       38000, 40000, 42000, 44002, 45999, 48000, 50000, 52000, 54002,\n",
       "       55999, 58000, 60000, 62000, 64002, 65999, 68000, 70000, 72000,\n",
       "       74002, 75999, 78000, 79999], dtype=int64)"
      ]
     },
     "execution_count": 4,
     "metadata": {},
     "output_type": "execute_result"
    }
   ],
   "source": [
    "# Normal mean\n",
    "binary_segment_parallel(NormalMeanCost().fit(test_series), min_len, pen)"
   ]
  },
  {
   "cell_type": "code",
   "execution_count": 5,
   "id": "d33ff1e3",
   "metadata": {},
   "outputs": [
    {
     "data": {
      "text/plain": [
       "array([ 2000.,  4002.,  5999.,  8000., 10000., 12000., 14002., 15999.,\n",
       "       18000., 20000., 22000., 24002., 25999., 28000., 30000., 32000.,\n",
       "       34002., 35999., 38000., 40000., 42000., 44002., 45999., 48000.,\n",
       "       50000., 52000., 54002., 55999., 58000., 60000., 62000., 64002.,\n",
       "       65999., 68000., 70000., 72000., 74002., 75999., 78000.])"
      ]
     },
     "execution_count": 5,
     "metadata": {},
     "output_type": "execute_result"
    }
   ],
   "source": [
    "ROfflineChangepoint('mean', penalty='Manual', pen_value=pen, method='BinSeg', minseglen=min_len, Q=100).fit(test_series).predict()"
   ]
  },
  {
   "cell_type": "code",
   "execution_count": 6,
   "id": "b3561913",
   "metadata": {},
   "outputs": [
    {
     "name": "stdout",
     "output_type": "stream",
     "text": [
      "19.1 ms ± 172 µs per loop (mean ± std. dev. of 7 runs, 100 loops each)\n"
     ]
    }
   ],
   "source": [
    "# Pychange Timing\n",
    "%timeit binary_segment(NormalMeanCost().fit(test_series), min_len, pen)"
   ]
  },
  {
   "cell_type": "code",
   "execution_count": 7,
   "id": "4b7a8433",
   "metadata": {},
   "outputs": [
    {
     "name": "stdout",
     "output_type": "stream",
     "text": [
      "55.4 ms ± 319 µs per loop (mean ± std. dev. of 7 runs, 1 loop each)\n"
     ]
    }
   ],
   "source": [
    "# R timing\n",
    "%timeit ROfflineChangepoint('mean', penalty='Manual', pen_value=pen, method='BinSeg', minseglen=min_len, Q=100).fit(test_series).predict()"
   ]
  },
  {
   "cell_type": "code",
   "execution_count": 8,
   "id": "eefb747c",
   "metadata": {},
   "outputs": [
    {
     "name": "stdout",
     "output_type": "stream",
     "text": [
      "18.1 ms ± 71 µs per loop (mean ± std. dev. of 7 runs, 100 loops each)\n"
     ]
    }
   ],
   "source": [
    "%timeit binary_segment_parallel(NormalMeanCost().fit(test_series), min_len, pen)"
   ]
  },
  {
   "cell_type": "markdown",
   "id": "52ab7615",
   "metadata": {},
   "source": [
    "## Normal Var"
   ]
  },
  {
   "cell_type": "code",
   "execution_count": null,
   "id": "8a3b49ff",
   "metadata": {},
   "outputs": [],
   "source": [
    "# Normal mean\n",
    "binary_segment(NormalVarCost().fit(test_series), min_len, pen)"
   ]
  },
  {
   "cell_type": "code",
   "execution_count": null,
   "id": "f2dc88c6",
   "metadata": {},
   "outputs": [],
   "source": [
    "ROfflineChangepoint('var', penalty='Manual', pen_value=pen, method='BinSeg', minseglen=min_len, Q=100).fit(test_series).predict()"
   ]
  },
  {
   "cell_type": "code",
   "execution_count": null,
   "id": "3cab2328",
   "metadata": {},
   "outputs": [],
   "source": [
    "# Pychange Timing\n",
    "%timeit binary_segment(NormalVarCost().fit(test_series), min_len, pen)"
   ]
  },
  {
   "cell_type": "code",
   "execution_count": null,
   "id": "75a4e58a",
   "metadata": {},
   "outputs": [],
   "source": [
    "# R timing\n",
    "%timeit ROfflineChangepoint('var', penalty='Manual', pen_value=pen, method='BinSeg', minseglen=min_len, Q=100).fit(test_series).predict()"
   ]
  },
  {
   "cell_type": "markdown",
   "id": "5702fd49",
   "metadata": {},
   "source": [
    "## Normal Mean+Var"
   ]
  },
  {
   "cell_type": "code",
   "execution_count": 9,
   "id": "7c1a6bd3",
   "metadata": {},
   "outputs": [
    {
     "data": {
      "text/plain": [
       "array([ 2000,  4000,  6000,  8000, 10000, 12000, 14000, 16000, 18000,\n",
       "       19999], dtype=int64)"
      ]
     },
     "execution_count": 9,
     "metadata": {},
     "output_type": "execute_result"
    }
   ],
   "source": [
    "# Normal mean\n",
    "binary_segment(NormalMeanVarCost().fit(sm_test_series), min_len, pen)"
   ]
  },
  {
   "cell_type": "code",
   "execution_count": 10,
   "id": "ef13aebc",
   "metadata": {},
   "outputs": [
    {
     "data": {
      "text/plain": [
       "array([ 2000,  4000,  6000,  8000, 10000, 12000, 14000, 16000, 18000,\n",
       "       19999], dtype=int64)"
      ]
     },
     "execution_count": 10,
     "metadata": {},
     "output_type": "execute_result"
    }
   ],
   "source": [
    "binary_segment_parallel(NormalMeanVarCostFast().fit(sm_test_series), min_len, pen)"
   ]
  },
  {
   "cell_type": "code",
   "execution_count": 11,
   "id": "6f1d0d0e",
   "metadata": {},
   "outputs": [
    {
     "data": {
      "text/plain": [
       "array([ 2000.,  4000.,  6000.,  8000., 10000., 12000., 14000., 16000.,\n",
       "       18000.])"
      ]
     },
     "execution_count": 11,
     "metadata": {},
     "output_type": "execute_result"
    }
   ],
   "source": [
    "ROfflineChangepoint('meanvar', penalty='Manual', pen_value=pen, method='BinSeg', minseglen=min_len, Q=100).fit(sm_test_series).predict()"
   ]
  },
  {
   "cell_type": "code",
   "execution_count": 12,
   "id": "a657fb42",
   "metadata": {},
   "outputs": [
    {
     "name": "stdout",
     "output_type": "stream",
     "text": [
      "4.13 ms ± 10.6 µs per loop (mean ± std. dev. of 7 runs, 100 loops each)\n"
     ]
    }
   ],
   "source": [
    "# Pychange Timing\n",
    "%timeit binary_segment(NormalMeanVarCost().fit(sm_test_series), min_len, pen)"
   ]
  },
  {
   "cell_type": "code",
   "execution_count": 13,
   "id": "b15daa3b",
   "metadata": {},
   "outputs": [
    {
     "name": "stdout",
     "output_type": "stream",
     "text": [
      "191 ms ± 498 µs per loop (mean ± std. dev. of 7 runs, 10 loops each)\n"
     ]
    }
   ],
   "source": [
    "# R timing\n",
    "%timeit ROfflineChangepoint('meanvar', penalty='Manual', pen_value=pen, method='BinSeg', minseglen=min_len, Q=100).fit(sm_test_series).predict()"
   ]
  },
  {
   "cell_type": "code",
   "execution_count": 14,
   "id": "6069675c",
   "metadata": {},
   "outputs": [
    {
     "name": "stdout",
     "output_type": "stream",
     "text": [
      "3.76 ms ± 5.53 µs per loop (mean ± std. dev. of 7 runs, 100 loops each)\n"
     ]
    }
   ],
   "source": [
    "%timeit binary_segment_parallel(NormalMeanVarCostFast().fit(sm_test_series), min_len, pen)"
   ]
  },
  {
   "cell_type": "code",
   "execution_count": 15,
   "id": "eb2bedf8",
   "metadata": {},
   "outputs": [
    {
     "name": "stdout",
     "output_type": "stream",
     "text": [
      "11.7 s ± 40.5 ms per loop (mean ± std. dev. of 7 runs, 1 loop each)\n"
     ]
    }
   ],
   "source": [
    "%timeit rpt.Binseg(model='normal', min_size=min_len, jump=1).fit(sm_test_series).predict(pen=pen)"
   ]
  },
  {
   "cell_type": "markdown",
   "id": "13cccbd2",
   "metadata": {},
   "source": [
    "## Poisson Mean+Var"
   ]
  },
  {
   "cell_type": "code",
   "execution_count": null,
   "id": "cce5c79a",
   "metadata": {},
   "outputs": [],
   "source": [
    "# Normal mean\n",
    "binary_segment(PoissonMeanVarCost().fit(p_test_series), min_len, pen)"
   ]
  },
  {
   "cell_type": "code",
   "execution_count": null,
   "id": "429c9863",
   "metadata": {},
   "outputs": [],
   "source": [
    "ROfflineChangepoint('meanvar', penalty='Manual', pen_value=pen, method='BinSeg', minseglen=min_len, test_stat='Poisson', Q=100).fit(p_test_series).predict()"
   ]
  },
  {
   "cell_type": "code",
   "execution_count": null,
   "id": "ad6996eb",
   "metadata": {},
   "outputs": [],
   "source": [
    "# Pychange Timing\n",
    "%timeit binary_segment(PoissonMeanVarCost().fit(p_test_series), min_len, pen)"
   ]
  },
  {
   "cell_type": "code",
   "execution_count": null,
   "id": "f8b22c86",
   "metadata": {},
   "outputs": [],
   "source": [
    "# R timing\n",
    "%timeit ROfflineChangepoint('meanvar', penalty='Manual', pen_value=pen, method='BinSeg', minseglen=min_len, test_stat='Poisson', Q=100).fit(p_test_series).predict()"
   ]
  },
  {
   "cell_type": "markdown",
   "id": "5c68740c",
   "metadata": {},
   "source": [
    "# Bayesian Online Changepoint"
   ]
  },
  {
   "cell_type": "code",
   "execution_count": 3,
   "id": "8711dcd5",
   "metadata": {
    "scrolled": true
   },
   "outputs": [
    {
     "data": {
      "text/plain": [
       "[1,\n",
       " 17,\n",
       " 21,\n",
       " 55,\n",
       " 57,\n",
       " 130,\n",
       " 139,\n",
       " 201,\n",
       " 307,\n",
       " 313,\n",
       " 315,\n",
       " 317,\n",
       " 319,\n",
       " 322,\n",
       " 332,\n",
       " 336,\n",
       " 401,\n",
       " 427]"
      ]
     },
     "execution_count": 3,
     "metadata": {},
     "output_type": "execute_result"
    }
   ],
   "source": [
    "OnlineCP(ConstantHazard(), StudentTProb(), 10, 0.99).update(sm_test_series).get_cps()"
   ]
  },
  {
   "cell_type": "code",
   "execution_count": 4,
   "id": "962fc958",
   "metadata": {},
   "outputs": [
    {
     "data": {
      "text/plain": [
       "[1,\n",
       " 17,\n",
       " 21,\n",
       " 55,\n",
       " 57,\n",
       " 130,\n",
       " 139,\n",
       " 201,\n",
       " 307,\n",
       " 313,\n",
       " 315,\n",
       " 317,\n",
       " 319,\n",
       " 322,\n",
       " 332,\n",
       " 336,\n",
       " 401,\n",
       " 427]"
      ]
     },
     "execution_count": 4,
     "metadata": {},
     "output_type": "execute_result"
    }
   ],
   "source": [
    "OnlineCPParallel(ConstantHazard(), StudentTProbParallel(), 10, 0.99).update(sm_test_series).get_cps()"
   ]
  },
  {
   "cell_type": "code",
   "execution_count": 5,
   "id": "78b32783",
   "metadata": {},
   "outputs": [
    {
     "data": {
      "text/plain": [
       "array([101, 201, 301, 302, 401], dtype=int64)"
      ]
     },
     "execution_count": 5,
     "metadata": {},
     "output_type": "execute_result"
    }
   ],
   "source": [
    "ROCP().fit(sm_test_series).predict()"
   ]
  },
  {
   "cell_type": "code",
   "execution_count": 6,
   "id": "2217a92b",
   "metadata": {},
   "outputs": [
    {
     "name": "stdout",
     "output_type": "stream",
     "text": [
      "18.4 ms ± 260 µs per loop (mean ± std. dev. of 7 runs, 100 loops each)\n"
     ]
    }
   ],
   "source": [
    "%timeit OnlineCP(ConstantHazard(), StudentTProb(), 5, 0.5).update(sm_test_series).get_cps()"
   ]
  },
  {
   "cell_type": "code",
   "execution_count": 7,
   "id": "54935fa9",
   "metadata": {},
   "outputs": [
    {
     "name": "stdout",
     "output_type": "stream",
     "text": [
      "252 ms ± 5.04 ms per loop (mean ± std. dev. of 7 runs, 1 loop each)\n"
     ]
    }
   ],
   "source": [
    "%timeit ROCP().fit(sm_test_series).predict()"
   ]
  },
  {
   "cell_type": "code",
   "execution_count": 8,
   "id": "8a2e3739",
   "metadata": {},
   "outputs": [
    {
     "name": "stdout",
     "output_type": "stream",
     "text": [
      "17.6 ms ± 16 µs per loop (mean ± std. dev. of 7 runs, 100 loops each)\n"
     ]
    }
   ],
   "source": [
    "%timeit OnlineCPParallel(ConstantHazard(), StudentTProbParallel(), 5, 0.5).update(sm_test_series).get_cps()"
   ]
  }
 ],
 "metadata": {
  "kernelspec": {
   "display_name": "Python 3",
   "language": "python",
   "name": "python3"
  },
  "language_info": {
   "codemirror_mode": {
    "name": "ipython",
    "version": 3
   },
   "file_extension": ".py",
   "mimetype": "text/x-python",
   "name": "python",
   "nbconvert_exporter": "python",
   "pygments_lexer": "ipython3",
   "version": "3.9.6"
  }
 },
 "nbformat": 4,
 "nbformat_minor": 5
}
